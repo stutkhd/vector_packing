{
 "cells": [
  {
   "cell_type": "markdown",
   "id": "separated-flood",
   "metadata": {},
   "source": [
    "# パッキング問題\n",
    "\n",
    "\n",
    "> ビンパッキング問題， カッティングストック問題， 2次元パッキング問題\n"
   ]
  },
  {
   "cell_type": "code",
   "execution_count": 1,
   "id": "conceptual-probe",
   "metadata": {},
   "outputs": [],
   "source": [
    "#default_exp bpp"
   ]
  },
  {
   "cell_type": "code",
   "execution_count": 1,
   "id": "another-governor",
   "metadata": {},
   "outputs": [],
   "source": [
    "#hide\n",
    "%reload_ext autoreload\n",
    "%autoreload 2\n",
    "%matplotlib inline"
   ]
  },
  {
   "cell_type": "code",
   "execution_count": 2,
   "id": "academic-popularity",
   "metadata": {},
   "outputs": [],
   "source": [
    "#export\n",
    "import subprocess\n",
    "import platform\n",
    "import pandas as pd\n",
    "\n",
    "import random\n",
    "import math\n",
    "\n",
    "from gurobipy import Model, quicksum, GRB, Column\n",
    "#from mypulp import Model, quicksum, GRB\n",
    "import networkx as nx\n",
    "\n",
    "import plotly\n",
    "import plotly.graph_objects as go\n",
    "\n",
    "import matplotlib.pyplot as plt\n",
    "import sys\n",
    "#sys.path.append('..')\n",
    "#import opt100.graphtools as gts\n",
    "\n",
    "folder = \"../data/packing/\""
   ]
  },
  {
   "cell_type": "code",
   "execution_count": 3,
   "id": "dangerous-floating",
   "metadata": {},
   "outputs": [
    {
     "data": {
      "image/jpeg": "[encoded data removed]",
      "text/html": [
       "\n",
       "        <iframe\n",
       "            width=\"400\"\n",
       "            height=\"300\"\n",
       "            src=\"https://www.youtube.com/embed/iLgDpPc-Sl0\"\n",
       "            frameborder=\"0\"\n",
       "            allowfullscreen\n",
       "            \n",
       "        ></iframe>\n",
       "        "
      ],
      "text/plain": [
       "<IPython.lib.display.YouTubeVideo at 0x7fd9a93dc460>"
      ]
     },
     "execution_count": 3,
     "metadata": {},
     "output_type": "execute_result"
    }
   ],
   "source": [
    "#hide_input\n",
    "from IPython.display import Image, YouTubeVideo\n",
    "YouTubeVideo(\"iLgDpPc-Sl0\")"
   ]
  },
  {
   "cell_type": "markdown",
   "id": "right-shower",
   "metadata": {},
   "source": [
    "## ビンパッキング問題\n",
    "\n",
    "**ビンパッキング問題**(bin packing problem; 箱詰め問題)は，以下のように定義される問題である．\n",
    "\n",
    "$n$個のアイテムから成る有限集合 $N$ とサイズ（容量） $B$ のビンが無限個準備されている．\n",
    "個々のアイテム $i \\in N$ のサイズ $0 \\leq w_i \\leq B$ は分かっているものとする．\n",
    "これら $n$ 個のアイテムを，サイズ $B$ のビンに詰めることを考えるとき，\n",
    "必要なビンの数を最小にするような詰めかたを求める問題．\n",
    "\n",
    "ビンの数の上限 $U$ が与えられているものとする． アイテム $i$ をビン $j$ に詰めるとき $1$ になる変数 $x_{ij}$ と，\n",
    "ビン $j$ の使用の可否を表す変数 $y_j$ を用いることによって，ビンパッキング問題は，以下の整数最適化問題として記述できる．\n",
    "\n",
    "$$\n",
    "\\begin{array}{l l l} \n",
    "minimize  & \\displaystyle\\sum_{j=1}^U  y_{j} &     \\\\\n",
    "s.t.  &\n",
    " \\displaystyle\\sum_{j=1}^{U} x_{ij} =1 &  \\forall  i =1,2,\\ldots,n \\\\\n",
    "    & \\displaystyle\\sum_{i=1}^n w_i x_{ij} \\leq B y_j  &  \\forall j=1,2,\\ldots,U  \\\\\n",
    "                 &  x_{ij} \\leq y_j & \\forall  i=1,2,\\ldots,n; j=1,2,\\ldots,U \\\\\n",
    "                 & x_{ij} \\in \\{ 0,1 \\}    & \\forall  i=1,2,\\ldots,n; j=1,2,\\ldots,U  \\\\\n",
    "                 & y_j \\in \\{ 0,1 \\} & \\forall  j=1,2,\\ldots,U\n",
    "\\end{array}\n",
    "$$\n",
    "\n",
    "この定式化は，大規模な実際問題を解く際には使うべきではない．データが整数の場合には，枝フロー変数を用いたより強い定式化が提案されている． 詳細は， 以下のサイトを参照されたい．\n",
    "\n",
    "https://vpsolver.fdabrandao.pt/\n"
   ]
  },
  {
   "cell_type": "markdown",
   "id": "sized-burst",
   "metadata": {},
   "source": [
    "### ヒューリスティクス\n",
    "\n",
    "ビンの数の上限 $U$ を求めるために簡単はヒューリスティクスを準備しておく．\n",
    "\n",
    "#### first fit (FF) ヒューリスティクス\n",
    "\n",
    "アイテムを $1,2,\\cdots,n$ の順にビンに詰めていく．\n",
    "このとき，アイテムは詰め込み可能な最小添字のビンに詰めるものとする．\n",
    "どのビンに入れてもサイズの上限 $B$ を超えてしまうなら，\n",
    "新たなビンを用意し，そこに詰める．\n",
    "\n",
    "\n",
    "このヒューリスティクスは，最適なビン数の $1.7$倍以下のビン数しか使わないという保証をもつ．\n",
    "\n",
    "\n",
    "#### first fit decreasing (FFD) ヒューリスティクス\n",
    "\n",
    "アイテムのサイズを非減少順に並べ替えた後に， first fitヒューリスティクスを行う方法． \n",
    "\n",
    "このヒューリスティクスは，最悪の場合の性能比率が $11/9$ に漸近することが知られている．\n"
   ]
  },
  {
   "cell_type": "code",
   "execution_count": 1,
   "id": "alien-daisy",
   "metadata": {},
   "outputs": [],
   "source": [
    "def FFD(s,B):\n",
    "    \"\"\"First Fit Decreasing heuristics for the bin Packing Problem.\n",
    "    Parameters:\n",
    "        - s: list with item widths\n",
    "        - b: bin capacity\n",
    "    Returns a list of lists with bin compositions.\n",
    "    \"\"\"    \n",
    "    remain = [B]        # keep list of empty space per bin\n",
    "    sol = [[]]          # a list ot items (i.e., sizes) on each used bin\n",
    "    for item in sorted(s,reverse=True):\n",
    "        for (j,free) in enumerate(remain):\n",
    "            if free >= item:\n",
    "                remain[j] -= item\n",
    "                sol[j].append(item)\n",
    "                break\n",
    "        else: #does not fit in any bin\n",
    "            sol.append([item])\n",
    "            remain.append(B-item)\n",
    "    return sol    \n",
    "def FF(s,B):\n",
    "    \"\"\"First Fit heuristics for the bin Packing Problem.\n",
    "    Parameters:\n",
    "        - s: list with item widths\n",
    "        - b: bin capacity\n",
    "    Returns a list of lists with bin compositions.\n",
    "    \"\"\"    \n",
    "    remain = [B]        # keep list of empty space per bin\n",
    "    sol = [[]]          # a list ot items (i.e., sizes) on each used bin\n",
    "    for item in s:\n",
    "        for (j,free) in enumerate(remain):\n",
    "            if free >= item:\n",
    "                remain[j] -= item\n",
    "                sol[j].append(item)\n",
    "                break\n",
    "        else: #does not fit in any bin\n",
    "            sol.append([item])\n",
    "            remain.append(B-item)\n",
    "    return sol   "
   ]
  },
  {
   "cell_type": "code",
   "execution_count": 14,
   "id": "formed-gallery",
   "metadata": {},
   "outputs": [],
   "source": [
    "def bpp(s,B):\n",
    "    \"\"\"bpp: Martello and Toth's model to solve the bin packing problem.\n",
    "    Parameters:\n",
    "        - s: list with item widths\n",
    "        - B: bin capacity\n",
    "    Returns a model, ready to be solved.\n",
    "    \"\"\"\n",
    "    n = len(s)\n",
    "    U = len(FFD(s,B)) # upper bound of the number of bins\n",
    "    model = Model(\"bpp\")\n",
    "    # setParam(\"MIPFocus\",1)\n",
    "    x,y = {},{}\n",
    "    for i in range(n):\n",
    "        for j in range(U):\n",
    "            x[i,j] = model.addVar(vtype=\"B\", name=\"x(%s,%s)\"%(i,j))\n",
    "    for j in range(U):\n",
    "        y[j] = model.addVar(vtype=\"B\", name=\"y(%s)\"%j)    \n",
    "    model.update()\n",
    "\n",
    "    # assignment constraints\n",
    "    for i in range(n):\n",
    "        model.addConstr(quicksum(x[i,j] for j in range(U)) == 1, \"Assign(%s)\"%i)\n",
    "\n",
    "    # bin capacity constraints\n",
    "    for j in range(U):\n",
    "        model.addConstr(quicksum(s[i]*x[i,j] for i in range(n)) <= B*y[j], \"Capac(%s)\"%j)\n",
    "\n",
    "    # tighten assignment constraints\n",
    "    for j in range(U):\n",
    "        for i in range(n):\n",
    "            model.addConstr(x[i,j] <= y[j], \"Strong(%s,%s)\"%(i,j))\n",
    "        \n",
    "##    # tie breaking constraints\n",
    "##    for j in range(b-1):\n",
    "##        model.addConstr(y[j] >= y[j+1),\"Tiebrk(%s)\"%j)\n",
    "##\n",
    "##    # SOS constraints\n",
    "##    for i in range(n):\n",
    "##        model.addSOS(1,[x[i,j] for j in range(b)])\n",
    "\n",
    "    model.setObjective(quicksum(y[j] for j in range(U)), GRB.MINIMIZE)\n",
    "\n",
    "    model.update()\n",
    "    model.__data = x,y\n",
    "    return model, U\n",
    "\n",
    "\n",
    "def solvebinPacking(s,B):\n",
    "    \"\"\"solvebinPacking: use an IP model to solve the in Packing Problem.\n",
    "    \n",
    "    Parameters:\n",
    "        - s: list with item widths\n",
    "        - b: bin capacity\n",
    "\n",
    "    Returns a solution: list of lists, each of which with the items in a roll.\n",
    "    \"\"\"\n",
    "    n = len(s)\n",
    "    model, U = bpp(s,B)\n",
    "    x,y = model.__data\n",
    "\n",
    "    model.optimize()\n",
    "    \n",
    "    bins = [[] for i in range(U)]\n",
    "    for (i,j) in x:\n",
    "        if x[i,j].X > .5:\n",
    "            bins[j].append(s[i])\n",
    "    for i in range(bins.count([])):\n",
    "        bins.remove([])\n",
    "    for b in bins:\n",
    "        b.sort()\n",
    "    bins.sort()\n",
    "    return bins\n",
    "\n",
    "\n",
    "def Discretebniform(n=10,lb=1,ub=99,b=100):\n",
    "    \"\"\"Discretebniform: create random, uniform  for the bin packing problem.\"\"\"\n",
    "    b = 100\n",
    "    s = [0]*n\n",
    "    for i in range(n):\n",
    "        s[i] = random.randint(lb,ub)\n",
    "    return s,b"
   ]
  },
  {
   "cell_type": "code",
   "execution_count": 16,
   "id": "expressed-narrow",
   "metadata": {},
   "outputs": [
    {
     "name": "stdout",
     "output_type": "stream",
     "text": [
      "items: [32, 20, 28, 24, 25, 3, 30, 50, 28, 16]\n",
      "bin size: 100\n",
      "Gurobi Optimizer version 9.1.1 build v9.1.1rc0 (mac64)\n",
      "Thread count: 8 physical cores, 16 logical processors, using up to 16 threads\n",
      "Optimize a model with 43 rows, 33 columns and 123 nonzeros\n",
      "Model fingerprint: 0x131c1438\n",
      "Variable types: 0 continuous, 33 integer (33 binary)\n",
      "Coefficient statistics:\n",
      "  Matrix range     [1e+00, 1e+02]\n",
      "  Objective range  [1e+00, 1e+00]\n",
      "  Bounds range     [1e+00, 1e+00]\n",
      "  RHS range        [1e+00, 1e+00]\n",
      "Found heuristic solution: objective 3.0000000\n",
      "Presolve time: 0.00s\n",
      "Presolved: 43 rows, 33 columns, 123 nonzeros\n",
      "Variable types: 0 continuous, 33 integer (33 binary)\n",
      "\n",
      "Root relaxation: cutoff, 24 iterations, 0.00 seconds\n",
      "\n",
      "    Nodes    |    Current Node    |     Objective Bounds      |     Work\n",
      " Expl Unexpl |  Obj  Depth IntInf | Incumbent    BestBd   Gap | It/Node Time\n",
      "\n",
      "     0     0     cutoff    0         3.00000    3.00000  0.00%     -    0s\n",
      "\n",
      "Explored 0 nodes (24 simplex iterations) in 0.01 seconds\n",
      "Thread count was 16 (of 16 available processors)\n",
      "\n",
      "Solution count 1: 3 \n",
      "\n",
      "Optimal solution found (tolerance 1.00e-04)\n",
      "Best objective 3.000000000000e+00, best bound 3.000000000000e+00, gap 0.0000%\n",
      "3 bins:\n",
      "[[3, 24, 28, 32], [16, 28, 50], [20, 25, 30]]\n"
     ]
    }
   ],
   "source": [
    "random.seed(256)\n",
    "s,B = Discretebniform(10,1,50,100)\n",
    "print (\"items:\",s)\n",
    "print (\"bin size:\",B)\n",
    "\n",
    "bins = solvebinPacking(s,B)\n",
    "print (len(bins),\"bins:\")\n",
    "print (bins)"
   ]
  },
  {
   "cell_type": "markdown",
   "id": "residential-radar",
   "metadata": {},
   "source": [
    "## カッティングストック問題\n",
    "\n",
    "ビンパッキング（箱詰め）問題に類似の古典的な問題として**カッティングストック問題**（cutting stock problem; 切断問題）がある．\n",
    "\n",
    "\n",
    "$m$個の個別の幅をもった注文を，幅 $b$ の原紙から切り出すことを考える．\n",
    "注文 $i=1,2,\\ldots,m$ の幅 $0 \\leq w_i \\leq b$ と注文数 $q_i$ が与えられたとき，\n",
    "必要な原紙の数を最小にするような切り出し方を求めよ．\n",
    "\n",
    "\n",
    "ここでは，切断問題に対する\n",
    "Gilmore-Gomoryによる**列生成法**(column generation method)を構築する．\n",
    "\n",
    "幅$b$ の原紙からの $m$種類の注文の $k$番目の切断パターンを，\n",
    " $(t_1^k, t_2^k,\\ldots,t_m^k)$ とする．\n",
    "ここで，$t_i^k$ は注文 $i$ が $k$番目の切断パターン $k$ で切り出される数を表す．\n",
    "また，実行可能な切断パターン（箱詰め問題における詰め合わせ）とは，以下の式を満たすベクトル \n",
    " $(t_1^k, t_2^k,\\ldots,t_m^k)$ を指す．\n",
    "$$\n",
    " \\sum_{i=1}^m t_i^k \\leq b\n",
    "$$\n",
    "\n",
    "実行可能な切断パターンの総数を $K$ とする．\n",
    "切断問題はすべての可能な切断パターンから，\n",
    "注文 $i$ を注文数 $q_j$ 以上切り出し， かつ使用した原紙数を最小にするように\n",
    "切断パターンを選択する問題になる．\n",
    "切断パターン $k$ を採用する回数を表す整数変数 $x_k$ を\n",
    "用いると，切断問題は以下の整数最適化問題として書くことができる．\n",
    "\n",
    "$$\n",
    "\\begin{array}{l l l}\n",
    " minimize & \\displaystyle\\sum_{k=1}^K x_k           &                      \\\\\n",
    "s.t.       & \\displaystyle\\sum_{k=1}^K t_i^k x_k \\geq q_i  & \\forall i=1,2,\\ldots,m \\\\\n",
    "               & x_k \\in \\mathbf{Z}_+            & \\forall k=1,2,\\ldots,K \n",
    "\\end{array}\n",
    "$$\n",
    "\n",
    "これを主問題(master problem)と呼ぶ．\n",
    "主問題の線形最適化緩和問題を考え，その最適双対変数ベクトルを $\\lambda$ とする．\n",
    "このとき，被約費用が負の列（実行可能な切断パターン）を求める問題は，以下の整数ナップサック問題になる．\n",
    "$$\n",
    "\\begin{array}{l l l}\n",
    "maximize & \\displaystyle\\sum_{i=1}^m \\lambda_i y_i  &  \\\\\n",
    "s.t.     & \\displaystyle\\sum_{i=1}^m w_i y_i \\leq b &  \\\\\n",
    "                       & y_i \\in \\mathbf{Z}_+     & \\forall i=1,2,\\ldots,m\n",
    "\\end{array}\n",
    "$$\n"
   ]
  },
  {
   "cell_type": "code",
   "execution_count": 19,
   "id": "premium-prevention",
   "metadata": {},
   "outputs": [],
   "source": [
    "LOG = True\n",
    "EPS = 1.e-6\n",
    "\n",
    "def solveCuttingStock(w,q,b):\n",
    "    \"\"\"solveCuttingStock: use column generation (Gilmore-Gomory approach).\n",
    "    Parameters:\n",
    "        - w: list of item's widths\n",
    "        - q: number of items of a width\n",
    "        - b: bin/roll capacity\n",
    "    Returns a solution: list of lists, each of which with the cuts of a roll.\n",
    "    \"\"\"\n",
    "    t = []      # patterns\n",
    "    m = len(w)\n",
    "    # generate initial patterns with one size for each item width\n",
    "    for (i,width) in enumerate(w):\n",
    "        pat = [0]*m  # vector of number of orders to be packed into one roll (bin)\n",
    "        pat[i] = int(b/width)\n",
    "        t.append(pat)\n",
    "\n",
    "    # if LOG:\n",
    "    #     print \"sizes of orders=\",w\n",
    "    #     print \"quantities of orders=\",q\n",
    "    #     print \"roll size=\",b\n",
    "    #     print \"initial patterns\",t\n",
    "\n",
    "    K = len(t)\n",
    "    master = Model(\"master LP\") # master LP problem\n",
    "    x = {}\n",
    "    for k in range(K):\n",
    "        x[k] = master.addVar(vtype=\"I\", name=\"x(%s)\"%k)\n",
    "    master.update()\n",
    "\n",
    "    orders = {}\n",
    "    for i in range(m):\n",
    "        orders[i] = master.addConstr(\n",
    "            quicksum(t[k][i]*x[k] for k in range(K) if t[k][i] > 0) >= q[i], \"Order(%s)\"%i)\n",
    "\n",
    "    master.setObjective(quicksum(x[k] for k in range(K)), GRB.MINIMIZE)\n",
    "\n",
    "    master.update()   # must update before calling relax()\n",
    "    master.Params.OutputFlag = 0 # silent mode\n",
    "\n",
    "    # iter = 0\n",
    "    while True:\n",
    "        # print \"current patterns:\"\n",
    "        # for ti in t:\n",
    "        #     print ti\n",
    "        # print\n",
    "        \n",
    "        # iter += 1\n",
    "        relax = master.relax()\n",
    "        relax.optimize()\n",
    "        pi = [c.Pi for c in relax.getConstrs()] # keep dual variables\n",
    "\n",
    "        knapsack = Model(\"KP\")     # knapsack sub-problem\n",
    "        knapsack.ModelSense = -1   # maximize\n",
    "        y = {}\n",
    "        for i in range(m):\n",
    "            y[i] = knapsack.addVar(lb=0, ub=q[i], vtype=\"I\", name=\"y(%s)\"%i)\n",
    "        knapsack.update()\n",
    "\n",
    "        knapsack.addConstr(quicksum(w[i]*y[i] for i in range(m)) <= b, \"Width\")\n",
    "        knapsack.setObjective(quicksum(pi[i]*y[i] for i in range(m)), GRB.MAXIMIZE)\n",
    "           \n",
    "        knapsack.Params.OutputFlag = 0 # silent mode\n",
    "        knapsack.optimize()\n",
    "        # if LOG:\n",
    "        #     print \"objective of knapsack problem:\", knapsack.ObjVal\n",
    "        if knapsack.ObjVal < 1+EPS: # break if no more columns\n",
    "            break\n",
    "\n",
    "        pat = [int(y[i].X+0.5) for i in y]      # new pattern\n",
    "        t.append(pat)\n",
    "        # if LOG:\n",
    "        #     print \"shadow prices and new pattern:\"\n",
    "        #     for (i,d) in enumerate(pi):\n",
    "        #         print \"\\t%5s%12s%7s\" % (i,d,pat[i])\n",
    "        #     print\n",
    "\n",
    "        # add new column to the master problem\n",
    "        col = Column()\n",
    "        for i in range(m):\n",
    "            if t[K][i] > 0:\n",
    "                col.addTerms(t[K][i], orders[i])\n",
    "        x[K] = master.addVar(obj=1, vtype=\"I\", name=\"x(%s)\"%K, column=col)\n",
    "        master.update()   # must update before calling relax()\n",
    "        # master.write(\"MP\" + str(iter) + \".lp\")\n",
    "        K += 1\n",
    "\n",
    "\n",
    "    # Finally, solve the IP\n",
    "    # if LOG:\n",
    "    #     master.Params.OutputFlag = 1 # verbose mode\n",
    "    master.optimize()\n",
    "\n",
    "    # if LOG:\n",
    "    #     print \n",
    "    #     print \"final solution (integer master problem):  objective =\", master.ObjVal\n",
    "    #     print \"patterns:\"\n",
    "    #     for k in x:\n",
    "    #         if x[k].X > EPS:\n",
    "    #             print \"pattern\",k,\n",
    "    #             print \"\\tsizes:\",\n",
    "    #             print [w[i] for i in range(m) if t[k][i]>0 for j in range(t[k][i]) ],\n",
    "    #             print \"--> %s rolls\" % int(x[k].X+.5)\n",
    "\n",
    "    rolls = []\n",
    "    for k in x:\n",
    "        for j in range(int(x[k].X + .5)):\n",
    "            rolls.append(sorted([w[i] for i in range(m) if t[k][i]>0 for j in range(t[k][i])]))\n",
    "    rolls.sort()\n",
    "    return rolls\n",
    "\n",
    "    \n",
    "\n",
    "def CuttingStockExample1():\n",
    "    \"\"\"CuttingStockExample1: create toy  for the cutting stock problem.\"\"\"\n",
    "    b = 110            # roll width (bin size)  \n",
    "    w = [20,45,50,55,75]  # width (size) of orders (items)\n",
    "    q = [48,35,24,10,8]  # quantitiy of orders\n",
    "    return w,q,b\n",
    "\n",
    "def CuttingStockExample2():\n",
    "    \"\"\"CuttingStockExample2: create toy  for the cutting stock problem.\"\"\"\n",
    "    b = 9            # roll width (bin size)  \n",
    "    w = [2,3,4,5,6,7,8]   # width (size) of orders (items)\n",
    "    q = [4,2,6,6,2,2,2]  # quantitiy of orders\n",
    "    return w,q,b\n",
    "\n",
    "\n",
    "def mkCuttingStock(s):\n",
    "    \"\"\"mkCuttingStock: convert a bin packing  into cutting stock format\"\"\"\n",
    "    w,q = [],[]   # list of different widths (sizes) of items, their quantities\n",
    "    for item in sorted(s):\n",
    "        if w == [] or item != w[-1]:\n",
    "            w.append(item)\n",
    "            q.append(1)\n",
    "        else:\n",
    "            q[-1] += 1\n",
    "    return w,q\n",
    "\n",
    "\n",
    "def mkbinPacking(w,q):\n",
    "    \"\"\"mkbinPacking: convert a cutting stock  into bin packing format\"\"\"\n",
    "    s = []\n",
    "    for j in range(len(w)):\n",
    "        for i in range(q[j]):\n",
    "            s.append(w[j])\n",
    "    return s"
   ]
  },
  {
   "cell_type": "code",
   "execution_count": 21,
   "id": "proof-appreciation",
   "metadata": {},
   "outputs": [
    {
     "name": "stdout",
     "output_type": "stream",
     "text": [
      "47 rolls:\n",
      "[[20, 20, 20, 20, 20], [20, 20, 20, 50], [20, 20, 20, 50], [20, 20, 20, 50], [20, 20, 20, 50], [20, 20, 20, 50], [20, 20, 20, 50], [20, 45, 45], [20, 45, 45], [20, 45, 45], [20, 45, 45], [20, 45, 45], [20, 45, 45], [20, 45, 45], [20, 45, 45], [20, 45, 45], [20, 45, 45], [20, 45, 45], [20, 45, 45], [20, 45, 45], [20, 45, 45], [20, 45, 45], [20, 45, 45], [20, 45, 45], [20, 45, 45], [20, 75], [20, 75], [20, 75], [20, 75], [20, 75], [20, 75], [20, 75], [20, 75], [50, 50], [50, 50], [50, 50], [50, 50], [50, 50], [50, 50], [50, 50], [50, 50], [50, 50], [55, 55], [55, 55], [55, 55], [55, 55], [55, 55]]\n"
     ]
    }
   ],
   "source": [
    "w,q,b = CuttingStockExample1()\n",
    "rolls = solveCuttingStock(w,q,b)\n",
    "print (len(rolls),\"rolls:\")\n",
    "print (rolls)"
   ]
  },
  {
   "cell_type": "markdown",
   "id": "altered-hurricane",
   "metadata": {},
   "source": [
    "## $d$ 次元ベクトルパッキング問題\n",
    "\n",
    "**$d$ 次元ベクトルパッキング問題** ($d$-dimensioanl vector packing problem) は, 以下のように定義される．\n",
    "\n",
    "$n$個のアイテムから成る有限集合 $N$ とサイズ（容量） $B$ のビンが $U$ 本準備されている．\n",
    "個々のアイテム $i \\in N$ は $d$次元の属性（サイズ） $(w_i^1, w_i^2, \\ldots ,w_i^d)$ をもつ．\n",
    "これら $n$ 個のアイテムを，容量 $B$ （これは次元によらず一定である）のビンに詰めることを考える．\n",
    "\n",
    "アイテム集合 $N$ の $U$ 個のビンへの分割を $P_1,P_2,\\ldots,P_U$ とする． \n",
    "ただし，ビンに割り振られたアイテムのサイズの合計がビンのサイズを超えないようにしたい．\n",
    "$$\n",
    "\\sum_{i \\in P_j} w_i^k \\leq B \\ \\ \\ \\forall j = 1,2,\\ldots,U, k=1,2,\\ldots,d\n",
    "$$\n",
    "この条件を満たすアイテムのビンへの分割を求めよ．\n",
    "\n",
    "ビンのサイズが一定でなく，次元ごとの上限が異なる問題は，**変動サイズベクトルパッキング問題**(variable size vector packing problem)とよばれ，\n",
    "データセンターにおけるプロセスのマシンへの割当や，トラックへの荷物の割当に応用をもつ．\n",
    "以下では，ビン $j$ を使用したときの費用 $c_j$ を導入し，最適化問題として定式化する．\n",
    "\n",
    "アイテム $i$ をビン $j$ に詰めるとき $1$ になる変数 $x_{ij}$ と，\n",
    "ビン $j$ の使用の可否を表す変数 $y_j$ を用いることによって，変動サイズベクトルパッキング問題は，以下の整数最適化問題として記述できる．\n",
    "\n",
    "$$\n",
    "\\begin{array}{l l l} \n",
    "minimize  & \\displaystyle\\sum_{j=1}^U  c_j y_{j} &     \\\\\n",
    "s.t.  &\n",
    "   \\displaystyle\\sum_{j=1}^{U} x_{ij} =1 &  \\forall  i =1,2,\\ldots,n \\\\\n",
    "    & \\displaystyle\\sum_{i=1}^n w_i^k x_{ij} \\leq B_j^k y_j  &  \\forall j=1,2,\\ldots,U; k=1,2,\\ldots,d  \\\\\n",
    "                 &  x_{ij} \\leq y_j & \\forall  i=1,2,\\ldots,n; j=1,2,\\ldots,U \\\\\n",
    "                 & x_{ij} \\in \\{ 0,1 \\}    & \\forall  i=1,2,\\ldots,n; j=1,2,\\ldots,U  \\\\\n",
    "                 & y_j \\in \\{ 0,1 \\} & \\forall  j=1,2,\\ldots,U\n",
    "\\end{array}\n",
    "$$\n",
    "\n",
    "以下のプログラムでは，実行不能性を避けるために，割り当てできないアイテムの数を最小化し，その中で使用したビンの費用を最小化するように変更している．"
   ]
  },
  {
   "cell_type": "code",
   "execution_count": 14,
   "id": "employed-motion",
   "metadata": {},
   "outputs": [],
   "source": [
    "def vbpp(s,B,c,penalty=1000.):\n",
    "    n = len(s)\n",
    "    U = len(c)\n",
    "    model = Model(\"bpp\")\n",
    "    # setParam(\"MIPFocus\",1)\n",
    "    x, y, z = {},{},{}\n",
    "    for i in range(n):\n",
    "        z[i] = model.addVar(vtype=\"B\", name= f\"z({i})\")\n",
    "        for j in range(U):\n",
    "            x[i,j] = model.addVar(vtype=\"B\", name= f\"x({i},{j})\")\n",
    "    for j in range(U):\n",
    "        y[j] = model.addVar(vtype=\"B\", name= f\"y({j})\")    \n",
    "    model.update()\n",
    "    # assignment constraints\n",
    "    for i in range(n):\n",
    "        model.addConstr(quicksum(x[i,j] for j in range(U)) + z[i] == 1, f\"Assign({i})\")\n",
    "    # tighten assignment constraints\n",
    "    for j in range(U):\n",
    "        for i in range(n):\n",
    "            model.addConstr(x[i,j] <= y[j], f\"Strong({i},{j})\")\n",
    "    # bin capacity constraints\n",
    "    for j in range(U):\n",
    "        for k in range(d):\n",
    "            model.addConstr(quicksum(s[i,k]*x[i,j] for i in range(n)) <= B[j,k]*y[j], f\"Capac({j},{k})\")\n",
    "    model.setObjective(quicksum(penalty*s[i,k]*z[i] for i in range(n) for k in range(d)) + quicksum(c[j]*y[j] for j in range(U)), GRB.MINIMIZE)\n",
    "\n",
    "    model.update()\n",
    "    model.__data = x,y,z\n",
    "    return model"
   ]
  },
  {
   "cell_type": "code",
   "execution_count": 4,
   "id": "2be644d6-473b-4dd8-b808-c6338c69ac77",
   "metadata": {},
   "outputs": [
    {
     "name": "stdout",
     "output_type": "stream",
     "text": [
      "Requirement already satisfied: mypulp in /opt/conda/lib/python3.9/site-packages (0.0.11)\n",
      "Requirement already satisfied: pulp<3.0,>=2.3 in /opt/conda/lib/python3.9/site-packages (from mypulp) (2.5.1)\n",
      "Note: you may need to restart the kernel to use updated packages.\n"
     ]
    }
   ],
   "source": [
    "pip install mypulp"
   ]
  },
  {
   "cell_type": "code",
   "execution_count": 19,
   "id": "mental-cathedral",
   "metadata": {},
   "outputs": [
    {
     "name": "stdout",
     "output_type": "stream",
     "text": [
      "Welcome to the CBC MILP Solver \n",
      "Version: 2.10.3 \n",
      "Build Date: Dec 15 2019 \n",
      "\n",
      "command line - /opt/conda/lib/python3.9/site-packages/pulp/apis/../solverdir/cbc/linux/64/cbc /tmp/e1c9642869364e91b986a6e4a2c92afa-pulp.mps timeMode elapsed branch printingOptions all solution /tmp/e1c9642869364e91b986a6e4a2c92afa-pulp.sol (default strategy 1)\n",
      "At line 2 NAME          MODEL\n",
      "At line 3 ROWS\n",
      "At line 24 COLUMNS\n",
      "At line 125 RHS\n",
      "At line 145 BOUNDS\n",
      "At line 163 ENDATA\n",
      "Problem MODEL has 19 rows, 17 columns and 59 elements\n",
      "Coin0008I MODEL read with 0 errors\n",
      "Option for timeMode changed from cpu to elapsed\n",
      "Continuous objective value is 9905.67 - 0.00 seconds\n",
      "Cgl0003I 0 fixed, 0 tightened bounds, 2 strengthened rows, 0 substitutions\n",
      "Cgl0003I 0 fixed, 0 tightened bounds, 2 strengthened rows, 0 substitutions\n",
      "Cgl0003I 0 fixed, 0 tightened bounds, 1 strengthened rows, 0 substitutions\n",
      "Cgl0004I processed model has 17 rows, 17 columns (17 integer (17 of which binary)) and 57 elements\n",
      "Cutoff increment increased from 1e-05 to 0.9999\n",
      "Cbc0038I Initial state - 4 integers unsatisfied sum - 1.33333\n",
      "Cbc0038I Solution found of 14239\n",
      "Cbc0038I Before mini branch and bound, 13 integers at bound fixed and 0 continuous\n",
      "Cbc0038I Full problem 17 rows 17 columns, reduced to 0 rows 0 columns\n",
      "Cbc0038I Mini branch and bound did not improve solution (0.00 seconds)\n",
      "Cbc0038I Round again with cutoff of 13804.8\n",
      "Cbc0038I Reduced cost fixing fixed 3 variables on major pass 2\n",
      "Cbc0038I Pass   1: suminf.    0.06681 (2) obj. 13804.8 iterations 4\n",
      "Cbc0038I Pass   2: suminf.    0.66667 (2) obj. 10572.3 iterations 4\n",
      "Cbc0038I Pass   3: suminf.    0.20489 (2) obj. 13804.8 iterations 3\n",
      "Cbc0038I Pass   4: suminf.    0.20489 (2) obj. 13804.8 iterations 1\n",
      "Cbc0038I Pass   5: suminf.    0.20489 (2) obj. 13804.8 iterations 1\n",
      "Cbc0038I Pass   6: suminf.    0.20489 (2) obj. 13804.8 iterations 2\n",
      "Cbc0038I Pass   7: suminf.    0.79860 (4) obj. 13804.8 iterations 2\n",
      "Cbc0038I Pass   8: suminf.    0.87156 (4) obj. 13804.8 iterations 3\n",
      "Cbc0038I Pass   9: suminf.    0.20489 (2) obj. 13804.8 iterations 3\n",
      "Cbc0038I Pass  10: suminf.    0.22368 (2) obj. 13804.8 iterations 3\n",
      "Cbc0038I Solution found of 12239\n",
      "Cbc0038I Before mini branch and bound, 5 integers at bound fixed and 0 continuous\n",
      "Cbc0038I Full problem 17 rows 17 columns, reduced to 7 rows 9 columns\n",
      "Cbc0038I Mini branch and bound did not improve solution (0.01 seconds)\n",
      "Cbc0038I Round again with cutoff of 11771.5\n",
      "Cbc0038I Reduced cost fixing fixed 5 variables on major pass 3\n",
      "Cbc0038I Pass  11: suminf.    0.37961 (2) obj. 11771.5 iterations 0\n",
      "Cbc0038I Pass  12: suminf.    0.66667 (2) obj. 10572.3 iterations 2\n",
      "Cbc0038I Pass  13: suminf.    0.49535 (2) obj. 11771.5 iterations 1\n",
      "Cbc0038I Pass  14: suminf.    0.49535 (2) obj. 11771.5 iterations 1\n",
      "Cbc0038I Pass  15: suminf.    0.49535 (2) obj. 11771.5 iterations 1\n",
      "Cbc0038I Pass  16: suminf.    0.49535 (2) obj. 11771.5 iterations 1\n",
      "Cbc0038I Pass  17: suminf.    0.49535 (2) obj. 11771.5 iterations 2\n",
      "Cbc0038I Pass  18: suminf.    0.49535 (2) obj. 11771.5 iterations 1\n",
      "Cbc0038I Pass  19: suminf.    0.49535 (2) obj. 11771.5 iterations 1\n",
      "Cbc0038I Pass  20: suminf.    1.33333 (4) obj. 10572.3 iterations 4\n",
      "Cbc0038I Pass  21: suminf.    1.16202 (4) obj. 11771.5 iterations 3\n",
      "Cbc0038I Pass  22: suminf.    0.99070 (4) obj. 11771.5 iterations 1\n",
      "Cbc0038I Pass  23: suminf.    1.33333 (4) obj. 10572.3 iterations 2\n",
      "Cbc0038I Pass  24: suminf.    1.61905 (6) obj. 10572.3 iterations 4\n",
      "Cbc0038I Pass  25: suminf.    0.56081 (4) obj. 11771.5 iterations 2\n",
      "Cbc0038I Pass  26: suminf.    0.66667 (2) obj. 9905.67 iterations 5\n",
      "Cbc0038I Pass  27: suminf.    0.37961 (2) obj. 11771.5 iterations 2\n",
      "Cbc0038I Pass  28: suminf.    0.82405 (4) obj. 11771.5 iterations 2\n",
      "Cbc0038I Pass  29: suminf.    0.37961 (2) obj. 11771.5 iterations 2\n",
      "Cbc0038I Pass  30: suminf.    0.44444 (2) obj. 11350.1 iterations 3\n",
      "Cbc0038I Pass  31: suminf.    0.99070 (4) obj. 11771.5 iterations 4\n",
      "Cbc0038I Pass  32: suminf.    0.49535 (2) obj. 11771.5 iterations 3\n",
      "Cbc0038I Pass  33: suminf.    0.66667 (2) obj. 10572.3 iterations 1\n",
      "Cbc0038I Pass  34: suminf.    0.49535 (2) obj. 11771.5 iterations 1\n",
      "Cbc0038I Pass  35: suminf.    0.66667 (2) obj. 10572.3 iterations 1\n",
      "Cbc0038I Pass  36: suminf.    0.49535 (2) obj. 11771.5 iterations 4\n",
      "Cbc0038I Pass  37: suminf.    0.49535 (2) obj. 11771.5 iterations 0\n",
      "Cbc0038I Pass  38: suminf.    0.66667 (2) obj. 10572.3 iterations 3\n",
      "Cbc0038I Pass  39: suminf.    0.49535 (2) obj. 11771.5 iterations 2\n",
      "Cbc0038I Pass  40: suminf.    0.95238 (4) obj. 9905.67 iterations 3\n",
      "Cbc0038I No solution found this major pass\n",
      "Cbc0038I Before mini branch and bound, 5 integers at bound fixed and 0 continuous\n",
      "Cbc0038I Full problem 17 rows 17 columns, reduced to 7 rows 9 columns\n",
      "Cbc0038I Mini branch and bound did not improve solution (0.01 seconds)\n",
      "Cbc0038I After 0.01 seconds - Feasibility pump exiting with objective of 12239 - took 0.01 seconds\n",
      "Cbc0012I Integer solution of 12239 found by feasibility pump after 0 iterations and 0 nodes (0.01 seconds)\n",
      "Cbc0038I Full problem 17 rows 17 columns, reduced to 6 rows 4 columns\n",
      "Cbc0006I The LP relaxation is infeasible or too expensive\n",
      "Cbc0013I At root node, 0 cuts changed objective from 9905.6667 to 9905.6667 in 1 passes\n",
      "Cbc0014I Cut generator 0 (Probing) - 1 row cuts average 0.0 elements, 3 column cuts (3 active)  in 0.000 seconds - new frequency is 1\n",
      "Cbc0014I Cut generator 1 (Gomory) - 0 row cuts average 0.0 elements, 0 column cuts (0 active)  in 0.000 seconds - new frequency is -100\n",
      "Cbc0014I Cut generator 2 (Knapsack) - 0 row cuts average 0.0 elements, 0 column cuts (0 active)  in 0.000 seconds - new frequency is -100\n",
      "Cbc0014I Cut generator 3 (Clique) - 0 row cuts average 0.0 elements, 0 column cuts (0 active)  in 0.000 seconds - new frequency is -100\n",
      "Cbc0014I Cut generator 4 (MixedIntegerRounding2) - 0 row cuts average 0.0 elements, 0 column cuts (0 active)  in 0.000 seconds - new frequency is -100\n",
      "Cbc0014I Cut generator 5 (FlowCover) - 0 row cuts average 0.0 elements, 0 column cuts (0 active)  in 0.000 seconds - new frequency is -100\n",
      "Cbc0014I Cut generator 6 (TwoMirCuts) - 0 row cuts average 0.0 elements, 0 column cuts (0 active)  in 0.000 seconds - new frequency is -100\n",
      "Cbc0014I Cut generator 7 (ZeroHalf) - 0 row cuts average 0.0 elements, 0 column cuts (0 active)  in 0.000 seconds - new frequency is -100\n",
      "Cbc0001I Search completed - best objective 12239, took 0 iterations and 0 nodes (0.01 seconds)\n",
      "Cbc0035I Maximum depth 0, 4 variables fixed on reduced cost\n",
      "Cuts at root node changed objective from 9905.67 to 9905.67\n",
      "Probing was tried 1 times and created 4 cuts of which 0 were active after adding rounds of cuts (0.000 seconds)\n",
      "Gomory was tried 0 times and created 0 cuts of which 0 were active after adding rounds of cuts (0.000 seconds)\n",
      "Knapsack was tried 0 times and created 0 cuts of which 0 were active after adding rounds of cuts (0.000 seconds)\n",
      "Clique was tried 0 times and created 0 cuts of which 0 were active after adding rounds of cuts (0.000 seconds)\n",
      "MixedIntegerRounding2 was tried 0 times and created 0 cuts of which 0 were active after adding rounds of cuts (0.000 seconds)\n",
      "FlowCover was tried 0 times and created 0 cuts of which 0 were active after adding rounds of cuts (0.000 seconds)\n",
      "TwoMirCuts was tried 0 times and created 0 cuts of which 0 were active after adding rounds of cuts (0.000 seconds)\n",
      "ZeroHalf was tried 0 times and created 0 cuts of which 0 were active after adding rounds of cuts (0.000 seconds)\n",
      "\n",
      "Result - Optimal solution found\n",
      "\n",
      "Objective value:                12239.00000000\n",
      "Enumerated nodes:               0\n",
      "Total iterations:               0\n",
      "Time (CPU seconds):             0.01\n",
      "Time (Wallclock seconds):       0.01\n",
      "\n",
      "Option for printingOptions changed from normal to all\n",
      "Total time (CPU seconds):       0.01   (Wallclock seconds):       0.01\n",
      "\n",
      "item [[9 8]\n",
      " [9 5]\n",
      " [7 5]\n",
      " [9 4]\n",
      " [6 5]]\n",
      "unassigned items= [array([6, 5])]\n",
      "[18  9] <= [18 16]\n",
      "[16 13] <= [16 15]\n",
      "[16 13]\n"
     ]
    }
   ],
   "source": [
    "import numpy as np\n",
    "from mypulp import *\n",
    "np.random.seed(123)\n",
    "n = 5\n",
    "U = 2\n",
    "d = 2\n",
    "lb = 3\n",
    "ub = 10\n",
    "blb = 15\n",
    "bub = 20\n",
    "penalty = 1000\n",
    "s = np.random.randint(lb,ub,(n,d))\n",
    "B = np.random.randint(blb,bub, (U,d))\n",
    "c = np.random.randint(500,1000,U)\n",
    "\n",
    "model = vbpp(s,B,c,penalty)\n",
    "model.optimize()\n",
    "    \n",
    "x,y,z = model.__data\n",
    "bins = [[] for j in range(U)]\n",
    "for (i,j) in x:\n",
    "    if x[i,j].X > .5:\n",
    "        bins[j].append(s[i])\n",
    "unassigned =[]\n",
    "for i in z:\n",
    "    if z[i].X > .5:\n",
    "        unassigned.append(s[i])\n",
    "        \n",
    "print(\"item\", s)\n",
    "print(\"unassigned items=\", unassigned)\n",
    "for j in range(U):\n",
    "    weight = np.zeros(d, dtype=int)\n",
    "    for s in bins[j]:\n",
    "        weight += s\n",
    "    print(weight, \"<=\", B[j])\n",
    "print(weight)"
   ]
  },
  {
   "cell_type": "markdown",
   "id": "invisible-musician",
   "metadata": {},
   "source": [
    "### ヒューリスティクス\n",
    "\n",
    "変動サイズベクトルパッキング問題に対しては，BFD (Best Fit Decreasing) の変形が提案されている．\n",
    "\n",
    "与えられた $U$ 本のビンに．容量を超えない割り当てが可能かどうかを判定する問題を考える．\n",
    "\n",
    "残りのアイテムの集合を $NR$，　残りのビンの集合を $BR$ とする．\n",
    "次元$k$のアイテムのサイズの和を $W_k$ とする．\n",
    "$$\n",
    " W_k = \\sum_{i \\in NR} w_i^k\n",
    "$$\n",
    "ビン $j$ の $k$ 次元の残り容量を $r_j^k$ とする． 次元$k$の残り容量の和を $R_k$ とする．\n",
    "$$\n",
    " R_k = \\sum_{j \\in BR} r_j^k\n",
    "$$\n",
    "\n",
    "$W_k$ が大きい次元ほど， $R_k$ が小さい次元ほど重要度が高いと考え， 次元 $k$ の重要度（次元を統合したサイズ）を表す $s_k$ を導入する．\n",
    "$s_k$ は以下の3通りが考えられる．\n",
    "$$ s_k = W_k $$\n",
    "$$ s_k = 1/R_k $$\n",
    "$$ s_k = W_k/R_k $$\n",
    "\n",
    "より一般的に，パラメータ $0 \\leq \\alpha \\leq 2$ を用いて以下のように定義する．\n",
    "$$ s_k = (W_k)^{\\alpha} / (R_k)^{2-\\alpha} $$\n",
    "\n",
    "\n",
    "この尺度を用いてビン $j$ の（次元を統合した）サイズ \n",
    "$$\n",
    "\\sum_{k=1}^d  s_k r_j^k \\ \\ \\ \\forall j \\in BR\n",
    "$$\n",
    "とアイテム $i$ のサイズ\n",
    "$$\n",
    "\\sum_{k=1}^d  s_k w_i^k \\ \\ \\ \\forall i \\in NR\n",
    "$$\n",
    "を計算する．\n",
    "\n",
    "この新たなサイズを用いてBFDヒューリスティクスは，アイテム中心型とビン中心型の2通りが定義できる．\n",
    "\n",
    "#### アイテム中心型BFDヒューリスティクス\n",
    "\n",
    "未割当アイテムに対して以下の操作を繰り返す： \n",
    "1. （次元を統合した）サイズを計算\n",
    "2. サイズが最大のアイテムを，割り当て可能な最小の残りサイズをもつビンに割り当てる．（どのビンにも割り当て不能なら終了；実行不能）\n",
    "\n",
    "実際問題を解く際には，単に実行不能を返すだけでなく，なるべく多くのアイテムを詰めたいので，終了判定条件を変える必要がある．\n",
    "\n",
    "\n",
    "#### ビン中心型BFDヒューリスティクス\n",
    "\n",
    "残りのビン集合に対して以下の操作を繰り返す： \n",
    "1. （次元を統合した）ビンのサイズを計算\n",
    "2. サイズが最小のビンを選択\n",
    "3. 未割当のアイテムに対してサイズを計算し，ビンに入る最大のものを入れる\n",
    "\n",
    "終了後に未割当のアイテムが残っていたら実行不能\n"
   ]
  },
  {
   "cell_type": "code",
   "execution_count": 2,
   "id": "4c296bd2-b57a-4de1-a836-937294347c73",
   "metadata": {},
   "outputs": [
    {
     "name": "stdout",
     "output_type": "stream",
     "text": [
      "[[], [], []]\n"
     ]
    }
   ],
   "source": [
    "bins = [[] for j in range(3)]\n",
    "bins = [[]] * 3\n",
    "print(bins)"
   ]
  },
  {
   "cell_type": "code",
   "execution_count": 5,
   "id": "respective-treasure",
   "metadata": {},
   "outputs": [],
   "source": [
    "def BDF(w, B, alpha=1.):\n",
    "    \"\"\"\n",
    "    Item Based Best Fit Decreasing (BFD) heuristcs for variable size vector packing problem\n",
    "    \"\"\"\n",
    "    n, d = w.shape\n",
    "    U = len(B)\n",
    "    unassigned = []\n",
    "    bins = [[] for j in range(U)]\n",
    "    while len(w)>0:\n",
    "        W = w.sum(axis=0) #アイテムに対する残りサイズの和（次元ごと）\n",
    "        R = B.sum(axis=0) #ビンに対する残り容量の和（次元ごと）\n",
    "        s = (W**alpha)/(R+0.000001)**(2.-alpha) #次元の重要度\n",
    "        BS = B@s #ビンのサイズ（次元統合後）\n",
    "        WS = w@s #アイテムのサイズ（次元統合後）\n",
    "        max_item_idx = np.argmax(WS)\n",
    "        max_item = w[max_item_idx]\n",
    "        for j in np.argsort(BS):\n",
    "            remain = B[j]- max_item\n",
    "            if np.all(remain>=0): #詰め込み可能\n",
    "                B[j]= remain\n",
    "                bins[j].append(max_item)\n",
    "                break\n",
    "        else:\n",
    "            unassigned.append(max_item)\n",
    "        w = np.delete(w, max_item_idx, axis=0)\n",
    "    return bins, unassigned"
   ]
  },
  {
   "cell_type": "code",
   "execution_count": 6,
   "id": "employed-inspection",
   "metadata": {},
   "outputs": [
    {
     "name": "stdout",
     "output_type": "stream",
     "text": [
      "Bins= [[array([9, 5]), array([9, 4])], [array([9, 8]), array([7, 5])]]\n",
      "Unassigned= [array([6, 5])]\n"
     ]
    }
   ],
   "source": [
    "import numpy as np\n",
    "np.random.seed(123)\n",
    "n = 5\n",
    "U = 2\n",
    "d = 2\n",
    "lb = 3\n",
    "ub = 10\n",
    "blb = 15\n",
    "bub = 20\n",
    "w = np.random.randint(lb,ub,(n,d))\n",
    "B = np.random.randint(blb,bub, (U,d))\n",
    "bins, unassigned = BDF(w, B, alpha=1.)\n",
    "print(\"Bins=\", bins)\n",
    "print(\"Unassigned=\", unassigned)"
   ]
  },
  {
   "cell_type": "code",
   "execution_count": 7,
   "id": "5f3dd32f-9f2c-479f-896b-aee04796a70e",
   "metadata": {},
   "outputs": [
    {
     "name": "stdout",
     "output_type": "stream",
     "text": [
      "[[16 16]\n",
      " [15 15]]\n"
     ]
    }
   ],
   "source": [
    "import numpy as np\n",
    "B = np.random.randint(15,20, (2,2))\n",
    "print(B)"
   ]
  },
  {
   "cell_type": "markdown",
   "id": "affected-indonesia",
   "metadata": {},
   "source": [
    "アイテム中心型BFDヒューリスティクスに対して，パラメータ $\\alpha$ を変化させたときの実験を行う．"
   ]
  },
  {
   "cell_type": "code",
   "execution_count": 55,
   "id": "biological-fusion",
   "metadata": {},
   "outputs": [],
   "source": [
    "#実験\n",
    "import numpy as np\n",
    "np.random.seed(123)\n",
    "n = 1000\n",
    "U = 100\n",
    "d = 10\n",
    "lb = 3\n",
    "ub = 10\n",
    "blb = 15\n",
    "bub = 20\n",
    "w0 = np.random.randint(lb,ub,(n,d))\n",
    "B0 = np.random.randint(blb,bub, (U,d))\n",
    "#c0 = np.random.randint(500,1000,U)\n",
    "x, y, z =[],[],[]\n",
    "for k in np.arange(0.0, 2.1, 0.01):\n",
    "    w = w0.copy()\n",
    "    B = B0.copy()\n",
    "    # alpha = float(k)/100.\n",
    "    alpha = k\n",
    "    unassigned = []\n",
    "    bins = [[] for j in range(U)]\n",
    "    while len(w)>0:\n",
    "        W = w.sum(axis=0)\n",
    "        R = B.sum(axis=0) #残り容量の和（次元ごと）\n",
    "        #print(W,1/R,W/R)\n",
    "        #次元の重要度\n",
    "        #s = W\n",
    "        #s = W/(R+0.000001) \n",
    "    #    s = 1/(R+0.000001) #次元の重要度\n",
    "        s = (W**alpha)/(R+0.000001)**(2.-alpha) \n",
    "    #     print(\"s=\", s)\n",
    "    #     print(\"B=\",B)\n",
    "        BS = B@s #ビンのサイズ（次元統合後）\n",
    "    #     print(\"BS\",BS)\n",
    "    #     print(\"w=\",w)\n",
    "        WS = w@s #アイテムのサイズ（次元統合後）\n",
    "    #     print(\"WS\",WS)\n",
    "        max_item_idx = np.argmax(WS)\n",
    "        max_item = w[max_item_idx]\n",
    "        #print(\"max item\",max_item)\n",
    "        for j in np.argsort(BS):\n",
    "            remain = B[j]- max_item\n",
    "            if np.all(remain>=0): #詰め込み可能\n",
    "                B[j]= remain\n",
    "                bins[j].append(max_item)\n",
    "                break\n",
    "        else:\n",
    "            #print(\"Failed to pack!\")\n",
    "            unassigned.append(max_item)\n",
    "        #print(B)\n",
    "        w = np.delete(w, max_item_idx, axis=0)\n",
    "        #print(w)\n",
    "    #print(alpha,len(unassigned), np.sum(unassigned))\n",
    "    x.append(alpha)\n",
    "    y.append(len(unassigned))\n",
    "    z.append(np.sum(unassigned))"
   ]
  },
  {
   "cell_type": "code",
   "execution_count": 5,
   "id": "8b8fd4dd-9032-482d-a989-9e7073932b2e",
   "metadata": {},
   "outputs": [],
   "source": [
    "import pandas as pd\n",
    "df_none = pd.read_csv('./results_correlated_mf-0.8_rem_cons-0.8_sd-0.1_coritems-True.csv', sep=';')"
   ]
  },
  {
   "cell_type": "code",
   "execution_count": 7,
   "id": "dc74321e-a0b9-43f5-8fc5-0172c2228f98",
   "metadata": {},
   "outputs": [],
   "source": [
    "import pandas as pd\n",
    "df_none = pd.read_csv('./test.csv', sep=';')"
   ]
  },
  {
   "cell_type": "code",
   "execution_count": 12,
   "id": "6e9c18c1-a653-486d-8b0c-d507f3da11f2",
   "metadata": {},
   "outputs": [
    {
     "data": {
      "text/plain": [
       "0    69\n",
       "1     3\n",
       "2    29\n",
       "3    65\n",
       "4     0\n",
       "5     0\n",
       "6    98\n",
       "7     0\n",
       "8     0\n",
       "Name: R/C_ns, dtype: int64"
      ]
     },
     "execution_count": 12,
     "metadata": {},
     "output_type": "execute_result"
    }
   ],
   "source": [
    "df_none['R/C_ns']"
   ]
  },
  {
   "cell_type": "code",
   "execution_count": 14,
   "id": "95f5780d-aa53-4b73-9476-bd02159e00d6",
   "metadata": {},
   "outputs": [
    {
     "data": {
      "text/plain": [
       "Index(['#bins ', ' #resources', ' Avg #items ', ' Avg %usage ',\n",
       "       ' Avg max % usage', 'nothing_pn', 'nothing_ns', 'shuff1_pn',\n",
       "       'shuff1_ns', '1/C_pn', '1/C_ns', '1/R_pn', '1/R_ns', 'R/C_pn', 'R/C_ns',\n",
       "       'ic_shuff_pn', 'ic_shuff_ns', 'ic_dyn_1/C_pn', 'ic_dyn_1/C_ns',\n",
       "       'ic_dyn_1/R_pn', 'ic_dyn_1/R_ns', 'ic_dyn_R/C_pn', 'ic_dyn_R/C_ns',\n",
       "       'bc_shuff_pn', 'bc_shuff_ns', 'bc_dyn_1/C_pn', 'bc_dyn_1/C_ns',\n",
       "       'bc_dyn_1/R_pn', 'bc_dyn_1/R_ns', 'bc_dyn_R/C_pn', 'bc_dyn_R/C_ns',\n",
       "       'bb_nothing_pn', 'bb_nothing_ns', 'bb_shuff1_pn', 'bb_shuff1_ns',\n",
       "       'bb_shuff_pn', 'bb_shuff_ns', 'bb_st_1/C_pn', 'bb_st_1/C_ns',\n",
       "       'bb_dyn_1/C_pn', 'bb_dyn_1/C_ns', 'bb_st_1/R_pn', 'bb_st_1/R_ns',\n",
       "       'bb_dyn_1/R_pn', 'bb_dyn_1/R_ns', 'bb_st_R/C_pn', 'bb_st_R/C_ns',\n",
       "       'bb_dyn_R/C_pn', 'bb_dyn_R/C_ns', 'sbb_nothing_pn', 'sbb_nothing_ns',\n",
       "       'sbb_shuff1_pn', 'sbb_shuff1_ns', 'sbb_shuff_pn', 'sbb_shuff_ns',\n",
       "       'sbb_st_1/C_pn', 'sbb_st_1/C_ns', 'sbb_dyn_1/C_pn', 'sbb_dyn_1/C_ns',\n",
       "       'sbb_st_1/R_pn', 'sbb_st_1/R_ns', 'sbb_dyn_1/R_pn', 'sbb_dyn_1/R_ns',\n",
       "       'sbb_st_R/C_pn', 'sbb_st_R/C_ns', 'sbb_dyn_R/C_pn', 'sbb_dyn_R/C_ns',\n",
       "       'Unnamed: 67'],\n",
       "      dtype='object')"
      ]
     },
     "execution_count": 14,
     "metadata": {},
     "output_type": "execute_result"
    }
   ],
   "source": [
    "df_none.columns\n",
    "# ns -> number of success\n",
    "# pn -> packed / total -> 積載率"
   ]
  },
  {
   "cell_type": "code",
   "execution_count": 56,
   "id": "nuclear-conservative",
   "metadata": {},
   "outputs": [],
   "source": [
    "# x: alpha, y: 残りアイテム数, z: 残りアイテム容量\n",
    "df = pd.DataFrame({\"x\":x, \"y\":y, \"z\":z})\n",
    "import plotly.express as px\n",
    "# fig = px.scatter(df, x=\"y\", y=\"z\")\n",
    "fig = px.line(df, x=\"x\", y=\"z\")\n",
    "plotly.offline.plot(fig);"
   ]
  },
  {
   "cell_type": "code",
   "execution_count": 51,
   "id": "93b916ec-da31-474e-b6d1-5181b363e372",
   "metadata": {},
   "outputs": [
    {
     "data": {
      "text/html": [
       "<div>\n",
       "<style scoped>\n",
       "    .dataframe tbody tr th:only-of-type {\n",
       "        vertical-align: middle;\n",
       "    }\n",
       "\n",
       "    .dataframe tbody tr th {\n",
       "        vertical-align: top;\n",
       "    }\n",
       "\n",
       "    .dataframe thead th {\n",
       "        text-align: right;\n",
       "    }\n",
       "</style>\n",
       "<table border=\"1\" class=\"dataframe\">\n",
       "  <thead>\n",
       "    <tr style=\"text-align: right;\">\n",
       "      <th></th>\n",
       "      <th>x</th>\n",
       "      <th>y</th>\n",
       "      <th>z</th>\n",
       "    </tr>\n",
       "  </thead>\n",
       "  <tbody>\n",
       "    <tr>\n",
       "      <th>0</th>\n",
       "      <td>0.0</td>\n",
       "      <td>800</td>\n",
       "      <td>46292</td>\n",
       "    </tr>\n",
       "    <tr>\n",
       "      <th>1</th>\n",
       "      <td>0.1</td>\n",
       "      <td>800</td>\n",
       "      <td>46273</td>\n",
       "    </tr>\n",
       "    <tr>\n",
       "      <th>2</th>\n",
       "      <td>0.2</td>\n",
       "      <td>800</td>\n",
       "      <td>46264</td>\n",
       "    </tr>\n",
       "    <tr>\n",
       "      <th>3</th>\n",
       "      <td>0.3</td>\n",
       "      <td>800</td>\n",
       "      <td>46273</td>\n",
       "    </tr>\n",
       "    <tr>\n",
       "      <th>4</th>\n",
       "      <td>0.4</td>\n",
       "      <td>800</td>\n",
       "      <td>46267</td>\n",
       "    </tr>\n",
       "    <tr>\n",
       "      <th>5</th>\n",
       "      <td>0.5</td>\n",
       "      <td>800</td>\n",
       "      <td>46259</td>\n",
       "    </tr>\n",
       "    <tr>\n",
       "      <th>6</th>\n",
       "      <td>0.6</td>\n",
       "      <td>800</td>\n",
       "      <td>46249</td>\n",
       "    </tr>\n",
       "    <tr>\n",
       "      <th>7</th>\n",
       "      <td>0.7</td>\n",
       "      <td>800</td>\n",
       "      <td>46250</td>\n",
       "    </tr>\n",
       "    <tr>\n",
       "      <th>8</th>\n",
       "      <td>0.8</td>\n",
       "      <td>800</td>\n",
       "      <td>46248</td>\n",
       "    </tr>\n",
       "    <tr>\n",
       "      <th>9</th>\n",
       "      <td>0.9</td>\n",
       "      <td>800</td>\n",
       "      <td>46238</td>\n",
       "    </tr>\n",
       "    <tr>\n",
       "      <th>10</th>\n",
       "      <td>1.0</td>\n",
       "      <td>800</td>\n",
       "      <td>46237</td>\n",
       "    </tr>\n",
       "    <tr>\n",
       "      <th>11</th>\n",
       "      <td>1.1</td>\n",
       "      <td>800</td>\n",
       "      <td>46237</td>\n",
       "    </tr>\n",
       "    <tr>\n",
       "      <th>12</th>\n",
       "      <td>1.2</td>\n",
       "      <td>800</td>\n",
       "      <td>46231</td>\n",
       "    </tr>\n",
       "    <tr>\n",
       "      <th>13</th>\n",
       "      <td>1.3</td>\n",
       "      <td>800</td>\n",
       "      <td>46230</td>\n",
       "    </tr>\n",
       "    <tr>\n",
       "      <th>14</th>\n",
       "      <td>1.4</td>\n",
       "      <td>800</td>\n",
       "      <td>46229</td>\n",
       "    </tr>\n",
       "    <tr>\n",
       "      <th>15</th>\n",
       "      <td>1.5</td>\n",
       "      <td>800</td>\n",
       "      <td>46229</td>\n",
       "    </tr>\n",
       "    <tr>\n",
       "      <th>16</th>\n",
       "      <td>1.6</td>\n",
       "      <td>800</td>\n",
       "      <td>46230</td>\n",
       "    </tr>\n",
       "    <tr>\n",
       "      <th>17</th>\n",
       "      <td>1.7</td>\n",
       "      <td>800</td>\n",
       "      <td>46224</td>\n",
       "    </tr>\n",
       "    <tr>\n",
       "      <th>18</th>\n",
       "      <td>1.8</td>\n",
       "      <td>800</td>\n",
       "      <td>46223</td>\n",
       "    </tr>\n",
       "    <tr>\n",
       "      <th>19</th>\n",
       "      <td>1.9</td>\n",
       "      <td>800</td>\n",
       "      <td>46223</td>\n",
       "    </tr>\n",
       "    <tr>\n",
       "      <th>20</th>\n",
       "      <td>2.0</td>\n",
       "      <td>800</td>\n",
       "      <td>46223</td>\n",
       "    </tr>\n",
       "  </tbody>\n",
       "</table>\n",
       "</div>"
      ],
      "text/plain": [
       "      x    y      z\n",
       "0   0.0  800  46292\n",
       "1   0.1  800  46273\n",
       "2   0.2  800  46264\n",
       "3   0.3  800  46273\n",
       "4   0.4  800  46267\n",
       "5   0.5  800  46259\n",
       "6   0.6  800  46249\n",
       "7   0.7  800  46250\n",
       "8   0.8  800  46248\n",
       "9   0.9  800  46238\n",
       "10  1.0  800  46237\n",
       "11  1.1  800  46237\n",
       "12  1.2  800  46231\n",
       "13  1.3  800  46230\n",
       "14  1.4  800  46229\n",
       "15  1.5  800  46229\n",
       "16  1.6  800  46230\n",
       "17  1.7  800  46224\n",
       "18  1.8  800  46223\n",
       "19  1.9  800  46223\n",
       "20  2.0  800  46223"
      ]
     },
     "execution_count": 51,
     "metadata": {},
     "output_type": "execute_result"
    }
   ],
   "source": [
    "df = pd.DataFrame({\"x\":x, \"y\":y, \"z\":z})\n",
    "df\n"
   ]
  },
  {
   "cell_type": "code",
   "execution_count": 113,
   "id": "3c7f4cfd-1b62-4f70-8a72-3dfb05f21379",
   "metadata": {},
   "outputs": [],
   "source": [
    "#実験\n",
    "import numpy as np\n",
    "# np.random.seed(123)\n",
    "# # n = 1000\n",
    "# # U = 2\n",
    "# # d = 2\n",
    "# # lb = 3\n",
    "# # ub = 10\n",
    "# # blb = 15\n",
    "# # bub = 20\n",
    "# w0 = np.random.randint(lb,ub,(n,d))\n",
    "# B0 = np.random.randint(blb,bub, (U,d))\n",
    "# #c0 = np.random.randint(500,1000,U)\n",
    "\n",
    "def test_bdf(d,b0,lb,ub):\n",
    "    np.random.seed(123)\n",
    "    # d -> 瓶の次元\n",
    "    # U -> 瓶の本数\n",
    "    n = 1000\n",
    "    w0 = np.random.randint(lb,ub,(n,d))\n",
    "\n",
    "    x, y, z =[],[],[]\n",
    "    c = 0\n",
    "    \n",
    "    check_percents = [0.25, 0.5, 0.75, 1.0]\n",
    "    for k in np.arange(0.0, 2.0, 0.01):\n",
    "        if k / 2.0 in check_percents:\n",
    "            print(f'Processing {(k/2.0)*100}% Done')\n",
    "        w = w0.copy()\n",
    "        B = b0.copy()\n",
    "        # alpha = float(k)/100.\n",
    "        alpha = k\n",
    "        unassigned = []\n",
    "        bins = [[] for j in range(U)]\n",
    "        while len(w)>0:\n",
    "            W = w.sum(axis=0)\n",
    "            R = B.sum(axis=0) #残り容量の和（次元ごと）\n",
    "            #print(W,1/R,W/R)\n",
    "            #次元の重要度\n",
    "            #s = W\n",
    "            #s = W/(R+0.000001) \n",
    "        #    s = 1/(R+0.000001) #次元の重要度\n",
    "            s = (W**alpha)/(R+0.000001)**(2.-alpha) \n",
    "        #     print(\"s=\", s)\n",
    "        #     print(\"B=\",B)\n",
    "            BS = B@s #ビンのサイズ（次元統合後）\n",
    "        #     print(\"BS\",BS)\n",
    "        #     print(\"w=\",w)\n",
    "            WS = w@s #アイテムのサイズ（次元統合後）\n",
    "        #     print(\"WS\",WS)\n",
    "            max_item_idx = np.argmax(WS)\n",
    "            max_item = w[max_item_idx]\n",
    "            #print(\"max item\",max_item)\n",
    "            for j in np.argsort(BS):\n",
    "                remain = B[j]- max_item\n",
    "                if np.all(remain>=0): #詰め込み可能\n",
    "                    B[j]= remain\n",
    "                    bins[j].append(max_item)\n",
    "                    break\n",
    "            else:\n",
    "                #print(\"Failed to pack!\")\n",
    "                unassigned.append(max_item)\n",
    "            #print(B)\n",
    "            w = np.delete(w, max_item_idx, axis=0)\n",
    "            #print(w)\n",
    "        #print(alpha,len(unassigned), np.sum(unassigned))\n",
    "        x.append(alpha)\n",
    "        y.append(len(unassigned))\n",
    "        z.append(np.sum(unassigned))\n",
    "    return x, y, z"
   ]
  },
  {
   "cell_type": "code",
   "execution_count": 103,
   "id": "305c6098-e57c-4ed1-b83e-4b66f71a9b24",
   "metadata": {},
   "outputs": [
    {
     "data": {
      "text/plain": [
       "0.5"
      ]
     },
     "execution_count": 103,
     "metadata": {},
     "output_type": "execute_result"
    }
   ],
   "source": [
    "1.0 / 2.0 "
   ]
  },
  {
   "cell_type": "code",
   "execution_count": 25,
   "id": "63764f29-ca4b-404d-bc08-1f9a7b355cef",
   "metadata": {},
   "outputs": [],
   "source": [
    "%reload_ext autoreload\n",
    "%autoreload 2\n",
    "%matplotlib inline"
   ]
  },
  {
   "cell_type": "code",
   "execution_count": 99,
   "id": "4b478f04-fc94-4afb-9cab-8d9de0102834",
   "metadata": {},
   "outputs": [
    {
     "name": "stdout",
     "output_type": "stream",
     "text": [
      "['experiment_[100, 400]_10.html', 'experiment_[100, 400]_2.html', 'experiment_[100, 400]_5.html', 'experiment_[100, 400]_50.html']\n"
     ]
    }
   ],
   "source": [
    "import glob\n",
    "\n",
    "\n",
    "print(glob.glob('experiment_*'))"
   ]
  },
  {
   "cell_type": "code",
   "execution_count": 108,
   "id": "868e3ce4-eab2-4197-be63-a37f124eef6e",
   "metadata": {},
   "outputs": [
    {
     "name": "stdout",
     "output_type": "stream",
     "text": [
      "exp_[1, 1000]_D10_B10.html\n",
      "exp_[1, 1000]_D10_B100.html\n",
      "exp_[1, 1000]_D10_B30.html\n",
      "exp_[1, 1000]_D2_B10.html\n",
      "exp_[1, 1000]_D2_B100.html\n",
      "exp_[1, 1000]_D2_B30.html\n",
      "exp_[1, 1000]_D50_B10.html\n",
      "exp_[1, 1000]_D50_B100.html\n",
      "exp_[1, 1000]_D50_B30.html\n",
      "exp_[1, 1000]_D5_B10.html\n",
      "exp_[1, 1000]_D5_B100.html\n",
      "exp_[1, 1000]_D5_B30.html\n",
      "exp_[100, 400]_D10_B10.html\n",
      "exp_[100, 400]_D10_B100.html\n",
      "exp_[100, 400]_D10_B30.html\n",
      "exp_[100, 400]_D2_B10.html\n",
      "exp_[100, 400]_D2_B100.html\n",
      "exp_[100, 400]_D2_B30.html\n",
      "exp_[100, 400]_D50_B10.html\n",
      "exp_[100, 400]_D50_B100.html\n",
      "exp_[100, 400]_D50_B30.html\n",
      "exp_[100, 400]_D5_B10.html\n",
      "exp_[100, 400]_D5_B100.html\n",
      "exp_[100, 400]_D5_B30.html\n",
      "exp_[200, 800]_D10_B10.html\n",
      "exp_[200, 800]_D10_B100.html\n",
      "exp_[200, 800]_D10_B30.html\n",
      "exp_[200, 800]_D2_B10.html\n",
      "exp_[200, 800]_D2_B100.html\n",
      "exp_[200, 800]_D2_B30.html\n",
      "exp_[200, 800]_D50_B10.html\n",
      "exp_[200, 800]_D50_B100.html\n",
      "exp_[200, 800]_D50_B30.html\n",
      "exp_[200, 800]_D5_B10.html\n",
      "exp_[200, 800]_D5_B100.html\n",
      "exp_[200, 800]_D5_B30.html\n",
      "exp_[25, 100]_D10_B10.html\n",
      "exp_[25, 100]_D10_B100.html\n",
      "exp_[25, 100]_D10_B30.html\n",
      "exp_[25, 100]_D2_B10.html\n",
      "exp_[25, 100]_D2_B100.html\n",
      "exp_[25, 100]_D2_B30.html\n",
      "exp_[25, 100]_D50_B10.html\n",
      "exp_[25, 100]_D50_B100.html\n",
      "exp_[25, 100]_D50_B30.html\n",
      "exp_[25, 100]_D5_B10.html\n",
      "exp_[25, 100]_D5_B100.html\n",
      "exp_[25, 100]_D5_B30.html\n",
      "exp_[50, 200]_D10_B10.html\n",
      "exp_[50, 200]_D10_B100.html\n",
      "exp_[50, 200]_D10_B30.html\n",
      "exp_[50, 200]_D2_B10.html\n",
      "exp_[50, 200]_D2_B100.html\n",
      "exp_[50, 200]_D2_B30.html\n",
      "exp_[50, 200]_D50_B10.html\n",
      "exp_[50, 200]_D50_B100.html\n",
      "exp_[50, 200]_D50_B30.html\n",
      "exp_[50, 200]_D5_B10.html\n",
      "exp_[50, 200]_D5_B100.html\n",
      "exp_[50, 200]_D5_B30.html\n"
     ]
    }
   ],
   "source": [
    "for path in glob.glob('exp_*'):\n",
    "    print(path)\n",
    "    os.remove(path)"
   ]
  },
  {
   "cell_type": "code",
   "execution_count": 121,
   "id": "2bb8d8fa-383d-49f4-aae9-d7d0bc1c2ddf",
   "metadata": {},
   "outputs": [
    {
     "name": "stdout",
     "output_type": "stream",
     "text": [
      "bin:10. item_range:[100, 400], dim:2\n",
      "bin:10. item_range:[100, 400], dim:5\n",
      "bin:10. item_range:[100, 400], dim:10\n",
      "bin:10. item_range:[100, 400], dim:25\n",
      "Processing 25.0% Done\n",
      "Processing 50.0% Done\n",
      "Processing 75.0% Done\n",
      "bin:10. item_range:[1, 1000], dim:25\n",
      "Processing 25.0% Done\n",
      "Processing 50.0% Done\n",
      "Processing 75.0% Done\n",
      "bin:10. item_range:[200, 800], dim:25\n",
      "Processing 25.0% Done\n",
      "Processing 50.0% Done\n",
      "Processing 75.0% Done\n",
      "bin:10. item_range:[50, 200], dim:25\n",
      "Processing 25.0% Done\n",
      "Processing 50.0% Done\n",
      "Processing 75.0% Done\n",
      "bin:10. item_range:[25, 100], dim:25\n",
      "Processing 25.0% Done\n",
      "Processing 50.0% Done\n",
      "Processing 75.0% Done\n",
      "bin:10. item_range:[100, 400], dim:50\n",
      "bin:30. item_range:[100, 400], dim:2\n",
      "bin:30. item_range:[100, 400], dim:5\n",
      "bin:30. item_range:[100, 400], dim:10\n",
      "bin:30. item_range:[100, 400], dim:25\n",
      "Processing 25.0% Done\n",
      "Processing 50.0% Done\n",
      "Processing 75.0% Done\n",
      "bin:30. item_range:[1, 1000], dim:25\n",
      "Processing 25.0% Done\n",
      "Processing 50.0% Done\n",
      "Processing 75.0% Done\n",
      "bin:30. item_range:[200, 800], dim:25\n",
      "Processing 25.0% Done\n",
      "Processing 50.0% Done\n",
      "Processing 75.0% Done\n",
      "bin:30. item_range:[50, 200], dim:25\n",
      "Processing 25.0% Done\n",
      "Processing 50.0% Done\n",
      "Processing 75.0% Done\n",
      "bin:30. item_range:[25, 100], dim:25\n",
      "Processing 25.0% Done\n",
      "Processing 50.0% Done\n",
      "Processing 75.0% Done\n",
      "bin:30. item_range:[100, 400], dim:50\n",
      "bin:100. item_range:[100, 400], dim:2\n",
      "bin:100. item_range:[100, 400], dim:5\n",
      "bin:100. item_range:[100, 400], dim:10\n",
      "bin:100. item_range:[100, 400], dim:25\n",
      "Processing 25.0% Done\n",
      "Processing 50.0% Done\n",
      "Processing 75.0% Done\n",
      "bin:100. item_range:[1, 1000], dim:25\n",
      "Processing 25.0% Done\n",
      "Processing 50.0% Done\n",
      "Processing 75.0% Done\n",
      "bin:100. item_range:[200, 800], dim:25\n",
      "Processing 25.0% Done\n",
      "Processing 50.0% Done\n",
      "Processing 75.0% Done\n",
      "bin:100. item_range:[50, 200], dim:25\n",
      "Processing 25.0% Done\n",
      "Processing 50.0% Done\n",
      "Processing 75.0% Done\n",
      "bin:100. item_range:[25, 100], dim:25\n",
      "Processing 25.0% Done\n",
      "Processing 50.0% Done\n",
      "Processing 75.0% Done\n",
      "bin:100. item_range:[100, 400], dim:50\n"
     ]
    }
   ],
   "source": [
    "import pandas as pd\n",
    "import plotly\n",
    "import os\n",
    "import plotly.express as px\n",
    "\n",
    "item_ranges = [[100, 400], [1, 1000], [200, 800], [50, 200], [25, 100]]\n",
    "dimentions = [2, 5, 10, 25, 50]\n",
    "bins = [10, 30, 100]\n",
    "if not os.path.exists('exp'):\n",
    "    os.makedir('exp')\n",
    "for bin in bins:\n",
    "    for dim in dimentions:\n",
    "        blb = 10\n",
    "        bub = 1000\n",
    "        bins = np.random.randint(blb,bub, (bin,dim))\n",
    "        os.makedirs(f'exp/B_{bin}_D_{dim}', exist_ok=True)\n",
    "        for item_range in item_ranges:\n",
    "            print(f'bin:{bin}. item_range:{item_range}, dim:{dim}')\n",
    "            filename = f'exp/B_{bin}_D_{dim}/{item_range}.html'\n",
    "            if os.path.exists(filename):\n",
    "                break\n",
    "            alpha_arr, unassigned_count, unassigned_total= test_bdf(d=dim, b0=bins, lb=item_range[0], ub=item_range[1])\n",
    "            df = pd.DataFrame({\n",
    "                \"alpha\": alpha_arr, \n",
    "                # \"unassigned_count\": unassigned_count, \n",
    "                \"unassigned_total\": unassigned_total\n",
    "                })\n",
    "            \n",
    "            fig = px.line(df, x=\"alpha\", y=\"unassigned_total\")\n",
    "            plotly.offline.plot(fig, filename=filename)\n",
    "\n",
    "\n",
    "# alpha_arr, unassigned_count, unassigned_total, bins = test_bdf(d=5, U=100)\n",
    "# # alpha_arr: alpha, unassigned_count: 残りアイテム数, unassigned_total: 残りアイテム容量\n",
    "# df = pd.DataFrame({\n",
    "#                 \"alpha\": alpha_arr, \n",
    "#                 # \"unassigned_count\": unassigned_count, \n",
    "#                 \"unassigned_total\": unassigned_total\n",
    "#                 })\n",
    "# import plotly.express as px\n",
    "# filepath = './temp-plot.html'\n",
    "# if os.path.exists(filepath):\n",
    "#     os.remove(filepath)\n",
    "    \n",
    "# fig = px.line(df, x=\"alpha\", y=\"unassigned_total\")\n",
    "# #fig = px.line(df, x=\"x\", y=\"z\")\n",
    "# plotly.offline.plot(fig, filename='test.html')"
   ]
  },
  {
   "cell_type": "code",
   "execution_count": 119,
   "id": "a1bca535-3fe8-47b8-8e20-83473c790717",
   "metadata": {},
   "outputs": [],
   "source": []
  },
  {
   "cell_type": "code",
   "execution_count": 71,
   "id": "247db350-bdf3-4cab-89e2-33d89e6d0868",
   "metadata": {},
   "outputs": [
    {
     "data": {
      "text/html": [
       "<div>\n",
       "<style scoped>\n",
       "    .dataframe tbody tr th:only-of-type {\n",
       "        vertical-align: middle;\n",
       "    }\n",
       "\n",
       "    .dataframe tbody tr th {\n",
       "        vertical-align: top;\n",
       "    }\n",
       "\n",
       "    .dataframe thead th {\n",
       "        text-align: right;\n",
       "    }\n",
       "</style>\n",
       "<table border=\"1\" class=\"dataframe\">\n",
       "  <thead>\n",
       "    <tr style=\"text-align: right;\">\n",
       "      <th></th>\n",
       "      <th>alpha</th>\n",
       "      <th>unassigned_total</th>\n",
       "    </tr>\n",
       "  </thead>\n",
       "  <tbody>\n",
       "    <tr>\n",
       "      <th>0</th>\n",
       "      <td>0.00</td>\n",
       "      <td>173963</td>\n",
       "    </tr>\n",
       "    <tr>\n",
       "      <th>1</th>\n",
       "      <td>0.01</td>\n",
       "      <td>173963</td>\n",
       "    </tr>\n",
       "    <tr>\n",
       "      <th>2</th>\n",
       "      <td>0.02</td>\n",
       "      <td>173963</td>\n",
       "    </tr>\n",
       "    <tr>\n",
       "      <th>3</th>\n",
       "      <td>0.03</td>\n",
       "      <td>173963</td>\n",
       "    </tr>\n",
       "    <tr>\n",
       "      <th>4</th>\n",
       "      <td>0.04</td>\n",
       "      <td>173963</td>\n",
       "    </tr>\n",
       "    <tr>\n",
       "      <th>...</th>\n",
       "      <td>...</td>\n",
       "      <td>...</td>\n",
       "    </tr>\n",
       "    <tr>\n",
       "      <th>195</th>\n",
       "      <td>1.95</td>\n",
       "      <td>175746</td>\n",
       "    </tr>\n",
       "    <tr>\n",
       "      <th>196</th>\n",
       "      <td>1.96</td>\n",
       "      <td>175746</td>\n",
       "    </tr>\n",
       "    <tr>\n",
       "      <th>197</th>\n",
       "      <td>1.97</td>\n",
       "      <td>175746</td>\n",
       "    </tr>\n",
       "    <tr>\n",
       "      <th>198</th>\n",
       "      <td>1.98</td>\n",
       "      <td>175746</td>\n",
       "    </tr>\n",
       "    <tr>\n",
       "      <th>199</th>\n",
       "      <td>1.99</td>\n",
       "      <td>175746</td>\n",
       "    </tr>\n",
       "  </tbody>\n",
       "</table>\n",
       "<p>200 rows × 2 columns</p>\n",
       "</div>"
      ],
      "text/plain": [
       "     alpha  unassigned_total\n",
       "0     0.00            173963\n",
       "1     0.01            173963\n",
       "2     0.02            173963\n",
       "3     0.03            173963\n",
       "4     0.04            173963\n",
       "..     ...               ...\n",
       "195   1.95            175746\n",
       "196   1.96            175746\n",
       "197   1.97            175746\n",
       "198   1.98            175746\n",
       "199   1.99            175746\n",
       "\n",
       "[200 rows x 2 columns]"
      ]
     },
     "execution_count": 71,
     "metadata": {},
     "output_type": "execute_result"
    }
   ],
   "source": [
    "df"
   ]
  },
  {
   "cell_type": "code",
   "execution_count": 8,
   "id": "e21ec722-e542-450d-bfca-fd56b7de64a7",
   "metadata": {},
   "outputs": [
    {
     "name": "stdout",
     "output_type": "stream",
     "text": [
      "[172 171]\n"
     ]
    }
   ],
   "source": [
    "blb = 15\n",
    "bub = 20\n",
    "U = 10\n",
    "B0 = np.random.randint(blb,bub, (U,d))\n",
    "B0_sum = B0.sum(axis=0)\n",
    "print(B0_sum)"
   ]
  },
  {
   "cell_type": "code",
   "execution_count": 10,
   "id": "2418b908-55ba-44ba-9012-1b3a29c431a9",
   "metadata": {},
   "outputs": [
    {
     "name": "stdout",
     "output_type": "stream",
     "text": [
      "[[165.06488398  89.65143774]\n",
      " [821.12466104 102.2549191 ]\n",
      " [301.67564627 556.08665619]\n",
      " [797.64118808 154.56525601]\n",
      " [704.18778733 108.6721116 ]\n",
      " [581.14769362 432.47302469]\n",
      " [380.45017886 374.81929747]\n",
      " [380.69011998 236.9710838 ]\n",
      " [397.54436999 801.62772452]\n",
      " [469.34810036 371.2299027 ]]\n"
     ]
    }
   ],
   "source": [
    "# r_k^j -> bin kのj次元における残り容量\n",
    "# まずはビンの容量を決める\n",
    "\n",
    "# d=2, U=10\n",
    "d = 2\n",
    "U = 10\n",
    "blb = 10\n",
    "bub = 1000\n",
    "B0 = np.random.uniform(blb,bub, (U,d))\n",
    "print(B0)"
   ]
  },
  {
   "cell_type": "code",
   "execution_count": 11,
   "id": "ce47371c-9826-4bc6-8d16-0c0675f2d7c7",
   "metadata": {},
   "outputs": [
    {
     "name": "stdout",
     "output_type": "stream",
     "text": [
      "[165.06488398  89.65143774]\n",
      "[821.12466104 102.2549191 ]\n",
      "[301.67564627 556.08665619]\n",
      "[797.64118808 154.56525601]\n",
      "[704.18778733 108.6721116 ]\n",
      "[581.14769362 432.47302469]\n",
      "[380.45017886 374.81929747]\n",
      "[380.69011998 236.9710838 ]\n",
      "[397.54436999 801.62772452]\n",
      "[469.34810036 371.2299027 ]\n"
     ]
    }
   ],
   "source": [
    "# アイテム配列作成\n",
    "w0 = []\n",
    "for i in range(100):\n",
    "    \n",
    "    "
   ]
  },
  {
   "cell_type": "markdown",
   "id": "89861381-2599-4c44-8362-c2a8a88223c0",
   "metadata": {},
   "source": [
    "次元はそれぞれ2, 5, 10　　\n",
    "ビンはそれぞれ 10, 30, 100　　\n",
    "アイテムの個数は100こ　　"
   ]
  },
  {
   "cell_type": "code",
   "execution_count": null,
   "id": "e01a7cc9-95f8-4a7c-a29a-2ff35418ba0e",
   "metadata": {},
   "outputs": [],
   "source": [
    "# １つ目のインスタンス\n",
    "# ビン容量は10 - 1000のrandom uniformから独立して選ばれる\n",
    "# アイテムサイズは、0 - r_k^jのrandom uniformから選択される\n",
    "\n",
    "d = [2, 5, 10]"
   ]
  },
  {
   "cell_type": "code",
   "execution_count": 37,
   "id": "4f8dd248-bf39-495b-bc87-f45e205db2b4",
   "metadata": {},
   "outputs": [],
   "source": [
    "import itertools\n",
    "import operator\n",
    "\n",
    "\n",
    "################## Utility functions ####################\n",
    "def maxl(list):\n",
    "    \"\"\" Return max using size attribute \"\"\"\n",
    "    return max(list, key=lambda x: x.size)\n",
    "\n",
    "def minl(list):\n",
    "    \"\"\" Return min using size attribute \"\"\"\n",
    "    return min(list, key=lambda x: x.size)\n",
    "\n",
    "def sortl(list, dec=True):\n",
    "    \"\"\" Sort list using size attribute.\n",
    "    Items are sorted by decreasing order if rev = True,\n",
    "    by increasing order otherwise \"\"\"\n",
    "    list.sort(key=lambda x: x.size, reverse=dec)\n",
    "    return list\n",
    "\n",
    "\n",
    "##################  ####################\n",
    "\n",
    "class Instance:\n",
    "    \"\"\" An instance \"\"\"\n",
    "    def __init__(self, items, bins):\n",
    "        self.items = items[:]\n",
    "        self.bins = bins[:]\n",
    "\n",
    "    def __repr__(self):\n",
    "        return \"Items:\\n\"+str(self.items)+\"\\nBins:\\n\"+str(self.bins)\n",
    "\n",
    "    def empty(self):\n",
    "        for i in self.items: i.size = 0\n",
    "        for b in self.bins: b.empty()\n",
    "\n",
    "\n",
    "################## Items ####################\n",
    "\n",
    "class Item:\n",
    "    \"\"\" An item \"\"\"\n",
    "    def __init__(self, requirements):\n",
    "        self.requirements = requirements[:]\n",
    "        self.size = 0\n",
    "\n",
    "    def __repr__(self):\n",
    "        return str(self.requirements)\n",
    "\n",
    "def vp_lower_bound(items, tbin):\n",
    "    \"\"\" Return a lower bound on the minimum number of bins required\n",
    "    assuming that all bins have the same capacities as tbin.\n",
    "    This is a lower bound for the vector packing problem \"\"\"\n",
    "    \n",
    "    \"\"\"\n",
    "    全てのビンがbinと同じ容量を持つと仮定して、必要なビンの最小数の下界を返す\n",
    "    これはベクトルパッキング問題に対する下界である\n",
    "    \"\"\"\n",
    "\n",
    "    if not items: return 0\n",
    "\n",
    "    reqs = [0] * len(tbin.capacities)\n",
    "    for i in items:\n",
    "        reqs = map(operator.add, reqs, i.requirements)\n",
    "\n",
    "    nbins = 0\n",
    "    for w, c in zip(reqs, tbin.capacities):\n",
    "        nb = w / c\n",
    "        if w % c: nb += 1\n",
    "        nbins = max(nbins, nb)\n",
    "\n",
    "    return nbins\n",
    "\n",
    "################## Bins ####################\n",
    "\n",
    "class Bin:\n",
    "    \"\"\" A bin \"\"\"\n",
    "    def __init__(self, capacities):\n",
    "        self.capacities = capacities[:]\n",
    "        self.remaining = capacities[:]\n",
    "        self.items = []\n",
    "        self.size = 0\n",
    "\n",
    "    def __repr__(self):\n",
    "        return str([self.capacities,self.remaining])\n",
    "\n",
    "    def feasible(self, item):\n",
    "        \"\"\" Return True iff item can be packed in this bin \"\"\"\n",
    "        for req, rem in itertools.zip_longest(item.requirements,self.remaining):\n",
    "            if (req > rem):\n",
    "                return False\n",
    "        return True\n",
    "\n",
    "    def insert(self, item):\n",
    "        \"\"\"\n",
    "            Adds item to the bin\n",
    "            Requires: the assignment is feasible\n",
    "        \"\"\"\n",
    "        for i, req in enumerate(item.requirements):\n",
    "            self.remaining[i] -= req\n",
    "        self.items.append(item)\n",
    "\n",
    "    def add(self, item):\n",
    "        \"\"\"\n",
    "            Test feasibility and add item to the bin\n",
    "            Return True if the item has been added, False o.w.\n",
    "        \"\"\"\n",
    "        if self.feasible(item):\n",
    "            self.insert(item)\n",
    "            return True\n",
    "        return False\n",
    "\n",
    "    def empty(self):\n",
    "        \"\"\" Empty the bin \"\"\"\n",
    "        self.items = []\n",
    "        self.remaining = self.capacities[:]"
   ]
  },
  {
   "cell_type": "code",
   "execution_count": null,
   "id": "7c1ff72f-658d-4727-8ec5-2c7c98399f96",
   "metadata": {},
   "outputs": [],
   "source": [
    "def volume(item, bin):\n",
    "    \"\"\" Return a float in [0 ; 1] corresponding to the percentage\n",
    "    of capacity used from the bin \"\"\"\n",
    "    \n",
    "    \"\"\"\n",
    "    ビンで使用された容量のパーセンテージを[0;1]のfloatで返す\n",
    "    \"\"\"\n",
    "    \n",
    "    ll = len(item.requirements) # 残っているアイテムの容量?\n",
    "    sm = 0\n",
    "    for x in zip(item.requirements, bin.capacities):\n",
    "        if x[0] > x[1]: return 2.0; # item cannot be packed # 残っているアイテム容量 > ビンの容量\n",
    "        if x[1]: sm += float(x[0])/x[1] # \n",
    "        else: ll -= 1\n",
    "\n",
    "    return sm/ll"
   ]
  },
  {
   "cell_type": "code",
   "execution_count": 19,
   "id": "ae873bf2-df50-4132-8cf1-22d314cd4e28",
   "metadata": {},
   "outputs": [],
   "source": [
    "import random\n",
    "import itertools\n",
    "\n",
    "\n",
    "################## Constants ####################\n",
    "MAX_NUM_RES = 101\n",
    "MAX_RES = 1000\n",
    "MIN_RES = 10\n",
    "MAX_TRY = 100 # max number of try to generate an item\n",
    "\n",
    "\n",
    "################## Utility functions ####################\n",
    "def volume(item, bin):\n",
    "    \"\"\" Return a float in [0 ; 1] corresponding to the percentage\n",
    "    of capacity used from the bin \"\"\"\n",
    "    \n",
    "    \"\"\"\n",
    "    ビンで使用された容量のパーセンテージを[0;1]のfloatで返す\n",
    "    \"\"\"\n",
    "    \n",
    "    ll = len(item.requirements)\n",
    "    sm = 0\n",
    "    for x in zip(item.requirements, bin.capacities):\n",
    "        if x[0] > x[1]: return 2.0; # item cannot be packed\n",
    "        if x[1]: sm += float(x[0])/x[1]\n",
    "        else: ll -= 1\n",
    "\n",
    "    return sm/ll\n",
    "    #return sum(map(lambda x: float(x[0])/x[1] if x[1] else 1.0,\n",
    "    #        itertools.izip(item.requirements,bin.capacities))) / len(item.requirements)\n",
    "\n",
    "\n",
    "def update(items, item_req, bin, cur_vol):\n",
    "    \"\"\"\n",
    "    items: アイテムの配列\n",
    "    item_req: 1つのアイテム(d次元)\n",
    "    bin: ビンインスタンス\n",
    "    item_vol: \n",
    "    \"\"\"\n",
    "    \n",
    "    if max(item_req) <= 0: return False # アイテムのd次元のサイズが0が最大値ならfalse [0, 0, 0]とか\n",
    "    it = Item(item_req)\n",
    "    if bin.add(it): # ビンにitem追加できるか確認後, 追加してTrueを返す\n",
    "        items.append(it) # アイテム配列にアイテムを追加\n",
    "        # print('update volume', volume(it, bin))\n",
    "        return cur_vol + volume(it,bin) # item_vol + ビンの使用量\n",
    "    return False\n",
    "\n",
    "\n",
    "################## Instances generator ####################\n",
    "\n",
    "def unif_bin(num_resources, min_fill, rem_cons=1.0, proc_rate = 1.0, minr=MIN_RES, maxr=MAX_RES):\n",
    "    \"\"\"\n",
    "    Makes a bin containing non-correlated items and\n",
    "    Either Volume(items) > min_fill or a 0 weighted item was generated\n",
    "    If proc_rate < 1, the last resource is rare :\n",
    "    it is 0 with probability proc_rate\n",
    "    Item capacities are generated in [0,rem_cons*b.remaining]\n",
    "    \"\"\"\n",
    "    \n",
    "    \"\"\"\n",
    "    非相関のアイテムを含むビンを作成し、\n",
    "    Volume(items) > min_fill か, 重さが0のアイテムを生成する.\n",
    "    proc_rate < 1の場合, 最後のリソース(次元)は希少であり、サイズ?はproc_rateの確率で0になる？？\n",
    "    確率(proc_rate)が0の場合? -> アイテム容量は[0, rem_cons*b.remaining]\n",
    "    \"\"\"\n",
    "\n",
    "    mf = min(min_fill, 1-1e-15) # 数値の不安定さを解消するのに役立つ\n",
    "    bin_cap = [random.randint(minr,maxr) for x in range(num_resources)] # d次元個のリスト\n",
    "    if (proc_rate < 1) and (random.random() > proc_rate):\n",
    "        bin_cap[-1] = 0\n",
    "    b = Bin(bin_cap)\n",
    "    item_vol = 0.0\n",
    "    items = []\n",
    "    while item_vol < mf:\n",
    "        # rem_cons -> 0.8??\n",
    "        # ビン容量が80%以下の時[0;0.8*r_k^j]からアイテムサイズを取り出す\n",
    "        it_res = [random.randint(0,int(rem_cons*x)) for x in b.remaining]\n",
    "        item_vol = update(items, it_res, b, item_vol)\n",
    "        # print('item_vol', item_vol)\n",
    "        if not item_vol: break\n",
    "        prev_vol = item_vol\n",
    "    # print('items:', items)\n",
    "    # print('bins:', b)\n",
    "    # print()\n",
    "    return items, b\n",
    "\n",
    "def correlated_capacities(num_resources, min_fill, dev=.05,\n",
    "                          rem_cons=1.0, correlated_items = False, minr=MIN_RES, maxr=MAX_RES):\n",
    "    \"\"\"\n",
    "    Generates a bin. Bin capacities are correlated,\n",
    "    and if correlated_items is True item requirements are correlated\n",
    "    Either Volume(items) > min_fill or a 0 weighted item was generated\n",
    "    base*dev is the standard deviation\n",
    "    Item capacities are generated in [0,rem_cons*b.remaining]\n",
    "    \"\"\"\n",
    "    mf = min(min_fill, 1-1e-15) # helps getting rid of numerical instabilities\n",
    "    base = random.randint(minr,maxr)\n",
    "    mean = base*dev\n",
    "    lbd = 1.0/mean\n",
    "    bin_cap = [max(0,int(round(base+(random.expovariate(lbd)-mean))))\n",
    "               for x in range(num_resources)]\n",
    "    b = Bin(bin_cap)\n",
    "    item_vol = 0.0\n",
    "    items = []\n",
    "    while item_vol < mf:\n",
    "        if correlated_items:\n",
    "            for tr in range(MAX_TRY):\n",
    "                base = random.randint(1,int(rem_cons*min(bin_cap)))\n",
    "                mean = base*dev\n",
    "                lbd = 1.0/mean\n",
    "                it_res = [max(0,int(round(base+(random.expovariate(lbd)-mean))))\n",
    "                      for x in range(num_resources)]\n",
    "                vl = update(items, it_res, b, item_vol)\n",
    "                if vl: break\n",
    "            item_vol = vl\n",
    "        else:\n",
    "            it_res = [random.randint(0,int(rem_cons*x)) for x in b.remaining]\n",
    "            item_vol = update(items, it_res, b, item_vol)\n",
    "        if not item_vol: break\n",
    "\n",
    "    return items, b\n",
    "\n",
    "def similar_items(num_resources, min_fill, base_item, dev=.05, minr=MIN_RES, maxr=MAX_RES):\n",
    "    \"\"\"\n",
    "    Generates a bin. Bin capacities are not correlated.\n",
    "    All items are similar to the given base item\n",
    "    base*dev is the standard deviation\n",
    "    \"\"\"\n",
    "    mf = min(min_fill, 1-1e-15) # helps getting rid of numerical instabilities\n",
    "\n",
    "    base = random.randint(minr,maxr)\n",
    "    mean = base*dev\n",
    "    lbd = 1.0/mean\n",
    "    bin_cap = base_item.requirements[:]\n",
    "    for i,v in enumerate(bin_cap):\n",
    "        base = 5*v\n",
    "        mean = base*dev\n",
    "        lbd = 1.0/mean\n",
    "        bin_cap[i] = max(0,int(round(base+(random.expovariate(lbd)-mean))))\n",
    "\n",
    "    b = Bin(bin_cap)\n",
    "    item_vol = 0.0\n",
    "    items = []\n",
    "    vl = 0\n",
    "    while item_vol < mf:\n",
    "        for tr in range(MAX_TRY):\n",
    "            it_res = base_item.requirements[:]\n",
    "            for i,base in enumerate(it_res):\n",
    "                mean = base*dev\n",
    "                lbd = 1.0/mean\n",
    "                it_res[i] = max(0,int(round(base+(random.expovariate(lbd)-mean))))\n",
    "            vl = update(items, it_res, b, item_vol)\n",
    "            if vl : break\n",
    "        item_vol = vl\n",
    "        if not item_vol: break\n",
    "\n",
    "    return items, b\n",
    "\n",
    "\n",
    "def similar(num_resources, min_fill, dev=.05, minr=MIN_RES, maxr=MAX_RES):\n",
    "    \"\"\"\n",
    "    Generates a bin using a uniform distribution. Bin capacities are not correlated.\n",
    "    This bin contains items with weight ~ cap/5 + exponential perturbation\n",
    "    base*dev is the standard deviation\n",
    "    \"\"\"\n",
    "    mf = min(min_fill, 1-1e-15) # helps getting rid of numerical instabilities\n",
    "    # generates bin\n",
    "    bin_cap = [random.randint(minr,maxr) for x in range(num_resources)]\n",
    "    b = Bin(bin_cap)\n",
    "\n",
    "    item_vol = 0.0\n",
    "    items = []\n",
    "    vl = 0\n",
    "    while item_vol < mf:\n",
    "        for tr in range(MAX_TRY):\n",
    "            it_res = [bc/5. for bc in bin_cap]\n",
    "            for i,base in enumerate(it_res):\n",
    "                mean = base*dev\n",
    "                lbd = 1.0/mean\n",
    "                it_res[i] = max(0,int(round(base+(random.expovariate(lbd)-mean))))\n",
    "            vl = update(items, it_res, b, item_vol)\n",
    "            if vl : break\n",
    "        item_vol = vl\n",
    "        if not item_vol: break\n",
    "\n",
    "    return items, b\n",
    "\n",
    "\n",
    "def generator(num_bins, num_resources, min_fill, bin_generator = unif_bin, seed=-1, **kwargs):\n",
    "    \"\"\"\n",
    "    Generates a non-correlated, uniformly distributed instance,\n",
    "    with num_bins bins and Volume(items) < min_fill * Volume(bin)\n",
    "    for any set of items in a bin.\n",
    "    The instance is guaranteed to be feasible.\n",
    "    \"\"\"\n",
    "    assert 0.0 < min_fill <= 1.0\n",
    "    assert num_resources < MAX_NUM_RES\n",
    "    if seed != -1: random.seed(seed)\n",
    "    items = []\n",
    "    bins = []\n",
    "    for i in range(num_bins):\n",
    "        it, bi = bin_generator(num_resources, min_fill, **kwargs)\n",
    "        # print('it', it)\n",
    "        # print('bi', bi)\n",
    "        items.extend(it) # 末尾に別のリストを追加できる\n",
    "        bins.append(bi) # \n",
    "\n",
    "    random.shuffle(items)\n",
    "    random.shuffle(bins)\n",
    "    return Instance(items, bins)\n"
   ]
  },
  {
   "cell_type": "code",
   "execution_count": 129,
   "id": "373c9df3-d581-45b3-b3c5-5fa46a03b9c2",
   "metadata": {},
   "outputs": [
    {
     "name": "stdout",
     "output_type": "stream",
     "text": [
      "before_b [[744, 900, 705], [744, 900, 705]]\n",
      "items [[147, 381, 684], [240, 80, 20], [29, 388, 1]]\n",
      "after_b [[744, 900, 705], [328, 51, 0]]\n",
      "([[147, 381, 684], [240, 80, 20], [29, 388, 1]], [[744, 900, 705], [328, 51, 0]])\n"
     ]
    }
   ],
   "source": [
    "MAX_NUM_RES = 101\n",
    "MAX_RES = 1000\n",
    "MIN_RES = 10\n",
    "print(unif_bin(3, .8))"
   ]
  },
  {
   "cell_type": "code",
   "execution_count": 6,
   "id": "673f7000-c380-4e0c-bc48-0f5508a843cc",
   "metadata": {},
   "outputs": [
    {
     "data": {
      "text/plain": [
       "286"
      ]
     },
     "execution_count": 6,
     "metadata": {},
     "output_type": "execute_result"
    }
   ],
   "source": [
    "len(iss1.items)"
   ]
  },
  {
   "cell_type": "code",
   "execution_count": 21,
   "id": "d80431ef-de85-4bfa-af73-6b22b421463d",
   "metadata": {},
   "outputs": [],
   "source": [
    "# binの数によって数がアイテムの数が変化する\n",
    "iss1 = generator(num_bins=100, num_resources=3, min_fill=.8, bin_generator = unif_bin, seed=123)\n",
    "# iss1.bins #(0: bin容量, 1: 残り容量)\n",
    "# iss1.items"
   ]
  },
  {
   "cell_type": "code",
   "execution_count": null,
   "id": "23e45db2-8f7b-424c-a46f-bcb20251f13a",
   "metadata": {},
   "outputs": [],
   "source": [
    "# \n",
    "benchmark(instance_type='unif',min_fill=.8,rem_cons=.8)\n",
    "benchmark(instance_type='unif-rare',min_fill=.8,rem_cons=.8,rt=.25)\n",
    "benchmark(instance_type='correlated',min_fill=.8,rem_cons=.8,dev=.1)\n",
    "benchmark(instance_type='correlated',min_fill=.8,rem_cons=.8,dev=.1,correlated_items=True)\n",
    "benchmark(instance_type='similar',min_fill=.7,dev=.2)"
   ]
  },
  {
   "cell_type": "code",
   "execution_count": 103,
   "id": "8a3026ff-36f4-474c-9527-11dc036d5d8d",
   "metadata": {},
   "outputs": [
    {
     "name": "stdout",
     "output_type": "stream",
     "text": [
      "[[638.05694897 850.93747614 727.21077161]\n",
      " [614.91327557 725.21894874 329.72932471]\n",
      " [368.17076907 235.98059857 300.77690592]]\n"
     ]
    }
   ],
   "source": [
    "d = 3\n",
    "U = 3\n",
    "blb = 10\n",
    "bub = 1000\n",
    "B0 = np.random.uniform(blb,bub, (U,d))\n",
    "print(B0)"
   ]
  },
  {
   "cell_type": "code",
   "execution_count": 168,
   "id": "de6e0978-db2c-4819-a275-7bcd2e6794b7",
   "metadata": {},
   "outputs": [
    {
     "name": "stdout",
     "output_type": "stream",
     "text": [
      "[[  5   0  98]\n",
      " [124  23  29]\n",
      " [ 11  51  18]]\n"
     ]
    },
    {
     "data": {
      "text/plain": [
       "(3, 3)"
      ]
     },
     "execution_count": 168,
     "metadata": {},
     "output_type": "execute_result"
    }
   ],
   "source": [
    "b0 = np.array([ bin.remaining for bin in iss1.bins])\n",
    "print(b0)\n",
    "b0.shape"
   ]
  },
  {
   "cell_type": "code",
   "execution_count": 160,
   "id": "ba473e47-ac38-4a68-8d98-c5bca4995079",
   "metadata": {},
   "outputs": [
    {
     "data": {
      "text/plain": [
       "[[4, 0, 74],\n",
       " [22, 76, 24],\n",
       " [57, 3, 22],\n",
       " [0, 97, 68],\n",
       " [345, 170, 125],\n",
       " [13, 3, 67],\n",
       " [53, 81, 69],\n",
       " [41, 0, 111],\n",
       " [52, 136, 13],\n",
       " [2, 10, 72]]"
      ]
     },
     "execution_count": 160,
     "metadata": {},
     "output_type": "execute_result"
    }
   ],
   "source": [
    "iss1.items"
   ]
  },
  {
   "cell_type": "code",
   "execution_count": 162,
   "id": "281adcac-1a12-4b1d-aad1-dab57d8cf3d3",
   "metadata": {},
   "outputs": [
    {
     "name": "stdout",
     "output_type": "stream",
     "text": [
      "[5, 0, 98]\n",
      "[124, 23, 29]\n",
      "[11, 51, 18]\n"
     ]
    }
   ],
   "source": [
    "for bin in iss1.bins:\n",
    "    print(bin.remaining)"
   ]
  },
  {
   "cell_type": "code",
   "execution_count": 184,
   "id": "f03e0259-c443-4fb1-9edf-f79b41f4aa81",
   "metadata": {},
   "outputs": [
    {
     "data": {
      "text/plain": [
       "(10, 3)"
      ]
     },
     "execution_count": 184,
     "metadata": {},
     "output_type": "execute_result"
    }
   ],
   "source": [
    "w0 = np.array([ item.requirements for item in iss1.items ])\n",
    "# print(w0.\n",
    "w0.shape"
   ]
  },
  {
   "cell_type": "code",
   "execution_count": 182,
   "id": "d9a1792a-1095-4f3a-9de1-a87148453253",
   "metadata": {},
   "outputs": [
    {
     "data": {
      "text/plain": [
       "[list, list, list, list, list, list, list, list, list, list]"
      ]
     },
     "execution_count": 182,
     "metadata": {},
     "output_type": "execute_result"
    }
   ],
   "source": [
    "[ type(item.requirements) for item in iss1.items ]"
   ]
  },
  {
   "cell_type": "code",
   "execution_count": 180,
   "id": "d896df94-d69c-4bdd-9d39-78ac421ae825",
   "metadata": {},
   "outputs": [
    {
     "data": {
      "text/plain": [
       "__main__.Item"
      ]
     },
     "execution_count": 180,
     "metadata": {},
     "output_type": "execute_result"
    }
   ],
   "source": [
    "type(iss1.items[0])"
   ]
  },
  {
   "cell_type": "code",
   "execution_count": 185,
   "id": "e0543a06-ee2c-4681-9032-491de9895e5d",
   "metadata": {},
   "outputs": [
    {
     "ename": "AttributeError",
     "evalue": "'list' object has no attribute 'requirements'",
     "output_type": "error",
     "traceback": [
      "\u001b[0;31m---------------------------------------------------------------------------\u001b[0m",
      "\u001b[0;31mAttributeError\u001b[0m                            Traceback (most recent call last)",
      "\u001b[0;32m/tmp/ipykernel_53/1602244304.py\u001b[0m in \u001b[0;36m<module>\u001b[0;34m\u001b[0m\n\u001b[0;32m----> 1\u001b[0;31m \u001b[0miss1\u001b[0m\u001b[0;34m.\u001b[0m\u001b[0mitems\u001b[0m\u001b[0;34m.\u001b[0m\u001b[0mrequirements\u001b[0m\u001b[0;34m\u001b[0m\u001b[0;34m\u001b[0m\u001b[0m\n\u001b[0m",
      "\u001b[0;31mAttributeError\u001b[0m: 'list' object has no attribute 'requirements'"
     ]
    }
   ],
   "source": [
    "iss1.items.requirements"
   ]
  },
  {
   "cell_type": "code",
   "execution_count": 161,
   "id": "32f7445f-31a4-42a4-af0f-f37e19bfc790",
   "metadata": {},
   "outputs": [
    {
     "name": "stdout",
     "output_type": "stream",
     "text": [
      "[4, 0, 74]\n",
      "[22, 76, 24]\n",
      "[57, 3, 22]\n",
      "[0, 97, 68]\n",
      "[345, 170, 125]\n",
      "[13, 3, 67]\n",
      "[53, 81, 69]\n",
      "[41, 0, 111]\n",
      "[52, 136, 13]\n",
      "[2, 10, 72]\n"
     ]
    }
   ],
   "source": [
    "for im in iss1.items:\n",
    "    print(im)"
   ]
  },
  {
   "cell_type": "code",
   "execution_count": 142,
   "id": "74906d73-76da-4139-866f-0deca70f29d5",
   "metadata": {},
   "outputs": [
    {
     "name": "stdout",
     "output_type": "stream",
     "text": [
      "[5, 0, 98]\n",
      "[124, 23, 29]\n",
      "[11, 51, 18]\n"
     ]
    }
   ],
   "source": [
    "for x in iss1.bins:\n",
    "    print(x.remaining)"
   ]
  },
  {
   "cell_type": "code",
   "execution_count": 76,
   "id": "76f4cf62-9aee-4342-99eb-566ff19d761e",
   "metadata": {},
   "outputs": [
    {
     "ename": "SyntaxError",
     "evalue": "invalid syntax (4293080492.py, line 8)",
     "output_type": "error",
     "traceback": [
      "\u001b[0;36m  File \u001b[0;32m\"/tmp/ipykernel_53/4293080492.py\"\u001b[0;36m, line \u001b[0;32m8\u001b[0m\n\u001b[0;31m    iss1 = generator(num_bins=3, num_resources=3, min_fill=.8, bin_generator = unif_bin, seed=123, rem_cons=, proc_rate=1)\u001b[0m\n\u001b[0m                                                                                                            ^\u001b[0m\n\u001b[0;31mSyntaxError\u001b[0m\u001b[0;31m:\u001b[0m invalid syntax\n"
     ]
    }
   ],
   "source": [
    "\"\"\"\n",
    "b = num_bins\n",
    "r = num_res(次元)\n",
    "\"\"\"\n",
    "\n",
    "\n",
    "# instance_type = unif\n",
    "iss1 = generator(num_bins=3, num_resources=3, min_fill=.8, bin_generator = unif_bin, seed=123, rem_cons=, proc_rate=1)\n",
    "# instance_type = unif-rare\n",
    "iss2 = generator(num_bins=3, num_resources=3, min_fill=.8, bin_generator = unif_bin, seed=123, rem_cons=, proc_rate=.25)\n",
    "# instance_type = correlatrd1\n",
    "# correlated_capacities -> 関数名\n",
    "iss3 = generator(num_bins, num_resources, min_fill=.8,\n",
    "                    correlated_capacities, seed=123, rem_cons=8, dev=.1,\n",
    "                    correlated_items = False)\n",
    "# instance_type = correlatrd2\n",
    "iss4 = generator(num_bins, num_resources, min_fill=.8,\n",
    "                    correlated_capacities, seed=123, rem_cons=8, dev=.1,\n",
    "                    correlated_items = True)\n",
    "# instance_type = similar\n",
    "iss5 = generator(num_bins, num_resources, min_fill=.8,\n",
    "                   similar, seed=123, dev=.2)"
   ]
  },
  {
   "cell_type": "code",
   "execution_count": 208,
   "id": "0b9cbe29-ce3b-4dd8-824c-0493812a15ae",
   "metadata": {},
   "outputs": [
    {
     "name": "stdout",
     "output_type": "stream",
     "text": [
      "Processing 25.0% Done\n",
      "Processing 50.0% Done\n",
      "Processing 75.0% Done\n",
      "([0.0, 0.01, 0.02, 0.03, 0.04, 0.05, 0.06, 0.07, 0.08, 0.09, 0.1, 0.11, 0.12, 0.13, 0.14, 0.15, 0.16, 0.17, 0.18, 0.19, 0.2, 0.21, 0.22, 0.23, 0.24, 0.25, 0.26, 0.27, 0.28, 0.29, 0.3, 0.31, 0.32, 0.33, 0.34, 0.35000000000000003, 0.36, 0.37, 0.38, 0.39, 0.4, 0.41000000000000003, 0.42, 0.43, 0.44, 0.45, 0.46, 0.47000000000000003, 0.48, 0.49, 0.5, 0.51, 0.52, 0.53, 0.54, 0.55, 0.56, 0.5700000000000001, 0.58, 0.59, 0.6, 0.61, 0.62, 0.63, 0.64, 0.65, 0.66, 0.67, 0.68, 0.6900000000000001, 0.7000000000000001, 0.71, 0.72, 0.73, 0.74, 0.75, 0.76, 0.77, 0.78, 0.79, 0.8, 0.81, 0.8200000000000001, 0.8300000000000001, 0.84, 0.85, 0.86, 0.87, 0.88, 0.89, 0.9, 0.91, 0.92, 0.93, 0.9400000000000001, 0.9500000000000001, 0.96, 0.97, 0.98, 0.99, 1.0, 1.01, 1.02, 1.03, 1.04, 1.05, 1.06, 1.07, 1.08, 1.09, 1.1, 1.11, 1.12, 1.1300000000000001, 1.1400000000000001, 1.1500000000000001, 1.16, 1.17, 1.18, 1.19, 1.2, 1.21, 1.22, 1.23, 1.24, 1.25, 1.26, 1.27, 1.28, 1.29, 1.3, 1.31, 1.32, 1.33, 1.34, 1.35, 1.36, 1.37, 1.3800000000000001, 1.3900000000000001, 1.4000000000000001, 1.41, 1.42, 1.43, 1.44, 1.45, 1.46, 1.47, 1.48, 1.49, 1.5, 1.51, 1.52, 1.53, 1.54, 1.55, 1.56, 1.57, 1.58, 1.59, 1.6, 1.61, 1.62, 1.6300000000000001, 1.6400000000000001, 1.6500000000000001, 1.6600000000000001, 1.67, 1.68, 1.69, 1.7, 1.71, 1.72, 1.73, 1.74, 1.75, 1.76, 1.77, 1.78, 1.79, 1.8, 1.81, 1.82, 1.83, 1.84, 1.85, 1.86, 1.87, 1.8800000000000001, 1.8900000000000001, 1.9000000000000001, 1.9100000000000001, 1.92, 1.93, 1.94, 1.95, 1.96, 1.97, 1.98, 1.99], [28, 28, 28, 28, 28, 28, 28, 28, 28, 28, 28, 28, 28, 28, 28, 28, 28, 28, 28, 28, 28, 27, 27, 27, 27, 27, 27, 27, 27, 27, 27, 27, 27, 27, 27, 27, 27, 27, 27, 27, 27, 27, 27, 27, 27, 27, 27, 27, 27, 27, 27, 27, 27, 27, 27, 27, 27, 27, 27, 27, 27, 27, 27, 27, 27, 27, 27, 27, 27, 27, 27, 27, 27, 27, 27, 27, 27, 27, 27, 27, 27, 27, 27, 27, 27, 27, 27, 27, 27, 27, 27, 27, 27, 27, 27, 27, 27, 27, 27, 27, 27, 27, 27, 27, 27, 27, 27, 27, 27, 27, 27, 27, 27, 27, 27, 27, 27, 27, 27, 27, 27, 27, 27, 27, 27, 27, 27, 27, 27, 27, 27, 27, 27, 27, 27, 27, 27, 27, 27, 27, 27, 27, 27, 27, 27, 27, 27, 27, 27, 27, 27, 27, 27, 27, 27, 27, 27, 27, 27, 27, 27, 27, 27, 27, 27, 27, 27, 27, 27, 27, 27, 27, 27, 27, 27, 27, 27, 27, 27, 27, 27, 27, 27, 27, 27, 27, 27, 27, 27, 27, 27, 27, 27, 27, 27, 27, 27, 27, 27, 27], [12317, 12317, 12317, 12317, 12317, 12317, 12317, 12317, 12317, 12317, 12317, 12317, 12317, 12317, 12317, 12317, 12317, 12317, 12317, 12317, 12317, 12216, 12216, 12216, 12216, 12216, 12216, 12216, 12216, 12216, 12216, 12216, 12216, 12216, 12216, 12216, 12216, 12216, 12216, 12216, 12216, 12216, 12216, 12216, 12216, 12216, 12216, 12216, 12216, 12216, 12216, 12216, 12216, 12216, 12216, 12216, 12216, 12216, 12216, 12216, 12216, 12216, 12216, 12216, 12216, 12216, 12216, 12216, 12216, 12216, 12216, 12216, 12216, 12216, 12216, 12216, 12216, 12216, 12216, 12216, 12216, 12216, 12216, 12216, 12216, 12216, 12216, 12216, 12216, 12216, 12216, 12216, 12216, 12216, 12216, 12216, 12216, 12216, 12216, 12216, 12216, 12216, 12216, 12216, 12216, 12216, 12216, 12216, 12216, 12216, 12216, 12216, 12216, 12216, 12216, 12216, 12216, 12216, 12216, 12216, 12216, 12216, 12216, 12216, 12216, 12216, 12216, 12216, 12216, 12216, 12216, 12216, 12216, 12216, 12216, 12216, 12216, 12216, 12216, 12216, 12216, 12216, 12216, 12216, 12216, 12216, 12216, 12216, 12216, 12216, 12216, 12216, 12216, 12216, 12216, 12216, 12216, 12216, 12216, 12216, 12216, 12216, 12216, 12216, 12216, 12216, 12216, 12216, 12216, 12216, 12216, 12216, 12216, 12216, 12216, 12216, 12216, 12216, 12216, 12216, 12216, 12216, 12216, 12216, 12216, 12216, 12216, 12216, 12216, 12216, 12216, 12216, 12216, 12216, 12216, 12216, 12216, 12216, 12216, 12216])\n",
      "Processing 25.0% Done\n",
      "Processing 50.0% Done\n",
      "Processing 75.0% Done\n",
      "([0.0, 0.01, 0.02, 0.03, 0.04, 0.05, 0.06, 0.07, 0.08, 0.09, 0.1, 0.11, 0.12, 0.13, 0.14, 0.15, 0.16, 0.17, 0.18, 0.19, 0.2, 0.21, 0.22, 0.23, 0.24, 0.25, 0.26, 0.27, 0.28, 0.29, 0.3, 0.31, 0.32, 0.33, 0.34, 0.35000000000000003, 0.36, 0.37, 0.38, 0.39, 0.4, 0.41000000000000003, 0.42, 0.43, 0.44, 0.45, 0.46, 0.47000000000000003, 0.48, 0.49, 0.5, 0.51, 0.52, 0.53, 0.54, 0.55, 0.56, 0.5700000000000001, 0.58, 0.59, 0.6, 0.61, 0.62, 0.63, 0.64, 0.65, 0.66, 0.67, 0.68, 0.6900000000000001, 0.7000000000000001, 0.71, 0.72, 0.73, 0.74, 0.75, 0.76, 0.77, 0.78, 0.79, 0.8, 0.81, 0.8200000000000001, 0.8300000000000001, 0.84, 0.85, 0.86, 0.87, 0.88, 0.89, 0.9, 0.91, 0.92, 0.93, 0.9400000000000001, 0.9500000000000001, 0.96, 0.97, 0.98, 0.99, 1.0, 1.01, 1.02, 1.03, 1.04, 1.05, 1.06, 1.07, 1.08, 1.09, 1.1, 1.11, 1.12, 1.1300000000000001, 1.1400000000000001, 1.1500000000000001, 1.16, 1.17, 1.18, 1.19, 1.2, 1.21, 1.22, 1.23, 1.24, 1.25, 1.26, 1.27, 1.28, 1.29, 1.3, 1.31, 1.32, 1.33, 1.34, 1.35, 1.36, 1.37, 1.3800000000000001, 1.3900000000000001, 1.4000000000000001, 1.41, 1.42, 1.43, 1.44, 1.45, 1.46, 1.47, 1.48, 1.49, 1.5, 1.51, 1.52, 1.53, 1.54, 1.55, 1.56, 1.57, 1.58, 1.59, 1.6, 1.61, 1.62, 1.6300000000000001, 1.6400000000000001, 1.6500000000000001, 1.6600000000000001, 1.67, 1.68, 1.69, 1.7, 1.71, 1.72, 1.73, 1.74, 1.75, 1.76, 1.77, 1.78, 1.79, 1.8, 1.81, 1.82, 1.83, 1.84, 1.85, 1.86, 1.87, 1.8800000000000001, 1.8900000000000001, 1.9000000000000001, 1.9100000000000001, 1.92, 1.93, 1.94, 1.95, 1.96, 1.97, 1.98, 1.99], [28, 28, 28, 28, 28, 27, 27, 27, 27, 27, 27, 27, 27, 27, 27, 27, 27, 27, 27, 27, 27, 27, 27, 27, 27, 27, 27, 27, 27, 27, 27, 27, 27, 27, 27, 27, 27, 27, 27, 27, 27, 27, 27, 27, 27, 27, 27, 27, 27, 27, 27, 27, 27, 27, 27, 27, 27, 27, 27, 27, 27, 27, 27, 27, 27, 27, 28, 28, 28, 28, 28, 28, 28, 28, 28, 28, 28, 28, 28, 28, 28, 28, 28, 28, 28, 28, 28, 28, 28, 28, 28, 28, 28, 28, 28, 28, 28, 28, 28, 28, 28, 28, 28, 28, 28, 28, 28, 28, 28, 28, 28, 28, 28, 28, 28, 28, 28, 28, 28, 28, 28, 28, 28, 28, 28, 28, 28, 28, 28, 28, 28, 28, 28, 28, 28, 28, 28, 28, 28, 28, 28, 28, 28, 28, 28, 28, 28, 28, 28, 28, 28, 28, 28, 28, 28, 28, 28, 28, 28, 28, 28, 28, 28, 28, 28, 28, 28, 28, 28, 28, 28, 28, 28, 28, 28, 28, 28, 28, 28, 28, 28, 28, 28, 28, 28, 28, 28, 28, 28, 28, 28, 28, 28, 28, 28, 28, 28, 28, 28, 28], [8374, 8374, 8374, 8374, 8374, 8310, 8310, 8310, 8310, 8310, 8310, 8310, 8310, 8310, 8310, 8310, 8310, 8310, 8310, 8310, 8310, 8310, 8310, 8310, 8310, 8310, 8310, 8310, 8310, 8310, 8310, 8310, 8310, 8310, 8310, 8310, 8310, 8310, 8310, 8310, 8310, 8310, 8310, 8310, 8310, 8310, 8310, 8310, 8310, 8310, 8310, 8310, 8310, 8310, 8310, 8310, 8310, 8310, 8310, 8310, 8310, 8310, 8310, 8310, 8310, 8310, 8395, 8395, 8395, 8395, 8395, 8395, 8395, 8395, 8395, 8395, 8395, 8395, 8395, 8395, 8395, 8395, 8395, 8395, 8395, 8395, 8395, 8395, 8395, 8395, 8395, 8395, 8395, 8395, 8395, 8395, 8395, 8395, 8395, 8395, 8395, 8395, 8395, 8395, 8395, 8395, 8395, 8395, 8395, 8395, 8395, 8395, 8395, 8395, 8395, 8395, 8395, 8395, 8395, 8395, 8395, 8395, 8395, 8395, 8395, 8395, 8395, 8395, 8395, 8395, 8395, 8395, 8395, 8395, 8395, 8395, 8395, 8395, 8395, 8395, 8395, 8395, 8395, 8395, 8395, 8395, 8395, 8395, 8395, 8395, 8395, 8395, 8395, 8395, 8395, 8395, 8395, 8395, 8395, 8395, 8395, 8395, 8395, 8395, 8395, 8395, 8395, 8395, 8395, 8395, 8395, 8395, 8395, 8395, 8395, 8395, 8395, 8395, 8395, 8395, 8395, 8395, 8395, 8395, 8395, 8395, 8395, 8395, 8395, 8395, 8395, 8395, 8395, 8395, 8395, 8395, 8395, 8395, 8395, 8395])\n"
     ]
    },
    {
     "ename": "NameError",
     "evalue": "name 'xrange' is not defined",
     "output_type": "error",
     "traceback": [
      "\u001b[0;31m---------------------------------------------------------------------------\u001b[0m",
      "\u001b[0;31mNameError\u001b[0m                                 Traceback (most recent call last)",
      "\u001b[0;32m/tmp/ipykernel_53/424134401.py\u001b[0m in \u001b[0;36m<module>\u001b[0;34m\u001b[0m\n\u001b[1;32m      1\u001b[0m \u001b[0mins_types\u001b[0m \u001b[0;34m=\u001b[0m \u001b[0;34m[\u001b[0m\u001b[0;34m'unif'\u001b[0m\u001b[0;34m,\u001b[0m \u001b[0;34m'rare'\u001b[0m\u001b[0;34m,\u001b[0m \u001b[0;34m'correlatrd1'\u001b[0m\u001b[0;34m,\u001b[0m \u001b[0;34m'correlatrd2'\u001b[0m\u001b[0;34m,\u001b[0m \u001b[0;34m'similar'\u001b[0m\u001b[0;34m]\u001b[0m\u001b[0;34m\u001b[0m\u001b[0;34m\u001b[0m\u001b[0m\n\u001b[1;32m      2\u001b[0m \u001b[0;32mfor\u001b[0m \u001b[0mtpe\u001b[0m \u001b[0;32min\u001b[0m \u001b[0mins_types\u001b[0m\u001b[0;34m:\u001b[0m\u001b[0;34m\u001b[0m\u001b[0;34m\u001b[0m\u001b[0m\n\u001b[0;32m----> 3\u001b[0;31m     \u001b[0mprint\u001b[0m\u001b[0;34m(\u001b[0m\u001b[0mtest_bdf\u001b[0m\u001b[0;34m(\u001b[0m\u001b[0;36m3\u001b[0m\u001b[0;34m,\u001b[0m \u001b[0;36m10\u001b[0m\u001b[0;34m,\u001b[0m \u001b[0mins_type\u001b[0m\u001b[0;34m=\u001b[0m\u001b[0mtpe\u001b[0m\u001b[0;34m)\u001b[0m\u001b[0;34m)\u001b[0m\u001b[0;34m\u001b[0m\u001b[0;34m\u001b[0m\u001b[0m\n\u001b[0m",
      "\u001b[0;32m/tmp/ipykernel_53/3218853564.py\u001b[0m in \u001b[0;36mtest_bdf\u001b[0;34m(d, U, ins_type)\u001b[0m\n\u001b[1;32m     11\u001b[0m         \u001b[0miss\u001b[0m \u001b[0;34m=\u001b[0m \u001b[0mgenerator\u001b[0m\u001b[0;34m(\u001b[0m\u001b[0mnum_bins\u001b[0m\u001b[0;34m=\u001b[0m\u001b[0mU\u001b[0m\u001b[0;34m,\u001b[0m \u001b[0mnum_resources\u001b[0m\u001b[0;34m=\u001b[0m\u001b[0md\u001b[0m\u001b[0;34m,\u001b[0m \u001b[0mmin_fill\u001b[0m\u001b[0;34m=\u001b[0m\u001b[0;36m.8\u001b[0m\u001b[0;34m,\u001b[0m \u001b[0mbin_generator\u001b[0m \u001b[0;34m=\u001b[0m \u001b[0munif_bin\u001b[0m\u001b[0;34m,\u001b[0m \u001b[0mseed\u001b[0m\u001b[0;34m=\u001b[0m\u001b[0;36m123\u001b[0m\u001b[0;34m,\u001b[0m \u001b[0mrem_cons\u001b[0m\u001b[0;34m=\u001b[0m\u001b[0;36m.8\u001b[0m\u001b[0;34m,\u001b[0m \u001b[0mproc_rate\u001b[0m\u001b[0;34m=\u001b[0m\u001b[0;36m.25\u001b[0m\u001b[0;34m)\u001b[0m\u001b[0;34m\u001b[0m\u001b[0;34m\u001b[0m\u001b[0m\n\u001b[1;32m     12\u001b[0m     \u001b[0;32melif\u001b[0m \u001b[0mins_type\u001b[0m \u001b[0;34m==\u001b[0m \u001b[0;34m'correlatrd1'\u001b[0m\u001b[0;34m:\u001b[0m\u001b[0;34m\u001b[0m\u001b[0;34m\u001b[0m\u001b[0m\n\u001b[0;32m---> 13\u001b[0;31m         \u001b[0miss\u001b[0m \u001b[0;34m=\u001b[0m \u001b[0mgenerator\u001b[0m\u001b[0;34m(\u001b[0m\u001b[0mU\u001b[0m\u001b[0;34m,\u001b[0m \u001b[0md\u001b[0m\u001b[0;34m,\u001b[0m \u001b[0mmin_fill\u001b[0m\u001b[0;34m=\u001b[0m\u001b[0;36m.8\u001b[0m\u001b[0;34m,\u001b[0m \u001b[0mbin_generator\u001b[0m \u001b[0;34m=\u001b[0m \u001b[0mcorrelated_capacities\u001b[0m\u001b[0;34m,\u001b[0m \u001b[0mseed\u001b[0m\u001b[0;34m=\u001b[0m\u001b[0;36m123\u001b[0m\u001b[0;34m,\u001b[0m \u001b[0mrem_cons\u001b[0m\u001b[0;34m=\u001b[0m\u001b[0;36m.8\u001b[0m\u001b[0;34m,\u001b[0m \u001b[0mdev\u001b[0m\u001b[0;34m=\u001b[0m\u001b[0;36m.1\u001b[0m\u001b[0;34m,\u001b[0m \u001b[0mcorrelated_items\u001b[0m \u001b[0;34m=\u001b[0m \u001b[0;32mFalse\u001b[0m\u001b[0;34m)\u001b[0m\u001b[0;34m\u001b[0m\u001b[0;34m\u001b[0m\u001b[0m\n\u001b[0m\u001b[1;32m     14\u001b[0m     \u001b[0;32melif\u001b[0m \u001b[0mins_type\u001b[0m \u001b[0;34m==\u001b[0m \u001b[0;34m'correlatrd2'\u001b[0m\u001b[0;34m:\u001b[0m\u001b[0;34m\u001b[0m\u001b[0;34m\u001b[0m\u001b[0m\n\u001b[1;32m     15\u001b[0m         iss = generator(U, d, min_fill=.8,\n",
      "\u001b[0;32m/tmp/ipykernel_53/2199601940.py\u001b[0m in \u001b[0;36mgenerator\u001b[0;34m(num_bins, num_resources, min_fill, bin_generator, seed, **kwargs)\u001b[0m\n\u001b[1;32m    175\u001b[0m     \u001b[0mbins\u001b[0m \u001b[0;34m=\u001b[0m \u001b[0;34m[\u001b[0m\u001b[0;34m]\u001b[0m\u001b[0;34m\u001b[0m\u001b[0;34m\u001b[0m\u001b[0m\n\u001b[1;32m    176\u001b[0m     \u001b[0;32mfor\u001b[0m \u001b[0mi\u001b[0m \u001b[0;32min\u001b[0m \u001b[0mrange\u001b[0m\u001b[0;34m(\u001b[0m\u001b[0mnum_bins\u001b[0m\u001b[0;34m)\u001b[0m\u001b[0;34m:\u001b[0m\u001b[0;34m\u001b[0m\u001b[0;34m\u001b[0m\u001b[0m\n\u001b[0;32m--> 177\u001b[0;31m         \u001b[0mit\u001b[0m\u001b[0;34m,\u001b[0m \u001b[0mbi\u001b[0m \u001b[0;34m=\u001b[0m \u001b[0mbin_generator\u001b[0m\u001b[0;34m(\u001b[0m\u001b[0mnum_resources\u001b[0m\u001b[0;34m,\u001b[0m \u001b[0mmin_fill\u001b[0m\u001b[0;34m,\u001b[0m \u001b[0;34m**\u001b[0m\u001b[0mkwargs\u001b[0m\u001b[0;34m)\u001b[0m\u001b[0;34m\u001b[0m\u001b[0;34m\u001b[0m\u001b[0m\n\u001b[0m\u001b[1;32m    178\u001b[0m         \u001b[0mitems\u001b[0m\u001b[0;34m.\u001b[0m\u001b[0mextend\u001b[0m\u001b[0;34m(\u001b[0m\u001b[0mit\u001b[0m\u001b[0;34m)\u001b[0m\u001b[0;34m\u001b[0m\u001b[0;34m\u001b[0m\u001b[0m\n\u001b[1;32m    179\u001b[0m         \u001b[0mbins\u001b[0m\u001b[0;34m.\u001b[0m\u001b[0mappend\u001b[0m\u001b[0;34m(\u001b[0m\u001b[0mbi\u001b[0m\u001b[0;34m)\u001b[0m\u001b[0;34m\u001b[0m\u001b[0;34m\u001b[0m\u001b[0m\n",
      "\u001b[0;32m/tmp/ipykernel_53/2199601940.py\u001b[0m in \u001b[0;36mcorrelated_capacities\u001b[0;34m(num_resources, min_fill, dev, rem_cons, correlated_items, minr, maxr)\u001b[0m\n\u001b[1;32m     74\u001b[0m     \u001b[0mlbd\u001b[0m \u001b[0;34m=\u001b[0m \u001b[0;36m1.0\u001b[0m\u001b[0;34m/\u001b[0m\u001b[0mmean\u001b[0m\u001b[0;34m\u001b[0m\u001b[0;34m\u001b[0m\u001b[0m\n\u001b[1;32m     75\u001b[0m     bin_cap = [max(0,int(round(base+(random.expovariate(lbd)-mean))))\n\u001b[0;32m---> 76\u001b[0;31m                for x in xrange(num_resources)]\n\u001b[0m\u001b[1;32m     77\u001b[0m     \u001b[0mb\u001b[0m \u001b[0;34m=\u001b[0m \u001b[0mBin\u001b[0m\u001b[0;34m(\u001b[0m\u001b[0mbin_cap\u001b[0m\u001b[0;34m)\u001b[0m\u001b[0;34m\u001b[0m\u001b[0;34m\u001b[0m\u001b[0m\n\u001b[1;32m     78\u001b[0m     \u001b[0mitem_vol\u001b[0m \u001b[0;34m=\u001b[0m \u001b[0;36m0.0\u001b[0m\u001b[0;34m\u001b[0m\u001b[0;34m\u001b[0m\u001b[0m\n",
      "\u001b[0;31mNameError\u001b[0m: name 'xrange' is not defined"
     ]
    }
   ],
   "source": [
    "ins_types = ['unif', 'rare', 'correlatrd1', 'correlatrd2', 'similar']\n",
    "for tpe in ins_types:\n",
    "    print(test_bdf(3, 10, ins_type=tpe))"
   ]
  },
  {
   "cell_type": "code",
   "execution_count": 39,
   "id": "5096d551-890b-42d1-b559-babfd10905fb",
   "metadata": {},
   "outputs": [
    {
     "data": {
      "text/plain": [
       "Items:\n",
       "[[306, 91, 58], [13, 91, 33], [41, 473, 265], [44, 73, 39], [113, 38, 11], [239, 131, 120], [180, 18, 112], [221, 24, 204], [9, 2, 149], [169, 183, 86], [31, 34, 97], [501, 102, 53], [64, 45, 177], [23, 87, 242], [55, 20, 95], [86, 18, 256], [90, 104, 37], [51, 51, 1], [1, 217, 3], [63, 24, 60], [50, 115, 25], [480, 323, 51], [158, 1, 24], [24, 135, 10], [73, 75, 44], [344, 26, 103], [106, 35, 81], [108, 155, 236], [429, 41, 217], [243, 3, 16], [10, 366, 67], [101, 310, 118], [154, 622, 418], [263, 139, 206], [102, 3, 26], [11, 64, 46], [10, 137, 35], [156, 301, 13], [439, 185, 190], [42, 34, 33]]\n",
       "Bins:\n",
       "[[[799, 521, 827], [799, 521, 827]], [[727, 561, 101], [727, 561, 101]], [[423, 399, 214], [423, 399, 214]], [[976, 525, 686], [976, 525, 686]], [[862, 58, 355], [862, 58, 355]], [[703, 803, 99], [703, 803, 99]], [[766, 894, 745], [766, 894, 745]], [[392, 852, 407], [392, 852, 407]], [[665, 226, 463], [665, 226, 463]], [[381, 965, 557], [381, 965, 557]]]"
      ]
     },
     "execution_count": 39,
     "metadata": {},
     "output_type": "execute_result"
    }
   ],
   "source": [
    "inst"
   ]
  },
  {
   "cell_type": "code",
   "execution_count": 43,
   "id": "2b98d4bf-e8ea-490b-824e-ea0e8a1a6f9c",
   "metadata": {},
   "outputs": [
    {
     "data": {
      "text/plain": [
       "'self.items: [[306, 91, 58], [13, 91, 33], [41, 473, 265], [44, 73, 39], [113, 38, 11], [239, 131, 120], [180, 18, 112], [221, 24, 204], [9, 2, 149], [169, 183, 86], [31, 34, 97], [501, 102, 53], [64, 45, 177], [23, 87, 242], [55, 20, 95], [86, 18, 256], [90, 104, 37], [51, 51, 1], [1, 217, 3], [63, 24, 60], [50, 115, 25], [480, 323, 51], [158, 1, 24], [24, 135, 10], [73, 75, 44], [344, 26, 103], [106, 35, 81], [108, 155, 236], [429, 41, 217], [243, 3, 16], [10, 366, 67], [101, 310, 118], [154, 622, 418], [263, 139, 206], [102, 3, 26], [11, 64, 46], [10, 137, 35], [156, 301, 13], [439, 185, 190], [42, 34, 33]], self.bins: [[[799, 521, 827], [799, 521, 827]], [[727, 561, 101], [727, 561, 101]], [[423, 399, 214], [423, 399, 214]], [[976, 525, 686], [976, 525, 686]], [[862, 58, 355], [862, 58, 355]], [[703, 803, 99], [703, 803, 99]], [[766, 894, 745], [766, 894, 745]], [[392, 852, 407], [392, 852, 407]], [[665, 226, 463], [665, 226, 463]], [[381, 965, 557], [381, 965, 557]]]'"
      ]
     },
     "execution_count": 43,
     "metadata": {},
     "output_type": "execute_result"
    }
   ],
   "source": [
    "a = inst.empty()\n"
   ]
  },
  {
   "cell_type": "code",
   "execution_count": null,
   "id": "2aee2135-d036-4481-b7fa-34707df7d15a",
   "metadata": {},
   "outputs": [],
   "source": [
    "    def empty(self):\n",
    "        for i in self.items: i.size = 0\n",
    "        for b in self.bins: b.empty()\n",
    "        return f\"self.items: {self.items}, self.bins: {self.bins}\""
   ]
  },
  {
   "cell_type": "code",
   "execution_count": 54,
   "id": "8bda88fb-e6b1-495e-b1bd-65225098ccb4",
   "metadata": {},
   "outputs": [
    {
     "ename": "AttributeError",
     "evalue": "'list' object has no attribute 'size'",
     "output_type": "error",
     "traceback": [
      "\u001b[0;31m---------------------------------------------------------------------------\u001b[0m",
      "\u001b[0;31mAttributeError\u001b[0m                            Traceback (most recent call last)",
      "\u001b[0;32m/tmp/ipykernel_52/1725683133.py\u001b[0m in \u001b[0;36m<module>\u001b[0;34m\u001b[0m\n\u001b[1;32m      1\u001b[0m \u001b[0ma\u001b[0m \u001b[0;34m=\u001b[0m \u001b[0minst\u001b[0m\u001b[0;34m.\u001b[0m\u001b[0mitems\u001b[0m\u001b[0;34m\u001b[0m\u001b[0;34m\u001b[0m\u001b[0m\n\u001b[1;32m      2\u001b[0m \u001b[0;32mfor\u001b[0m \u001b[0mi\u001b[0m \u001b[0;32min\u001b[0m \u001b[0ma\u001b[0m\u001b[0;34m:\u001b[0m\u001b[0;34m\u001b[0m\u001b[0;34m\u001b[0m\u001b[0m\n\u001b[0;32m----> 3\u001b[0;31m     \u001b[0mprint\u001b[0m\u001b[0;34m(\u001b[0m\u001b[0ma\u001b[0m\u001b[0;34m.\u001b[0m\u001b[0msize\u001b[0m\u001b[0;34m)\u001b[0m\u001b[0;34m\u001b[0m\u001b[0;34m\u001b[0m\u001b[0m\n\u001b[0m",
      "\u001b[0;31mAttributeError\u001b[0m: 'list' object has no attribute 'size'"
     ]
    }
   ],
   "source": []
  },
  {
   "cell_type": "code",
   "execution_count": 38,
   "id": "049630ec-65aa-4be0-906f-a14e51bb04a5",
   "metadata": {},
   "outputs": [
    {
     "name": "stdout",
     "output_type": "stream",
     "text": [
      "Items:\n",
      "[[144, 71, 97], [11, 4, 38], [84, 30, 51], [23, 10, 163], [104, 282, 244], [7, 0, 5], [432, 194, 124], [36, 139, 458], [537, 4, 267], [92, 25, 40], [4, 138, 29], [48, 11, 8], [261, 248, 207], [2, 360, 111], [128, 75, 317], [66, 15, 17], [5, 124, 373], [61, 18, 94], [593, 281, 230], [126, 365, 21], [56, 190, 43], [120, 3, 150], [42, 54, 104], [430, 20, 265], [41, 59, 124], [197, 40, 294], [42, 276, 52], [130, 62, 27], [70, 150, 36], [180, 63, 140], [82, 34, 400], [77, 61, 91], [0, 24, 18], [113, 133, 33], [25, 186, 37], [111, 516, 142]]\n",
      "Bins:\n",
      "[[[607, 923, 939], [115, 45, 295]], [[955, 49, 872], [216, 8, 55]], [[11, 636, 515], [4, 128, 13]], [[318, 574, 308], [26, 85, 80]], [[372, 454, 333], [56, 14, 11]], [[611, 655, 353], [77, 79, 53]], [[237, 254, 832], [48, 43, 184]], [[465, 103, 620], [82, 15, 169]], [[855, 982, 439], [95, 277, 64]], [[874, 404, 786], [106, 75, 223]]]\n",
      "Items:\n",
      "[[245, 248, 25], [95, 4, 61], [260, 55, 199], [25, 32, 44], [138, 70, 59], [14, 120, 166], [126, 566, 119], [155, 72, 255], [108, 0, 135], [48, 499, 7], [12, 82, 2], [2, 24, 110], [97, 0, 44], [41, 266, 50], [162, 3, 22], [16, 30, 507], [48, 117, 74], [117, 151, 104], [47, 125, 46], [19, 360, 39], [199, 110, 155], [190, 2, 256], [44, 59, 112], [102, 391, 64], [383, 88, 449], [216, 129, 50], [519, 686, 97], [212, 340, 5], [6, 83, 277], [3, 394, 51], [569, 20, 51], [46, 140, 11]]\n",
      "Bins:\n",
      "[[[466, 282, 748], [71, 21, 100]], [[182, 524, 242], [16, 28, 88]], [[40, 490, 54], [9, 48, 13]], [[613, 883, 45], [110, 155, 4]], [[958, 32, 436], [104, 6, 68]], [[398, 817, 224], [54, 208, 18]], [[968, 1000, 442], [78, 113, 40]], [[237, 792, 458], [19, 50, 153]], [[147, 592, 877], [15, 51, 140]], [[804, 700, 765], [73, 166, 21]]]\n",
      "Items:\n",
      "[[437, 157, 64], [77, 108, 77], [114, 10, 102], [48, 13, 269], [9, 50, 279], [250, 524, 93], [17, 130, 65], [0, 386, 66], [543, 255, 250], [60, 118, 6], [71, 255, 128], [186, 45, 185], [137, 395, 61], [228, 106, 537], [472, 359, 290], [57, 93, 86], [4, 232, 349], [25, 260, 243], [65, 203, 45], [22, 166, 44], [142, 370, 116], [79, 38, 13], [166, 170, 157], [46, 131, 43], [369, 173, 685], [227, 257, 274], [9, 87, 92], [9, 222, 28], [46, 59, 326], [3, 108, 60], [10, 220, 402]]\n",
      "Bins:\n",
      "[[[18, 939, 844], [2, 163, 90]], [[742, 766, 482], [63, 53, 59]], [[46, 605, 707], [11, 125, 62]], [[687, 914, 475], [73, 185, 69]], [[583, 196, 925], [55, 35, 101]], [[329, 758, 222], [70, 147, 37]], [[508, 684, 237], [126, 81, 6]], [[988, 893, 980], [48, 362, 68]], [[390, 567, 968], [60, 16, 71]], [[178, 583, 191], [33, 38, 33]]]\n",
      "Items:\n",
      "[[33, 189, 309], [14, 9, 111], [759, 7, 32], [3, 76, 137], [132, 223, 80], [60, 25, 38], [60, 8, 70], [286, 620, 10], [334, 53, 22], [163, 123, 2], [212, 7, 0], [359, 273, 299], [564, 451, 142], [129, 60, 9], [44, 4, 13], [208, 74, 59], [154, 53, 16], [69, 506, 27], [309, 2, 3], [19, 0, 19], [300, 109, 24], [437, 404, 745], [16, 123, 109], [34, 30, 198], [121, 320, 148], [108, 162, 4], [120, 138, 562], [40, 388, 21], [231, 21, 174], [77, 99, 15], [374, 99, 4], [205, 295, 113], [8, 77, 1]]\n",
      "Bins:\n",
      "[[[283, 301, 137], [60, 51, 13]], [[249, 206, 744], [55, 34, 33]], [[947, 961, 39], [219, 126, 3]], [[958, 545, 409], [48, 21, 143]], [[745, 610, 348], [30, 23, 41]], [[741, 817, 953], [99, 118, 95]], [[253, 616, 567], [31, 22, 39]], [[863, 405, 597], [65, 37, 65]], [[997, 968, 147], [268, 87, 20]], [[928, 164, 30], [107, 46, 3]]]\n",
      "Items:\n",
      "[[13, 79, 43], [5, 146, 334], [59, 9, 66], [84, 158, 148], [17, 265, 482], [216, 153, 147], [549, 92, 70], [266, 278, 198], [113, 18, 17], [45, 104, 70], [32, 24, 38], [81, 50, 82], [20, 19, 166], [18, 315, 15], [632, 24, 228], [110, 28, 41], [9, 11, 4], [282, 188, 182], [21, 37, 50], [153, 0, 18], [67, 13, 6], [1, 82, 147], [60, 56, 532], [104, 1, 20], [321, 95, 44], [2, 58, 0], [0, 169, 11], [90, 234, 17], [126, 121, 71], [88, 105, 27], [146, 19, 24], [1, 51, 35], [223, 301, 82], [184, 202, 61], [2, 105, 25], [86, 85, 198]]\n",
      "Bins:\n",
      "[[[858, 666, 836], [101, 50, 248]], [[251, 320, 115], [57, 56, 15]], [[57, 483, 651], [17, 76, 94]], [[530, 209, 433], [41, 18, 159]], [[53, 375, 724], [14, 49, 34]], [[847, 89, 310], [70, 23, 27]], [[949, 306, 829], [185, 40, 194]], [[113, 869, 73], [3, 93, 30]], [[528, 264, 192], [58, 20, 9]], [[660, 657, 461], [74, 118, 115]]]\n",
      "Items:\n",
      "[[55, 11, 26], [27, 603, 383], [231, 47, 5], [170, 74, 321], [48, 9, 142], [21, 74, 67], [181, 419, 156], [19, 56, 129], [1, 191, 366], [222, 99, 163], [347, 20, 26], [100, 121, 3], [61, 60, 45], [367, 203, 542], [79, 324, 39], [1, 24, 110], [77, 75, 0], [6, 127, 0], [7, 380, 120], [203, 69, 448], [46, 12, 5], [8, 169, 38], [32, 90, 4], [23, 55, 6], [1, 0, 2], [174, 282, 23], [22, 40, 19], [94, 75, 4], [173, 67, 317], [7, 53, 119], [15, 194, 34], [26, 46, 192], [209, 473, 5], [2, 184, 212], [123, 80, 47], [50, 392, 305], [198, 3, 83], [25, 2, 281], [43, 65, 39], [39, 123, 20]]\n",
      "Bins:\n",
      "[[[266, 804, 483], [47, 50, 31]], [[620, 704, 734], [82, 78, 169]], [[381, 950, 161], [21, 169, 55]], [[63, 932, 170], [12, 176, 10]], [[196, 973, 717], [38, 79, 95]], [[993, 179, 903], [273, 16, 108]], [[647, 271, 769], [75, 12, 25]], [[296, 196, 948], [5, 8, 402]], [[68, 272, 971], [16, 33, 132]], [[602, 871, 19], [30, 140, 2]]]\n",
      "Items:\n",
      "[[21, 49, 47], [85, 17, 313], [37, 0, 74], [184, 62, 53], [8, 152, 107], [100, 298, 12], [481, 191, 163], [589, 165, 357], [52, 412, 64], [30, 45, 64], [423, 137, 552], [78, 529, 218], [250, 13, 23], [156, 90, 434], [11, 57, 28], [48, 247, 114], [283, 44, 46], [23, 301, 25], [34, 159, 200], [482, 155, 104], [5, 34, 250], [112, 268, 25], [12, 56, 15], [82, 248, 267], [48, 12, 144], [54, 152, 50], [47, 6, 270], [77, 182, 301], [257, 1, 92], [42, 47, 185], [0, 12, 199]]\n",
      "Bins:\n",
      "[[[831, 212, 757], [77, 19, 15]], [[822, 597, 851], [217, 124, 97]], [[812, 861, 399], [231, 128, 30]], [[408, 306, 139], [81, 28, 23]], [[281, 688, 832], [31, 139, 149]], [[465, 726, 106], [158, 65, 16]], [[260, 626, 450], [41, 131, 60]], [[941, 208, 537], [95, 42, 88]], [[183, 27, 673], [51, 4, 90]], [[129, 632, 688], [39, 62, 68]]]\n",
      "Items:\n",
      "[[14, 252, 1], [39, 286, 43], [9, 210, 68], [3, 57, 20], [149, 58, 92], [276, 60, 73], [64, 13, 2], [35, 35, 55], [90, 86, 39], [291, 395, 342], [33, 253, 101], [146, 81, 96], [233, 35, 47], [36, 77, 4], [506, 87, 114], [23, 3, 280], [8, 31, 89], [5, 9, 97], [148, 429, 18], [0, 56, 0], [39, 165, 18], [83, 588, 76], [437, 80, 238], [202, 666, 12], [100, 254, 20], [21, 387, 175], [18, 15, 6], [177, 11, 59], [54, 15, 72], [12, 46, 7], [5, 27, 26], [2, 18, 15], [40, 21, 44], [19, 62, 107], [34, 242, 356], [19, 31, 46], [21, 114, 102]]\n",
      "Bins:\n",
      "[[[233, 796, 304], [44, 140, 26]], [[580, 889, 146], [117, 114, 12]], [[643, 220, 518], [38, 51, 142]], [[707, 851, 466], [135, 107, 25]], [[341, 980, 164], [49, 18, 49]], [[195, 115, 605], [24, 13, 214]], [[725, 808, 259], [100, 56, 65]], [[368, 618, 518], [54, 145, 8]], [[81, 256, 102], [6, 113, 4]], [[130, 534, 438], [45, 55, 15]]]\n",
      "Items:\n",
      "[[18, 43, 14], [2, 19, 29], [17, 2, 27], [5, 254, 41], [90, 22, 87], [97, 99, 544], [44, 62, 0], [133, 26, 60], [28, 73, 142], [116, 746, 598], [5, 179, 68], [182, 67, 72], [44, 321, 91], [297, 145, 155], [209, 72, 228], [96, 110, 14], [2, 3, 51], [13, 102, 7], [21, 240, 88], [24, 64, 98], [42, 101, 29], [96, 64, 197], [446, 59, 71], [104, 26, 20], [218, 138, 162], [14, 62, 116], [506, 515, 638], [16, 552, 2], [125, 179, 12], [213, 213, 44], [413, 519, 28], [743, 116, 132], [101, 39, 38], [0, 24, 87], [75, 2, 73], [98, 206, 45], [8, 63, 518], [124, 59, 388]]\n",
      "Bins:\n",
      "[[[933, 943, 398], [44, 159, 25]], [[242, 389, 995], [21, 76, 70]], [[375, 885, 909], [16, 327, 112]], [[539, 933, 222], [101, 57, 53]], [[982, 669, 873], [193, 48, 125]], [[161, 978, 890], [17, 159, 150]], [[866, 184, 592], [32, 25, 200]], [[270, 395, 315], [11, 35, 75]], [[409, 516, 596], [49, 46, 35]], [[532, 682, 83], [40, 56, 14]]]\n",
      "Items:\n",
      "[[184, 2, 3], [127, 34, 50], [237, 309, 20], [138, 83, 22], [2, 105, 28], [43, 15, 26], [98, 11, 296], [53, 102, 101], [589, 8, 124], [147, 4, 97], [103, 60, 165], [124, 101, 207], [0, 221, 57], [128, 10, 293], [64, 11, 376], [354, 127, 289], [377, 33, 108], [6, 7, 217], [231, 108, 160], [82, 59, 12], [12, 130, 47], [44, 355, 112], [68, 138, 8], [299, 187, 231], [174, 11, 204], [34, 35, 9], [14, 8, 259], [193, 31, 71], [5, 133, 75], [157, 161, 36], [136, 70, 95], [345, 57, 371], [75, 4, 198], [6, 12, 71], [26, 33, 7], [214, 101, 287], [42, 5, 93], [3, 173, 128], [114, 611, 3], [203, 107, 22], [169, 2, 85], [104, 149, 209], [74, 11, 77], [218, 113, 113]]\n",
      "Bins:\n",
      "[[[801, 283, 943], [212, 28, 136]], [[836, 448, 519], [11, 99, 63]], [[828, 632, 346], [283, 9, 40]], [[398, 183, 730], [35, 48, 87]], [[714, 402, 818], [62, 89, 216]], [[773, 284, 764], [12, 72, 24]], [[484, 637, 392], [66, 80, 56]], [[440, 80, 417], [50, 21, 32]], [[588, 803, 714], [45, 155, 173]], [[763, 938, 881], [33, 42, 235]]]\n",
      "Items:\n",
      "[[62, 5, 33], [122, 112, 157], [7, 154, 31], [116, 77, 21], [44, 13, 26], [73, 273, 82], [12, 53, 145], [8, 29, 44], [33, 69, 133], [83, 2, 8], [84, 83, 22], [21, 103, 12], [64, 40, 14], [484, 95, 233], [126, 123, 753], [153, 196, 290], [247, 0, 105], [236, 31, 142], [114, 0, 139], [16, 7, 83], [21, 140, 230], [91, 30, 68], [8, 154, 181], [493, 24, 56], [334, 299, 20], [77, 549, 374], [114, 25, 37], [0, 30, 4], [1, 63, 19], [26, 30, 2], [98, 122, 160], [371, 68, 467], [140, 36, 534], [355, 83, 222], [22, 42, 40], [96, 5, 37], [46, 11, 430]]\n",
      "Bins:\n",
      "[[[625, 163, 125], [67, 23, 31]], [[595, 43, 449], [13, 3, 111]], [[172, 409, 952], [6, 63, 35]], [[87, 265, 985], [13, 18, 185]], [[806, 190, 501], [139, 35, 30]], [[712, 320, 687], [123, 105, 22]], [[209, 973, 941], [13, 162, 177]], [[466, 261, 707], [35, 35, 62]], [[456, 491, 76], [31, 59, 21]], [[847, 631, 683], [137, 67, 78]]]\n",
      "Items:\n",
      "[[295, 7, 35], [14, 498, 45], [3, 137, 126], [60, 48, 101], [1, 11, 403], [4, 96, 114], [4, 226, 20], [3, 237, 83], [322, 25, 398], [48, 457, 77], [72, 46, 68], [0, 2, 109], [238, 462, 260], [208, 35, 42], [27, 74, 98], [150, 97, 94], [43, 58, 284], [65, 243, 161], [90, 8, 161], [150, 127, 4], [4, 36, 51], [288, 27, 205], [54, 26, 13], [414, 21, 38], [50, 115, 10], [1, 76, 2], [312, 84, 9], [25, 26, 54], [3, 11, 15], [161, 15, 64], [11, 53, 3], [17, 2, 0], [450, 123, 307], [56, 151, 25], [2, 19, 42], [49, 18, 1], [82, 98, 59], [30, 18, 97], [393, 33, 429], [86, 17, 86]]\n",
      "Bins:\n",
      "[[[10, 286, 895], [1, 11, 312]], [[25, 997, 429], [1, 255, 129]], [[462, 274, 19], [89, 43, 4]], [[473, 896, 583], [20, 94, 68]], [[439, 84, 589], [29, 23, 63]], [[786, 245, 535], [45, 61, 83]], [[531, 205, 759], [31, 48, 217]], [[541, 249, 665], [50, 21, 174]], [[766, 640, 675], [66, 96, 99]], [[638, 822, 200], [54, 183, 7]]]\n",
      "Items:\n",
      "[[95, 30, 140], [0, 137, 87], [6, 155, 26], [64, 120, 171], [21, 13, 30], [83, 713, 52], [270, 170, 358], [13, 69, 8], [154, 163, 1], [140, 18, 27], [182, 39, 178], [14, 93, 54], [46, 95, 130], [46, 21, 24], [338, 159, 74], [233, 121, 178], [196, 225, 310], [8, 91, 46], [56, 47, 83], [142, 43, 259], [414, 89, 9], [28, 57, 21], [141, 255, 11], [195, 440, 33], [10, 51, 214], [54, 11, 198], [488, 311, 196], [66, 6, 227], [22, 123, 1], [233, 571, 0], [186, 186, 96], [138, 7, 164], [689, 317, 58], [36, 48, 5], [235, 62, 260], [106, 173, 144], [123, 61, 10], [256, 183, 28], [6, 4, 131], [64, 10, 15]]\n",
      "Bins:\n",
      "[[[694, 620, 490], [14, 190, 60]], [[485, 956, 572], [17, 275, 63]], [[536, 480, 387], [74, 125, 55]], [[495, 285, 683], [94, 37, 180]], [[896, 716, 404], [97, 184, 45]], [[781, 573, 235], [164, 98, 18]], [[668, 839, 481], [14, 45, 163]], [[330, 913, 646], [95, 106, 121]], [[713, 848, 355], [9, 478, 3]], [[596, 839, 793], [19, 44, 281]]]\n",
      "Items:\n",
      "[[29, 18, 115], [174, 46, 4], [66, 22, 64], [89, 227, 654], [118, 99, 0], [21, 50, 8], [16, 194, 51], [115, 11, 13], [367, 298, 36], [109, 21, 93], [141, 213, 9], [177, 76, 408], [191, 133, 140], [69, 225, 346], [27, 5, 28], [321, 335, 120], [49, 42, 1], [227, 274, 45], [79, 1, 297], [16, 251, 140], [310, 143, 101], [262, 45, 239], [16, 40, 105], [324, 16, 88], [2, 34, 109], [498, 70, 288], [441, 32, 0], [175, 205, 190], [75, 12, 45], [28, 42, 0], [49, 359, 93], [33, 18, 55], [60, 63, 108], [41, 23, 66], [54, 142, 6]]\n",
      "Bins:\n",
      "[[[369, 217, 732], [39, 20, 187]], [[982, 152, 822], [113, 16, 202]], [[919, 450, 663], [97, 23, 47]], [[155, 519, 835], [34, 58, 25]], [[772, 311, 40], [54, 5, 10]], [[390, 480, 278], [64, 86, 37]], [[728, 615, 49], [56, 45, 2]], [[251, 588, 251], [24, 107, 75]], [[275, 307, 711], [28, 27, 231]], [[469, 577, 635], [32, 44, 135]]]\n",
      "Items:\n",
      "[[360, 12, 433], [230, 315, 125], [4, 24, 39], [24, 28, 74], [35, 30, 7], [99, 17, 231], [150, 81, 20], [20, 105, 29], [67, 75, 23], [203, 201, 121], [48, 124, 526], [1, 168, 115], [116, 158, 248], [260, 26, 62], [12, 99, 25], [2, 5, 291], [597, 224, 311], [7, 21, 14], [5, 8, 104], [17, 72, 18], [19, 24, 32], [40, 91, 103], [125, 8, 73], [3, 0, 75], [21, 0, 35], [47, 7, 33], [83, 252, 277], [161, 264, 153], [29, 223, 53], [33, 57, 445], [23, 130, 149], [20, 70, 281], [159, 13, 62], [13, 30, 175], [143, 120, 65], [418, 22, 142], [96, 21, 321]]\n",
      "Bins:\n",
      "[[[320, 487, 710], [44, 138, 41]], [[374, 319, 552], [116, 55, 27]], [[382, 195, 895], [76, 41, 76]], [[827, 298, 522], [14, 10, 84]], [[119, 640, 729], [12, 90, 188]], [[276, 379, 833], [62, 16, 246]], [[461, 29, 855], [52, 5, 98]], [[495, 413, 251], [123, 18, 35]], [[182, 557, 405], [18, 152, 72]], [[884, 401, 423], [113, 68, 18]]]\n",
      "Items:\n",
      "[[261, 107, 118], [181, 22, 2], [118, 183, 278], [18, 229, 65], [36, 58, 107], [75, 94, 3], [15, 60, 13], [33, 237, 379], [2, 28, 7], [117, 219, 105], [224, 583, 161], [7, 202, 24], [223, 22, 204], [126, 77, 51], [255, 5, 32], [511, 144, 123], [10, 21, 78], [4, 119, 151], [59, 118, 773], [4, 146, 542], [34, 15, 72], [15, 5, 59], [86, 56, 37], [242, 512, 90], [122, 4, 0], [230, 103, 16], [12, 4, 136], [62, 107, 4], [5, 36, 8], [5, 60, 39], [49, 385, 7], [162, 99, 487], [29, 43, 7], [533, 9, 5]]\n",
      "Bins:\n",
      "[[[411, 279, 362], [71, 38, 53]], [[186, 638, 970], [45, 94, 202]], [[328, 178, 854], [46, 8, 258]], [[128, 702, 514], [39, 16, 113]], [[998, 223, 21], [58, 51, 4]], [[330, 238, 322], [18, 68, 38]], [[977, 271, 172], [196, 62, 4]], [[93, 593, 993], [6, 225, 77]], [[588, 828, 378], [60, 31, 61]], [[421, 954, 524], [56, 199, 117]]]\n",
      "Items:\n",
      "[[125, 232, 106], [14, 486, 357], [84, 182, 66], [21, 61, 186], [2, 303, 77], [11, 2, 1], [189, 1, 17], [1, 133, 11], [80, 127, 1], [26, 201, 22], [114, 1, 209], [37, 137, 49], [104, 19, 25], [7, 12, 27], [25, 327, 488], [145, 213, 116], [49, 3, 3], [7, 13, 5], [5, 51, 90], [147, 14, 25], [29, 53, 164], [22, 63, 108], [5, 202, 28], [59, 238, 14], [170, 8, 32], [235, 232, 33], [11, 144, 2], [288, 300, 148], [19, 2, 30], [85, 72, 79], [160, 1, 58], [360, 151, 229], [60, 62, 4], [16, 36, 58], [39, 185, 132], [0, 138, 7], [6, 13, 201], [77, 3, 29], [54, 0, 56], [64, 2, 9]]\n",
      "Bins:\n",
      "[[[539, 668, 186], [179, 29, 21]], [[253, 660, 237], [20, 78, 15]], [[54, 685, 675], [8, 133, 32]], [[276, 49, 70], [43, 13, 3]], [[872, 895, 513], [317, 35, 7]], [[380, 490, 502], [37, 94, 111]], [[326, 321, 334], [16, 28, 59]], [[258, 19, 413], [62, 1, 123]], [[477, 623, 651], [30, 23, 160]], [[254, 548, 260], [25, 101, 8]]]\n",
      "Items:\n",
      "[[128, 674, 39], [55, 186, 101], [81, 70, 316], [77, 361, 136], [411, 140, 564], [155, 187, 296], [47, 88, 159], [317, 33, 38], [26, 83, 259], [87, 8, 51], [402, 282, 98], [248, 1, 268], [31, 393, 26], [178, 81, 21], [77, 284, 136], [180, 34, 71], [86, 28, 217], [50, 128, 154], [8, 471, 21], [1, 27, 31], [31, 71, 100], [85, 1, 3], [15, 145, 104], [128, 21, 103], [3, 137, 156], [85, 24, 34], [89, 196, 361], [107, 42, 138], [44, 2, 29], [82, 474, 429], [29, 273, 32], [0, 103, 30], [18, 26, 181], [0, 244, 95], [25, 162, 2], [323, 323, 50], [53, 129, 8], [302, 400, 187]]\n",
      "Bins:\n",
      "[[[576, 933, 142], [56, 151, 16]], [[772, 289, 495], [65, 61, 37]], [[544, 434, 836], [120, 17, 108]], [[122, 949, 37], [13, 265, 1]], [[549, 990, 378], [41, 151, 112]], [[506, 759, 984], [65, 66, 270]], [[28, 453, 391], [9, 53, 54]], [[136, 913, 742], [6, 144, 42]], [[876, 710, 977], [250, 96, 39]], [[834, 921, 952], [254, 15, 211]]]\n",
      "Items:\n",
      "[[394, 213, 33], [31, 5, 61], [11, 122, 51], [49, 23, 207], [25, 62, 321], [290, 128, 74], [60, 22, 125], [36, 42, 21], [23, 93, 73], [43, 25, 112], [5, 60, 51], [20, 47, 69], [76, 33, 3], [293, 269, 139], [6, 202, 4], [67, 100, 259], [117, 144, 244], [253, 10, 48], [539, 3, 136], [5, 104, 25], [136, 432, 86], [186, 54, 39], [33, 89, 120], [177, 60, 332], [138, 101, 92], [65, 245, 146], [114, 42, 245], [197, 352, 433], [111, 134, 416], [125, 40, 63], [211, 34, 307], [346, 126, 221], [6, 233, 90]]\n",
      "Bins:\n",
      "[[[560, 364, 617], [56, 61, 171]], [[846, 424, 195], [92, 14, 10]], [[847, 555, 707], [100, 78, 87]], [[312, 479, 918], [7, 77, 83]], [[529, 216, 839], [15, 9, 296]], [[216, 612, 275], [20, 158, 64]], [[195, 135, 687], [25, 26, 60]], [[161, 499, 165], [5, 106, 4]], [[735, 320, 575], [75, 38, 209]], [[221, 672, 712], [39, 60, 60]]]\n",
      "Items:\n",
      "[[60, 69, 219], [173, 5, 39], [26, 39, 175], [27, 133, 105], [0, 31, 46], [14, 555, 116], [41, 159, 2], [449, 77, 157], [70, 8, 320], [674, 153, 292], [17, 9, 21], [117, 0, 116], [61, 38, 7], [57, 6, 75], [128, 40, 104], [53, 6, 59], [41, 137, 27], [256, 252, 377], [212, 49, 196], [28, 336, 8], [26, 8, 12], [361, 83, 269], [6, 317, 74], [36, 51, 112], [109, 138, 93], [24, 37, 12], [16, 30, 145], [532, 7, 523], [51, 25, 88], [9, 216, 48], [11, 55, 332], [4, 21, 110], [29, 139, 36], [252, 6, 140], [6, 59, 192], [212, 114, 103], [20, 156, 2], [67, 9, 149]]\n",
      "Bins:\n",
      "[[[472, 126, 702], [38, 7, 213]], [[78, 489, 527], [18, 68, 56]], [[161, 619, 277], [16, 139, 31]], [[542, 501, 854], [171, 21, 146]], [[758, 120, 830], [46, 19, 51]], [[763, 185, 482], [62, 58, 52]], [[302, 914, 488], [4, 258, 90]], [[703, 54, 813], [53, 13, 53]], [[82, 952, 217], [9, 136, 29]], [[883, 415, 460], [52, 83, 28]]]\n",
      "Items:\n",
      "[[13, 25, 81], [44, 16, 20], [219, 88, 114], [120, 466, 142], [81, 70, 284], [587, 243, 14], [293, 27, 2], [3, 409, 165], [43, 169, 308], [86, 6, 52], [154, 266, 103], [158, 76, 17], [61, 706, 128], [24, 28, 262], [64, 44, 1], [42, 458, 156], [2, 667, 204], [341, 3, 2], [62, 1, 25], [22, 10, 29], [14, 13, 265], [24, 55, 44], [265, 62, 414], [40, 42, 84], [322, 172, 51], [19, 7, 2], [208, 19, 13], [169, 5, 13], [4, 22, 29], [74, 230, 210], [234, 33, 3], [13, 40, 42], [20, 13, 146], [335, 293, 463], [32, 36, 78]]\n",
      "Bins:\n",
      "[[[150, 721, 672], [14, 153, 190]], [[865, 693, 178], [111, 197, 32]], [[889, 871, 234], [141, 143, 38]], [[425, 961, 733], [85, 89, 153]], [[106, 95, 204], [7, 14, 75]], [[812, 915, 310], [254, 43, 52]], [[350, 273, 668], [50, 27, 84]], [[937, 750, 712], [154, 166, 81]], [[138, 336, 495], [11, 39, 120]], [[447, 104, 652], [100, 28, 67]]]\n",
      "Items:\n",
      "[[59, 22, 10], [106, 4, 62], [95, 20, 43], [1, 3, 379], [126, 2, 503], [1, 9, 47], [81, 124, 98], [62, 518, 48], [107, 325, 288], [43, 2, 137], [26, 22, 127], [302, 14, 88], [42, 126, 15], [243, 24, 102], [231, 128, 197], [32, 23, 129], [0, 58, 164], [37, 101, 118], [55, 11, 197], [4, 43, 205], [4, 43, 16], [92, 174, 80], [34, 1, 11], [452, 17, 336], [195, 152, 9], [276, 254, 177], [115, 21, 3], [30, 27, 243], [240, 4, 101], [4, 563, 153], [33, 56, 40], [178, 170, 22], [16, 22, 109], [299, 109, 35], [29, 83, 47]]\n",
      "Bins:\n",
      "[[[261, 115, 182], [31, 9, 11]], [[178, 438, 716], [9, 63, 56]], [[550, 251, 817], [99, 5, 78]], [[172, 745, 743], [9, 124, 47]], [[579, 647, 125], [114, 151, 14]], [[33, 168, 768], [2, 36, 225]], [[691, 48, 491], [59, 14, 89]], [[426, 949, 177], [20, 291, 26]], [[906, 426, 640], [149, 72, 80]], [[429, 308, 383], [83, 55, 77]]]\n",
      "Items:\n",
      "[[4, 16, 34], [2, 214, 128], [396, 579, 62], [11, 94, 110], [17, 51, 20], [248, 24, 78], [206, 29, 25], [263, 145, 286], [22, 3, 15], [81, 153, 5], [90, 46, 227], [0, 24, 14], [13, 50, 47], [24, 43, 0], [203, 298, 12], [147, 10, 270], [91, 168, 182], [75, 37, 29], [131, 122, 51], [11, 14, 149], [52, 277, 341], [38, 147, 304], [8, 164, 182], [322, 48, 113], [750, 220, 49], [59, 137, 1], [89, 167, 342], [30, 353, 2], [55, 96, 43], [199, 52, 7], [268, 4, 9], [16, 47, 201], [457, 188, 44], [219, 484, 487], [32, 36, 264], [19, 215, 97], [364, 50, 110]]\n",
      "Bins:\n",
      "[[[720, 113, 63], [156, 17, 3]], [[569, 395, 367], [135, 112, 18]], [[324, 586, 392], [28, 45, 33]], [[964, 575, 711], [37, 116, 146]], [[60, 360, 554], [13, 60, 115]], [[991, 939, 153], [116, 84, 23]], [[553, 970, 756], [52, 177, 151]], [[930, 550, 447], [115, 236, 20]], [[329, 932, 809], [3, 416, 72]], [[301, 710, 771], [74, 62, 102]]]\n",
      "Items:\n",
      "[[52, 569, 270], [1, 137, 455], [46, 49, 136], [12, 31, 98], [2, 44, 8], [151, 12, 24], [188, 292, 288], [314, 433, 388], [37, 101, 114], [0, 2, 67], [186, 182, 136], [109, 4, 18], [52, 200, 36], [80, 146, 43], [317, 14, 6], [332, 43, 61], [61, 362, 126], [150, 47, 176], [58, 10, 3], [220, 367, 58], [27, 189, 147], [271, 91, 66], [100, 2, 2], [132, 76, 27], [71, 604, 169], [13, 1, 181], [302, 221, 46], [60, 22, 247], [138, 78, 199], [3, 17, 50], [60, 42, 18], [51, 28, 10], [296, 85, 17], [79, 6, 376], [14, 322, 26], [63, 6, 1], [165, 344, 12]]\n",
      "Bins:\n",
      "[[[475, 572, 233], [71, 80, 38]], [[181, 470, 44], [16, 118, 6]], [[783, 965, 480], [97, 132, 103]], [[957, 808, 981], [30, 150, 374]], [[292, 972, 596], [56, 101, 81]], [[701, 667, 177], [183, 127, 8]], [[23, 237, 834], [5, 6, 156]], [[465, 24, 236], [72, 3, 48]], [[534, 652, 761], [33, 32, 115]], [[381, 589, 788], [16, 28, 96]]]\n",
      "Items:\n",
      "[[224, 57, 22], [69, 23, 338], [43, 646, 34], [38, 47, 75], [69, 7, 354], [71, 9, 49], [83, 19, 38], [103, 68, 240], [218, 20, 347], [36, 0, 225], [20, 50, 37], [209, 435, 202], [99, 43, 93], [41, 214, 51], [78, 3, 72], [16, 8, 268], [277, 29, 25], [29, 115, 160], [87, 77, 127], [8, 65, 28], [41, 122, 101], [325, 118, 28], [778, 32, 161], [43, 503, 454], [361, 193, 77], [254, 190, 17], [136, 1, 50], [19, 334, 73], [214, 56, 144], [209, 48, 34], [125, 10, 305], [186, 111, 171], [133, 80, 164], [46, 333, 32], [49, 94, 36], [19, 10, 83], [8, 60, 258]]\n",
      "Bins:\n",
      "[[[739, 402, 869], [57, 55, 303]], [[554, 825, 258], [101, 70, 35]], [[855, 455, 359], [120, 35, 43]], [[519, 600, 546], [58, 62, 125]], [[925, 44, 956], [297, 1, 133]], [[221, 823, 323], [23, 328, 15]], [[105, 600, 516], [29, 19, 56]], [[159, 354, 772], [13, 75, 62]], [[985, 97, 713], [55, 23, 176]], [[488, 896, 748], [33, 198, 139]]]\n",
      "Items:\n",
      "[[59, 350, 23], [138, 462, 189], [280, 183, 526], [143, 457, 223], [15, 100, 16], [7, 219, 312], [23, 319, 66], [162, 8, 11], [2, 15, 3], [179, 65, 429], [253, 144, 10], [9, 26, 4], [206, 8, 65], [106, 361, 48], [59, 28, 96], [5, 34, 1], [54, 49, 75], [4, 156, 289], [86, 82, 158], [96, 40, 14], [34, 56, 18], [694, 100, 364], [19, 92, 253], [33, 63, 23], [639, 323, 185], [96, 90, 128], [206, 14, 117], [348, 216, 229], [242, 21, 261], [113, 47, 26], [12, 252, 26], [63, 258, 167], [30, 134, 26], [36, 8, 45]]\n",
      "Bins:\n",
      "[[[181, 656, 595], [24, 102, 153]], [[504, 462, 68], [141, 11, 15]], [[481, 84, 82], [99, 8, 1]], [[279, 437, 335], [14, 96, 107]], [[449, 642, 600], [31, 61, 81]], [[236, 800, 444], [30, 85, 54]], [[396, 796, 959], [74, 251, 6]], [[996, 823, 977], [47, 183, 240]], [[914, 863, 661], [28, 320, 91]], [[518, 478, 487], [15, 144, 34]]]\n",
      "Items:\n",
      "[[177, 7, 56], [32, 74, 10], [20, 34, 1], [249, 299, 15], [299, 219, 10], [104, 111, 378], [60, 308, 199], [148, 23, 625], [704, 487, 34], [57, 256, 50], [50, 8, 2], [210, 442, 153], [1, 133, 28], [132, 39, 3], [29, 321, 13], [216, 1, 12], [19, 20, 11], [198, 244, 2], [549, 7, 65], [24, 122, 6], [215, 468, 37], [10, 216, 3], [6, 19, 8], [38, 46, 218], [209, 734, 51], [4, 11, 38], [31, 37, 278], [38, 123, 97], [639, 196, 109], [10, 108, 21], [64, 43, 40], [9, 33, 27], [278, 29, 8], [223, 355, 533], [17, 167, 13], [4, 88, 4], [398, 22, 48]]\n",
      "Bins:\n",
      "[[[427, 812, 56], [149, 168, 1]], [[989, 408, 383], [160, 65, 25]], [[993, 645, 977], [137, 47, 314]], [[568, 571, 741], [11, 225, 84]], [[877, 719, 215], [43, 209, 45]], [[775, 938, 217], [25, 180, 14]], [[449, 986, 258], [16, 89, 27]], [[837, 449, 59], [230, 39, 4]], [[54, 669, 17], [15, 132, 1]], [[366, 911, 938], [78, 104, 140]]]\n",
      "Items:\n",
      "[[29, 201, 351], [194, 303, 12], [168, 225, 179], [146, 20, 1], [132, 31, 264], [3, 28, 1], [2, 9, 27], [88, 28, 4], [157, 224, 55], [15, 87, 26], [13, 22, 20], [86, 78, 332], [283, 146, 201], [239, 90, 0], [19, 543, 43], [203, 71, 178], [3, 58, 47], [23, 106, 208], [38, 33, 69], [471, 94, 0], [122, 125, 210], [396, 427, 26], [0, 164, 122], [61, 17, 34], [131, 3, 149], [18, 46, 40], [37, 33, 130], [58, 45, 208], [276, 170, 129], [467, 59, 72], [58, 38, 130], [32, 216, 26], [92, 20, 8], [46, 22, 0], [31, 284, 11], [87, 117, 181], [67, 4, 12]]\n",
      "Bins:\n",
      "[[[635, 868, 445], [71, 52, 118]], [[422, 197, 263], [136, 6, 12]], [[926, 711, 133], [180, 18, 48]], [[191, 504, 375], [13, 102, 74]], [[411, 779, 319], [163, 8, 1]], [[352, 356, 792], [62, 46, 133]], [[716, 94, 317], [55, 6, 35]], [[269, 150, 637], [58, 23, 85]], [[674, 501, 728], [55, 46, 60]], [[598, 435, 76], [110, 101, 13]]]\n",
      "Items:\n",
      "[[29, 5, 39], [112, 51, 100], [40, 53, 31], [142, 6, 67], [82, 91, 102], [69, 611, 91], [111, 208, 258], [46, 42, 69], [56, 101, 15], [64, 133, 707], [41, 107, 67], [229, 145, 54], [11, 57, 8], [51, 1, 291], [5, 33, 273], [169, 42, 22], [27, 391, 62], [162, 86, 133], [106, 171, 25], [548, 215, 7], [347, 114, 134], [187, 92, 43], [743, 126, 147], [29, 53, 13], [47, 70, 4], [210, 278, 404], [52, 7, 35], [12, 13, 229], [120, 17, 15], [13, 127, 19], [56, 35, 344], [48, 12, 14], [150, 478, 236], [1, 331, 466], [131, 98, 258], [20, 11, 52]]\n",
      "Bins:\n",
      "[[[392, 173, 396], [63, 28, 77]], [[142, 190, 935], [32, 15, 159]], [[544, 526, 953], [102, 46, 277]], [[637, 248, 949], [72, 14, 118]], [[125, 770, 143], [16, 49, 31]], [[228, 157, 411], [55, 7, 14]], [[486, 896, 953], [49, 158, 100]], [[754, 520, 543], [275, 44, 54]], [[795, 611, 204], [96, 77, 61]], [[941, 944, 295], [18, 186, 57]]]\n",
      "Items:\n",
      "[[20, 97, 82], [81, 68, 62], [42, 4, 387], [9, 39, 19], [57, 25, 104], [21, 509, 168], [10, 7, 0], [25, 139, 108], [26, 280, 8], [53, 0, 4], [28, 21, 28], [4, 12, 185], [783, 0, 77], [306, 36, 44], [36, 39, 39], [102, 8, 141], [650, 210, 687], [241, 406, 101], [29, 2, 7], [96, 11, 25], [13, 14, 83], [15, 0, 32], [93, 6, 65], [155, 214, 51], [20, 23, 111], [192, 56, 419], [188, 71, 135], [52, 120, 66], [44, 28, 189], [130, 22, 201], [157, 7, 0], [160, 33, 3], [38, 176, 174], [71, 7, 248], [320, 109, 238], [345, 576, 268]]\n",
      "Bins:\n",
      "[[[454, 812, 427], [84, 97, 51]], [[874, 725, 1000], [31, 217, 32]], [[209, 125, 769], [19, 21, 216]], [[611, 734, 670], [42, 73, 119]], [[240, 832, 367], [36, 88, 120]], [[981, 49, 537], [17, 13, 167]], [[571, 87, 364], [69, 15, 32]], [[456, 164, 307], [115, 15, 37]], [[315, 294, 534], [62, 79, 30]], [[417, 177, 435], [41, 6, 47]]]\n",
      "Items:\n",
      "[[52, 11, 32], [81, 114, 157], [30, 82, 5], [4, 20, 17], [391, 308, 659], [83, 26, 242], [167, 215, 32], [21, 87, 23], [212, 44, 0], [97, 6, 144], [613, 135, 6], [41, 68, 5], [38, 65, 24], [74, 40, 26], [81, 151, 67], [82, 10, 24], [4, 159, 32], [336, 170, 532], [94, 221, 158], [4, 148, 17], [212, 241, 95], [288, 21, 71], [15, 158, 16], [30, 171, 35], [52, 517, 19], [86, 17, 10], [14, 3, 33], [312, 30, 159], [15, 66, 61], [0, 179, 20], [177, 449, 172], [6, 203, 48], [57, 109, 488], [22, 134, 5]]\n",
      "Bins:\n",
      "[[[964, 258, 36], [65, 39, 4]], [[301, 440, 691], [112, 45, 21]], [[269, 604, 271], [19, 57, 44]], [[327, 540, 151], [130, 60, 8]], [[107, 700, 295], [3, 70, 53]], [[687, 650, 951], [84, 101, 197]], [[421, 34, 264], [36, 7, 49]], [[535, 472, 893], [15, 193, 48]], [[562, 837, 306], [22, 318, 29]], [[131, 798, 39], [27, 65, 10]]]\n",
      "Items:\n",
      "[[31, 15, 178], [15, 80, 27], [104, 75, 48], [254, 0, 130], [8, 39, 69], [383, 89, 12], [198, 205, 42], [23, 27, 53], [30, 137, 12], [0, 5, 12], [3, 39, 22], [166, 365, 19], [243, 7, 31], [169, 100, 93], [206, 24, 143], [92, 182, 17], [442, 186, 94], [502, 302, 19], [15, 44, 47], [99, 21, 82], [23, 229, 16], [152, 31, 26], [95, 177, 49], [57, 62, 70], [204, 9, 39], [0, 71, 30], [18, 85, 202], [201, 116, 465], [156, 65, 17], [2, 9, 5], [8, 236, 34], [1, 274, 1], [30, 52, 429], [103, 341, 227], [209, 7, 30], [29, 406, 153], [6, 52, 2], [12, 72, 87], [271, 224, 20]]\n",
      "Bins:\n",
      "[[[891, 391, 637], [47, 12, 240]], [[52, 279, 354], [8, 36, 34]], [[359, 213, 220], [15, 55, 48]], [[674, 869, 916], [134, 251, 69]], [[22, 490, 125], [7, 64, 2]], [[43, 688, 72], [6, 166, 8]], [[904, 662, 132], [141, 20, 23]], [[868, 700, 312], [157, 19, 59]], [[838, 233, 222], [88, 19, 16]], [[608, 688, 570], [96, 111, 9]]]\n",
      "Items:\n",
      "[[0, 282, 38], [240, 379, 615], [2, 125, 490], [19, 22, 7], [13, 0, 151], [77, 5, 117], [119, 115, 196], [91, 32, 24], [192, 297, 189], [12, 148, 27], [57, 20, 56], [153, 291, 73], [89, 41, 47], [294, 10, 49], [2, 124, 169], [14, 166, 23], [8, 352, 335], [32, 42, 1], [214, 36, 12], [83, 14, 9], [10, 27, 1], [222, 21, 187], [0, 135, 66], [2, 124, 25], [109, 21, 40], [13, 28, 29], [15, 508, 1], [18, 310, 178], [0, 511, 7], [1, 39, 82], [11, 17, 15], [2, 12, 20], [0, 64, 268], [1, 9, 31], [1, 98, 3], [49, 130, 16], [14, 147, 84], [61, 4, 269], [171, 547, 378]]\n",
      "Bins:\n",
      "[[[43, 611, 307], [4, 175, 12]], [[755, 961, 514], [137, 113, 14]], [[16, 526, 984], [5, 10, 77]], [[420, 95, 336], [30, 37, 8]], [[19, 842, 194], [3, 152, 33]], [[89, 958, 228], [22, 86, 28]], [[547, 594, 530], [98, 11, 82]], [[466, 93, 352], [236, 6, 10]], [[545, 717, 977], [89, 114, 57]], [[151, 646, 263], [16, 86, 36]]]\n",
      "Items:\n",
      "[[116, 157, 124], [176, 22, 288], [59, 71, 216], [26, 380, 622], [77, 52, 158], [3, 104, 70], [344, 162, 36], [38, 23, 61], [17, 2, 61], [492, 455, 144], [41, 248, 16], [22, 268, 9], [324, 227, 20], [348, 62, 15], [179, 110, 5], [327, 568, 195], [83, 32, 41], [94, 56, 16], [376, 86, 109], [119, 70, 490], [333, 68, 47], [186, 63, 32], [21, 41, 99], [387, 493, 397], [64, 104, 66], [2, 203, 81], [14, 81, 36], [97, 97, 24], [626, 247, 34], [34, 163, 0], [249, 7, 69], [183, 301, 275], [41, 42, 27], [206, 81, 0], [22, 25, 49], [93, 126, 41]]\n",
      "Bins:\n",
      "[[[493, 907, 647], [63, 169, 142]], [[540, 518, 930], [138, 52, 199]], [[228, 928, 77], [38, 123, 11]], [[809, 380, 123], [57, 36, 29]], [[844, 876, 297], [155, 165, 51]], [[999, 713, 550], [86, 44, 212]], [[478, 622, 494], [65, 65, 10]], [[594, 181, 657], [59, 11, 79]], [[578, 413, 408], [8, 20, 81]], [[941, 516, 756], [16, 72, 152]]]\n",
      "Items:\n",
      "[[350, 461, 92], [45, 77, 16], [22, 157, 163], [14, 117, 460], [266, 242, 430], [316, 136, 181], [159, 17, 38], [16, 43, 170], [174, 6, 37], [56, 59, 166], [53, 14, 36], [7, 99, 21], [82, 11, 98], [105, 231, 137], [47, 65, 141], [132, 26, 37], [350, 28, 148], [134, 22, 15], [118, 46, 67], [9, 113, 35], [33, 76, 26], [87, 493, 186], [75, 39, 18], [6, 22, 25], [466, 8, 18], [17, 60, 256], [33, 108, 39], [130, 9, 3], [0, 79, 385], [146, 12, 34], [119, 40, 37], [201, 29, 82], [68, 14, 180], [12, 43, 104], [15, 99, 46], [84, 71, 0], [29, 73, 16], [376, 96, 151], [304, 11, 66], [10, 78, 14]]\n",
      "Bins:\n",
      "[[[551, 375, 609], [185, 36, 24]], [[965, 242, 427], [89, 44, 26]], [[464, 291, 153], [21, 132, 15]], [[965, 194, 675], [161, 14, 112]], [[400, 331, 227], [104, 11, 40]], [[809, 805, 938], [75, 56, 349]], [[444, 251, 264], [26, 74, 20]], [[276, 534, 555], [3, 251, 17]], [[200, 769, 435], [7, 48, 86]], [[290, 365, 635], [27, 61, 55]]]\n",
      "Items:\n",
      "[[99, 186, 8], [399, 33, 282], [16, 558, 748], [184, 126, 383], [80, 80, 21], [276, 16, 86], [89, 15, 11], [93, 1, 174], [20, 3, 119], [23, 120, 20], [84, 144, 2], [263, 2, 98], [226, 396, 1], [544, 299, 139], [146, 110, 494], [99, 304, 233], [31, 148, 104], [67, 174, 157], [75, 20, 9], [52, 56, 126], [21, 7, 515], [87, 9, 247], [25, 9, 96], [129, 36, 7], [23, 455, 117], [44, 0, 131], [244, 92, 2], [134, 24, 35], [66, 298, 56], [113, 378, 25], [199, 18, 270], [343, 43, 485]]\n",
      "Bins:\n",
      "[[[858, 778, 179], [201, 101, 15]], [[187, 28, 991], [13, 3, 215]], [[701, 518, 62], [195, 62, 8]], [[678, 385, 834], [39, 70, 171]], [[840, 64, 723], [78, 6, 108]], [[340, 414, 643], [42, 92, 140]], [[88, 700, 941], [20, 86, 67]], [[525, 578, 784], [134, 71, 86]], [[425, 883, 212], [102, 41, 51]], [[571, 353, 778], [95, 9, 85]]]\n",
      "Items:\n",
      "[[4, 57, 93], [72, 240, 32], [15, 191, 55], [22, 139, 1], [32, 118, 519], [128, 40, 5], [0, 30, 35], [145, 5, 0], [10, 181, 8], [22, 18, 71], [0, 9, 98], [93, 10, 48], [58, 26, 229], [63, 263, 254], [15, 8, 20], [38, 208, 145], [12, 11, 276], [76, 4, 127], [2, 138, 76], [253, 32, 19], [707, 71, 15], [147, 52, 423], [249, 401, 85], [91, 35, 86], [359, 52, 33], [125, 24, 44], [222, 213, 114], [380, 205, 6], [180, 151, 166], [137, 277, 39], [500, 87, 274]]\n",
      "Bins:\n",
      "[[[919, 296, 312], [41, 73, 46]], [[932, 516, 151], [77, 66, 12]], [[96, 876, 250], [11, 157, 41]], [[97, 111, 674], [5, 26, 63]], [[346, 69, 31], [58, 16, 6]], [[784, 835, 415], [113, 119, 43]], [[452, 383, 583], [43, 30, 77]], [[649, 399, 366], [77, 72, 60]], [[311, 198, 513], [40, 3, 163]], [[47, 251, 651], [11, 76, 39]]]\n",
      "Items:\n",
      "[[387, 188, 433], [2, 19, 11], [21, 25, 228], [0, 17, 61], [13, 34, 158], [23, 79, 179], [227, 18, 409], [150, 4, 27], [109, 0, 45], [28, 11, 21], [6, 7, 112], [94, 224, 16], [12, 11, 52], [20, 4, 49], [22, 540, 81], [46, 331, 180], [41, 261, 46], [4, 4, 0], [27, 150, 72], [0, 3, 111], [4, 73, 40], [20, 16, 84], [3, 16, 9], [77, 319, 43], [26, 61, 36], [293, 34, 539], [527, 18, 80], [459, 6, 285], [27, 258, 106], [92, 17, 449], [33, 10, 11], [28, 24, 165], [13, 233, 4], [72, 69, 367], [22, 14, 83], [214, 6, 114]]\n",
      "Bins:\n",
      "[[[659, 59, 459], [145, 12, 19]], [[293, 79, 586], [30, 18, 72]], [[495, 36, 600], [116, 4, 58]], [[86, 566, 305], [13, 85, 53]], [[40, 110, 162], [13, 5, 29]], [[824, 298, 957], [198, 81, 63]], [[384, 664, 732], [19, 107, 41]], [[708, 632, 103], [74, 157, 3]], [[242, 532, 675], [54, 49, 71]], [[80, 734, 603], [7, 88, 67]]]\n",
      "Items:\n",
      "[[267, 34, 107], [37, 350, 28], [21, 59, 139], [11, 43, 88], [132, 96, 27], [46, 72, 15], [15, 5, 97], [357, 237, 95], [484, 596, 205], [64, 165, 6], [120, 201, 37], [8, 174, 352], [9, 113, 96], [30, 26, 32], [93, 34, 0], [94, 5, 135], [10, 12, 16], [23, 12, 18], [453, 409, 0], [580, 355, 599], [83, 34, 42], [153, 61, 24], [187, 91, 29], [18, 223, 269], [57, 119, 78], [1, 191, 16], [45, 443, 67], [176, 41, 95], [117, 191, 16], [19, 68, 11], [465, 107, 15], [10, 61, 66], [74, 96, 8], [104, 33, 187], [75, 437, 15], [165, 47, 34], [374, 270, 200]]\n",
      "Bins:\n",
      "[[[96, 550, 510], [9, 93, 78]], [[692, 223, 299], [149, 43, 6]], [[611, 705, 770], [144, 37, 73]], [[304, 662, 280], [27, 45, 37]], [[647, 754, 325], [106, 39, 42]], [[321, 767, 39], [36, 105, 8]], [[925, 478, 98], [153, 79, 17]], [[859, 917, 765], [233, 99, 42]], [[664, 441, 449], [109, 94, 37]], [[960, 683, 76], [136, 35, 7]]]\n",
      "Items:\n",
      "[[159, 113, 15], [101, 144, 1], [356, 129, 284], [25, 375, 120], [0, 13, 29], [192, 295, 241], [1, 113, 36], [1, 58, 112], [41, 18, 91], [25, 262, 148], [36, 8, 56], [0, 5, 83], [417, 232, 247], [427, 17, 2], [69, 225, 25], [221, 9, 11], [216, 75, 375], [97, 12, 10], [44, 216, 49], [1, 55, 217], [11, 11, 3], [408, 149, 145], [6, 49, 112], [22, 10, 370], [62, 169, 130], [245, 34, 135], [17, 111, 107], [16, 91, 315], [82, 32, 173], [8, 29, 11], [65, 82, 144], [48, 61, 39], [370, 373, 53], [17, 117, 441], [396, 668, 89], [88, 101, 203]]\n",
      "Bins:\n",
      "[[[316, 283, 743], [89, 6, 26]], [[523, 203, 899], [52, 26, 293]], [[311, 700, 913], [25, 92, 124]], [[614, 674, 397], [30, 207, 73]], [[50, 134, 226], [5, 26, 18]], [[314, 966, 705], [9, 195, 141]], [[224, 275, 404], [24, 39, 115]], [[976, 535, 100], [178, 32, 9]], [[539, 920, 832], [27, 317, 33]], [[977, 838, 299], [115, 127, 64]]]\n",
      "Items:\n",
      "[[16, 195, 178], [107, 245, 16], [5, 29, 16], [14, 13, 22], [30, 113, 7], [503, 221, 132], [3, 30, 47], [152, 310, 394], [8, 30, 656], [6, 317, 181], [43, 20, 63], [50, 185, 1], [49, 26, 3], [35, 28, 209], [64, 23, 88], [268, 16, 251], [30, 118, 464], [32, 87, 74], [525, 267, 113], [95, 185, 228], [3, 64, 30], [22, 59, 9], [13, 13, 55], [104, 155, 0], [163, 102, 242], [118, 6, 20], [55, 46, 106], [252, 35, 38], [58, 9, 136], [356, 26, 74], [166, 133, 158], [262, 127, 16], [72, 340, 211], [12, 60, 169], [48, 5, 52], [161, 21, 14]]\n",
      "Bins:\n",
      "[[[204, 611, 29], [17, 68, 5]], [[124, 205, 871], [24, 18, 102]], [[765, 167, 327], [125, 2, 75]], [[479, 603, 908], [88, 24, 59]], [[497, 328, 327], [24, 94, 17]], [[185, 173, 322], [59, 23, 39]], [[944, 596, 819], [390, 20, 53]], [[998, 342, 158], [263, 28, 28]], [[39, 550, 927], [6, 161, 52]], [[925, 610, 225], [264, 88, 10]]]\n",
      "Items:\n",
      "[[30, 112, 55], [229, 88, 36], [460, 84, 342], [15, 170, 61], [55, 1, 211], [185, 81, 2], [167, 0, 77], [15, 404, 235], [154, 12, 2], [64, 568, 343], [272, 81, 14], [33, 11, 20], [93, 41, 109], [35, 24, 46], [85, 197, 147], [1, 117, 205], [110, 9, 94], [4, 31, 12], [46, 187, 29], [0, 115, 46], [54, 1, 6], [32, 83, 9], [7, 20, 474], [434, 50, 492], [0, 21, 69], [26, 77, 36], [255, 338, 0], [164, 2, 71], [70, 193, 45], [233, 36, 88], [194, 301, 451], [401, 37, 4], [6, 68, 71], [70, 216, 31], [27, 2, 23], [35, 84, 109], [93, 13, 0], [224, 39, 4]]\n",
      "Bins:\n",
      "[[[32, 689, 682], [10, 79, 102]], [[400, 350, 246], [51, 41, 17]], [[551, 438, 625], [41, 89, 49]], [[343, 837, 956], [6, 126, 180]], [[706, 749, 430], [106, 256, 12]], [[791, 600, 19], [95, 59, 4]], [[607, 70, 132], [69, 22, 11]], [[932, 192, 64], [333, 8, 6]], [[562, 38, 911], [136, 4, 58]], [[378, 759, 496], [77, 124, 53]]]\n",
      "Items:\n",
      "[[71, 13, 21], [108, 65, 98], [150, 80, 185], [597, 204, 185], [5, 93, 58], [3, 220, 3], [172, 52, 23], [56, 70, 130], [52, 8, 80], [4, 232, 46], [1, 72, 40], [101, 469, 73], [41, 14, 58], [189, 11, 4], [88, 154, 33], [97, 24, 91], [5, 13, 0], [332, 139, 429], [10, 273, 93], [284, 79, 110], [1, 189, 22], [54, 2, 0], [285, 56, 701], [33, 35, 126], [147, 12, 17], [71, 0, 40], [71, 137, 134], [7, 83, 14], [16, 64, 35], [193, 10, 565], [32, 38, 0], [12, 68, 8], [27, 51, 97], [24, 305, 29], [179, 73, 155], [18, 81, 59], [63, 46, 96], [56, 28, 150], [281, 31, 7]]\n",
      "Bins:\n",
      "[[[724, 442, 358], [78, 40, 43]], [[398, 286, 957], [7, 68, 70]], [[56, 687, 243], [6, 134, 19]], [[227, 681, 521], [22, 40, 188]], [[664, 124, 35], [32, 16, 3]], [[166, 652, 173], [18, 218, 11]], [[224, 696, 283], [28, 267, 21]], [[774, 608, 448], [55, 68, 34]], [[584, 213, 743], [125, 46, 124]], [[559, 137, 954], [69, 35, 187]]]\n",
      "Items:\n",
      "[[10, 8, 507], [96, 111, 50], [319, 436, 280], [4, 63, 66], [36, 46, 96], [49, 42, 22], [5, 15, 107], [85, 32, 10], [247, 424, 77], [9, 118, 378], [338, 541, 224], [344, 154, 18], [27, 52, 127], [399, 81, 6], [79, 117, 82], [26, 15, 12], [76, 518, 139], [141, 14, 76], [376, 372, 47], [31, 57, 99], [150, 9, 37], [96, 2, 98], [2, 330, 5], [5, 15, 734], [6, 116, 255], [444, 42, 242], [19, 1, 65], [19, 133, 159], [548, 217, 453], [2, 12, 15], [157, 314, 111], [1, 16, 17]]\n",
      "Bins:\n",
      "[[[190, 69, 881], [57, 7, 149]], [[12, 118, 935], [2, 24, 118]], [[179, 313, 291], [55, 48, 38]], [[49, 302, 722], [15, 67, 24]], [[452, 600, 391], [37, 53, 61]], [[907, 615, 284], [15, 18, 44]], [[756, 988, 380], [14, 150, 34]], [[904, 690, 758], [49, 150, 157]], [[141, 800, 406], [22, 209, 49]], [[930, 750, 349], [108, 96, 109]]]\n",
      "Items:\n",
      "[[47, 3, 29], [10, 24, 109], [158, 40, 28], [25, 40, 263], [18, 86, 144], [59, 90, 194], [4, 11, 42], [353, 166, 366], [146, 91, 82], [203, 207, 57], [63, 99, 12], [2, 352, 134], [376, 2, 39], [44, 284, 161], [115, 148, 14], [286, 494, 16], [5, 98, 49], [83, 150, 10], [194, 3, 173], [114, 7, 221], [14, 296, 96], [9, 114, 452], [618, 139, 18], [33, 262, 38], [65, 8, 150], [52, 74, 17], [57, 29, 4], [5, 27, 181], [77, 238, 247], [40, 27, 640], [7, 60, 48], [369, 87, 57], [175, 88, 78], [168, 69, 12], [233, 406, 188], [77, 177, 48], [4, 69, 0]]\n",
      "Bins:\n",
      "[[[614, 831, 563], [129, 99, 50]], [[428, 542, 564], [95, 58, 41]], [[203, 143, 274], [84, 3, 10]], [[870, 860, 72], [383, 35, 6]], [[849, 869, 765], [164, 36, 38]], [[615, 424, 794], [21, 124, 106]], [[16, 455, 290], [4, 79, 47]], [[648, 495, 135], [39, 183, 4]], [[106, 286, 991], [2, 27, 237]], [[977, 375, 587], [97, 71, 79]]]\n",
      "Items:\n",
      "[[1, 34, 17], [12, 196, 205], [5, 159, 71], [41, 18, 159], [224, 294, 3], [8, 303, 42], [52, 146, 14], [119, 164, 5], [159, 160, 8], [12, 20, 181], [319, 34, 266], [12, 188, 4], [25, 51, 26], [36, 328, 26], [308, 43, 93], [150, 6, 53], [51, 168, 138], [10, 396, 271], [255, 31, 217], [179, 312, 27], [16, 182, 40], [2, 176, 41], [31, 131, 14], [197, 12, 18], [6, 105, 5], [44, 286, 196], [57, 398, 284], [1, 76, 67], [86, 11, 37], [109, 76, 627], [62, 165, 115], [64, 23, 8], [0, 63, 11], [18, 60, 79], [126, 3, 38], [61, 5, 29], [365, 5, 39], [65, 41, 155], [203, 77, 10], [354, 33, 25], [1, 39, 73]]\n",
      "Bins:\n",
      "[[[295, 475, 459], [55, 63, 101]], [[800, 305, 335], [96, 8, 33]], [[608, 476, 577], [214, 25, 101]], [[288, 437, 509], [4, 80, 29]], [[548, 914, 40], [169, 128, 6]], [[874, 501, 107], [74, 56, 37]], [[943, 224, 369], [182, 15, 73]], [[31, 779, 346], [13, 17, 22]], [[94, 690, 722], [13, 76, 52]], [[226, 878, 788], [41, 193, 61]]]\n",
      "Items:\n",
      "[[84, 2, 50], [561, 18, 67], [198, 104, 117], [19, 235, 383], [43, 38, 12], [180, 15, 11], [152, 181, 35], [225, 333, 2], [4, 20, 1], [47, 172, 22], [23, 71, 46], [35, 130, 10], [7, 25, 3], [13, 27, 12], [202, 240, 23], [12, 47, 49], [7, 55, 7], [49, 159, 97], [4, 103, 36], [15, 193, 20], [4, 72, 59], [60, 193, 38], [528, 9, 74], [5, 2, 16], [89, 139, 79], [38, 85, 235], [18, 0, 23], [34, 97, 3], [140, 78, 54], [17, 12, 3], [419, 286, 677], [40, 29, 324], [74, 63, 321], [275, 2, 0], [291, 326, 596], [21, 138, 48]]\n",
      "Bins:\n",
      "[[[675, 756, 45], [171, 48, 5]], [[77, 413, 113], [3, 136, 16]], [[384, 552, 779], [72, 88, 135]], [[565, 809, 882], [37, 171, 70]], [[919, 88, 419], [72, 28, 20]], [[169, 492, 486], [54, 63, 17]], [[318, 375, 801], [19, 65, 258]], [[145, 399, 51], [58, 12, 3]], [[354, 528, 464], [12, 137, 91]], [[873, 41, 148], [48, 6, 20]]]\n",
      "Items:\n",
      "[[7, 13, 34], [16, 12, 116], [17, 160, 21], [56, 1, 13], [21, 27, 120], [309, 285, 38], [123, 17, 287], [322, 22, 590], [264, 30, 181], [50, 65, 100], [56, 3, 43], [17, 56, 0], [24, 52, 0], [142, 50, 30], [124, 216, 177], [43, 16, 65], [4, 16, 21], [159, 36, 399], [270, 246, 9], [417, 40, 437], [11, 0, 135], [283, 29, 292], [1, 17, 130], [202, 4, 66], [426, 77, 361], [66, 11, 68], [146, 15, 284], [110, 443, 47], [487, 446, 187], [16, 155, 135], [29, 30, 133], [17, 291, 352], [67, 50, 55], [49, 260, 276], [191, 180, 87], [24, 12, 5]]\n",
      "Bins:\n",
      "[[[398, 507, 269], [15, 42, 37]], [[842, 647, 569], [75, 16, 66]], [[588, 51, 505], [171, 10, 27]], [[370, 74, 450], [20, 17, 88]], [[536, 377, 462], [76, 114, 37]], [[110, 381, 602], [24, 82, 90]], [[190, 491, 953], [21, 16, 277]], [[824, 438, 684], [84, 70, 105]], [[772, 122, 801], [134, 19, 88]], [[663, 827, 984], [107, 146, 170]]]\n",
      "Items:\n",
      "[[93, 49, 295], [57, 324, 292], [622, 283, 27], [523, 142, 130], [7, 75, 84], [1, 331, 4], [469, 200, 295], [84, 13, 3], [73, 149, 301], [33, 150, 10], [240, 219, 77], [21, 343, 5], [21, 57, 39], [285, 154, 101], [9, 10, 86], [1, 89, 280], [56, 99, 2], [25, 102, 12], [31, 59, 29], [45, 223, 5], [129, 49, 27], [146, 289, 4], [43, 20, 65], [20, 24, 3], [0, 596, 207], [163, 400, 440], [200, 23, 108], [20, 35, 167], [21, 19, 12], [66, 19, 23], [7, 65, 1], [3, 7, 34], [54, 6, 116], [19, 60, 27], [74, 51, 55], [3, 2, 27]]\n",
      "Bins:\n",
      "[[[493, 557, 689], [74, 35, 139]], [[592, 550, 572], [16, 170, 148]], [[571, 333, 145], [52, 98, 2]], [[844, 877, 811], [18, 262, 75]], [[38, 769, 12], [9, 30, 2]], [[439, 917, 334], [133, 83, 27]], [[207, 487, 587], [35, 20, 34]], [[674, 235, 233], [129, 31, 49]], [[281, 673, 24], [65, 59, 3]], [[75, 145, 520], [19, 19, 55]]]\n",
      "Items:\n",
      "[[67, 576, 261], [198, 706, 561], [12, 94, 70], [38, 64, 54], [76, 493, 81], [33, 112, 174], [102, 1, 31], [288, 0, 45], [83, 12, 3], [250, 709, 359], [1, 174, 11], [146, 73, 95], [83, 16, 149], [13, 26, 104], [10, 29, 111], [92, 59, 178], [69, 31, 113], [73, 29, 249], [42, 13, 13], [1, 14, 11], [127, 195, 97], [0, 131, 199], [59, 56, 165], [1, 25, 236], [276, 152, 326], [44, 383, 711], [2, 37, 60], [224, 438, 308], [2, 138, 76], [63, 109, 58], [47, 23, 112], [2, 246, 45], [433, 93, 48], [208, 21, 537], [167, 22, 17], [18, 134, 438]]\n",
      "Bins:\n",
      "[[[285, 999, 950], [84, 130, 77]], [[753, 151, 108], [28, 11, 27]], [[457, 993, 636], [80, 89, 180]], [[115, 638, 881], [3, 68, 21]], [[676, 102, 982], [60, 29, 39]], [[78, 362, 433], [5, 24, 176]], [[96, 884, 974], [2, 371, 38]], [[675, 798, 941], [180, 23, 92]], [[207, 789, 446], [22, 49, 29]], [[655, 569, 526], [183, 57, 92]]]\n",
      "Items:\n",
      "[[150, 10, 420], [107, 393, 100], [102, 3, 358], [65, 77, 342], [83, 586, 25], [541, 431, 119], [272, 690, 64], [349, 79, 60], [37, 58, 32], [1, 22, 9], [127, 146, 264], [10, 20, 30], [160, 34, 254], [406, 13, 2], [125, 86, 4], [94, 66, 153], [56, 69, 709], [9, 4, 227], [70, 65, 96], [161, 66, 6], [242, 84, 21], [177, 327, 28], [62, 46, 26], [186, 652, 62], [68, 40, 57], [30, 5, 212], [17, 10, 19], [77, 311, 27], [8, 26, 136], [39, 5, 88], [58, 5, 136], [48, 35, 42], [327, 36, 2]]\n",
      "Bins:\n",
      "[[[561, 832, 239], [112, 9, 78]], [[708, 958, 278], [60, 134, 59]], [[365, 855, 110], [63, 182, 13]], [[491, 101, 422], [54, 10, 79]], [[660, 101, 947], [29, 3, 109]], [[447, 918, 539], [48, 82, 211]], [[317, 105, 888], [42, 2, 94]], [[602, 135, 431], [93, 22, 117]], [[519, 886, 282], [6, 100, 123]], [[118, 215, 942], [17, 62, 65]]]\n",
      "Items:\n",
      "[[103, 138, 13], [91, 150, 32], [29, 261, 203], [70, 237, 140], [237, 1, 55], [15, 37, 70], [300, 368, 198], [188, 459, 201], [67, 39, 136], [7, 31, 14], [606, 6, 22], [21, 120, 0], [4, 122, 22], [300, 495, 109], [29, 7, 66], [97, 225, 0], [20, 485, 262], [182, 115, 152], [71, 103, 1], [49, 7, 56], [28, 167, 430], [141, 165, 125], [53, 12, 23], [126, 60, 33], [226, 103, 180], [142, 230, 480], [301, 366, 115], [541, 22, 299], [237, 11, 171], [220, 148, 52], [169, 160, 86], [329, 276, 25], [26, 371, 2]]\n",
      "Bins:\n",
      "[[[572, 806, 192], [48, 155, 44]], [[454, 859, 562], [38, 59, 139]], [[665, 915, 442], [51, 258, 31]], [[340, 486, 325], [8, 196, 43]], [[938, 72, 118], [35, 22, 4]], [[546, 654, 360], [142, 54, 73]], [[584, 926, 888], [39, 63, 286]], [[860, 481, 869], [71, 144, 88]], [[365, 640, 316], [107, 54, 59]], [[259, 868, 524], [19, 205, 56]]]\n",
      "Items:\n",
      "[[78, 12, 284], [29, 419, 144], [633, 24, 93], [2, 13, 167], [198, 56, 0], [18, 43, 4], [116, 2, 5], [25, 22, 65], [354, 112, 645], [403, 54, 144], [185, 32, 495], [168, 45, 54], [94, 82, 47], [25, 4, 271], [47, 13, 17], [539, 703, 172], [184, 11, 131], [31, 6, 7], [16, 79, 54], [43, 61, 59], [322, 76, 223], [147, 12, 374], [160, 8, 62], [54, 153, 515], [109, 2, 70], [4, 96, 256], [192, 99, 25], [0, 38, 76], [57, 152, 19], [0, 4, 278], [369, 16, 30], [69, 1, 72], [8, 5, 211], [23, 268, 71]]\n",
      "Bins:\n",
      "[[[730, 193, 296], [65, 12, 51]], [[623, 39, 216], [136, 8, 14]], [[183, 772, 739], [43, 48, 61]], [[860, 197, 998], [308, 25, 75]], [[888, 44, 930], [14, 3, 120]], [[87, 696, 689], [1, 150, 163]], [[841, 934, 254], [110, 132, 57]], [[750, 136, 790], [57, 35, 82]], [[252, 81, 172], [18, 6, 44]], [[284, 65, 911], [44, 15, 188]]]\n",
      "Items:\n",
      "[[20, 740, 323], [112, 20, 47], [111, 143, 85], [58, 16, 4], [33, 24, 65], [89, 64, 12], [203, 548, 84], [52, 6, 0], [12, 13, 2], [39, 7, 62], [173, 352, 8], [49, 189, 83], [86, 6, 11], [30, 50, 20], [523, 676, 206], [117, 56, 6], [235, 19, 60], [267, 451, 3], [96, 12, 3], [88, 29, 228], [39, 7, 48], [64, 51, 58], [137, 96, 92], [221, 467, 514], [216, 4, 12], [114, 245, 118], [126, 79, 26], [8, 7, 1], [374, 97, 60], [247, 266, 184], [116, 93, 7], [496, 102, 77], [19, 11, 70], [7, 85, 35], [56, 133, 30], [68, 23, 35]]\n",
      "Bins:\n",
      "[[[261, 930, 587], [71, 70, 107]], [[157, 91, 42], [11, 9, 16]], [[672, 882, 335], [123, 110, 24]], [[432, 406, 459], [104, 53, 87]], [[446, 244, 193], [103, 52, 26]], [[396, 89, 313], [19, 5, 85]], [[850, 953, 200], [217, 175, 26]], [[641, 883, 921], [57, 57, 216]], [[968, 369, 187], [207, 74, 15]], [[888, 961, 47], [98, 16, 3]]]\n",
      "Items:\n",
      "[[7, 13, 3], [363, 64, 64], [14, 194, 4], [57, 21, 73], [10, 31, 75], [62, 323, 152], [163, 140, 22], [58, 10, 5], [569, 38, 247], [14, 32, 118], [249, 48, 56], [28, 75, 9], [24, 163, 98], [2, 82, 62], [103, 64, 38], [102, 107, 102], [215, 118, 37], [142, 173, 118], [282, 4, 121], [185, 272, 0], [73, 41, 29], [429, 351, 35], [8, 55, 46], [82, 33, 142], [71, 15, 21], [278, 18, 49], [83, 258, 229], [115, 76, 23], [253, 204, 562], [213, 102, 57], [437, 198, 186], [114, 69, 6], [75, 178, 18], [50, 72, 274], [150, 212, 139]]\n",
      "Bins:\n",
      "[[[395, 703, 22], [17, 145, 4]], [[191, 459, 254], [56, 39, 19]], [[565, 358, 538], [27, 20, 199]], [[334, 506, 456], [39, 197, 26]], [[758, 401, 907], [177, 19, 265]], [[945, 150, 459], [70, 43, 83]], [[231, 373, 505], [51, 11, 54]], [[955, 683, 145], [88, 90, 28]], [[364, 524, 322], [67, 59, 54]], [[999, 412, 439], [65, 92, 95]]]\n",
      "Items:\n",
      "[[58, 48, 13], [51, 61, 3], [387, 59, 5], [15, 67, 149], [8, 1, 307], [22, 31, 35], [5, 90, 60], [123, 134, 280], [10, 47, 38], [368, 219, 20], [89, 106, 60], [80, 65, 10], [6, 51, 5], [30, 45, 107], [54, 420, 4], [22, 70, 14], [325, 33, 211], [12, 250, 335], [11, 1, 118], [19, 757, 77], [126, 47, 213], [254, 498, 35], [257, 109, 12], [41, 22, 0], [108, 241, 302], [165, 31, 2], [83, 185, 9], [38, 10, 138], [179, 44, 266], [177, 114, 297], [44, 42, 0], [105, 5, 9], [39, 70, 0], [12, 17, 165], [61, 29, 131], [34, 49, 12]]\n",
      "Bins:\n",
      "[[[348, 859, 18], [77, 81, 2]], [[239, 411, 582], [38, 33, 159]], [[46, 373, 739], [7, 39, 90]], [[460, 224, 318], [40, 34, 42]], [[270, 67, 845], [45, 12, 134]], [[511, 223, 684], [43, 31, 172]], [[525, 425, 335], [5, 111, 56]], [[434, 819, 472], [35, 156, 122]], [[868, 239, 63], [61, 18, 24]], [[102, 983, 210], [34, 40, 23]]]\n",
      "Items:\n",
      "[[0, 37, 218], [15, 327, 23], [14, 262, 61], [11, 485, 334], [8, 219, 537], [190, 99, 526], [0, 116, 33], [11, 69, 70], [113, 23, 3], [406, 249, 183], [163, 275, 19], [18, 53, 27], [4, 70, 100], [12, 77, 144], [50, 143, 1], [4, 71, 70], [79, 394, 15], [86, 184, 48], [18, 441, 520], [118, 281, 127], [1, 24, 346], [37, 64, 472], [5, 130, 46], [139, 36, 4], [73, 53, 11], [9, 172, 0], [8, 172, 261], [95, 24, 19], [0, 377, 0], [119, 73, 9], [43, 5, 54], [335, 177, 42], [277, 107, 14], [535, 154, 196], [105, 8, 5]]\n",
      "Bins:\n",
      "[[[635, 232, 68], [56, 11, 17]], [[195, 361, 819], [27, 31, 161]], [[403, 706, 41], [66, 122, 3]], [[138, 922, 696], [18, 123, 18]], [[378, 497, 822], [27, 112, 115]], [[999, 878, 583], [176, 132, 39]], [[40, 629, 859], [17, 21, 75]], [[720, 868, 305], [137, 82, 42]], [[106, 393, 643], [3, 44, 274]], [[15, 683, 700], [1, 40, 254]]]\n",
      "Items:\n",
      "[[363, 477, 35], [172, 160, 70], [43, 588, 560], [4, 4, 3], [7, 341, 175], [81, 195, 183], [27, 16, 90], [101, 55, 62], [387, 5, 107], [2, 111, 162], [101, 85, 27], [135, 18, 241], [326, 234, 14], [5, 77, 0], [256, 12, 54], [294, 265, 263], [112, 60, 35], [331, 157, 142], [228, 68, 22], [76, 89, 11], [106, 3, 37], [183, 6, 27], [2, 99, 0], [36, 0, 184], [38, 9, 115], [618, 381, 48], [144, 18, 142], [8, 164, 244], [175, 68, 285], [20, 169, 264], [27, 35, 90], [48, 71, 79], [3, 0, 17], [79, 43, 7], [10, 3, 21]]\n",
      "Bins:\n",
      "[[[863, 915, 397], [124, 310, 23]], [[569, 270, 842], [19, 8, 389]], [[435, 466, 23], [28, 90, 2]], [[539, 789, 56], [95, 146, 10]], [[971, 91, 467], [153, 6, 21]], [[613, 450, 383], [106, 40, 58]], [[53, 386, 613], [5, 102, 92]], [[386, 670, 619], [45, 116, 43]], [[696, 897, 875], [161, 40, 83]], [[174, 12, 274], [15, 2, 12]]]\n",
      "Items:\n",
      "[[6, 4, 15], [170, 34, 38], [92, 29, 1], [339, 5, 32], [156, 124, 19], [103, 11, 18], [180, 125, 32], [4, 47, 55], [22, 72, 133], [50, 156, 116], [378, 164, 51], [8, 32, 6], [15, 25, 200], [75, 171, 170], [56, 35, 367], [9, 208, 209], [457, 124, 131], [343, 301, 275], [11, 93, 0], [120, 48, 9], [10, 12, 115], [1, 93, 293], [11, 147, 18], [116, 39, 47], [11, 249, 77], [8, 8, 11], [460, 630, 107], [51, 8, 146], [145, 148, 26], [20, 51, 114], [14, 368, 12], [16, 16, 8], [192, 337, 376], [22, 2, 252], [3, 62, 27], [9, 3, 4], [286, 15, 105], [107, 95, 3], [66, 14, 8], [23, 211, 52]]\n",
      "Bins:\n",
      "[[[71, 857, 925], [5, 24, 161]], [[473, 576, 685], [92, 133, 16]], [[310, 327, 186], [18, 75, 38]], [[834, 907, 276], [106, 19, 107]], [[500, 522, 859], [31, 42, 268]], [[273, 219, 483], [85, 22, 68]], [[748, 315, 338], [22, 37, 137]], [[231, 786, 36], [88, 83, 3]], [[987, 59, 512], [306, 4, 8]], [[604, 211, 220], [113, 24, 36]]]\n",
      "Items:\n",
      "[[27, 10, 156], [395, 154, 57], [120, 7, 67], [86, 67, 6], [131, 46, 32], [103, 4, 152], [7, 147, 116], [130, 207, 6], [41, 2, 1], [8, 27, 307], [66, 43, 102], [166, 58, 23], [54, 7, 160], [11, 9, 23], [68, 42, 22], [11, 8, 19], [132, 29, 473], [496, 12, 496], [95, 57, 144], [74, 123, 282], [23, 41, 20], [596, 86, 180], [605, 405, 60], [38, 31, 144], [373, 82, 237], [320, 336, 134], [519, 28, 174], [107, 5, 26], [45, 0, 348], [10, 36, 156], [94, 1, 40], [134, 14, 51]]\n",
      "Bins:\n",
      "[[[100, 56, 207], [27, 1, 8]], [[789, 171, 756], [9, 20, 349]], [[620, 457, 249], [120, 53, 69]], [[646, 20, 958], [47, 4, 310]], [[899, 357, 597], [89, 22, 171]], [[940, 679, 377], [183, 91, 31]], [[239, 96, 965], [20, 11, 287]], [[500, 168, 311], [59, 44, 52]], [[773, 323, 619], [115, 94, 57]], [[373, 160, 560], [125, 23, 51]]]\n",
      "Items:\n",
      "[[246, 148, 43], [123, 119, 170], [142, 199, 12], [52, 10, 16], [354, 172, 345], [85, 235, 39], [1, 251, 85], [30, 279, 35], [115, 106, 4], [9, 31, 64], [53, 52, 50], [56, 150, 401], [71, 235, 288], [187, 385, 44], [1, 218, 55], [65, 178, 303], [105, 268, 331], [78, 67, 117], [5, 11, 170], [77, 76, 10], [5, 30, 1], [118, 141, 34], [331, 41, 5], [2, 148, 327], [43, 52, 8], [68, 28, 13], [125, 7, 42], [41, 179, 49], [76, 49, 110], [2, 47, 85], [6, 8, 3], [22, 70, 0], [8, 724, 65], [23, 19, 49], [353, 161, 35], [450, 130, 16], [185, 134, 60]]\n",
      "Bins:\n",
      "[[[792, 357, 97], [97, 27, 15]], [[914, 402, 34], [259, 68, 1]], [[323, 649, 653], [84, 95, 97]], [[336, 838, 515], [38, 177, 137]], [[568, 720, 869], [64, 135, 182]], [[57, 530, 502], [9, 65, 27]], [[440, 860, 514], [58, 233, 39]], [[77, 973, 237], [7, 166, 58]], [[581, 748, 103], [45, 209, 7]], [[325, 300, 601], [39, 44, 78]]]\n",
      "Items:\n",
      "[[110, 82, 150], [110, 25, 36], [238, 164, 348], [16, 5, 103], [111, 363, 26], [2, 435, 157], [16, 21, 31], [754, 208, 191], [2, 25, 27], [89, 21, 6], [124, 11, 183], [15, 26, 0], [419, 163, 248], [212, 16, 13], [39, 131, 63], [24, 50, 7], [148, 48, 67], [190, 91, 264], [40, 515, 119], [435, 153, 19], [1, 11, 41], [107, 104, 119], [0, 54, 45], [33, 23, 14], [3, 29, 88], [182, 15, 38], [164, 88, 14], [4, 1, 6], [0, 6, 31], [100, 63, 13], [36, 47, 13], [9, 27, 17], [102, 117, 18], [69, 47, 123], [93, 27, 43], [87, 39, 41], [40, 114, 19], [37, 1, 87], [8, 6, 118], [3, 128, 46]]\n",
      "Bins:\n",
      "[[[209, 148, 83], [7, 20, 29]], [[455, 249, 456], [69, 37, 41]], [[516, 196, 580], [110, 9, 115]], [[977, 470, 88], [448, 26, 4]], [[795, 591, 474], [102, 39, 83]], [[989, 887, 387], [195, 164, 77]], [[24, 562, 404], [12, 1, 9]], [[615, 293, 102], [119, 45, 22]], [[461, 336, 642], [62, 71, 122]], [[347, 181, 352], [92, 1, 74]]]\n",
      "Items:\n",
      "[[43, 34, 209], [59, 118, 324], [21, 37, 0], [229, 72, 4], [0, 185, 276], [66, 43, 13], [103, 481, 33], [148, 12, 7], [351, 73, 102], [6, 11, 115], [7, 51, 45], [207, 189, 81], [474, 7, 157], [584, 333, 28], [176, 78, 71], [28, 543, 340], [177, 120, 288], [278, 182, 49], [80, 83, 558], [2, 164, 116], [182, 21, 32], [315, 25, 78], [21, 43, 71], [60, 66, 0], [66, 417, 60], [475, 79, 85], [15, 3, 3], [148, 218, 60], [9, 7, 70], [7, 147, 291], [52, 185, 1], [265, 18, 25], [6, 70, 33]]\n",
      "Bins:\n",
      "[[[960, 599, 187], [237, 82, 10]], [[937, 510, 319], [101, 66, 87]], [[129, 747, 695], [45, 49, 68]], [[201, 175, 17], [39, 26, 1]], [[928, 360, 381], [130, 57, 93]], [[274, 422, 394], [24, 74, 34]], [[209, 187, 623], [39, 10, 140]], [[360, 420, 495], [93, 53, 78]], [[820, 963, 507], [74, 31, 122]], [[718, 227, 745], [94, 47, 105]]]\n",
      "Items:\n",
      "[[27, 8, 18], [7, 46, 111], [69, 347, 136], [217, 34, 102], [12, 484, 44], [0, 23, 54], [4, 83, 29], [97, 156, 71], [8, 14, 22], [70, 15, 498], [28, 146, 209], [17, 10, 107], [1, 178, 317], [32, 336, 240], [184, 249, 211], [6, 12, 87], [129, 247, 168], [301, 244, 31], [78, 78, 0], [20, 9, 12], [2, 73, 87], [26, 379, 31], [115, 9, 51], [39, 12, 15], [78, 0, 222], [24, 16, 8], [22, 95, 302], [188, 26, 178], [199, 37, 22], [92, 33, 4], [44, 98, 95], [123, 66, 184], [108, 38, 64], [74, 9, 26], [301, 206, 61], [106, 11, 50], [87, 84, 60], [42, 29, 40]]\n",
      "Bins:\n",
      "[[[448, 451, 664], [70, 37, 66]], [[413, 877, 458], [22, 87, 49]], [[237, 687, 875], [34, 97, 37]], [[566, 267, 114], [58, 10, 9]], [[465, 464, 311], [120, 23, 10]], [[170, 249, 689], [8, 78, 96]], [[81, 215, 523], [5, 5, 133]], [[256, 47, 118], [11, 11, 9]], [[22, 779, 563], [2, 71, 91]], [[705, 562, 168], [56, 239, 16]]]\n",
      "Items:\n",
      "[[450, 50, 184], [65, 50, 99], [111, 513, 336], [406, 109, 37], [26, 75, 2], [12, 0, 29], [113, 5, 152], [1, 8, 11], [337, 1, 195], [157, 186, 352], [224, 276, 50], [19, 54, 382], [90, 15, 117], [132, 108, 235], [23, 2, 58], [102, 40, 205], [110, 72, 52], [52, 34, 360], [85, 32, 6], [227, 38, 45], [191, 8, 20], [14, 21, 56], [59, 10, 27], [28, 15, 130], [11, 16, 13], [150, 20, 426], [314, 159, 258], [79, 45, 76], [190, 35, 35], [124, 132, 45], [313, 51, 17], [71, 13, 251], [14, 20, 145], [248, 38, 631], [6, 10, 51], [121, 2, 7], [4, 14, 317], [7, 19, 57], [176, 320, 86]]\n",
      "Bins:\n",
      "[[[391, 184, 290], [53, 53, 2]], [[447, 377, 531], [95, 49, 78]], [[437, 18, 705], [73, 1, 135]], [[982, 613, 280], [72, 178, 41]], [[497, 137, 655], [30, 12, 73]], [[910, 786, 756], [229, 56, 43]], [[335, 717, 537], [30, 271, 17]], [[792, 216, 725], [159, 53, 51]], [[702, 252, 941], [95, 68, 30]], [[234, 67, 666], [29, 10, 61]]]\n",
      "Items:\n",
      "[[10, 135, 94], [26, 3, 2], [153, 2, 155], [135, 33, 93], [264, 214, 94], [8, 102, 21], [97, 1, 99], [327, 138, 2], [104, 38, 5], [88, 110, 18], [497, 641, 150], [230, 73, 287], [203, 115, 121], [4, 232, 201], [244, 84, 258], [283, 96, 441], [113, 58, 135], [6, 89, 19], [93, 26, 41], [242, 319, 88], [28, 17, 43], [263, 216, 56], [146, 6, 137], [42, 33, 137], [133, 70, 2], [82, 57, 15], [239, 135, 50], [375, 118, 116], [402, 666, 72], [38, 142, 11], [303, 25, 191]]\n",
      "Bins:\n",
      "[[[434, 305, 304], [30, 14, 70]], [[716, 368, 386], [35, 45, 31]], [[209, 389, 600], [10, 122, 107]], [[893, 352, 266], [106, 2, 66]], [[453, 450, 144], [69, 37, 24]], [[869, 902, 513], [128, 177, 105]], [[56, 273, 125], [12, 33, 8]], [[888, 175, 897], [167, 21, 172]], [[569, 890, 92], [63, 186, 15]], [[855, 664, 456], [144, 137, 31]]]\n",
      "Items:\n",
      "[[85, 1, 309], [49, 63, 504], [290, 9, 29], [19, 30, 44], [103, 137, 432], [11, 187, 13], [19, 0, 378], [80, 4, 12], [35, 101, 309], [51, 139, 2], [51, 35, 50], [16, 71, 24], [1, 50, 24], [58, 1, 17], [239, 9, 210], [7, 8, 32], [31, 228, 150], [35, 5, 338], [28, 98, 17], [13, 161, 61], [71, 372, 171], [21, 91, 44], [36, 7, 329], [208, 93, 117], [102, 328, 170], [417, 234, 327], [26, 175, 61], [103, 298, 35], [23, 15, 47], [154, 12, 233], [4, 22, 211], [4, 492, 95], [10, 24, 157], [15, 77, 26], [258, 7, 135], [224, 180, 51]]\n",
      "Bins:\n",
      "[[[78, 988, 769], [4, 342, 126]], [[504, 982, 323], [75, 176, 67]], [[82, 329, 455], [5, 7, 202]], [[89, 327, 99], [4, 81, 27]], [[198, 14, 949], [5, 2, 213]], [[305, 350, 896], [25, 3, 199]], [[389, 34, 911], [61, 2, 181]], [[723, 196, 794], [125, 3, 50]], [[67, 679, 417], [8, 230, 34]], [[949, 813, 743], [175, 102, 93]]]\n",
      "Items:\n",
      "[[13, 407, 332], [1, 84, 155], [8, 20, 138], [1, 71, 9], [40, 225, 11], [162, 109, 76], [6, 146, 3], [21, 126, 29], [228, 38, 557], [11, 10, 55], [78, 62, 12], [60, 0, 18], [202, 3, 33], [24, 33, 11], [8, 0, 76], [31, 48, 15], [147, 63, 17], [8, 38, 219], [224, 24, 196], [15, 19, 35], [550, 5, 354], [123, 155, 39], [35, 15, 89], [659, 40, 170], [45, 294, 2], [14, 99, 10], [245, 224, 9], [155, 0, 176], [75, 128, 45], [52, 59, 425], [64, 29, 62], [17, 76, 64], [539, 375, 180], [132, 1, 227], [241, 13, 69]]\n",
      "Bins:\n",
      "[[[951, 920, 218], [98, 251, 8]], [[86, 128, 794], [11, 12, 115]], [[886, 462, 367], [50, 75, 84]], [[402, 74, 308], [54, 21, 32]], [[174, 166, 389], [9, 56, 21]], [[775, 912, 615], [223, 130, 103]], [[47, 674, 112], [2, 255, 7]], [[765, 204, 553], [18, 75, 34]], [[560, 65, 934], [169, 7, 63]], [[261, 331, 108], [39, 15, 13]]]\n",
      "Items:\n",
      "[[354, 73, 20], [22, 45, 16], [56, 55, 128], [390, 769, 310], [26, 89, 120], [60, 67, 92], [512, 56, 621], [169, 10, 4], [283, 63, 10], [71, 73, 142], [151, 18, 177], [305, 2, 14], [1, 23, 45], [9, 1, 2], [192, 239, 234], [65, 286, 12], [625, 428, 125], [342, 268, 51], [123, 27, 87], [148, 4, 299], [18, 190, 21], [359, 107, 129], [585, 124, 494], [52, 98, 20], [330, 431, 82], [236, 6, 68], [448, 369, 85], [104, 142, 128], [16, 108, 56], [301, 80, 75], [15, 11, 45], [52, 26, 42], [187, 109, 87], [51, 54, 109], [148, 124, 221], [186, 22, 13], [130, 213, 22], [114, 200, 125], [6, 49, 0]]\n",
      "Bins:\n",
      "[[[953, 708, 250], [141, 171, 38]], [[907, 614, 904], [26, 109, 48]], [[905, 317, 700], [150, 12, 53]], [[911, 779, 347], [152, 25, 73]], [[971, 979, 498], [176, 83, 59]], [[558, 394, 546], [32, 9, 280]], [[769, 487, 973], [49, 240, 39]], [[891, 701, 347], [14, 62, 64]], [[787, 496, 399], [58, 82, 86]], [[402, 431, 135], [14, 54, 28]]]\n",
      "Items:\n",
      "[[46, 63, 213], [50, 6, 89], [5, 16, 48], [105, 496, 197], [17, 16, 21], [176, 20, 17], [15, 62, 140], [170, 4, 77], [139, 4, 85], [88, 257, 53], [39, 46, 4], [71, 136, 95], [6, 6, 99], [53, 66, 72], [18, 37, 12], [264, 113, 155], [185, 621, 381], [323, 481, 196], [269, 273, 426], [18, 48, 7], [225, 36, 105], [9, 122, 20], [1, 56, 55], [280, 64, 29], [212, 14, 6], [63, 19, 101], [3, 56, 388], [60, 36, 58], [43, 409, 259], [255, 28, 300], [265, 164, 573], [50, 16, 106], [80, 28, 205], [27, 7, 74]]\n",
      "Bins:\n",
      "[[[139, 135, 716], [40, 10, 26]], [[231, 680, 289], [73, 118, 20]], [[76, 555, 371], [14, 42, 50]], [[510, 655, 670], [36, 10, 174]], [[590, 458, 860], [32, 205, 64]], [[953, 261, 647], [94, 20, 105]], [[710, 48, 108], [152, 10, 8]], [[278, 903, 828], [37, 75, 165]], [[728, 346, 658], [240, 34, 25]], [[155, 327, 226], [22, 18, 70]]]\n",
      "Items:\n",
      "[[675, 123, 132], [2, 155, 21], [132, 168, 1], [91, 10, 52], [32, 119, 294], [51, 40, 263], [7, 120, 2], [279, 279, 623], [163, 141, 48], [66, 17, 183], [8, 1, 8], [14, 48, 12], [39, 38, 55], [59, 15, 42], [101, 34, 97], [62, 44, 18], [549, 29, 41], [174, 20, 177], [436, 360, 130], [15, 66, 100], [378, 9, 96], [15, 164, 26], [719, 58, 115], [159, 5, 31], [81, 237, 249], [1, 38, 63], [149, 559, 18], [2, 8, 53], [409, 37, 129], [199, 114, 54], [526, 38, 25], [10, 9, 37], [3, 54, 277], [34, 20, 27], [46, 75, 50], [93, 186, 59], [222, 64, 3]]\n",
      "Bins:\n",
      "[[[911, 155, 542], [62, 12, 233]], [[46, 541, 391], [17, 40, 12]], [[930, 734, 375], [343, 64, 21]], [[959, 451, 801], [53, 100, 56]], [[864, 133, 520], [65, 7, 128]], [[835, 399, 250], [64, 107, 19]], [[108, 105, 42], [24, 12, 4]], [[941, 131, 311], [58, 5, 62]], [[967, 596, 862], [70, 68, 79]], [[211, 869, 167], [15, 197, 36]]]\n",
      "Items:\n",
      "[[223, 456, 99], [28, 1, 18], [239, 108, 264], [432, 13, 4], [234, 133, 357], [61, 126, 5], [37, 35, 6], [46, 13, 160], [145, 256, 148], [8, 24, 28], [51, 131, 28], [22, 31, 198], [104, 44, 269], [92, 40, 159], [102, 134, 44], [12, 127, 3], [100, 14, 2], [153, 5, 4], [55, 232, 155], [19, 75, 79], [249, 138, 145], [132, 179, 3], [64, 179, 6], [84, 10, 255], [3, 262, 181], [12, 494, 38], [54, 127, 550], [4, 135, 158], [112, 243, 8], [239, 15, 32], [120, 20, 44], [252, 3, 417], [55, 164, 18], [82, 3, 21], [82, 170, 18], [53, 32, 16], [52, 310, 79], [49, 64, 12], [79, 96, 273]]\n",
      "Bins:\n",
      "[[[339, 919, 861], [10, 116, 247]], [[711, 23, 61], [16, 1, 14]], [[315, 602, 27], [41, 121, 5]], [[312, 988, 107], [93, 271, 2]], [[338, 276, 107], [25, 21, 16]], [[897, 324, 984], [309, 31, 97]], [[507, 573, 898], [55, 82, 178]], [[461, 295, 851], [51, 51, 155]], [[384, 963, 845], [34, 135, 234]], [[341, 530, 644], [31, 22, 133]]]\n",
      "Items:\n",
      "[[1, 27, 508], [238, 389, 73], [81, 46, 4], [324, 13, 177], [44, 5, 56], [332, 79, 185], [38, 104, 85], [106, 8, 68], [56, 233, 1], [167, 100, 395], [22, 17, 3], [71, 10, 66], [15, 201, 255], [28, 41, 155], [24, 18, 150], [7, 41, 56], [30, 48, 128], [23, 352, 357], [127, 358, 303], [40, 25, 54], [15, 10, 169], [63, 19, 24], [42, 214, 62], [0, 135, 158], [55, 21, 56], [447, 200, 119], [19, 15, 452], [151, 11, 517], [9, 94, 33], [42, 15, 21], [127, 356, 47], [34, 317, 95], [34, 37, 24], [26, 296, 4], [644, 42, 358], [179, 19, 123]]\n",
      "Bins:\n",
      "[[[467, 80, 800], [85, 10, 155]], [[563, 509, 575], [30, 98, 135]], [[910, 114, 619], [23, 21, 114]], [[112, 440, 686], [38, 51, 64]], [[85, 810, 618], [19, 47, 133]], [[254, 372, 617], [24, 118, 40]], [[477, 351, 501], [53, 146, 9]], [[167, 474, 986], [12, 196, 97]], [[392, 882, 509], [100, 64, 74]], [[729, 721, 361], [111, 86, 110]]]\n",
      "Items:\n",
      "[[7, 24, 74], [12, 446, 17], [4, 31, 51], [230, 56, 5], [2, 224, 59], [15, 7, 76], [122, 72, 93], [26, 3, 84], [439, 77, 103], [7, 104, 27], [118, 19, 300], [302, 133, 117], [500, 17, 12], [6, 135, 142], [102, 27, 100], [136, 59, 35], [106, 90, 142], [26, 324, 33], [420, 21, 175], [195, 30, 129], [110, 86, 42], [26, 3, 51], [12, 222, 69], [50, 83, 333], [345, 159, 17], [91, 11, 59], [54, 127, 35], [41, 46, 58], [140, 362, 12], [12, 249, 45], [52, 387, 137], [24, 26, 33], [28, 67, 582], [65, 210, 6], [135, 30, 337], [304, 25, 201], [250, 11, 34]]\n",
      "Bins:\n",
      "[[[296, 135, 524], [52, 13, 80]], [[453, 194, 885], [30, 91, 43]], [[614, 677, 669], [82, 101, 178]], [[739, 427, 92], [77, 27, 12]], [[743, 827, 367], [94, 80, 40]], [[184, 938, 638], [4, 161, 17]], [[746, 101, 380], [37, 36, 62]], [[583, 257, 368], [9, 46, 54]], [[540, 522, 217], [85, 39, 29]], [[102, 666, 233], [16, 147, 33]]]\n",
      "Items:\n",
      "[[118, 24, 39], [9, 88, 27], [88, 26, 28], [1, 18, 17], [533, 129, 236], [490, 87, 102], [147, 278, 8], [64, 67, 28], [24, 19, 42], [56, 50, 290], [92, 124, 247], [16, 447, 0], [399, 55, 59], [202, 18, 126], [179, 61, 226], [316, 93, 110], [176, 32, 22], [108, 65, 38], [23, 428, 125], [116, 163, 61], [16, 7, 112], [91, 24, 1], [14, 178, 35], [143, 216, 49], [514, 159, 1], [349, 39, 48], [159, 61, 1], [19, 16, 2], [174, 80, 142], [107, 240, 137], [205, 116, 67], [16, 60, 9], [44, 82, 68], [341, 5, 5], [35, 51, 339], [7, 112, 127], [174, 306, 44], [58, 55, 366], [148, 520, 301]]\n",
      "Bins:\n",
      "[[[890, 635, 537], [74, 202, 73]], [[948, 963, 314], [22, 342, 11]], [[664, 760, 339], [144, 54, 10]], [[169, 986, 621], [11, 248, 145]], [[958, 173, 590], [348, 7, 66]], [[744, 415, 159], [53, 30, 17]], [[114, 243, 200], [47, 18, 3]], [[914, 991, 758], [90, 126, 172]], [[337, 191, 393], [58, 9, 6]], [[956, 294, 466], [76, 16, 189]]]\n",
      "Items:\n",
      "[[42, 89, 62], [267, 46, 263], [78, 157, 729], [172, 436, 121], [46, 534, 58], [59, 74, 74], [219, 63, 3], [67, 5, 141], [95, 90, 4], [138, 285, 10], [8, 6, 2], [248, 102, 20], [177, 162, 474], [7, 5, 105], [118, 118, 6], [89, 3, 18], [96, 277, 18], [86, 237, 18], [644, 178, 2], [78, 23, 26], [18, 168, 54], [34, 41, 49], [232, 21, 263], [9, 258, 272], [35, 508, 184], [6, 38, 165], [7, 8, 14], [263, 59, 106], [708, 353, 102], [113, 18, 4]]\n",
      "Bins:\n",
      "[[[471, 608, 457], [67, 151, 73]], [[319, 514, 991], [107, 66, 76]], [[284, 428, 38], [62, 27, 12]], [[571, 460, 19], [119, 22, 2]], [[95, 785, 267], [18, 188, 21]], [[889, 261, 395], [59, 22, 83]], [[775, 135, 417], [156, 27, 30]], [[405, 413, 350], [70, 30, 32]], [[941, 698, 705], [56, 183, 129]], [[132, 836, 324], [9, 60, 138]]]\n",
      "Items:\n",
      "[[17, 11, 217], [1, 76, 19], [65, 107, 14], [164, 41, 112], [7, 4, 185], [16, 84, 206], [1, 337, 105], [8, 137, 31], [116, 340, 30], [485, 79, 286], [72, 77, 224], [1, 214, 511], [13, 214, 243], [555, 116, 12], [62, 49, 105], [13, 227, 34], [38, 6, 31], [19, 7, 194], [62, 29, 21], [25, 27, 125], [243, 24, 226], [7, 76, 22], [31, 88, 156], [5, 145, 665], [35, 219, 27], [99, 17, 117], [182, 42, 635], [191, 24, 295], [49, 192, 193], [51, 14, 49], [151, 155, 98], [199, 102, 304], [80, 30, 59], [257, 11, 52], [9, 135, 51], [108, 6, 252], [22, 19, 73], [77, 46, 5]]\n",
      "Bins:\n",
      "[[[457, 197, 959], [158, 14, 19]], [[352, 877, 319], [84, 45, 86]], [[104, 542, 543], [6, 51, 116]], [[234, 53, 919], [33, 4, 90]], [[117, 896, 757], [7, 260, 42]], [[613, 379, 451], [42, 41, 110]], [[389, 484, 982], [43, 62, 190]], [[770, 252, 349], [139, 27, 27]], [[468, 354, 641], [27, 99, 14]], [[609, 100, 862], [38, 4, 104]]]\n",
      "Items:\n",
      "[[53, 73, 0], [17, 245, 267], [120, 103, 377], [15, 44, 405], [30, 44, 133], [120, 52, 57], [32, 194, 106], [17, 98, 98], [4, 112, 38], [380, 42, 5], [44, 62, 14], [258, 231, 288], [102, 429, 27], [63, 20, 5], [27, 51, 89], [215, 248, 180], [282, 124, 359], [84, 256, 2], [443, 60, 262], [1, 1, 6], [54, 143, 29], [12, 249, 60], [421, 29, 74], [121, 142, 60], [137, 3, 17], [3, 119, 343], [202, 61, 98], [26, 88, 82], [271, 47, 8], [24, 59, 5], [12, 18, 10], [10, 76, 12], [37, 310, 135], [97, 75, 305], [9, 27, 358], [1, 64, 99], [135, 28, 206], [42, 238, 14], [0, 245, 11]]\n",
      "Bins:\n",
      "[[[731, 561, 88], [88, 28, 34]], [[676, 492, 852], [40, 49, 359]], [[828, 268, 343], [84, 36, 111]], [[263, 234, 596], [62, 12, 110]], [[197, 349, 339], [4, 72, 12]], [[73, 823, 502], [10, 64, 59]], [[773, 376, 788], [28, 23, 224]], [[158, 579, 655], [4, 72, 120]], [[115, 914, 885], [27, 192, 75]], [[465, 652, 805], [11, 190, 105]]]\n",
      "Items:\n",
      "[[235, 56, 1], [49, 147, 59], [3, 95, 44], [1, 93, 13], [307, 65, 54], [74, 3, 79], [122, 39, 94], [261, 403, 220], [23, 25, 6], [742, 84, 742], [7, 1, 341], [6, 345, 323], [61, 30, 61], [2, 27, 56], [120, 12, 17], [80, 25, 69], [29, 691, 93], [72, 160, 29], [343, 29, 26], [32, 17, 33], [20, 28, 109], [333, 25, 12], [2, 38, 12], [101, 40, 0], [7, 178, 355], [1, 36, 191], [17, 83, 9], [129, 1, 28], [48, 173, 67], [21, 210, 418], [5, 256, 3], [52, 210, 109], [74, 149, 38], [67, 131, 11], [671, 56, 111], [86, 69, 18], [37, 245, 103], [92, 104, 8], [390, 7, 100], [4, 56, 20]]\n",
      "Bins:\n",
      "[[[844, 202, 108], [67, 17, 16]], [[19, 864, 952], [2, 153, 217]], [[220, 801, 113], [25, 118, 2]], [[944, 959, 986], [44, 183, 123]], [[471, 719, 487], [65, 59, 64]], [[573, 320, 134], [33, 82, 32]], [[123, 101, 227], [25, 14, 19]], [[243, 452, 819], [93, 8, 74]], [[816, 410, 249], [68, 33, 27]], [[899, 314, 973], [4, 33, 392]]]\n",
      "Items:\n",
      "[[76, 83, 123], [177, 279, 350], [4, 44, 7], [66, 24, 62], [6, 18, 5], [64, 120, 90], [47, 48, 13], [13, 11, 301], [31, 253, 39], [44, 12, 31], [338, 179, 23], [297, 17, 88], [61, 96, 260], [94, 235, 102], [4, 18, 55], [50, 86, 9], [2, 28, 163], [14, 0, 89], [32, 8, 149], [12, 7, 125], [1, 161, 428], [21, 466, 80], [33, 127, 0], [209, 72, 240], [6, 5, 25], [1, 117, 99], [63, 282, 575], [2, 51, 138], [419, 246, 94], [11, 68, 106], [20, 14, 245], [371, 0, 470], [209, 24, 109], [32, 316, 132], [26, 18, 121], [1, 7, 733], [28, 251, 29]]\n",
      "Bins:\n",
      "[[[52, 734, 944], [6, 58, 219]], [[487, 284, 190], [111, 79, 13]], [[279, 472, 766], [44, 32, 17]], [[655, 32, 635], [75, 8, 56]], [[744, 326, 186], [212, 8, 17]], [[158, 458, 367], [35, 71, 73]], [[218, 386, 836], [112, 13, 9]], [[223, 921, 968], [13, 165, 58]], [[572, 160, 511], [18, 41, 97]], [[135, 677, 936], [12, 184, 72]]]\n",
      "Items:\n",
      "[[4, 7, 18], [176, 3, 143], [77, 68, 180], [53, 66, 1], [282, 175, 27], [187, 12, 105], [117, 129, 3], [71, 4, 20], [196, 7, 316], [39, 296, 0], [6, 71, 40], [35, 71, 3], [37, 152, 5], [259, 21, 152], [43, 8, 144], [685, 177, 8], [23, 136, 205], [162, 29, 382], [27, 31, 55], [68, 20, 140], [203, 97, 265], [94, 13, 115], [230, 215, 188], [161, 13, 138], [139, 378, 260], [13, 12, 61], [1, 42, 19], [597, 87, 144], [100, 9, 154], [13, 223, 1], [1, 1, 28], [33, 2, 163], [10, 63, 0], [180, 75, 88], [0, 153, 16], [280, 82, 5], [128, 20, 395]]\n",
      "Bins:\n",
      "[[[646, 143, 967], [110, 24, 196]], [[393, 35, 573], [140, 7, 24]], [[113, 683, 26], [27, 19, 5]], [[962, 502, 809], [44, 164, 152]], [[288, 413, 564], [35, 62, 171]], [[957, 483, 205], [43, 150, 31]], [[259, 659, 518], [20, 197, 103]], [[502, 722, 12], [39, 222, 2]], [[590, 34, 309], [152, 8, 23]], [[670, 158, 871], [40, 11, 160]]]\n",
      "Items:\n",
      "[[134, 190, 42], [196, 122, 4], [131, 192, 76], [218, 147, 294], [30, 9, 37], [173, 571, 272], [16, 199, 32], [29, 47, 4], [42, 265, 42], [72, 9, 60], [31, 97, 99], [338, 189, 393], [548, 44, 34], [25, 57, 3], [67, 38, 108], [155, 131, 27], [277, 75, 36], [50, 24, 1], [192, 140, 413], [40, 38, 115], [261, 14, 348], [483, 194, 361], [2, 74, 178], [395, 119, 229], [1, 324, 295], [46, 114, 29], [14, 47, 3], [22, 374, 443], [259, 110, 350], [41, 87, 28], [74, 71, 46], [167, 63, 54], [2, 74, 178], [44, 3, 22], [37, 4, 200], [214, 17, 54], [170, 38, 250], [339, 314, 17], [366, 113, 156], [31, 356, 57]]\n",
      "Bins:\n",
      "[[[440, 323, 108], [42, 92, 11]], [[889, 807, 745], [125, 143, 66]], [[908, 606, 730], [239, 71, 35]], [[528, 869, 474], [119, 138, 83]], [[28, 580, 945], [2, 58, 146]], [[852, 352, 989], [124, 27, 190]], [[751, 315, 400], [47, 111, 5]], [[746, 807, 110], [140, 212, 3]], [[698, 791, 872], [59, 53, 191]], [[799, 784, 765], [10, 235, 18]]]\n",
      "Items:\n",
      "[[249, 148, 82], [218, 2, 364], [89, 340, 167], [34, 188, 56], [21, 20, 100], [125, 517, 149], [40, 88, 142], [8, 443, 482], [151, 92, 127], [11, 38, 7], [84, 64, 1], [258, 247, 23], [357, 172, 6], [4, 215, 87], [235, 3, 0], [100, 0, 89], [22, 310, 3], [25, 101, 157], [71, 34, 31], [363, 8, 205], [26, 207, 91], [4, 58, 112], [63, 36, 309], [71, 141, 10], [23, 1, 30], [31, 258, 2], [30, 21, 160], [44, 43, 3], [1, 43, 66], [47, 259, 247], [28, 12, 24], [251, 89, 248], [250, 305, 46], [51, 158, 105], [111, 256, 142], [4, 43, 53], [5, 49, 14], [330, 201, 232]]\n",
      "Bins:\n",
      "[[[436, 403, 306], [11, 100, 66]], [[170, 791, 945], [36, 192, 115]], [[112, 542, 427], [29, 13, 16]], [[996, 717, 996], [57, 44, 166]], [[189, 448, 706], [13, 26, 210]], [[935, 12, 318], [237, 1, 24]], [[370, 636, 56], [32, 39, 14]], [[872, 767, 410], [312, 46, 24]], [[158, 797, 511], [6, 30, 205]], [[343, 838, 367], [13, 250, 30]]]\n",
      "Items:\n",
      "[[57, 11, 14], [80, 38, 81], [65, 6, 3], [80, 97, 5], [96, 35, 50], [127, 304, 306], [3, 2, 48], [54, 193, 178], [136, 487, 180], [215, 6, 12], [225, 117, 34], [641, 58, 228], [31, 41, 291], [26, 27, 19], [72, 18, 11], [139, 131, 100], [84, 114, 79], [45, 77, 71], [235, 90, 131], [85, 337, 211], [9, 13, 0], [76, 8, 46], [291, 65, 3], [27, 211, 296], [488, 465, 164], [6, 29, 28], [119, 276, 327], [73, 23, 4], [39, 42, 419], [42, 11, 200], [2, 31, 30], [5, 258, 111], [114, 50, 26], [94, 226, 48], [59, 44, 12], [39, 133, 25], [192, 208, 80], [83, 60, 245], [31, 75, 575], [120, 38, 107], [219, 75, 216], [149, 193, 52], [6, 210, 19]]\n",
      "Bins:\n",
      "[[[518, 874, 887], [43, 227, 19]], [[456, 128, 763], [90, 9, 69]], [[267, 834, 914], [32, 180, 85]], [[841, 217, 496], [23, 79, 4]], [[614, 737, 484], [258, 12, 4]], [[532, 577, 200], [61, 141, 40]], [[358, 658, 604], [106, 17, 133]], [[466, 398, 75], [106, 78, 1]], [[964, 904, 334], [59, 114, 56]], [[615, 582, 940], [74, 119, 201]]]\n",
      "Items:\n",
      "[[539, 82, 197], [117, 63, 564], [157, 154, 250], [121, 5, 525], [364, 96, 73], [199, 41, 158], [13, 34, 74], [14, 22, 162], [1, 69, 15], [534, 81, 201], [2, 13, 486], [108, 176, 71], [41, 434, 40], [7, 608, 130], [0, 59, 35], [13, 1, 146], [51, 169, 38], [30, 6, 617], [18, 34, 6], [5, 19, 11], [66, 269, 59], [623, 153, 278], [36, 113, 468], [167, 179, 277], [5, 13, 69], [38, 125, 4], [2, 112, 48], [77, 90, 177], [69, 41, 43], [1, 16, 23], [63, 67, 87]]\n",
      "Bins:\n",
      "[[[577, 325, 614], [108, 75, 30]], [[782, 767, 385], [42, 176, 10]], [[27, 905, 843], [4, 262, 65]], [[22, 257, 217], [3, 82, 24]], [[40, 159, 790], [7, 25, 102]], [[859, 158, 456], [121, 35, 101]], [[286, 372, 691], [29, 102, 91]], [[759, 300, 945], [70, 31, 176]], [[336, 911, 386], [30, 147, 25]], [[234, 138, 686], [27, 13, 57]]]\n",
      "Items:\n",
      "[[177, 24, 71], [50, 168, 18], [74, 56, 174], [317, 28, 24], [126, 253, 92], [16, 19, 4], [27, 328, 196], [73, 16, 14], [29, 730, 342], [8, 8, 68], [130, 106, 352], [29, 34, 80], [56, 236, 177], [39, 85, 61], [275, 114, 700], [56, 22, 20], [35, 5, 2], [175, 255, 112], [2, 349, 71], [37, 55, 30], [5, 14, 134], [231, 330, 225], [310, 279, 231], [272, 66, 10], [75, 307, 119], [145, 370, 348], [2, 46, 219], [5, 24, 72], [48, 32, 39], [103, 23, 2], [210, 357, 215], [35, 37, 30], [1, 106, 80], [337, 366, 22]]\n",
      "Bins:\n",
      "[[[471, 114, 171], [111, 9, 12]], [[51, 976, 889], [14, 80, 114]], [[388, 277, 194], [10, 3, 59]], [[579, 793, 181], [81, 137, 37]], [[632, 451, 132], [276, 19, 7]], [[955, 502, 710], [460, 4, 27]], [[453, 762, 463], [29, 65, 75]], [[552, 759, 734], [97, 110, 155]], [[214, 728, 639], [57, 108, 92]], [[395, 559, 879], [45, 138, 60]]]\n",
      "Items:\n",
      "[[42, 101, 65], [228, 534, 543], [3, 275, 22], [42, 252, 171], [84, 24, 122], [325, 67, 94], [37, 84, 233], [43, 121, 403], [262, 39, 95], [29, 0, 297], [67, 57, 53], [64, 98, 418], [257, 11, 198], [70, 63, 95], [222, 302, 130], [12, 556, 55], [47, 14, 22], [3, 388, 62], [246, 56, 26], [298, 2, 35], [44, 75, 245], [569, 325, 0], [113, 7, 18], [322, 214, 91], [6, 213, 93], [0, 400, 22], [40, 155, 6], [196, 35, 32], [191, 23, 43], [91, 154, 149], [109, 27, 97], [5, 82, 8], [396, 350, 9]]\n",
      "Bins:\n",
      "[[[407, 637, 431], [76, 26, 77]], [[547, 729, 196], [55, 143, 30]], [[745, 946, 699], [195, 198, 65]], [[820, 806, 41], [15, 291, 3]], [[415, 301, 925], [149, 15, 85]], [[115, 914, 894], [16, 203, 64]], [[845, 781, 672], [204, 22, 141]], [[66, 984, 114], [13, 307, 8]], [[796, 23, 271], [128, 3, 20]], [[715, 215, 218], [157, 24, 16]]]\n",
      "Items:\n",
      "[[0, 16, 66], [27, 71, 9], [65, 37, 41], [19, 497, 204], [53, 36, 87], [185, 334, 467], [119, 118, 89], [87, 47, 3], [74, 33, 30], [16, 39, 114], [152, 245, 52], [2, 214, 254], [63, 312, 319], [22, 18, 7], [42, 4, 53], [130, 391, 293], [205, 32, 191], [17, 81, 394], [461, 211, 698], [18, 475, 77], [309, 199, 423], [82, 278, 90], [68, 118, 62], [14, 27, 4], [483, 56, 62], [78, 0, 356], [55, 41, 83], [125, 167, 42], [88, 99, 213], [358, 35, 41], [385, 2, 80], [20, 31, 11], [26, 287, 85]]\n",
      "Bins:\n",
      "[[[727, 81, 789], [86, 14, 201]], [[166, 433, 533], [39, 83, 88]], [[207, 125, 53], [41, 14, 5]], [[159, 765, 203], [31, 169, 17]], [[25, 292, 404], [7, 39, 36]], [[619, 988, 845], [5, 165, 114]], [[600, 602, 312], [70, 56, 38]], [[770, 683, 987], [69, 128, 24]], [[890, 931, 924], [207, 56, 77]], [[295, 438, 619], [55, 63, 69]]]\n",
      "Items:\n",
      "[[180, 71, 51], [164, 123, 526], [56, 24, 68], [72, 270, 288], [22, 367, 292], [176, 2, 22], [342, 223, 71], [35, 32, 109], [180, 3, 60], [10, 90, 13], [317, 36, 8], [59, 86, 15], [27, 30, 34], [79, 91, 82], [39, 41, 30], [82, 568, 13], [11, 2, 123], [169, 14, 4], [536, 116, 135], [4, 21, 237], [158, 288, 92], [1, 88, 39], [4, 31, 113], [230, 178, 197], [359, 17, 52], [343, 211, 243], [6, 23, 16], [20, 6, 11], [22, 161, 76], [2, 197, 36], [3, 567, 66], [256, 34, 251], [222, 51, 57], [37, 195, 3], [6, 63, 24], [5, 308, 99], [69, 7, 15], [94, 160, 7]]\n",
      "Bins:\n",
      "[[[462, 430, 341], [18, 49, 112]], [[713, 449, 541], [126, 26, 165]], [[417, 204, 350], [74, 14, 69]], [[35, 887, 485], [7, 124, 55]], [[811, 734, 299], [5, 7, 55]], [[534, 404, 493], [127, 52, 48]], [[317, 704, 639], [31, 122, 191]], [[958, 431, 851], [205, 113, 76]], [[31, 916, 146], [10, 39, 15]], [[910, 213, 234], [188, 31, 15]]]\n",
      "Items:\n",
      "[[46, 0, 13], [148, 9, 118], [68, 19, 154], [446, 135, 84], [74, 2, 70], [27, 2, 93], [258, 3, 328], [68, 124, 203], [10, 37, 512], [518, 79, 525], [115, 23, 37], [343, 35, 6], [30, 188, 70], [79, 571, 177], [46, 129, 243], [4, 395, 474], [89, 156, 35], [169, 0, 81], [243, 0, 6], [258, 155, 168], [9, 43, 59], [21, 107, 76], [4, 153, 213], [175, 1, 162], [131, 4, 3], [297, 18, 223], [15, 21, 147], [22, 171, 19], [61, 80, 293], [63, 7, 110], [192, 444, 306], [33, 143, 176], [448, 176, 83]]\n",
      "Bins:\n",
      "[[[644, 13, 238], [180, 2, 8]], [[690, 221, 955], [111, 62, 137]], [[789, 624, 375], [55, 146, 53]], [[581, 56, 471], [142, 17, 24]], [[93, 796, 631], [4, 179, 88]], [[173, 747, 703], [11, 31, 176]], [[58, 663, 888], [8, 139, 171]], [[867, 294, 765], [135, 42, 13]], [[855, 15, 546], [234, 1, 24]], [[930, 721, 448], [290, 101, 59]]]\n",
      "Items:\n",
      "[[13, 77, 127], [258, 36, 24], [272, 54, 255], [42, 6, 20], [361, 458, 131], [92, 6, 43], [90, 154, 381], [139, 189, 38], [193, 0, 2], [39, 3, 3], [35, 19, 196], [123, 588, 75], [194, 30, 91], [15, 20, 3], [67, 279, 269], [27, 32, 8], [66, 199, 308], [61, 41, 59], [39, 81, 11], [416, 18, 129], [219, 69, 185], [125, 50, 8], [5, 43, 162], [569, 176, 255], [7, 598, 206], [7, 10, 43], [169, 54, 9], [52, 11, 324], [1, 106, 7], [159, 56, 163], [279, 93, 36], [314, 135, 250], [0, 0, 10], [381, 470, 54], [57, 71, 308], [57, 254, 350]]\n",
      "Bins:\n",
      "[[[584, 582, 932], [114, 42, 169]], [[218, 740, 104], [56, 71, 18]], [[595, 291, 876], [74, 27, 77]], [[818, 33, 168], [167, 9, 17]], [[984, 877, 400], [147, 83, 7]], [[194, 963, 874], [25, 106, 105]], [[367, 305, 288], [34, 42, 55]], [[994, 557, 916], [149, 58, 126]], [[227, 136, 115], [9, 20, 42]], [[834, 472, 600], [97, 12, 114]]]\n",
      "Items:\n",
      "[[50, 2, 66], [454, 172, 43], [400, 437, 11], [79, 106, 91], [100, 167, 140], [178, 192, 375], [10, 0, 213], [54, 225, 29], [103, 682, 176], [20, 205, 117], [14, 65, 15], [146, 269, 78], [27, 55, 197], [5, 191, 54], [105, 59, 166], [44, 69, 41], [75, 153, 51], [157, 619, 288], [81, 72, 16], [47, 32, 224], [104, 5, 4], [287, 27, 67], [8, 307, 215], [138, 223, 26], [107, 203, 700], [11, 22, 114], [275, 100, 4], [3, 335, 118], [0, 72, 131], [227, 90, 30], [68, 101, 45], [91, 98, 191], [94, 409, 502]]\n",
      "Bins:\n",
      "[[[442, 604, 956], [121, 31, 133]], [[963, 922, 70], [69, 90, 13]], [[452, 187, 357], [24, 60, 33]], [[95, 614, 186], [7, 119, 25]], [[852, 849, 371], [241, 58, 40]], [[471, 931, 589], [15, 21, 68]], [[319, 405, 580], [41, 46, 65]], [[202, 627, 870], [26, 72, 16]], [[18, 936, 661], [2, 31, 143]], [[323, 233, 543], [29, 16, 109]]]\n",
      "Items:\n",
      "[[169, 60, 345], [8, 110, 23], [75, 10, 17], [443, 79, 118], [231, 101, 583], [586, 683, 43], [33, 28, 88], [553, 91, 298], [472, 106, 281], [68, 172, 24], [37, 35, 140], [233, 77, 72], [325, 2, 11], [9, 157, 20], [183, 56, 183], [96, 5, 14], [246, 0, 194], [24, 11, 2], [115, 34, 69], [5, 96, 24], [167, 18, 74], [52, 9, 4], [15, 11, 1], [24, 71, 77], [12, 537, 13], [209, 103, 70], [99, 85, 26], [79, 21, 26], [35, 4, 31], [129, 42, 10], [77, 78, 5], [281, 285, 405], [40, 173, 11], [507, 62, 19], [164, 42, 10], [72, 60, 40], [307, 90, 31], [82, 52, 59]]\n",
      "Bins:\n",
      "[[[868, 860, 89], [26, 46, 30]], [[441, 538, 588], [20, 21, 119]], [[722, 621, 410], [9, 227, 8]], [[303, 688, 803], [6, 331, 35]], [[857, 229, 199], [35, 49, 5]], [[562, 797, 116], [242, 72, 7]], [[754, 431, 504], [82, 173, 14]], [[733, 84, 105], [20, 3, 24]], [[940, 178, 715], [111, 27, 192]], [[656, 237, 382], [23, 58, 16]]]\n",
      "Items:\n",
      "[[22, 254, 201], [96, 18, 12], [137, 39, 145], [10, 37, 18], [21, 148, 8], [183, 38, 2], [82, 2, 65], [40, 307, 51], [31, 76, 224], [122, 1, 5], [47, 408, 127], [44, 200, 62], [192, 134, 109], [108, 228, 242], [13, 4, 262], [22, 9, 21], [2, 4, 68], [21, 70, 36], [9, 197, 332], [87, 9, 57], [1, 20, 23], [201, 20, 16], [55, 36, 115], [32, 8, 7], [128, 0, 2], [579, 361, 58], [51, 317, 73], [13, 28, 123], [7, 6, 36], [324, 439, 95], [47, 181, 75], [29, 6, 124], [69, 414, 19], [39, 70, 230], [137, 179, 37], [34, 89, 13], [0, 2, 84], [41, 2, 36], [7, 69, 4], [1, 0, 89], [281, 0, 215], [86, 38, 13], [0, 10, 10]]\n",
      "Bins:\n",
      "[[[531, 12, 323], [35, 3, 49]], [[422, 299, 152], [100, 75, 11]], [[167, 344, 461], [20, 9, 138]], [[231, 504, 64], [39, 88, 6]], [[131, 705, 646], [52, 35, 46]], [[506, 915, 509], [47, 117, 102]], [[944, 879, 516], [34, 47, 75]], [[529, 988, 597], [69, 114, 156]], [[618, 309, 357], [248, 9, 11]], [[21, 25, 526], [5, 5, 13]]]\n",
      "Items:\n",
      "[[3, 171, 185], [170, 93, 669], [207, 95, 110], [0, 52, 59], [36, 105, 3], [94, 153, 485], [173, 117, 61], [209, 158, 6], [142, 477, 76], [87, 25, 57], [353, 70, 19], [208, 85, 15], [335, 132, 105], [75, 313, 159], [24, 18, 211], [16, 26, 164], [6, 572, 744], [106, 18, 130], [82, 10, 49], [47, 39, 13], [18, 16, 4], [163, 268, 135], [41, 19, 141], [20, 259, 42], [288, 40, 130], [11, 465, 179], [421, 71, 38], [17, 2, 13], [563, 84, 162], [704, 224, 43], [231, 20, 115], [327, 359, 9], [55, 2, 63], [172, 123, 33], [32, 79, 81], [76, 64, 13]]\n",
      "Bins:\n",
      "[[[23, 771, 456], [9, 83, 33]], [[978, 726, 181], [81, 126, 35]], [[746, 700, 748], [24, 197, 143]], [[975, 652, 446], [112, 17, 146]], [[569, 196, 137], [29, 82, 10]], [[641, 672, 24], [87, 139, 5]], [[816, 656, 367], [41, 279, 3]], [[26, 741, 984], [4, 143, 76]], [[442, 228, 964], [134, 38, 84]], [[872, 669, 861], [55, 83, 112]]]\n",
      "Items:\n",
      "[[347, 100, 449], [7, 44, 35], [259, 49, 141], [12, 21, 184], [0, 14, 57], [406, 152, 129], [16, 271, 359], [6, 39, 97], [126, 3, 71], [13, 94, 215], [38, 62, 2], [50, 44, 32], [55, 521, 399], [6, 398, 3], [81, 354, 300], [190, 2, 42], [92, 71, 99], [31, 0, 76], [459, 118, 58], [552, 401, 65], [456, 10, 5], [47, 39, 22], [23, 100, 21], [16, 240, 10], [322, 332, 27], [18, 58, 196], [186, 3, 57], [1, 76, 43], [130, 10, 56], [1, 36, 184], [278, 156, 19], [4, 47, 101], [36, 14, 115], [80, 17, 99], [100, 83, 72], [60, 4, 3], [117, 12, 73]]\n",
      "Bins:\n",
      "[[[788, 554, 536], [28, 21, 74]], [[920, 16, 215], [57, 1, 35]], [[645, 193, 625], [37, 6, 253]], [[597, 179, 714], [97, 53, 77]], [[135, 928, 145], [13, 193, 3]], [[341, 313, 404], [19, 100, 30]], [[34, 388, 714], [8, 31, 157]], [[939, 709, 499], [375, 26, 10]], [[551, 633, 209], [67, 91, 40]], [[381, 772, 813], [9, 168, 279]]]\n",
      "Items:\n",
      "[[47, 47, 9], [309, 425, 577], [149, 40, 113], [468, 17, 10], [224, 258, 217], [488, 346, 427], [20, 72, 157], [3, 48, 0], [75, 27, 4], [21, 104, 322], [55, 34, 91], [88, 88, 4], [125, 4, 43], [173, 22, 74], [238, 80, 226], [0, 30, 52], [282, 443, 32], [11, 32, 173], [43, 74, 172], [265, 32, 175], [66, 14, 88], [37, 190, 58], [43, 58, 626], [524, 331, 28], [5, 216, 108], [350, 0, 1], [113, 162, 1], [47, 34, 68], [2, 13, 4], [67, 21, 99], [22, 35, 67], [182, 108, 13], [18, 521, 275], [99, 55, 52], [84, 62, 127], [295, 489, 15], [87, 11, 22], [202, 105, 98], [39, 41, 104], [5, 71, 46], [42, 35, 23]]\n",
      "Bins:\n",
      "[[[333, 311, 874], [58, 124, 4]], [[798, 619, 59], [287, 21, 5]], [[389, 332, 939], [46, 45, 257]], [[917, 77, 13], [96, 12, 2]], [[868, 820, 818], [135, 215, 110]], [[975, 576, 884], [302, 64, 80]], [[188, 762, 664], [67, 32, 28]], [[610, 217, 727], [86, 20, 209]], [[526, 837, 21], [30, 98, 1]], [[940, 970, 912], [24, 95, 414]]]\n",
      "Items:\n",
      "[[45, 13, 60], [47, 169, 151], [0, 301, 4], [30, 5, 0], [110, 159, 7], [72, 69, 16], [11, 368, 271], [2, 285, 10], [216, 32, 50], [47, 1, 18], [0, 45, 137], [365, 288, 349], [25, 79, 41], [1, 112, 31], [356, 53, 214], [39, 275, 243], [12, 106, 123], [123, 43, 11], [0, 28, 39], [2, 95, 69], [2, 107, 110], [186, 10, 89], [6, 382, 215], [21, 128, 138], [115, 161, 124], [68, 276, 207], [3, 11, 10], [376, 441, 49], [151, 31, 0], [210, 137, 48], [518, 478, 50], [8, 111, 65], [95, 26, 588], [35, 227, 10], [13, 104, 183], [34, 544, 284], [7, 75, 265], [156, 46, 129]]\n",
      "Bins:\n",
      "[[[941, 606, 165], [86, 87, 26]], [[641, 757, 809], [196, 66, 48]], [[76, 808, 776], [6, 35, 337]], [[59, 556, 699], [6, 65, 242]], [[316, 952, 531], [26, 262, 59]], [[661, 458, 492], [63, 32, 115]], [[578, 954, 461], [189, 38, 31]], [[527, 603, 674], [6, 160, 37]], [[154, 717, 12], [14, 252, 1]], [[209, 449, 835], [63, 42, 150]]]\n",
      "Items:\n",
      "[[101, 2, 167], [11, 47, 57], [22, 180, 428], [216, 4, 14], [342, 23, 328], [425, 20, 63], [105, 265, 395], [28, 233, 56], [109, 352, 32], [36, 2, 163], [131, 64, 109], [105, 82, 108], [487, 183, 431], [162, 98, 40], [356, 248, 49], [512, 96, 137], [371, 71, 43], [13, 12, 69], [14, 446, 431], [235, 167, 38], [34, 50, 176], [31, 270, 11], [135, 79, 226], [175, 412, 91], [12, 62, 446], [92, 0, 49], [248, 192, 245], [219, 3, 337], [21, 15, 38], [42, 62, 85], [7, 392, 311], [33, 127, 50], [3, 108, 54], [30, 242, 144], [16, 97, 188]]\n",
      "Bins:\n",
      "[[[808, 820, 922], [103, 157, 234]], [[99, 801, 641], [15, 60, 69]], [[819, 430, 562], [127, 47, 64]], [[861, 853, 563], [9, 231, 50]], [[192, 726, 312], [15, 330, 18]], [[464, 305, 425], [111, 31, 72]], [[374, 598, 861], [96, 47, 23]], [[992, 448, 720], [118, 97, 58]], [[280, 220, 681], [9, 95, 58]], [[689, 689, 583], [96, 89, 15]]]\n",
      "Items:\n",
      "[[306, 91, 58], [13, 91, 33], [41, 473, 265], [44, 73, 39], [113, 38, 11], [239, 131, 120], [180, 18, 112], [221, 24, 204], [9, 2, 149], [169, 183, 86], [31, 34, 97], [501, 102, 53], [64, 45, 177], [23, 87, 242], [55, 20, 95], [86, 18, 256], [90, 104, 37], [51, 51, 1], [1, 217, 3], [63, 24, 60], [50, 115, 25], [480, 323, 51], [158, 1, 24], [24, 135, 10], [73, 75, 44], [344, 26, 103], [106, 35, 81], [108, 155, 236], [429, 41, 217], [243, 3, 16], [10, 366, 67], [101, 310, 118], [154, 622, 418], [263, 139, 206], [102, 3, 26], [11, 64, 46], [10, 137, 35], [156, 301, 13], [439, 185, 190], [42, 34, 33]]\n",
      "Bins:\n",
      "[[[799, 521, 827], [26, 185, 112]], [[727, 561, 101], [20, 43, 10]], [[423, 399, 214], [51, 75, 3]], [[976, 525, 686], [49, 220, 18]], [[862, 58, 355], [195, 5, 22]], [[703, 803, 99], [212, 126, 10]], [[766, 894, 745], [280, 34, 105]], [[392, 852, 407], [105, 148, 18]], [[665, 226, 463], [95, 39, 64]], [[381, 965, 557], [58, 33, 35]]]\n"
     ]
    }
   ],
   "source": [
    "instances = []\n",
    "seed = 0\n",
    "for i in range(100):\n",
    "    inst = generator(num_bins=10, num_resources=3, min_fill=.8, bin_generator = unif_bin, seed=seed, rem_cons=.8, proc_rate=1)\n",
    "    seed += 1\n",
    "    print(inst)\n",
    "    inst.empty()"
   ]
  },
  {
   "cell_type": "code",
   "execution_count": 98,
   "id": "89c7245d-d8ef-464f-894c-7068b6967d2f",
   "metadata": {},
   "outputs": [
    {
     "data": {
      "text/plain": [
       "(14,)"
      ]
     },
     "execution_count": 98,
     "metadata": {},
     "output_type": "execute_result"
    }
   ],
   "source": [
    "np.array(iss2.items).shape"
   ]
  },
  {
   "cell_type": "code",
   "execution_count": 101,
   "id": "c35b79ee-f908-4681-965f-c20804ee608a",
   "metadata": {},
   "outputs": [
    {
     "data": {
      "text/plain": [
       "9033"
      ]
     },
     "execution_count": 101,
     "metadata": {},
     "output_type": "execute_result"
    }
   ],
   "source": [
    "np.sum(np.array([ item.requirements for item in iss.items ]))"
   ]
  },
  {
   "cell_type": "code",
   "execution_count": 90,
   "id": "55971fbc-7c00-4f7d-9360-374ba910936b",
   "metadata": {},
   "outputs": [],
   "source": [
    "#実験\n",
    "import numpy as np\n",
    "def test_bdf(d, U, ins_type='unif'):\n",
    "    np.random.seed(123)\n",
    "    # d -> 瓶の次元\n",
    "    # U -> 瓶の本数\n",
    "    \n",
    "    if ins_type == 'unif':\n",
    "        iss = generator(num_bins=U, num_resources=d, min_fill=.8, bin_generator = unif_bin, seed=123, rem_cons=.8, proc_rate=1)\n",
    "    elif ins_type == 'rare':\n",
    "        iss = generator(num_bins=U, num_resources=d, min_fill=.8, bin_generator = unif_bin, seed=123, rem_cons=.8, proc_rate=.25)\n",
    "    elif ins_type == 'correlatrd1':\n",
    "        iss = generator(num_bins = U, num_resources = d, min_fill=.8, bin_generator = correlated_capacities, \n",
    "                            seed=123, rem_cons=.8, dev=.1, correlated_items = False)\n",
    "    elif ins_type == 'correlatrd2':\n",
    "        iss = generator(U, d, min_fill=.8,\n",
    "                    bin_generator = correlated_capacities, seed=123, rem_cons=.8, dev=.1,\n",
    "                    correlated_items = True)\n",
    "    else:\n",
    "        iss = generator(U, d, min_fill=.7, bin_generator = similar, seed=123, dev=.2)\n",
    "    \n",
    "    # print('len items', len(iss.items))\n",
    "    w0 = np.array([ item.requirements for item in iss.items ])\n",
    "    item_total = len(iss.items)\n",
    "    b0 = np.array([ bin.remaining for bin in iss.bins])\n",
    "    x, y, z =[],[],[]\n",
    "    c = 0\n",
    "    \n",
    "    check_percents = [0.25, 0.5, 0.75, 1.0]\n",
    "    for k in np.arange(0.0, 2.0, 0.01):\n",
    "        if k / 2.0 in check_percents:\n",
    "            print(f'Processing {(k/2.0)*100}% Done')\n",
    "        w = w0.copy()\n",
    "        B = b0.copy()x\n",
    "        # alpha = float(k)/100.\n",
    "        alpha = k\n",
    "        unassigned = []\n",
    "        bins = [[] for j in range(U)]\n",
    "        while len(w)>0:\n",
    "            W = w.sum(axis=0)\n",
    "            R = B.sum(axis=0) #残り容量の和（次元ごと）\n",
    "            #次元の重要度\n",
    "            s = (W**alpha)/(R+0.000001)**(2.-alpha) \n",
    "            BS = B@s #ビンのサイズ（次元統合後）\n",
    "            WS = w@s #アイテムのサイズ（次元統合後）\n",
    "            max_item_idx = np.argmax(WS)\n",
    "            max_item = w[max_item_idx]\n",
    "            for j in np.argsort(BS):\n",
    "                remain = B[j]- max_item\n",
    "                if np.all(remain>=0): #詰め込み可能\n",
    "                    B[j]= remain\n",
    "                    bins[j].append(max_item)\n",
    "                    break\n",
    "            else:\n",
    "                unassigned.append(max_item)\n",
    "            w = np.delete(w, max_item_idx, axis=0)\n",
    "        x.append(alpha)\n",
    "        y.append((item_total-len(unassigned))/item_total)\n",
    "        z.append(np.sum(unassigned))\n",
    "    return x, y, z"
   ]
  },
  {
   "cell_type": "code",
   "execution_count": 102,
   "id": "ce7308bd-ac07-4716-86e8-77208642e4f6",
   "metadata": {},
   "outputs": [
    {
     "data": {
      "text/html": [
       "<div>\n",
       "<style scoped>\n",
       "    .dataframe tbody tr th:only-of-type {\n",
       "        vertical-align: middle;\n",
       "    }\n",
       "\n",
       "    .dataframe tbody tr th {\n",
       "        vertical-align: top;\n",
       "    }\n",
       "\n",
       "    .dataframe thead th {\n",
       "        text-align: right;\n",
       "    }\n",
       "</style>\n",
       "<table border=\"1\" class=\"dataframe\">\n",
       "  <thead>\n",
       "    <tr style=\"text-align: right;\">\n",
       "      <th></th>\n",
       "      <th>total_bill</th>\n",
       "      <th>tip</th>\n",
       "      <th>sex</th>\n",
       "      <th>smoker</th>\n",
       "      <th>day</th>\n",
       "      <th>time</th>\n",
       "      <th>size</th>\n",
       "    </tr>\n",
       "  </thead>\n",
       "  <tbody>\n",
       "    <tr>\n",
       "      <th>0</th>\n",
       "      <td>16.99</td>\n",
       "      <td>1.01</td>\n",
       "      <td>Female</td>\n",
       "      <td>No</td>\n",
       "      <td>Sun</td>\n",
       "      <td>Dinner</td>\n",
       "      <td>2</td>\n",
       "    </tr>\n",
       "    <tr>\n",
       "      <th>1</th>\n",
       "      <td>10.34</td>\n",
       "      <td>1.66</td>\n",
       "      <td>Male</td>\n",
       "      <td>No</td>\n",
       "      <td>Sun</td>\n",
       "      <td>Dinner</td>\n",
       "      <td>3</td>\n",
       "    </tr>\n",
       "    <tr>\n",
       "      <th>2</th>\n",
       "      <td>21.01</td>\n",
       "      <td>3.50</td>\n",
       "      <td>Male</td>\n",
       "      <td>No</td>\n",
       "      <td>Sun</td>\n",
       "      <td>Dinner</td>\n",
       "      <td>3</td>\n",
       "    </tr>\n",
       "    <tr>\n",
       "      <th>3</th>\n",
       "      <td>23.68</td>\n",
       "      <td>3.31</td>\n",
       "      <td>Male</td>\n",
       "      <td>No</td>\n",
       "      <td>Sun</td>\n",
       "      <td>Dinner</td>\n",
       "      <td>2</td>\n",
       "    </tr>\n",
       "    <tr>\n",
       "      <th>4</th>\n",
       "      <td>24.59</td>\n",
       "      <td>3.61</td>\n",
       "      <td>Female</td>\n",
       "      <td>No</td>\n",
       "      <td>Sun</td>\n",
       "      <td>Dinner</td>\n",
       "      <td>4</td>\n",
       "    </tr>\n",
       "    <tr>\n",
       "      <th>...</th>\n",
       "      <td>...</td>\n",
       "      <td>...</td>\n",
       "      <td>...</td>\n",
       "      <td>...</td>\n",
       "      <td>...</td>\n",
       "      <td>...</td>\n",
       "      <td>...</td>\n",
       "    </tr>\n",
       "    <tr>\n",
       "      <th>239</th>\n",
       "      <td>29.03</td>\n",
       "      <td>5.92</td>\n",
       "      <td>Male</td>\n",
       "      <td>No</td>\n",
       "      <td>Sat</td>\n",
       "      <td>Dinner</td>\n",
       "      <td>3</td>\n",
       "    </tr>\n",
       "    <tr>\n",
       "      <th>240</th>\n",
       "      <td>27.18</td>\n",
       "      <td>2.00</td>\n",
       "      <td>Female</td>\n",
       "      <td>Yes</td>\n",
       "      <td>Sat</td>\n",
       "      <td>Dinner</td>\n",
       "      <td>2</td>\n",
       "    </tr>\n",
       "    <tr>\n",
       "      <th>241</th>\n",
       "      <td>22.67</td>\n",
       "      <td>2.00</td>\n",
       "      <td>Male</td>\n",
       "      <td>Yes</td>\n",
       "      <td>Sat</td>\n",
       "      <td>Dinner</td>\n",
       "      <td>2</td>\n",
       "    </tr>\n",
       "    <tr>\n",
       "      <th>242</th>\n",
       "      <td>17.82</td>\n",
       "      <td>1.75</td>\n",
       "      <td>Male</td>\n",
       "      <td>No</td>\n",
       "      <td>Sat</td>\n",
       "      <td>Dinner</td>\n",
       "      <td>2</td>\n",
       "    </tr>\n",
       "    <tr>\n",
       "      <th>243</th>\n",
       "      <td>18.78</td>\n",
       "      <td>3.00</td>\n",
       "      <td>Female</td>\n",
       "      <td>No</td>\n",
       "      <td>Thur</td>\n",
       "      <td>Dinner</td>\n",
       "      <td>2</td>\n",
       "    </tr>\n",
       "  </tbody>\n",
       "</table>\n",
       "<p>244 rows × 7 columns</p>\n",
       "</div>"
      ],
      "text/plain": [
       "     total_bill   tip     sex smoker   day    time  size\n",
       "0         16.99  1.01  Female     No   Sun  Dinner     2\n",
       "1         10.34  1.66    Male     No   Sun  Dinner     3\n",
       "2         21.01  3.50    Male     No   Sun  Dinner     3\n",
       "3         23.68  3.31    Male     No   Sun  Dinner     2\n",
       "4         24.59  3.61  Female     No   Sun  Dinner     4\n",
       "..          ...   ...     ...    ...   ...     ...   ...\n",
       "239       29.03  5.92    Male     No   Sat  Dinner     3\n",
       "240       27.18  2.00  Female    Yes   Sat  Dinner     2\n",
       "241       22.67  2.00    Male    Yes   Sat  Dinner     2\n",
       "242       17.82  1.75    Male     No   Sat  Dinner     2\n",
       "243       18.78  3.00  Female     No  Thur  Dinner     2\n",
       "\n",
       "[244 rows x 7 columns]"
      ]
     },
     "execution_count": 111,
     "metadata": {},
     "output_type": "execute_result"
    }
   ],
   "source": [
    "df = px.data.tips()\n",
    "df"
   ]
  },
  {
   "cell_type": "code",
   "execution_count": 127,
   "id": "f7d58acb-5f89-486e-9d17-0c7d95131e14",
   "metadata": {},
   "outputs": [
    {
     "data": {
      "text/html": [
       "<div>\n",
       "<style scoped>\n",
       "    .dataframe tbody tr th:only-of-type {\n",
       "        vertical-align: middle;\n",
       "    }\n",
       "\n",
       "    .dataframe tbody tr th {\n",
       "        vertical-align: top;\n",
       "    }\n",
       "\n",
       "    .dataframe thead th {\n",
       "        text-align: right;\n",
       "    }\n",
       "</style>\n",
       "<table border=\"1\" class=\"dataframe\">\n",
       "  <thead>\n",
       "    <tr style=\"text-align: right;\">\n",
       "      <th></th>\n",
       "      <th>instance</th>\n",
       "      <th>B_D</th>\n",
       "      <th>value_type</th>\n",
       "      <th>unassigned</th>\n",
       "    </tr>\n",
       "  </thead>\n",
       "  <tbody>\n",
       "    <tr>\n",
       "      <th>0</th>\n",
       "      <td>unif</td>\n",
       "      <td>10_2</td>\n",
       "      <td>max</td>\n",
       "      <td>12345</td>\n",
       "    </tr>\n",
       "    <tr>\n",
       "      <th>1</th>\n",
       "      <td>unif</td>\n",
       "      <td>10_2</td>\n",
       "      <td>min</td>\n",
       "      <td>1000</td>\n",
       "    </tr>\n",
       "    <tr>\n",
       "      <th>2</th>\n",
       "      <td>unif</td>\n",
       "      <td>10_5</td>\n",
       "      <td>max</td>\n",
       "      <td>12345</td>\n",
       "    </tr>\n",
       "    <tr>\n",
       "      <th>3</th>\n",
       "      <td>unif</td>\n",
       "      <td>10_5</td>\n",
       "      <td>min</td>\n",
       "      <td>1000</td>\n",
       "    </tr>\n",
       "  </tbody>\n",
       "</table>\n",
       "</div>"
      ],
      "text/plain": [
       "  instance   B_D value_type  unassigned\n",
       "0     unif  10_2        max       12345\n",
       "1     unif  10_2        min        1000\n",
       "2     unif  10_5        max       12345\n",
       "3     unif  10_5        min        1000"
      ]
     },
     "execution_count": 127,
     "metadata": {},
     "output_type": "execute_result"
    }
   ],
   "source": [
    "df = pd.DataFrame(\n",
    "    [\n",
    "        ['unif', '10_2', 'max', 12345], ['unif', '10_2', 'min', 1000],\n",
    "        ['unif', '10_5', 'max', 12345], ['unif', '10_5', 'min', 1000]\n",
    "    ],\n",
    "    columns = ['instance', 'B_D', 'value_type', 'unassigned'],\n",
    ")\n",
    "df"
   ]
  },
  {
   "cell_type": "code",
   "execution_count": 128,
   "id": "148b17c2-8ce2-4dfc-bd18-41b95e922dde",
   "metadata": {},
   "outputs": [
    {
     "data": {
      "application/vnd.plotly.v1+json": {
       "config": {
        "plotlyServerURL": "https://plot.ly"
       },
       "data": [
        {
         "alignmentgroup": "True",
         "bingroup": "x",
         "histfunc": "sum",
         "hovertemplate": "value_type=max<br>B_D=%{x}<br>sum of unassigned=%{y}<extra></extra>",
         "legendgroup": "max",
         "marker": {
          "color": "#636efa",
          "pattern": {
           "shape": ""
          }
         },
         "name": "max",
         "offsetgroup": "max",
         "orientation": "v",
         "showlegend": true,
         "type": "histogram",
         "x": [
          "10_2",
          "10_5"
         ],
         "xaxis": "x",
         "y": [
          12345,
          12345
         ],
         "yaxis": "y"
        },
        {
         "alignmentgroup": "True",
         "bingroup": "x",
         "histfunc": "sum",
         "hovertemplate": "value_type=min<br>B_D=%{x}<br>sum of unassigned=%{y}<extra></extra>",
         "legendgroup": "min",
         "marker": {
          "color": "#EF553B",
          "pattern": {
           "shape": ""
          }
         },
         "name": "min",
         "offsetgroup": "min",
         "orientation": "v",
         "showlegend": true,
         "type": "histogram",
         "x": [
          "10_2",
          "10_5"
         ],
         "xaxis": "x",
         "y": [
          1000,
          1000
         ],
         "yaxis": "y"
        }
       ],
       "layout": {
        "autosize": true,
        "barmode": "group",
        "legend": {
         "title": {
          "text": "value_type"
         },
         "tracegroupgap": 0
        },
        "margin": {
         "t": 60
        },
        "template": {
         "data": {
          "bar": [
           {
            "error_x": {
             "color": "#2a3f5f"
            },
            "error_y": {
             "color": "#2a3f5f"
            },
            "marker": {
             "line": {
              "color": "#E5ECF6",
              "width": 0.5
             },
             "pattern": {
              "fillmode": "overlay",
              "size": 10,
              "solidity": 0.2
             }
            },
            "type": "bar"
           }
          ],
          "barpolar": [
           {
            "marker": {
             "line": {
              "color": "#E5ECF6",
              "width": 0.5
             },
             "pattern": {
              "fillmode": "overlay",
              "size": 10,
              "solidity": 0.2
             }
            },
            "type": "barpolar"
           }
          ],
          "carpet": [
           {
            "aaxis": {
             "endlinecolor": "#2a3f5f",
             "gridcolor": "white",
             "linecolor": "white",
             "minorgridcolor": "white",
             "startlinecolor": "#2a3f5f"
            },
            "baxis": {
             "endlinecolor": "#2a3f5f",
             "gridcolor": "white",
             "linecolor": "white",
             "minorgridcolor": "white",
             "startlinecolor": "#2a3f5f"
            },
            "type": "carpet"
           }
          ],
          "choropleth": [
           {
            "colorbar": {
             "outlinewidth": 0,
             "ticks": ""
            },
            "type": "choropleth"
           }
          ],
          "contour": [
           {
            "colorbar": {
             "outlinewidth": 0,
             "ticks": ""
            },
            "colorscale": [
             [
              0,
              "#0d0887"
             ],
             [
              0.1111111111111111,
              "#46039f"
             ],
             [
              0.2222222222222222,
              "#7201a8"
             ],
             [
              0.3333333333333333,
              "#9c179e"
             ],
             [
              0.4444444444444444,
              "#bd3786"
             ],
             [
              0.5555555555555556,
              "#d8576b"
             ],
             [
              0.6666666666666666,
              "#ed7953"
             ],
             [
              0.7777777777777778,
              "#fb9f3a"
             ],
             [
              0.8888888888888888,
              "#fdca26"
             ],
             [
              1,
              "#f0f921"
             ]
            ],
            "type": "contour"
           }
          ],
          "contourcarpet": [
           {
            "colorbar": {
             "outlinewidth": 0,
             "ticks": ""
            },
            "type": "contourcarpet"
           }
          ],
          "heatmap": [
           {
            "colorbar": {
             "outlinewidth": 0,
             "ticks": ""
            },
            "colorscale": [
             [
              0,
              "#0d0887"
             ],
             [
              0.1111111111111111,
              "#46039f"
             ],
             [
              0.2222222222222222,
              "#7201a8"
             ],
             [
              0.3333333333333333,
              "#9c179e"
             ],
             [
              0.4444444444444444,
              "#bd3786"
             ],
             [
              0.5555555555555556,
              "#d8576b"
             ],
             [
              0.6666666666666666,
              "#ed7953"
             ],
             [
              0.7777777777777778,
              "#fb9f3a"
             ],
             [
              0.8888888888888888,
              "#fdca26"
             ],
             [
              1,
              "#f0f921"
             ]
            ],
            "type": "heatmap"
           }
          ],
          "heatmapgl": [
           {
            "colorbar": {
             "outlinewidth": 0,
             "ticks": ""
            },
            "colorscale": [
             [
              0,
              "#0d0887"
             ],
             [
              0.1111111111111111,
              "#46039f"
             ],
             [
              0.2222222222222222,
              "#7201a8"
             ],
             [
              0.3333333333333333,
              "#9c179e"
             ],
             [
              0.4444444444444444,
              "#bd3786"
             ],
             [
              0.5555555555555556,
              "#d8576b"
             ],
             [
              0.6666666666666666,
              "#ed7953"
             ],
             [
              0.7777777777777778,
              "#fb9f3a"
             ],
             [
              0.8888888888888888,
              "#fdca26"
             ],
             [
              1,
              "#f0f921"
             ]
            ],
            "type": "heatmapgl"
           }
          ],
          "histogram": [
           {
            "marker": {
             "pattern": {
              "fillmode": "overlay",
              "size": 10,
              "solidity": 0.2
             }
            },
            "type": "histogram"
           }
          ],
          "histogram2d": [
           {
            "colorbar": {
             "outlinewidth": 0,
             "ticks": ""
            },
            "colorscale": [
             [
              0,
              "#0d0887"
             ],
             [
              0.1111111111111111,
              "#46039f"
             ],
             [
              0.2222222222222222,
              "#7201a8"
             ],
             [
              0.3333333333333333,
              "#9c179e"
             ],
             [
              0.4444444444444444,
              "#bd3786"
             ],
             [
              0.5555555555555556,
              "#d8576b"
             ],
             [
              0.6666666666666666,
              "#ed7953"
             ],
             [
              0.7777777777777778,
              "#fb9f3a"
             ],
             [
              0.8888888888888888,
              "#fdca26"
             ],
             [
              1,
              "#f0f921"
             ]
            ],
            "type": "histogram2d"
           }
          ],
          "histogram2dcontour": [
           {
            "colorbar": {
             "outlinewidth": 0,
             "ticks": ""
            },
            "colorscale": [
             [
              0,
              "#0d0887"
             ],
             [
              0.1111111111111111,
              "#46039f"
             ],
             [
              0.2222222222222222,
              "#7201a8"
             ],
             [
              0.3333333333333333,
              "#9c179e"
             ],
             [
              0.4444444444444444,
              "#bd3786"
             ],
             [
              0.5555555555555556,
              "#d8576b"
             ],
             [
              0.6666666666666666,
              "#ed7953"
             ],
             [
              0.7777777777777778,
              "#fb9f3a"
             ],
             [
              0.8888888888888888,
              "#fdca26"
             ],
             [
              1,
              "#f0f921"
             ]
            ],
            "type": "histogram2dcontour"
           }
          ],
          "mesh3d": [
           {
            "colorbar": {
             "outlinewidth": 0,
             "ticks": ""
            },
            "type": "mesh3d"
           }
          ],
          "parcoords": [
           {
            "line": {
             "colorbar": {
              "outlinewidth": 0,
              "ticks": ""
             }
            },
            "type": "parcoords"
           }
          ],
          "pie": [
           {
            "automargin": true,
            "type": "pie"
           }
          ],
          "scatter": [
           {
            "marker": {
             "colorbar": {
              "outlinewidth": 0,
              "ticks": ""
             }
            },
            "type": "scatter"
           }
          ],
          "scatter3d": [
           {
            "line": {
             "colorbar": {
              "outlinewidth": 0,
              "ticks": ""
             }
            },
            "marker": {
             "colorbar": {
              "outlinewidth": 0,
              "ticks": ""
             }
            },
            "type": "scatter3d"
           }
          ],
          "scattercarpet": [
           {
            "marker": {
             "colorbar": {
              "outlinewidth": 0,
              "ticks": ""
             }
            },
            "type": "scattercarpet"
           }
          ],
          "scattergeo": [
           {
            "marker": {
             "colorbar": {
              "outlinewidth": 0,
              "ticks": ""
             }
            },
            "type": "scattergeo"
           }
          ],
          "scattergl": [
           {
            "marker": {
             "colorbar": {
              "outlinewidth": 0,
              "ticks": ""
             }
            },
            "type": "scattergl"
           }
          ],
          "scattermapbox": [
           {
            "marker": {
             "colorbar": {
              "outlinewidth": 0,
              "ticks": ""
             }
            },
            "type": "scattermapbox"
           }
          ],
          "scatterpolar": [
           {
            "marker": {
             "colorbar": {
              "outlinewidth": 0,
              "ticks": ""
             }
            },
            "type": "scatterpolar"
           }
          ],
          "scatterpolargl": [
           {
            "marker": {
             "colorbar": {
              "outlinewidth": 0,
              "ticks": ""
             }
            },
            "type": "scatterpolargl"
           }
          ],
          "scatterternary": [
           {
            "marker": {
             "colorbar": {
              "outlinewidth": 0,
              "ticks": ""
             }
            },
            "type": "scatterternary"
           }
          ],
          "surface": [
           {
            "colorbar": {
             "outlinewidth": 0,
             "ticks": ""
            },
            "colorscale": [
             [
              0,
              "#0d0887"
             ],
             [
              0.1111111111111111,
              "#46039f"
             ],
             [
              0.2222222222222222,
              "#7201a8"
             ],
             [
              0.3333333333333333,
              "#9c179e"
             ],
             [
              0.4444444444444444,
              "#bd3786"
             ],
             [
              0.5555555555555556,
              "#d8576b"
             ],
             [
              0.6666666666666666,
              "#ed7953"
             ],
             [
              0.7777777777777778,
              "#fb9f3a"
             ],
             [
              0.8888888888888888,
              "#fdca26"
             ],
             [
              1,
              "#f0f921"
             ]
            ],
            "type": "surface"
           }
          ],
          "table": [
           {
            "cells": {
             "fill": {
              "color": "#EBF0F8"
             },
             "line": {
              "color": "white"
             }
            },
            "header": {
             "fill": {
              "color": "#C8D4E3"
             },
             "line": {
              "color": "white"
             }
            },
            "type": "table"
           }
          ]
         },
         "layout": {
          "annotationdefaults": {
           "arrowcolor": "#2a3f5f",
           "arrowhead": 0,
           "arrowwidth": 1
          },
          "autotypenumbers": "strict",
          "coloraxis": {
           "colorbar": {
            "outlinewidth": 0,
            "ticks": ""
           }
          },
          "colorscale": {
           "diverging": [
            [
             0,
             "#8e0152"
            ],
            [
             0.1,
             "#c51b7d"
            ],
            [
             0.2,
             "#de77ae"
            ],
            [
             0.3,
             "#f1b6da"
            ],
            [
             0.4,
             "#fde0ef"
            ],
            [
             0.5,
             "#f7f7f7"
            ],
            [
             0.6,
             "#e6f5d0"
            ],
            [
             0.7,
             "#b8e186"
            ],
            [
             0.8,
             "#7fbc41"
            ],
            [
             0.9,
             "#4d9221"
            ],
            [
             1,
             "#276419"
            ]
           ],
           "sequential": [
            [
             0,
             "#0d0887"
            ],
            [
             0.1111111111111111,
             "#46039f"
            ],
            [
             0.2222222222222222,
             "#7201a8"
            ],
            [
             0.3333333333333333,
             "#9c179e"
            ],
            [
             0.4444444444444444,
             "#bd3786"
            ],
            [
             0.5555555555555556,
             "#d8576b"
            ],
            [
             0.6666666666666666,
             "#ed7953"
            ],
            [
             0.7777777777777778,
             "#fb9f3a"
            ],
            [
             0.8888888888888888,
             "#fdca26"
            ],
            [
             1,
             "#f0f921"
            ]
           ],
           "sequentialminus": [
            [
             0,
             "#0d0887"
            ],
            [
             0.1111111111111111,
             "#46039f"
            ],
            [
             0.2222222222222222,
             "#7201a8"
            ],
            [
             0.3333333333333333,
             "#9c179e"
            ],
            [
             0.4444444444444444,
             "#bd3786"
            ],
            [
             0.5555555555555556,
             "#d8576b"
            ],
            [
             0.6666666666666666,
             "#ed7953"
            ],
            [
             0.7777777777777778,
             "#fb9f3a"
            ],
            [
             0.8888888888888888,
             "#fdca26"
            ],
            [
             1,
             "#f0f921"
            ]
           ]
          },
          "colorway": [
           "#636efa",
           "#EF553B",
           "#00cc96",
           "#ab63fa",
           "#FFA15A",
           "#19d3f3",
           "#FF6692",
           "#B6E880",
           "#FF97FF",
           "#FECB52"
          ],
          "font": {
           "color": "#2a3f5f"
          },
          "geo": {
           "bgcolor": "white",
           "lakecolor": "white",
           "landcolor": "#E5ECF6",
           "showlakes": true,
           "showland": true,
           "subunitcolor": "white"
          },
          "hoverlabel": {
           "align": "left"
          },
          "hovermode": "closest",
          "mapbox": {
           "style": "light"
          },
          "paper_bgcolor": "white",
          "plot_bgcolor": "#E5ECF6",
          "polar": {
           "angularaxis": {
            "gridcolor": "white",
            "linecolor": "white",
            "ticks": ""
           },
           "bgcolor": "#E5ECF6",
           "radialaxis": {
            "gridcolor": "white",
            "linecolor": "white",
            "ticks": ""
           }
          },
          "scene": {
           "xaxis": {
            "backgroundcolor": "#E5ECF6",
            "gridcolor": "white",
            "gridwidth": 2,
            "linecolor": "white",
            "showbackground": true,
            "ticks": "",
            "zerolinecolor": "white"
           },
           "yaxis": {
            "backgroundcolor": "#E5ECF6",
            "gridcolor": "white",
            "gridwidth": 2,
            "linecolor": "white",
            "showbackground": true,
            "ticks": "",
            "zerolinecolor": "white"
           },
           "zaxis": {
            "backgroundcolor": "#E5ECF6",
            "gridcolor": "white",
            "gridwidth": 2,
            "linecolor": "white",
            "showbackground": true,
            "ticks": "",
            "zerolinecolor": "white"
           }
          },
          "shapedefaults": {
           "line": {
            "color": "#2a3f5f"
           }
          },
          "ternary": {
           "aaxis": {
            "gridcolor": "white",
            "linecolor": "white",
            "ticks": ""
           },
           "baxis": {
            "gridcolor": "white",
            "linecolor": "white",
            "ticks": ""
           },
           "bgcolor": "#E5ECF6",
           "caxis": {
            "gridcolor": "white",
            "linecolor": "white",
            "ticks": ""
           }
          },
          "title": {
           "x": 0.05
          },
          "xaxis": {
           "automargin": true,
           "gridcolor": "white",
           "linecolor": "white",
           "ticks": "",
           "title": {
            "standoff": 15
           },
           "zerolinecolor": "white",
           "zerolinewidth": 2
          },
          "yaxis": {
           "automargin": true,
           "gridcolor": "white",
           "linecolor": "white",
           "ticks": "",
           "title": {
            "standoff": 15
           },
           "zerolinecolor": "white",
           "zerolinewidth": 2
          }
         }
        },
        "xaxis": {
         "anchor": "y",
         "autorange": true,
         "domain": [
          0,
          1
         ],
         "range": [
          -0.5,
          1.5
         ],
         "title": {
          "text": "B_D"
         },
         "type": "category"
        },
        "yaxis": {
         "anchor": "x",
         "autorange": true,
         "domain": [
          0,
          1
         ],
         "range": [
          0,
          12994.736842105263
         ],
         "title": {
          "text": "sum of unassigned"
         },
         "type": "linear"
        }
       }
      },
      "image/png": "[encoded data removed]",
      "text/html": [
       "<div>                            <div id=\"937be454-1a5f-4206-b6b1-0190e57fed2b\" class=\"plotly-graph-div\" style=\"height:400px; width:100%;\"></div>            <script type=\"text/javascript\">                require([\"plotly\"], function(Plotly) {                    window.PLOTLYENV=window.PLOTLYENV || {};                                    if (document.getElementById(\"937be454-1a5f-4206-b6b1-0190e57fed2b\")) {                    Plotly.newPlot(                        \"937be454-1a5f-4206-b6b1-0190e57fed2b\",                        [{\"alignmentgroup\":\"True\",\"bingroup\":\"x\",\"histfunc\":\"sum\",\"hovertemplate\":\"value_type=max<br>B_D=%{x}<br>sum of unassigned=%{y}<extra></extra>\",\"legendgroup\":\"max\",\"marker\":{\"color\":\"#636efa\",\"pattern\":{\"shape\":\"\"}},\"name\":\"max\",\"offsetgroup\":\"max\",\"orientation\":\"v\",\"showlegend\":true,\"type\":\"histogram\",\"x\":[\"10_2\",\"10_5\"],\"xaxis\":\"x\",\"y\":[12345,12345],\"yaxis\":\"y\"},{\"alignmentgroup\":\"True\",\"bingroup\":\"x\",\"histfunc\":\"sum\",\"hovertemplate\":\"value_type=min<br>B_D=%{x}<br>sum of unassigned=%{y}<extra></extra>\",\"legendgroup\":\"min\",\"marker\":{\"color\":\"#EF553B\",\"pattern\":{\"shape\":\"\"}},\"name\":\"min\",\"offsetgroup\":\"min\",\"orientation\":\"v\",\"showlegend\":true,\"type\":\"histogram\",\"x\":[\"10_2\",\"10_5\"],\"xaxis\":\"x\",\"y\":[1000,1000],\"yaxis\":\"y\"}],                        {\"barmode\":\"group\",\"height\":400,\"legend\":{\"title\":{\"text\":\"value_type\"},\"tracegroupgap\":0},\"margin\":{\"t\":60},\"template\":{\"data\":{\"bar\":[{\"error_x\":{\"color\":\"#2a3f5f\"},\"error_y\":{\"color\":\"#2a3f5f\"},\"marker\":{\"line\":{\"color\":\"#E5ECF6\",\"width\":0.5},\"pattern\":{\"fillmode\":\"overlay\",\"size\":10,\"solidity\":0.2}},\"type\":\"bar\"}],\"barpolar\":[{\"marker\":{\"line\":{\"color\":\"#E5ECF6\",\"width\":0.5},\"pattern\":{\"fillmode\":\"overlay\",\"size\":10,\"solidity\":0.2}},\"type\":\"barpolar\"}],\"carpet\":[{\"aaxis\":{\"endlinecolor\":\"#2a3f5f\",\"gridcolor\":\"white\",\"linecolor\":\"white\",\"minorgridcolor\":\"white\",\"startlinecolor\":\"#2a3f5f\"},\"baxis\":{\"endlinecolor\":\"#2a3f5f\",\"gridcolor\":\"white\",\"linecolor\":\"white\",\"minorgridcolor\":\"white\",\"startlinecolor\":\"#2a3f5f\"},\"type\":\"carpet\"}],\"choropleth\":[{\"colorbar\":{\"outlinewidth\":0,\"ticks\":\"\"},\"type\":\"choropleth\"}],\"contour\":[{\"colorbar\":{\"outlinewidth\":0,\"ticks\":\"\"},\"colorscale\":[[0.0,\"#0d0887\"],[0.1111111111111111,\"#46039f\"],[0.2222222222222222,\"#7201a8\"],[0.3333333333333333,\"#9c179e\"],[0.4444444444444444,\"#bd3786\"],[0.5555555555555556,\"#d8576b\"],[0.6666666666666666,\"#ed7953\"],[0.7777777777777778,\"#fb9f3a\"],[0.8888888888888888,\"#fdca26\"],[1.0,\"#f0f921\"]],\"type\":\"contour\"}],\"contourcarpet\":[{\"colorbar\":{\"outlinewidth\":0,\"ticks\":\"\"},\"type\":\"contourcarpet\"}],\"heatmap\":[{\"colorbar\":{\"outlinewidth\":0,\"ticks\":\"\"},\"colorscale\":[[0.0,\"#0d0887\"],[0.1111111111111111,\"#46039f\"],[0.2222222222222222,\"#7201a8\"],[0.3333333333333333,\"#9c179e\"],[0.4444444444444444,\"#bd3786\"],[0.5555555555555556,\"#d8576b\"],[0.6666666666666666,\"#ed7953\"],[0.7777777777777778,\"#fb9f3a\"],[0.8888888888888888,\"#fdca26\"],[1.0,\"#f0f921\"]],\"type\":\"heatmap\"}],\"heatmapgl\":[{\"colorbar\":{\"outlinewidth\":0,\"ticks\":\"\"},\"colorscale\":[[0.0,\"#0d0887\"],[0.1111111111111111,\"#46039f\"],[0.2222222222222222,\"#7201a8\"],[0.3333333333333333,\"#9c179e\"],[0.4444444444444444,\"#bd3786\"],[0.5555555555555556,\"#d8576b\"],[0.6666666666666666,\"#ed7953\"],[0.7777777777777778,\"#fb9f3a\"],[0.8888888888888888,\"#fdca26\"],[1.0,\"#f0f921\"]],\"type\":\"heatmapgl\"}],\"histogram\":[{\"marker\":{\"pattern\":{\"fillmode\":\"overlay\",\"size\":10,\"solidity\":0.2}},\"type\":\"histogram\"}],\"histogram2d\":[{\"colorbar\":{\"outlinewidth\":0,\"ticks\":\"\"},\"colorscale\":[[0.0,\"#0d0887\"],[0.1111111111111111,\"#46039f\"],[0.2222222222222222,\"#7201a8\"],[0.3333333333333333,\"#9c179e\"],[0.4444444444444444,\"#bd3786\"],[0.5555555555555556,\"#d8576b\"],[0.6666666666666666,\"#ed7953\"],[0.7777777777777778,\"#fb9f3a\"],[0.8888888888888888,\"#fdca26\"],[1.0,\"#f0f921\"]],\"type\":\"histogram2d\"}],\"histogram2dcontour\":[{\"colorbar\":{\"outlinewidth\":0,\"ticks\":\"\"},\"colorscale\":[[0.0,\"#0d0887\"],[0.1111111111111111,\"#46039f\"],[0.2222222222222222,\"#7201a8\"],[0.3333333333333333,\"#9c179e\"],[0.4444444444444444,\"#bd3786\"],[0.5555555555555556,\"#d8576b\"],[0.6666666666666666,\"#ed7953\"],[0.7777777777777778,\"#fb9f3a\"],[0.8888888888888888,\"#fdca26\"],[1.0,\"#f0f921\"]],\"type\":\"histogram2dcontour\"}],\"mesh3d\":[{\"colorbar\":{\"outlinewidth\":0,\"ticks\":\"\"},\"type\":\"mesh3d\"}],\"parcoords\":[{\"line\":{\"colorbar\":{\"outlinewidth\":0,\"ticks\":\"\"}},\"type\":\"parcoords\"}],\"pie\":[{\"automargin\":true,\"type\":\"pie\"}],\"scatter\":[{\"marker\":{\"colorbar\":{\"outlinewidth\":0,\"ticks\":\"\"}},\"type\":\"scatter\"}],\"scatter3d\":[{\"line\":{\"colorbar\":{\"outlinewidth\":0,\"ticks\":\"\"}},\"marker\":{\"colorbar\":{\"outlinewidth\":0,\"ticks\":\"\"}},\"type\":\"scatter3d\"}],\"scattercarpet\":[{\"marker\":{\"colorbar\":{\"outlinewidth\":0,\"ticks\":\"\"}},\"type\":\"scattercarpet\"}],\"scattergeo\":[{\"marker\":{\"colorbar\":{\"outlinewidth\":0,\"ticks\":\"\"}},\"type\":\"scattergeo\"}],\"scattergl\":[{\"marker\":{\"colorbar\":{\"outlinewidth\":0,\"ticks\":\"\"}},\"type\":\"scattergl\"}],\"scattermapbox\":[{\"marker\":{\"colorbar\":{\"outlinewidth\":0,\"ticks\":\"\"}},\"type\":\"scattermapbox\"}],\"scatterpolar\":[{\"marker\":{\"colorbar\":{\"outlinewidth\":0,\"ticks\":\"\"}},\"type\":\"scatterpolar\"}],\"scatterpolargl\":[{\"marker\":{\"colorbar\":{\"outlinewidth\":0,\"ticks\":\"\"}},\"type\":\"scatterpolargl\"}],\"scatterternary\":[{\"marker\":{\"colorbar\":{\"outlinewidth\":0,\"ticks\":\"\"}},\"type\":\"scatterternary\"}],\"surface\":[{\"colorbar\":{\"outlinewidth\":0,\"ticks\":\"\"},\"colorscale\":[[0.0,\"#0d0887\"],[0.1111111111111111,\"#46039f\"],[0.2222222222222222,\"#7201a8\"],[0.3333333333333333,\"#9c179e\"],[0.4444444444444444,\"#bd3786\"],[0.5555555555555556,\"#d8576b\"],[0.6666666666666666,\"#ed7953\"],[0.7777777777777778,\"#fb9f3a\"],[0.8888888888888888,\"#fdca26\"],[1.0,\"#f0f921\"]],\"type\":\"surface\"}],\"table\":[{\"cells\":{\"fill\":{\"color\":\"#EBF0F8\"},\"line\":{\"color\":\"white\"}},\"header\":{\"fill\":{\"color\":\"#C8D4E3\"},\"line\":{\"color\":\"white\"}},\"type\":\"table\"}]},\"layout\":{\"annotationdefaults\":{\"arrowcolor\":\"#2a3f5f\",\"arrowhead\":0,\"arrowwidth\":1},\"autotypenumbers\":\"strict\",\"coloraxis\":{\"colorbar\":{\"outlinewidth\":0,\"ticks\":\"\"}},\"colorscale\":{\"diverging\":[[0,\"#8e0152\"],[0.1,\"#c51b7d\"],[0.2,\"#de77ae\"],[0.3,\"#f1b6da\"],[0.4,\"#fde0ef\"],[0.5,\"#f7f7f7\"],[0.6,\"#e6f5d0\"],[0.7,\"#b8e186\"],[0.8,\"#7fbc41\"],[0.9,\"#4d9221\"],[1,\"#276419\"]],\"sequential\":[[0.0,\"#0d0887\"],[0.1111111111111111,\"#46039f\"],[0.2222222222222222,\"#7201a8\"],[0.3333333333333333,\"#9c179e\"],[0.4444444444444444,\"#bd3786\"],[0.5555555555555556,\"#d8576b\"],[0.6666666666666666,\"#ed7953\"],[0.7777777777777778,\"#fb9f3a\"],[0.8888888888888888,\"#fdca26\"],[1.0,\"#f0f921\"]],\"sequentialminus\":[[0.0,\"#0d0887\"],[0.1111111111111111,\"#46039f\"],[0.2222222222222222,\"#7201a8\"],[0.3333333333333333,\"#9c179e\"],[0.4444444444444444,\"#bd3786\"],[0.5555555555555556,\"#d8576b\"],[0.6666666666666666,\"#ed7953\"],[0.7777777777777778,\"#fb9f3a\"],[0.8888888888888888,\"#fdca26\"],[1.0,\"#f0f921\"]]},\"colorway\":[\"#636efa\",\"#EF553B\",\"#00cc96\",\"#ab63fa\",\"#FFA15A\",\"#19d3f3\",\"#FF6692\",\"#B6E880\",\"#FF97FF\",\"#FECB52\"],\"font\":{\"color\":\"#2a3f5f\"},\"geo\":{\"bgcolor\":\"white\",\"lakecolor\":\"white\",\"landcolor\":\"#E5ECF6\",\"showlakes\":true,\"showland\":true,\"subunitcolor\":\"white\"},\"hoverlabel\":{\"align\":\"left\"},\"hovermode\":\"closest\",\"mapbox\":{\"style\":\"light\"},\"paper_bgcolor\":\"white\",\"plot_bgcolor\":\"#E5ECF6\",\"polar\":{\"angularaxis\":{\"gridcolor\":\"white\",\"linecolor\":\"white\",\"ticks\":\"\"},\"bgcolor\":\"#E5ECF6\",\"radialaxis\":{\"gridcolor\":\"white\",\"linecolor\":\"white\",\"ticks\":\"\"}},\"scene\":{\"xaxis\":{\"backgroundcolor\":\"#E5ECF6\",\"gridcolor\":\"white\",\"gridwidth\":2,\"linecolor\":\"white\",\"showbackground\":true,\"ticks\":\"\",\"zerolinecolor\":\"white\"},\"yaxis\":{\"backgroundcolor\":\"#E5ECF6\",\"gridcolor\":\"white\",\"gridwidth\":2,\"linecolor\":\"white\",\"showbackground\":true,\"ticks\":\"\",\"zerolinecolor\":\"white\"},\"zaxis\":{\"backgroundcolor\":\"#E5ECF6\",\"gridcolor\":\"white\",\"gridwidth\":2,\"linecolor\":\"white\",\"showbackground\":true,\"ticks\":\"\",\"zerolinecolor\":\"white\"}},\"shapedefaults\":{\"line\":{\"color\":\"#2a3f5f\"}},\"ternary\":{\"aaxis\":{\"gridcolor\":\"white\",\"linecolor\":\"white\",\"ticks\":\"\"},\"baxis\":{\"gridcolor\":\"white\",\"linecolor\":\"white\",\"ticks\":\"\"},\"bgcolor\":\"#E5ECF6\",\"caxis\":{\"gridcolor\":\"white\",\"linecolor\":\"white\",\"ticks\":\"\"}},\"title\":{\"x\":0.05},\"xaxis\":{\"automargin\":true,\"gridcolor\":\"white\",\"linecolor\":\"white\",\"ticks\":\"\",\"title\":{\"standoff\":15},\"zerolinecolor\":\"white\",\"zerolinewidth\":2},\"yaxis\":{\"automargin\":true,\"gridcolor\":\"white\",\"linecolor\":\"white\",\"ticks\":\"\",\"title\":{\"standoff\":15},\"zerolinecolor\":\"white\",\"zerolinewidth\":2}}},\"xaxis\":{\"anchor\":\"y\",\"domain\":[0.0,1.0],\"title\":{\"text\":\"B_D\"}},\"yaxis\":{\"anchor\":\"x\",\"domain\":[0.0,1.0],\"title\":{\"text\":\"sum of unassigned\"}}},                        {\"responsive\": true}                    ).then(function(){\n",
       "                            \n",
       "var gd = document.getElementById('937be454-1a5f-4206-b6b1-0190e57fed2b');\n",
       "var x = new MutationObserver(function (mutations, observer) {{\n",
       "        var display = window.getComputedStyle(gd).display;\n",
       "        if (!display || display === 'none') {{\n",
       "            console.log([gd, 'removed!']);\n",
       "            Plotly.purge(gd);\n",
       "            observer.disconnect();\n",
       "        }}\n",
       "}});\n",
       "\n",
       "// Listen for the removal of the full notebook cells\n",
       "var notebookContainer = gd.closest('#notebook-container');\n",
       "if (notebookContainer) {{\n",
       "    x.observe(notebookContainer, {childList: true});\n",
       "}}\n",
       "\n",
       "// Listen for the clearing of the current output cell\n",
       "var outputEl = gd.closest('.output');\n",
       "if (outputEl) {{\n",
       "    x.observe(outputEl, {childList: true});\n",
       "}}\n",
       "\n",
       "                        })                };                });            </script>        </div>"
      ]
     },
     "metadata": {},
     "output_type": "display_data"
    }
   ],
   "source": [
    "fig = px.histogram(df, x=\"B_D\", y=\"unassigned\",\n",
    "             color='value_type', barmode='group',\n",
    "             height=400)\n",
    "fig.show()"
   ]
  },
  {
   "cell_type": "code",
   "execution_count": 113,
   "id": "cd316336-40bb-4e82-9ac1-6252e6ab61c8",
   "metadata": {},
   "outputs": [
    {
     "data": {
      "application/vnd.plotly.v1+json": {
       "config": {
        "plotlyServerURL": "https://plot.ly"
       },
       "data": [
        {
         "alignmentgroup": "True",
         "bingroup": "x",
         "histfunc": "sum",
         "hovertemplate": "smoker=No<br>sex=%{x}<br>sum of total_bill=%{y}<extra></extra>",
         "legendgroup": "No",
         "marker": {
          "color": "#636efa",
          "pattern": {
           "shape": ""
          }
         },
         "name": "No",
         "offsetgroup": "No",
         "orientation": "v",
         "showlegend": true,
         "type": "histogram",
         "x": [
          "Female",
          "Male",
          "Male",
          "Male",
          "Female",
          "Male",
          "Male",
          "Male",
          "Male",
          "Male",
          "Male",
          "Female",
          "Male",
          "Male",
          "Female",
          "Male",
          "Female",
          "Male",
          "Female",
          "Male",
          "Male",
          "Female",
          "Female",
          "Male",
          "Male",
          "Male",
          "Male",
          "Male",
          "Male",
          "Female",
          "Male",
          "Male",
          "Female",
          "Female",
          "Male",
          "Male",
          "Male",
          "Female",
          "Male",
          "Male",
          "Male",
          "Male",
          "Male",
          "Male",
          "Male",
          "Male",
          "Male",
          "Male",
          "Male",
          "Male",
          "Male",
          "Female",
          "Female",
          "Male",
          "Male",
          "Male",
          "Female",
          "Male",
          "Male",
          "Male",
          "Female",
          "Male",
          "Male",
          "Female",
          "Female",
          "Male",
          "Male",
          "Male",
          "Male",
          "Male",
          "Female",
          "Male",
          "Female",
          "Male",
          "Male",
          "Male",
          "Male",
          "Male",
          "Female",
          "Male",
          "Female",
          "Male",
          "Male",
          "Female",
          "Male",
          "Male",
          "Female",
          "Female",
          "Male",
          "Female",
          "Female",
          "Female",
          "Male",
          "Female",
          "Male",
          "Male",
          "Female",
          "Female",
          "Male",
          "Female",
          "Female",
          "Male",
          "Male",
          "Female",
          "Female",
          "Female",
          "Female",
          "Female",
          "Female",
          "Female",
          "Female",
          "Female",
          "Male",
          "Male",
          "Female",
          "Female",
          "Female",
          "Female",
          "Female",
          "Male",
          "Male",
          "Male",
          "Male",
          "Male",
          "Male",
          "Male",
          "Female",
          "Male",
          "Female",
          "Female",
          "Male",
          "Male",
          "Male",
          "Female",
          "Male",
          "Male",
          "Male",
          "Male",
          "Male",
          "Male",
          "Male",
          "Female",
          "Male",
          "Male",
          "Male",
          "Male",
          "Male",
          "Female",
          "Male",
          "Male",
          "Female"
         ],
         "xaxis": "x",
         "y": [
          16.99,
          10.34,
          21.01,
          23.68,
          24.59,
          25.29,
          8.77,
          26.88,
          15.04,
          14.78,
          10.27,
          35.26,
          15.42,
          18.43,
          14.83,
          21.58,
          10.33,
          16.29,
          16.97,
          20.65,
          17.92,
          20.29,
          15.77,
          39.42,
          19.82,
          17.81,
          13.37,
          12.69,
          21.7,
          19.65,
          9.55,
          18.35,
          15.06,
          20.69,
          17.78,
          24.06,
          16.31,
          16.93,
          18.69,
          31.27,
          16.04,
          17.46,
          13.94,
          9.68,
          30.4,
          18.29,
          22.23,
          32.4,
          28.55,
          18.04,
          12.54,
          10.29,
          34.81,
          9.94,
          25.56,
          19.49,
          26.41,
          48.27,
          17.59,
          20.08,
          16.45,
          20.23,
          12.02,
          17.07,
          14.73,
          10.51,
          27.2,
          22.76,
          17.29,
          16.66,
          10.07,
          15.98,
          34.83,
          13.03,
          18.28,
          24.71,
          21.16,
          22.49,
          22.75,
          12.46,
          20.92,
          18.24,
          14,
          7.25,
          38.07,
          23.95,
          25.71,
          17.31,
          29.93,
          10.65,
          12.43,
          24.08,
          11.69,
          13.42,
          14.26,
          15.95,
          12.48,
          29.8,
          8.52,
          14.52,
          11.38,
          22.82,
          19.08,
          20.27,
          11.17,
          12.26,
          18.26,
          8.51,
          10.33,
          14.15,
          13.16,
          17.47,
          34.3,
          41.19,
          27.05,
          16.43,
          8.35,
          18.64,
          11.87,
          9.78,
          7.51,
          14.07,
          13.13,
          17.26,
          24.55,
          19.77,
          29.85,
          48.17,
          25,
          13.39,
          16.49,
          21.5,
          12.66,
          16.21,
          13.81,
          24.52,
          20.76,
          31.71,
          20.69,
          7.56,
          48.33,
          15.98,
          20.45,
          13.28,
          11.61,
          10.77,
          10.07,
          35.83,
          29.03,
          17.82,
          18.78
         ],
         "yaxis": "y"
        },
        {
         "alignmentgroup": "True",
         "bingroup": "x",
         "histfunc": "sum",
         "hovertemplate": "smoker=Yes<br>sex=%{x}<br>sum of total_bill=%{y}<extra></extra>",
         "legendgroup": "Yes",
         "marker": {
          "color": "#EF553B",
          "pattern": {
           "shape": ""
          }
         },
         "name": "Yes",
         "offsetgroup": "Yes",
         "orientation": "v",
         "showlegend": true,
         "type": "histogram",
         "x": [
          "Male",
          "Male",
          "Male",
          "Male",
          "Male",
          "Male",
          "Female",
          "Male",
          "Female",
          "Female",
          "Male",
          "Male",
          "Male",
          "Male",
          "Female",
          "Female",
          "Male",
          "Male",
          "Male",
          "Male",
          "Female",
          "Female",
          "Female",
          "Female",
          "Male",
          "Male",
          "Male",
          "Female",
          "Male",
          "Female",
          "Female",
          "Female",
          "Male",
          "Male",
          "Male",
          "Male",
          "Male",
          "Male",
          "Male",
          "Male",
          "Female",
          "Male",
          "Male",
          "Male",
          "Male",
          "Male",
          "Male",
          "Female",
          "Male",
          "Female",
          "Male",
          "Male",
          "Female",
          "Male",
          "Male",
          "Male",
          "Male",
          "Female",
          "Female",
          "Male",
          "Male",
          "Female",
          "Female",
          "Female",
          "Male",
          "Female",
          "Male",
          "Male",
          "Male",
          "Female",
          "Male",
          "Male",
          "Female",
          "Female",
          "Female",
          "Male",
          "Male",
          "Male",
          "Female",
          "Male",
          "Female",
          "Male",
          "Male",
          "Female",
          "Female",
          "Female",
          "Male",
          "Male",
          "Male",
          "Male",
          "Male",
          "Female",
          "Male"
         ],
         "xaxis": "x",
         "y": [
          38.01,
          11.24,
          20.29,
          13.81,
          11.02,
          18.29,
          3.07,
          15.01,
          26.86,
          25.28,
          17.92,
          19.44,
          32.68,
          28.97,
          5.75,
          16.32,
          40.17,
          27.28,
          12.03,
          21.01,
          11.35,
          15.38,
          44.3,
          22.42,
          15.36,
          20.49,
          25.21,
          14.31,
          16,
          17.51,
          10.59,
          10.63,
          50.81,
          15.81,
          7.25,
          31.85,
          16.82,
          32.9,
          17.89,
          14.48,
          9.6,
          34.63,
          34.65,
          23.33,
          45.35,
          23.17,
          40.55,
          20.9,
          30.46,
          18.15,
          23.1,
          15.69,
          19.81,
          28.44,
          15.48,
          16.58,
          10.34,
          43.11,
          13,
          13.51,
          18.71,
          12.74,
          13,
          16.4,
          20.53,
          16.47,
          26.59,
          38.73,
          24.27,
          12.76,
          30.06,
          25.89,
          13.27,
          28.17,
          12.9,
          28.15,
          11.59,
          7.74,
          30.14,
          12.16,
          13.42,
          8.58,
          13.42,
          16.27,
          10.09,
          22.12,
          24.01,
          15.69,
          15.53,
          12.6,
          32.83,
          27.18,
          22.67
         ],
         "yaxis": "y"
        }
       ],
       "layout": {
        "autosize": true,
        "barmode": "group",
        "legend": {
         "title": {
          "text": "smoker"
         },
         "tracegroupgap": 0
        },
        "margin": {
         "t": 60
        },
        "template": {
         "data": {
          "bar": [
           {
            "error_x": {
             "color": "#2a3f5f"
            },
            "error_y": {
             "color": "#2a3f5f"
            },
            "marker": {
             "line": {
              "color": "#E5ECF6",
              "width": 0.5
             },
             "pattern": {
              "fillmode": "overlay",
              "size": 10,
              "solidity": 0.2
             }
            },
            "type": "bar"
           }
          ],
          "barpolar": [
           {
            "marker": {
             "line": {
              "color": "#E5ECF6",
              "width": 0.5
             },
             "pattern": {
              "fillmode": "overlay",
              "size": 10,
              "solidity": 0.2
             }
            },
            "type": "barpolar"
           }
          ],
          "carpet": [
           {
            "aaxis": {
             "endlinecolor": "#2a3f5f",
             "gridcolor": "white",
             "linecolor": "white",
             "minorgridcolor": "white",
             "startlinecolor": "#2a3f5f"
            },
            "baxis": {
             "endlinecolor": "#2a3f5f",
             "gridcolor": "white",
             "linecolor": "white",
             "minorgridcolor": "white",
             "startlinecolor": "#2a3f5f"
            },
            "type": "carpet"
           }
          ],
          "choropleth": [
           {
            "colorbar": {
             "outlinewidth": 0,
             "ticks": ""
            },
            "type": "choropleth"
           }
          ],
          "contour": [
           {
            "colorbar": {
             "outlinewidth": 0,
             "ticks": ""
            },
            "colorscale": [
             [
              0,
              "#0d0887"
             ],
             [
              0.1111111111111111,
              "#46039f"
             ],
             [
              0.2222222222222222,
              "#7201a8"
             ],
             [
              0.3333333333333333,
              "#9c179e"
             ],
             [
              0.4444444444444444,
              "#bd3786"
             ],
             [
              0.5555555555555556,
              "#d8576b"
             ],
             [
              0.6666666666666666,
              "#ed7953"
             ],
             [
              0.7777777777777778,
              "#fb9f3a"
             ],
             [
              0.8888888888888888,
              "#fdca26"
             ],
             [
              1,
              "#f0f921"
             ]
            ],
            "type": "contour"
           }
          ],
          "contourcarpet": [
           {
            "colorbar": {
             "outlinewidth": 0,
             "ticks": ""
            },
            "type": "contourcarpet"
           }
          ],
          "heatmap": [
           {
            "colorbar": {
             "outlinewidth": 0,
             "ticks": ""
            },
            "colorscale": [
             [
              0,
              "#0d0887"
             ],
             [
              0.1111111111111111,
              "#46039f"
             ],
             [
              0.2222222222222222,
              "#7201a8"
             ],
             [
              0.3333333333333333,
              "#9c179e"
             ],
             [
              0.4444444444444444,
              "#bd3786"
             ],
             [
              0.5555555555555556,
              "#d8576b"
             ],
             [
              0.6666666666666666,
              "#ed7953"
             ],
             [
              0.7777777777777778,
              "#fb9f3a"
             ],
             [
              0.8888888888888888,
              "#fdca26"
             ],
             [
              1,
              "#f0f921"
             ]
            ],
            "type": "heatmap"
           }
          ],
          "heatmapgl": [
           {
            "colorbar": {
             "outlinewidth": 0,
             "ticks": ""
            },
            "colorscale": [
             [
              0,
              "#0d0887"
             ],
             [
              0.1111111111111111,
              "#46039f"
             ],
             [
              0.2222222222222222,
              "#7201a8"
             ],
             [
              0.3333333333333333,
              "#9c179e"
             ],
             [
              0.4444444444444444,
              "#bd3786"
             ],
             [
              0.5555555555555556,
              "#d8576b"
             ],
             [
              0.6666666666666666,
              "#ed7953"
             ],
             [
              0.7777777777777778,
              "#fb9f3a"
             ],
             [
              0.8888888888888888,
              "#fdca26"
             ],
             [
              1,
              "#f0f921"
             ]
            ],
            "type": "heatmapgl"
           }
          ],
          "histogram": [
           {
            "marker": {
             "pattern": {
              "fillmode": "overlay",
              "size": 10,
              "solidity": 0.2
             }
            },
            "type": "histogram"
           }
          ],
          "histogram2d": [
           {
            "colorbar": {
             "outlinewidth": 0,
             "ticks": ""
            },
            "colorscale": [
             [
              0,
              "#0d0887"
             ],
             [
              0.1111111111111111,
              "#46039f"
             ],
             [
              0.2222222222222222,
              "#7201a8"
             ],
             [
              0.3333333333333333,
              "#9c179e"
             ],
             [
              0.4444444444444444,
              "#bd3786"
             ],
             [
              0.5555555555555556,
              "#d8576b"
             ],
             [
              0.6666666666666666,
              "#ed7953"
             ],
             [
              0.7777777777777778,
              "#fb9f3a"
             ],
             [
              0.8888888888888888,
              "#fdca26"
             ],
             [
              1,
              "#f0f921"
             ]
            ],
            "type": "histogram2d"
           }
          ],
          "histogram2dcontour": [
           {
            "colorbar": {
             "outlinewidth": 0,
             "ticks": ""
            },
            "colorscale": [
             [
              0,
              "#0d0887"
             ],
             [
              0.1111111111111111,
              "#46039f"
             ],
             [
              0.2222222222222222,
              "#7201a8"
             ],
             [
              0.3333333333333333,
              "#9c179e"
             ],
             [
              0.4444444444444444,
              "#bd3786"
             ],
             [
              0.5555555555555556,
              "#d8576b"
             ],
             [
              0.6666666666666666,
              "#ed7953"
             ],
             [
              0.7777777777777778,
              "#fb9f3a"
             ],
             [
              0.8888888888888888,
              "#fdca26"
             ],
             [
              1,
              "#f0f921"
             ]
            ],
            "type": "histogram2dcontour"
           }
          ],
          "mesh3d": [
           {
            "colorbar": {
             "outlinewidth": 0,
             "ticks": ""
            },
            "type": "mesh3d"
           }
          ],
          "parcoords": [
           {
            "line": {
             "colorbar": {
              "outlinewidth": 0,
              "ticks": ""
             }
            },
            "type": "parcoords"
           }
          ],
          "pie": [
           {
            "automargin": true,
            "type": "pie"
           }
          ],
          "scatter": [
           {
            "marker": {
             "colorbar": {
              "outlinewidth": 0,
              "ticks": ""
             }
            },
            "type": "scatter"
           }
          ],
          "scatter3d": [
           {
            "line": {
             "colorbar": {
              "outlinewidth": 0,
              "ticks": ""
             }
            },
            "marker": {
             "colorbar": {
              "outlinewidth": 0,
              "ticks": ""
             }
            },
            "type": "scatter3d"
           }
          ],
          "scattercarpet": [
           {
            "marker": {
             "colorbar": {
              "outlinewidth": 0,
              "ticks": ""
             }
            },
            "type": "scattercarpet"
           }
          ],
          "scattergeo": [
           {
            "marker": {
             "colorbar": {
              "outlinewidth": 0,
              "ticks": ""
             }
            },
            "type": "scattergeo"
           }
          ],
          "scattergl": [
           {
            "marker": {
             "colorbar": {
              "outlinewidth": 0,
              "ticks": ""
             }
            },
            "type": "scattergl"
           }
          ],
          "scattermapbox": [
           {
            "marker": {
             "colorbar": {
              "outlinewidth": 0,
              "ticks": ""
             }
            },
            "type": "scattermapbox"
           }
          ],
          "scatterpolar": [
           {
            "marker": {
             "colorbar": {
              "outlinewidth": 0,
              "ticks": ""
             }
            },
            "type": "scatterpolar"
           }
          ],
          "scatterpolargl": [
           {
            "marker": {
             "colorbar": {
              "outlinewidth": 0,
              "ticks": ""
             }
            },
            "type": "scatterpolargl"
           }
          ],
          "scatterternary": [
           {
            "marker": {
             "colorbar": {
              "outlinewidth": 0,
              "ticks": ""
             }
            },
            "type": "scatterternary"
           }
          ],
          "surface": [
           {
            "colorbar": {
             "outlinewidth": 0,
             "ticks": ""
            },
            "colorscale": [
             [
              0,
              "#0d0887"
             ],
             [
              0.1111111111111111,
              "#46039f"
             ],
             [
              0.2222222222222222,
              "#7201a8"
             ],
             [
              0.3333333333333333,
              "#9c179e"
             ],
             [
              0.4444444444444444,
              "#bd3786"
             ],
             [
              0.5555555555555556,
              "#d8576b"
             ],
             [
              0.6666666666666666,
              "#ed7953"
             ],
             [
              0.7777777777777778,
              "#fb9f3a"
             ],
             [
              0.8888888888888888,
              "#fdca26"
             ],
             [
              1,
              "#f0f921"
             ]
            ],
            "type": "surface"
           }
          ],
          "table": [
           {
            "cells": {
             "fill": {
              "color": "#EBF0F8"
             },
             "line": {
              "color": "white"
             }
            },
            "header": {
             "fill": {
              "color": "#C8D4E3"
             },
             "line": {
              "color": "white"
             }
            },
            "type": "table"
           }
          ]
         },
         "layout": {
          "annotationdefaults": {
           "arrowcolor": "#2a3f5f",
           "arrowhead": 0,
           "arrowwidth": 1
          },
          "autotypenumbers": "strict",
          "coloraxis": {
           "colorbar": {
            "outlinewidth": 0,
            "ticks": ""
           }
          },
          "colorscale": {
           "diverging": [
            [
             0,
             "#8e0152"
            ],
            [
             0.1,
             "#c51b7d"
            ],
            [
             0.2,
             "#de77ae"
            ],
            [
             0.3,
             "#f1b6da"
            ],
            [
             0.4,
             "#fde0ef"
            ],
            [
             0.5,
             "#f7f7f7"
            ],
            [
             0.6,
             "#e6f5d0"
            ],
            [
             0.7,
             "#b8e186"
            ],
            [
             0.8,
             "#7fbc41"
            ],
            [
             0.9,
             "#4d9221"
            ],
            [
             1,
             "#276419"
            ]
           ],
           "sequential": [
            [
             0,
             "#0d0887"
            ],
            [
             0.1111111111111111,
             "#46039f"
            ],
            [
             0.2222222222222222,
             "#7201a8"
            ],
            [
             0.3333333333333333,
             "#9c179e"
            ],
            [
             0.4444444444444444,
             "#bd3786"
            ],
            [
             0.5555555555555556,
             "#d8576b"
            ],
            [
             0.6666666666666666,
             "#ed7953"
            ],
            [
             0.7777777777777778,
             "#fb9f3a"
            ],
            [
             0.8888888888888888,
             "#fdca26"
            ],
            [
             1,
             "#f0f921"
            ]
           ],
           "sequentialminus": [
            [
             0,
             "#0d0887"
            ],
            [
             0.1111111111111111,
             "#46039f"
            ],
            [
             0.2222222222222222,
             "#7201a8"
            ],
            [
             0.3333333333333333,
             "#9c179e"
            ],
            [
             0.4444444444444444,
             "#bd3786"
            ],
            [
             0.5555555555555556,
             "#d8576b"
            ],
            [
             0.6666666666666666,
             "#ed7953"
            ],
            [
             0.7777777777777778,
             "#fb9f3a"
            ],
            [
             0.8888888888888888,
             "#fdca26"
            ],
            [
             1,
             "#f0f921"
            ]
           ]
          },
          "colorway": [
           "#636efa",
           "#EF553B",
           "#00cc96",
           "#ab63fa",
           "#FFA15A",
           "#19d3f3",
           "#FF6692",
           "#B6E880",
           "#FF97FF",
           "#FECB52"
          ],
          "font": {
           "color": "#2a3f5f"
          },
          "geo": {
           "bgcolor": "white",
           "lakecolor": "white",
           "landcolor": "#E5ECF6",
           "showlakes": true,
           "showland": true,
           "subunitcolor": "white"
          },
          "hoverlabel": {
           "align": "left"
          },
          "hovermode": "closest",
          "mapbox": {
           "style": "light"
          },
          "paper_bgcolor": "white",
          "plot_bgcolor": "#E5ECF6",
          "polar": {
           "angularaxis": {
            "gridcolor": "white",
            "linecolor": "white",
            "ticks": ""
           },
           "bgcolor": "#E5ECF6",
           "radialaxis": {
            "gridcolor": "white",
            "linecolor": "white",
            "ticks": ""
           }
          },
          "scene": {
           "xaxis": {
            "backgroundcolor": "#E5ECF6",
            "gridcolor": "white",
            "gridwidth": 2,
            "linecolor": "white",
            "showbackground": true,
            "ticks": "",
            "zerolinecolor": "white"
           },
           "yaxis": {
            "backgroundcolor": "#E5ECF6",
            "gridcolor": "white",
            "gridwidth": 2,
            "linecolor": "white",
            "showbackground": true,
            "ticks": "",
            "zerolinecolor": "white"
           },
           "zaxis": {
            "backgroundcolor": "#E5ECF6",
            "gridcolor": "white",
            "gridwidth": 2,
            "linecolor": "white",
            "showbackground": true,
            "ticks": "",
            "zerolinecolor": "white"
           }
          },
          "shapedefaults": {
           "line": {
            "color": "#2a3f5f"
           }
          },
          "ternary": {
           "aaxis": {
            "gridcolor": "white",
            "linecolor": "white",
            "ticks": ""
           },
           "baxis": {
            "gridcolor": "white",
            "linecolor": "white",
            "ticks": ""
           },
           "bgcolor": "#E5ECF6",
           "caxis": {
            "gridcolor": "white",
            "linecolor": "white",
            "ticks": ""
           }
          },
          "title": {
           "x": 0.05
          },
          "xaxis": {
           "automargin": true,
           "gridcolor": "white",
           "linecolor": "white",
           "ticks": "",
           "title": {
            "standoff": 15
           },
           "zerolinecolor": "white",
           "zerolinewidth": 2
          },
          "yaxis": {
           "automargin": true,
           "gridcolor": "white",
           "linecolor": "white",
           "ticks": "",
           "title": {
            "standoff": 15
           },
           "zerolinecolor": "white",
           "zerolinewidth": 2
          }
         }
        },
        "xaxis": {
         "anchor": "y",
         "autorange": true,
         "domain": [
          0,
          1
         ],
         "range": [
          -0.5,
          1.5
         ],
         "title": {
          "text": "sex"
         },
         "type": "category"
        },
        "yaxis": {
         "anchor": "x",
         "autorange": true,
         "domain": [
          0,
          1
         ],
         "range": [
          0,
          2020.7894736842104
         ],
         "title": {
          "text": "sum of total_bill"
         },
         "type": "linear"
        }
       }
      },
      "image/png": "[encoded data removed]",
      "text/html": [
       "<div>                            <div id=\"f822bdfd-147d-469a-8f77-b79b5137544c\" class=\"plotly-graph-div\" style=\"height:400px; width:100%;\"></div>            <script type=\"text/javascript\">                require([\"plotly\"], function(Plotly) {                    window.PLOTLYENV=window.PLOTLYENV || {};                                    if (document.getElementById(\"f822bdfd-147d-469a-8f77-b79b5137544c\")) {                    Plotly.newPlot(                        \"f822bdfd-147d-469a-8f77-b79b5137544c\",                        [{\"alignmentgroup\":\"True\",\"bingroup\":\"x\",\"histfunc\":\"sum\",\"hovertemplate\":\"smoker=No<br>sex=%{x}<br>sum of total_bill=%{y}<extra></extra>\",\"legendgroup\":\"No\",\"marker\":{\"color\":\"#636efa\",\"pattern\":{\"shape\":\"\"}},\"name\":\"No\",\"offsetgroup\":\"No\",\"orientation\":\"v\",\"showlegend\":true,\"type\":\"histogram\",\"x\":[\"Female\",\"Male\",\"Male\",\"Male\",\"Female\",\"Male\",\"Male\",\"Male\",\"Male\",\"Male\",\"Male\",\"Female\",\"Male\",\"Male\",\"Female\",\"Male\",\"Female\",\"Male\",\"Female\",\"Male\",\"Male\",\"Female\",\"Female\",\"Male\",\"Male\",\"Male\",\"Male\",\"Male\",\"Male\",\"Female\",\"Male\",\"Male\",\"Female\",\"Female\",\"Male\",\"Male\",\"Male\",\"Female\",\"Male\",\"Male\",\"Male\",\"Male\",\"Male\",\"Male\",\"Male\",\"Male\",\"Male\",\"Male\",\"Male\",\"Male\",\"Male\",\"Female\",\"Female\",\"Male\",\"Male\",\"Male\",\"Female\",\"Male\",\"Male\",\"Male\",\"Female\",\"Male\",\"Male\",\"Female\",\"Female\",\"Male\",\"Male\",\"Male\",\"Male\",\"Male\",\"Female\",\"Male\",\"Female\",\"Male\",\"Male\",\"Male\",\"Male\",\"Male\",\"Female\",\"Male\",\"Female\",\"Male\",\"Male\",\"Female\",\"Male\",\"Male\",\"Female\",\"Female\",\"Male\",\"Female\",\"Female\",\"Female\",\"Male\",\"Female\",\"Male\",\"Male\",\"Female\",\"Female\",\"Male\",\"Female\",\"Female\",\"Male\",\"Male\",\"Female\",\"Female\",\"Female\",\"Female\",\"Female\",\"Female\",\"Female\",\"Female\",\"Female\",\"Male\",\"Male\",\"Female\",\"Female\",\"Female\",\"Female\",\"Female\",\"Male\",\"Male\",\"Male\",\"Male\",\"Male\",\"Male\",\"Male\",\"Female\",\"Male\",\"Female\",\"Female\",\"Male\",\"Male\",\"Male\",\"Female\",\"Male\",\"Male\",\"Male\",\"Male\",\"Male\",\"Male\",\"Male\",\"Female\",\"Male\",\"Male\",\"Male\",\"Male\",\"Male\",\"Female\",\"Male\",\"Male\",\"Female\"],\"xaxis\":\"x\",\"y\":[16.99,10.34,21.01,23.68,24.59,25.29,8.77,26.88,15.04,14.78,10.27,35.26,15.42,18.43,14.83,21.58,10.33,16.29,16.97,20.65,17.92,20.29,15.77,39.42,19.82,17.81,13.37,12.69,21.7,19.65,9.55,18.35,15.06,20.69,17.78,24.06,16.31,16.93,18.69,31.27,16.04,17.46,13.94,9.68,30.4,18.29,22.23,32.4,28.55,18.04,12.54,10.29,34.81,9.94,25.56,19.49,26.41,48.27,17.59,20.08,16.45,20.23,12.02,17.07,14.73,10.51,27.2,22.76,17.29,16.66,10.07,15.98,34.83,13.03,18.28,24.71,21.16,22.49,22.75,12.46,20.92,18.24,14.0,7.25,38.07,23.95,25.71,17.31,29.93,10.65,12.43,24.08,11.69,13.42,14.26,15.95,12.48,29.8,8.52,14.52,11.38,22.82,19.08,20.27,11.17,12.26,18.26,8.51,10.33,14.15,13.16,17.47,34.3,41.19,27.05,16.43,8.35,18.64,11.87,9.78,7.51,14.07,13.13,17.26,24.55,19.77,29.85,48.17,25.0,13.39,16.49,21.5,12.66,16.21,13.81,24.52,20.76,31.71,20.69,7.56,48.33,15.98,20.45,13.28,11.61,10.77,10.07,35.83,29.03,17.82,18.78],\"yaxis\":\"y\"},{\"alignmentgroup\":\"True\",\"bingroup\":\"x\",\"histfunc\":\"sum\",\"hovertemplate\":\"smoker=Yes<br>sex=%{x}<br>sum of total_bill=%{y}<extra></extra>\",\"legendgroup\":\"Yes\",\"marker\":{\"color\":\"#EF553B\",\"pattern\":{\"shape\":\"\"}},\"name\":\"Yes\",\"offsetgroup\":\"Yes\",\"orientation\":\"v\",\"showlegend\":true,\"type\":\"histogram\",\"x\":[\"Male\",\"Male\",\"Male\",\"Male\",\"Male\",\"Male\",\"Female\",\"Male\",\"Female\",\"Female\",\"Male\",\"Male\",\"Male\",\"Male\",\"Female\",\"Female\",\"Male\",\"Male\",\"Male\",\"Male\",\"Female\",\"Female\",\"Female\",\"Female\",\"Male\",\"Male\",\"Male\",\"Female\",\"Male\",\"Female\",\"Female\",\"Female\",\"Male\",\"Male\",\"Male\",\"Male\",\"Male\",\"Male\",\"Male\",\"Male\",\"Female\",\"Male\",\"Male\",\"Male\",\"Male\",\"Male\",\"Male\",\"Female\",\"Male\",\"Female\",\"Male\",\"Male\",\"Female\",\"Male\",\"Male\",\"Male\",\"Male\",\"Female\",\"Female\",\"Male\",\"Male\",\"Female\",\"Female\",\"Female\",\"Male\",\"Female\",\"Male\",\"Male\",\"Male\",\"Female\",\"Male\",\"Male\",\"Female\",\"Female\",\"Female\",\"Male\",\"Male\",\"Male\",\"Female\",\"Male\",\"Female\",\"Male\",\"Male\",\"Female\",\"Female\",\"Female\",\"Male\",\"Male\",\"Male\",\"Male\",\"Male\",\"Female\",\"Male\"],\"xaxis\":\"x\",\"y\":[38.01,11.24,20.29,13.81,11.02,18.29,3.07,15.01,26.86,25.28,17.92,19.44,32.68,28.97,5.75,16.32,40.17,27.28,12.03,21.01,11.35,15.38,44.3,22.42,15.36,20.49,25.21,14.31,16.0,17.51,10.59,10.63,50.81,15.81,7.25,31.85,16.82,32.9,17.89,14.48,9.6,34.63,34.65,23.33,45.35,23.17,40.55,20.9,30.46,18.15,23.1,15.69,19.81,28.44,15.48,16.58,10.34,43.11,13.0,13.51,18.71,12.74,13.0,16.4,20.53,16.47,26.59,38.73,24.27,12.76,30.06,25.89,13.27,28.17,12.9,28.15,11.59,7.74,30.14,12.16,13.42,8.58,13.42,16.27,10.09,22.12,24.01,15.69,15.53,12.6,32.83,27.18,22.67],\"yaxis\":\"y\"}],                        {\"barmode\":\"group\",\"height\":400,\"legend\":{\"title\":{\"text\":\"smoker\"},\"tracegroupgap\":0},\"margin\":{\"t\":60},\"template\":{\"data\":{\"bar\":[{\"error_x\":{\"color\":\"#2a3f5f\"},\"error_y\":{\"color\":\"#2a3f5f\"},\"marker\":{\"line\":{\"color\":\"#E5ECF6\",\"width\":0.5},\"pattern\":{\"fillmode\":\"overlay\",\"size\":10,\"solidity\":0.2}},\"type\":\"bar\"}],\"barpolar\":[{\"marker\":{\"line\":{\"color\":\"#E5ECF6\",\"width\":0.5},\"pattern\":{\"fillmode\":\"overlay\",\"size\":10,\"solidity\":0.2}},\"type\":\"barpolar\"}],\"carpet\":[{\"aaxis\":{\"endlinecolor\":\"#2a3f5f\",\"gridcolor\":\"white\",\"linecolor\":\"white\",\"minorgridcolor\":\"white\",\"startlinecolor\":\"#2a3f5f\"},\"baxis\":{\"endlinecolor\":\"#2a3f5f\",\"gridcolor\":\"white\",\"linecolor\":\"white\",\"minorgridcolor\":\"white\",\"startlinecolor\":\"#2a3f5f\"},\"type\":\"carpet\"}],\"choropleth\":[{\"colorbar\":{\"outlinewidth\":0,\"ticks\":\"\"},\"type\":\"choropleth\"}],\"contour\":[{\"colorbar\":{\"outlinewidth\":0,\"ticks\":\"\"},\"colorscale\":[[0.0,\"#0d0887\"],[0.1111111111111111,\"#46039f\"],[0.2222222222222222,\"#7201a8\"],[0.3333333333333333,\"#9c179e\"],[0.4444444444444444,\"#bd3786\"],[0.5555555555555556,\"#d8576b\"],[0.6666666666666666,\"#ed7953\"],[0.7777777777777778,\"#fb9f3a\"],[0.8888888888888888,\"#fdca26\"],[1.0,\"#f0f921\"]],\"type\":\"contour\"}],\"contourcarpet\":[{\"colorbar\":{\"outlinewidth\":0,\"ticks\":\"\"},\"type\":\"contourcarpet\"}],\"heatmap\":[{\"colorbar\":{\"outlinewidth\":0,\"ticks\":\"\"},\"colorscale\":[[0.0,\"#0d0887\"],[0.1111111111111111,\"#46039f\"],[0.2222222222222222,\"#7201a8\"],[0.3333333333333333,\"#9c179e\"],[0.4444444444444444,\"#bd3786\"],[0.5555555555555556,\"#d8576b\"],[0.6666666666666666,\"#ed7953\"],[0.7777777777777778,\"#fb9f3a\"],[0.8888888888888888,\"#fdca26\"],[1.0,\"#f0f921\"]],\"type\":\"heatmap\"}],\"heatmapgl\":[{\"colorbar\":{\"outlinewidth\":0,\"ticks\":\"\"},\"colorscale\":[[0.0,\"#0d0887\"],[0.1111111111111111,\"#46039f\"],[0.2222222222222222,\"#7201a8\"],[0.3333333333333333,\"#9c179e\"],[0.4444444444444444,\"#bd3786\"],[0.5555555555555556,\"#d8576b\"],[0.6666666666666666,\"#ed7953\"],[0.7777777777777778,\"#fb9f3a\"],[0.8888888888888888,\"#fdca26\"],[1.0,\"#f0f921\"]],\"type\":\"heatmapgl\"}],\"histogram\":[{\"marker\":{\"pattern\":{\"fillmode\":\"overlay\",\"size\":10,\"solidity\":0.2}},\"type\":\"histogram\"}],\"histogram2d\":[{\"colorbar\":{\"outlinewidth\":0,\"ticks\":\"\"},\"colorscale\":[[0.0,\"#0d0887\"],[0.1111111111111111,\"#46039f\"],[0.2222222222222222,\"#7201a8\"],[0.3333333333333333,\"#9c179e\"],[0.4444444444444444,\"#bd3786\"],[0.5555555555555556,\"#d8576b\"],[0.6666666666666666,\"#ed7953\"],[0.7777777777777778,\"#fb9f3a\"],[0.8888888888888888,\"#fdca26\"],[1.0,\"#f0f921\"]],\"type\":\"histogram2d\"}],\"histogram2dcontour\":[{\"colorbar\":{\"outlinewidth\":0,\"ticks\":\"\"},\"colorscale\":[[0.0,\"#0d0887\"],[0.1111111111111111,\"#46039f\"],[0.2222222222222222,\"#7201a8\"],[0.3333333333333333,\"#9c179e\"],[0.4444444444444444,\"#bd3786\"],[0.5555555555555556,\"#d8576b\"],[0.6666666666666666,\"#ed7953\"],[0.7777777777777778,\"#fb9f3a\"],[0.8888888888888888,\"#fdca26\"],[1.0,\"#f0f921\"]],\"type\":\"histogram2dcontour\"}],\"mesh3d\":[{\"colorbar\":{\"outlinewidth\":0,\"ticks\":\"\"},\"type\":\"mesh3d\"}],\"parcoords\":[{\"line\":{\"colorbar\":{\"outlinewidth\":0,\"ticks\":\"\"}},\"type\":\"parcoords\"}],\"pie\":[{\"automargin\":true,\"type\":\"pie\"}],\"scatter\":[{\"marker\":{\"colorbar\":{\"outlinewidth\":0,\"ticks\":\"\"}},\"type\":\"scatter\"}],\"scatter3d\":[{\"line\":{\"colorbar\":{\"outlinewidth\":0,\"ticks\":\"\"}},\"marker\":{\"colorbar\":{\"outlinewidth\":0,\"ticks\":\"\"}},\"type\":\"scatter3d\"}],\"scattercarpet\":[{\"marker\":{\"colorbar\":{\"outlinewidth\":0,\"ticks\":\"\"}},\"type\":\"scattercarpet\"}],\"scattergeo\":[{\"marker\":{\"colorbar\":{\"outlinewidth\":0,\"ticks\":\"\"}},\"type\":\"scattergeo\"}],\"scattergl\":[{\"marker\":{\"colorbar\":{\"outlinewidth\":0,\"ticks\":\"\"}},\"type\":\"scattergl\"}],\"scattermapbox\":[{\"marker\":{\"colorbar\":{\"outlinewidth\":0,\"ticks\":\"\"}},\"type\":\"scattermapbox\"}],\"scatterpolar\":[{\"marker\":{\"colorbar\":{\"outlinewidth\":0,\"ticks\":\"\"}},\"type\":\"scatterpolar\"}],\"scatterpolargl\":[{\"marker\":{\"colorbar\":{\"outlinewidth\":0,\"ticks\":\"\"}},\"type\":\"scatterpolargl\"}],\"scatterternary\":[{\"marker\":{\"colorbar\":{\"outlinewidth\":0,\"ticks\":\"\"}},\"type\":\"scatterternary\"}],\"surface\":[{\"colorbar\":{\"outlinewidth\":0,\"ticks\":\"\"},\"colorscale\":[[0.0,\"#0d0887\"],[0.1111111111111111,\"#46039f\"],[0.2222222222222222,\"#7201a8\"],[0.3333333333333333,\"#9c179e\"],[0.4444444444444444,\"#bd3786\"],[0.5555555555555556,\"#d8576b\"],[0.6666666666666666,\"#ed7953\"],[0.7777777777777778,\"#fb9f3a\"],[0.8888888888888888,\"#fdca26\"],[1.0,\"#f0f921\"]],\"type\":\"surface\"}],\"table\":[{\"cells\":{\"fill\":{\"color\":\"#EBF0F8\"},\"line\":{\"color\":\"white\"}},\"header\":{\"fill\":{\"color\":\"#C8D4E3\"},\"line\":{\"color\":\"white\"}},\"type\":\"table\"}]},\"layout\":{\"annotationdefaults\":{\"arrowcolor\":\"#2a3f5f\",\"arrowhead\":0,\"arrowwidth\":1},\"autotypenumbers\":\"strict\",\"coloraxis\":{\"colorbar\":{\"outlinewidth\":0,\"ticks\":\"\"}},\"colorscale\":{\"diverging\":[[0,\"#8e0152\"],[0.1,\"#c51b7d\"],[0.2,\"#de77ae\"],[0.3,\"#f1b6da\"],[0.4,\"#fde0ef\"],[0.5,\"#f7f7f7\"],[0.6,\"#e6f5d0\"],[0.7,\"#b8e186\"],[0.8,\"#7fbc41\"],[0.9,\"#4d9221\"],[1,\"#276419\"]],\"sequential\":[[0.0,\"#0d0887\"],[0.1111111111111111,\"#46039f\"],[0.2222222222222222,\"#7201a8\"],[0.3333333333333333,\"#9c179e\"],[0.4444444444444444,\"#bd3786\"],[0.5555555555555556,\"#d8576b\"],[0.6666666666666666,\"#ed7953\"],[0.7777777777777778,\"#fb9f3a\"],[0.8888888888888888,\"#fdca26\"],[1.0,\"#f0f921\"]],\"sequentialminus\":[[0.0,\"#0d0887\"],[0.1111111111111111,\"#46039f\"],[0.2222222222222222,\"#7201a8\"],[0.3333333333333333,\"#9c179e\"],[0.4444444444444444,\"#bd3786\"],[0.5555555555555556,\"#d8576b\"],[0.6666666666666666,\"#ed7953\"],[0.7777777777777778,\"#fb9f3a\"],[0.8888888888888888,\"#fdca26\"],[1.0,\"#f0f921\"]]},\"colorway\":[\"#636efa\",\"#EF553B\",\"#00cc96\",\"#ab63fa\",\"#FFA15A\",\"#19d3f3\",\"#FF6692\",\"#B6E880\",\"#FF97FF\",\"#FECB52\"],\"font\":{\"color\":\"#2a3f5f\"},\"geo\":{\"bgcolor\":\"white\",\"lakecolor\":\"white\",\"landcolor\":\"#E5ECF6\",\"showlakes\":true,\"showland\":true,\"subunitcolor\":\"white\"},\"hoverlabel\":{\"align\":\"left\"},\"hovermode\":\"closest\",\"mapbox\":{\"style\":\"light\"},\"paper_bgcolor\":\"white\",\"plot_bgcolor\":\"#E5ECF6\",\"polar\":{\"angularaxis\":{\"gridcolor\":\"white\",\"linecolor\":\"white\",\"ticks\":\"\"},\"bgcolor\":\"#E5ECF6\",\"radialaxis\":{\"gridcolor\":\"white\",\"linecolor\":\"white\",\"ticks\":\"\"}},\"scene\":{\"xaxis\":{\"backgroundcolor\":\"#E5ECF6\",\"gridcolor\":\"white\",\"gridwidth\":2,\"linecolor\":\"white\",\"showbackground\":true,\"ticks\":\"\",\"zerolinecolor\":\"white\"},\"yaxis\":{\"backgroundcolor\":\"#E5ECF6\",\"gridcolor\":\"white\",\"gridwidth\":2,\"linecolor\":\"white\",\"showbackground\":true,\"ticks\":\"\",\"zerolinecolor\":\"white\"},\"zaxis\":{\"backgroundcolor\":\"#E5ECF6\",\"gridcolor\":\"white\",\"gridwidth\":2,\"linecolor\":\"white\",\"showbackground\":true,\"ticks\":\"\",\"zerolinecolor\":\"white\"}},\"shapedefaults\":{\"line\":{\"color\":\"#2a3f5f\"}},\"ternary\":{\"aaxis\":{\"gridcolor\":\"white\",\"linecolor\":\"white\",\"ticks\":\"\"},\"baxis\":{\"gridcolor\":\"white\",\"linecolor\":\"white\",\"ticks\":\"\"},\"bgcolor\":\"#E5ECF6\",\"caxis\":{\"gridcolor\":\"white\",\"linecolor\":\"white\",\"ticks\":\"\"}},\"title\":{\"x\":0.05},\"xaxis\":{\"automargin\":true,\"gridcolor\":\"white\",\"linecolor\":\"white\",\"ticks\":\"\",\"title\":{\"standoff\":15},\"zerolinecolor\":\"white\",\"zerolinewidth\":2},\"yaxis\":{\"automargin\":true,\"gridcolor\":\"white\",\"linecolor\":\"white\",\"ticks\":\"\",\"title\":{\"standoff\":15},\"zerolinecolor\":\"white\",\"zerolinewidth\":2}}},\"xaxis\":{\"anchor\":\"y\",\"domain\":[0.0,1.0],\"title\":{\"text\":\"sex\"}},\"yaxis\":{\"anchor\":\"x\",\"domain\":[0.0,1.0],\"title\":{\"text\":\"sum of total_bill\"}}},                        {\"responsive\": true}                    ).then(function(){\n",
       "                            \n",
       "var gd = document.getElementById('f822bdfd-147d-469a-8f77-b79b5137544c');\n",
       "var x = new MutationObserver(function (mutations, observer) {{\n",
       "        var display = window.getComputedStyle(gd).display;\n",
       "        if (!display || display === 'none') {{\n",
       "            console.log([gd, 'removed!']);\n",
       "            Plotly.purge(gd);\n",
       "            observer.disconnect();\n",
       "        }}\n",
       "}});\n",
       "\n",
       "// Listen for the removal of the full notebook cells\n",
       "var notebookContainer = gd.closest('#notebook-container');\n",
       "if (notebookContainer) {{\n",
       "    x.observe(notebookContainer, {childList: true});\n",
       "}}\n",
       "\n",
       "// Listen for the clearing of the current output cell\n",
       "var outputEl = gd.closest('.output');\n",
       "if (outputEl) {{\n",
       "    x.observe(outputEl, {childList: true});\n",
       "}}\n",
       "\n",
       "                        })                };                });            </script>        </div>"
      ]
     },
     "metadata": {},
     "output_type": "display_data"
    }
   ],
   "source": [
    "fig = px.histogram(df, x=\"sex\", y=\"total_bill\",\n",
    "             color='smoker', barmode='group',\n",
    "             height=400)\n",
    "fig.show()"
   ]
  },
  {
   "cell_type": "code",
   "execution_count": 83,
   "id": "3366be56-b27d-4355-a46e-69d1df94cfc0",
   "metadata": {},
   "outputs": [
    {
     "data": {
      "text/plain": [
       "[[24, 20],\n",
       " [58, 67],\n",
       " [1, 1],\n",
       " [41, 44],\n",
       " [3, 3],\n",
       " [10, 11],\n",
       " [337, 279],\n",
       " [539, 513],\n",
       " [5, 5],\n",
       " [3, 3],\n",
       " [20, 21],\n",
       " [8, 11],\n",
       " [3, 3],\n",
       " [16, 20]]"
      ]
     },
     "execution_count": 83,
     "metadata": {},
     "output_type": "execute_result"
    }
   ],
   "source": [
    "iss2 = generator(3, 2, min_fill=.8,\n",
    "                    bin_generator = correlated_capacities, seed=123, rem_cons=.8, dev=.1,\n",
    "                    correlated_items = True)\n",
    "len(iss2.items)\n",
    "iss2.items"
   ]
  },
  {
   "cell_type": "code",
   "execution_count": 56,
   "id": "6c0146b3-3a74-4839-a8a6-d484f7200e41",
   "metadata": {},
   "outputs": [
    {
     "name": "stdout",
     "output_type": "stream",
     "text": [
      "len items 30\n",
      "Processing 25.0% Done\n",
      "Processing 50.0% Done\n",
      "Processing 75.0% Done\n"
     ]
    }
   ],
   "source": [
    "x, y, z = test_bdf(d=2, U=10, ins_type='unif')"
   ]
  },
  {
   "cell_type": "code",
   "execution_count": 74,
   "id": "aaea83d3-943a-4442-b472-28b0fc40f1c4",
   "metadata": {},
   "outputs": [
    {
     "data": {
      "text/plain": [
       "Items:\n",
       "[[171, 107], [205, 123], [129, 101], [155, 654], [175, 267], [42, 89], [174, 26], [92, 92], [12, 34], [40, 11], [244, 4], [497, 266], [322, 12], [26, 34], [198, 5], [172, 143], [5, 196], [203, 661], [16, 386], [10, 18], [3, 2], [28, 0], [18, 312], [131, 222], [38, 24], [81, 69], [0, 111], [33, 144], [220, 18], [209, 5]]\n",
       "Bins:\n",
       "[[[393, 532], [76, 49]], [[63, 284], [17, 18]], [[221, 850], [33, 52]], [[490, 867], [92, 165]], [[81, 16], [13, 5]], [[693, 155], [90, 14]], [[585, 350], [116, 23]], [[261, 177], [25, 37]], [[838, 993], [182, 98]], [[711, 561], [43, 188]]]"
      ]
     },
     "execution_count": 74,
     "metadata": {},
     "output_type": "execute_result"
    }
   ],
   "source": [
    "iss = generator(num_bins=10, num_resources=2, min_fill=.8, bin_generator = unif_bin, seed=123, rem_cons=.8, proc_rate=1)\n",
    "iss"
   ]
  },
  {
   "cell_type": "code",
   "execution_count": 76,
   "id": "0cae0185-f805-434a-adc3-dc00f2007d22",
   "metadata": {},
   "outputs": [
    {
     "data": {
      "text/plain": [
       "Items:\n",
       "[[220, 18], [81, 69], [33, 144], [673, 134], [26, 34], [129, 101], [198, 5], [12, 34], [244, 4], [43, 171], [86, 141], [322, 12], [18, 312], [209, 5], [0, 111], [92, 92], [42, 89], [205, 123], [171, 107], [40, 11], [155, 654], [3, 2], [16, 386], [172, 143], [5, 196], [38, 24], [131, 222], [175, 267], [28, 0], [10, 18], [203, 661], [174, 26], [497, 266]]\n",
       "Bins:\n",
       "[[[490, 867], [92, 165]], [[261, 177], [25, 37]], [[693, 155], [90, 14]], [[393, 532], [76, 49]], [[945, 508], [143, 62]], [[81, 16], [13, 5]], [[585, 350], [116, 23]], [[711, 561], [43, 188]], [[63, 284], [17, 18]], [[838, 993], [182, 98]], [[221, 850], [33, 52]]]"
      ]
     },
     "execution_count": 76,
     "metadata": {},
     "output_type": "execute_result"
    }
   ],
   "source": [
    "iss = generator(num_bins=11, num_resources=2, min_fill=.8, bin_generator = unif_bin, seed=123, rem_cons=.8, proc_rate=1)\n",
    "iss"
   ]
  },
  {
   "cell_type": "code",
   "execution_count": 131,
   "id": "ec3bfcea-d05c-448b-b6e5-40fb280fd1ce",
   "metadata": {},
   "outputs": [],
   "source": [
    "import shutil\n",
    "shutil.rmtree(base_dir)"
   ]
  },
  {
   "cell_type": "code",
   "execution_count": 136,
   "id": "d32b1f95-5719-4f79-a3fa-d71b0f0d35c5",
   "metadata": {},
   "outputs": [
    {
     "name": "stdout",
     "output_type": "stream",
     "text": [
      "ins_type:unif, bin:10, dim:2\n",
      "Processing 25.0% Done\n",
      "Processing 50.0% Done\n",
      "Processing 75.0% Done\n",
      "ins_type:unif, bin:10, dim:5\n",
      "Processing 25.0% Done\n",
      "Processing 50.0% Done\n",
      "Processing 75.0% Done\n",
      "ins_type:unif, bin:10, dim:10\n",
      "Processing 25.0% Done\n",
      "Processing 50.0% Done\n",
      "Processing 75.0% Done\n",
      "ins_type:unif, bin:30, dim:2\n",
      "Processing 25.0% Done\n",
      "Processing 50.0% Done\n",
      "Processing 75.0% Done\n",
      "ins_type:unif, bin:30, dim:5\n",
      "Processing 25.0% Done\n",
      "Processing 50.0% Done\n",
      "Processing 75.0% Done\n",
      "ins_type:unif, bin:30, dim:10\n",
      "Processing 25.0% Done\n",
      "Processing 50.0% Done\n",
      "Processing 75.0% Done\n",
      "ins_type:unif, bin:100, dim:2\n",
      "Processing 25.0% Done\n",
      "Processing 50.0% Done\n",
      "Processing 75.0% Done\n",
      "ins_type:unif, bin:100, dim:5\n",
      "Processing 25.0% Done\n",
      "Processing 50.0% Done\n",
      "Processing 75.0% Done\n",
      "ins_type:unif, bin:100, dim:10\n",
      "Processing 25.0% Done\n",
      "Processing 50.0% Done\n",
      "Processing 75.0% Done\n",
      "[['unif', '10_2', 'max', 6944, 0.0], ['unif', '10_2', 'min', 6944, 0.0], ['unif', '10_5', 'max', 16588, 0.0], ['unif', '10_5', 'min', 16588, 0.0], ['unif', '10_10', 'max', 44212, 0.0], ['unif', '10_10', 'min', 44212, 0.0], ['unif', '30_2', 'max', 20384, 0.11], ['unif', '30_2', 'min', 20295, 0.3], ['unif', '30_5', 'max', 55799, 1.74], ['unif', '30_5', 'min', 55764, 0.0], ['unif', '30_10', 'max', 121965, 0.0], ['unif', '30_10', 'min', 121965, 0.0], ['unif', '100_2', 'max', 70235, 0.0], ['unif', '100_2', 'min', 69813, 0.49], ['unif', '100_5', 'max', 195944, 0.0], ['unif', '100_5', 'min', 195860, 0.18], ['unif', '100_10', 'max', 422506, 0.0], ['unif', '100_10', 'min', 422196, 0.41000000000000003]]\n",
      "   instance     B_D value_type  unassigned  alpha\n",
      "0      unif    10_2        max        6944   0.00\n",
      "1      unif    10_2        min        6944   0.00\n",
      "2      unif    10_5        max       16588   0.00\n",
      "3      unif    10_5        min       16588   0.00\n",
      "4      unif   10_10        max       44212   0.00\n",
      "5      unif   10_10        min       44212   0.00\n",
      "6      unif    30_2        max       20384   0.11\n",
      "7      unif    30_2        min       20295   0.30\n",
      "8      unif    30_5        max       55799   1.74\n",
      "9      unif    30_5        min       55764   0.00\n",
      "10     unif   30_10        max      121965   0.00\n",
      "11     unif   30_10        min      121965   0.00\n",
      "12     unif   100_2        max       70235   0.00\n",
      "13     unif   100_2        min       69813   0.49\n",
      "14     unif   100_5        max      195944   0.00\n",
      "15     unif   100_5        min      195860   0.18\n",
      "16     unif  100_10        max      422506   0.00\n",
      "17     unif  100_10        min      422196   0.41\n",
      "ploted graph\n",
      "ins_type:rare, bin:10, dim:2\n",
      "Processing 25.0% Done\n",
      "Processing 50.0% Done\n",
      "Processing 75.0% Done\n",
      "ins_type:rare, bin:10, dim:5\n",
      "Processing 25.0% Done\n",
      "Processing 50.0% Done\n",
      "Processing 75.0% Done\n",
      "ins_type:rare, bin:10, dim:10\n",
      "Processing 25.0% Done\n",
      "Processing 50.0% Done\n",
      "Processing 75.0% Done\n",
      "ins_type:rare, bin:30, dim:2\n",
      "Processing 25.0% Done\n",
      "Processing 50.0% Done\n",
      "Processing 75.0% Done\n",
      "ins_type:rare, bin:30, dim:5\n",
      "Processing 25.0% Done\n",
      "Processing 50.0% Done\n",
      "Processing 75.0% Done\n",
      "ins_type:rare, bin:30, dim:10\n",
      "Processing 25.0% Done\n",
      "Processing 50.0% Done\n",
      "Processing 75.0% Done\n",
      "ins_type:rare, bin:100, dim:2\n",
      "Processing 25.0% Done\n",
      "Processing 50.0% Done\n",
      "Processing 75.0% Done\n",
      "ins_type:rare, bin:100, dim:5\n",
      "Processing 25.0% Done\n",
      "Processing 50.0% Done\n",
      "Processing 75.0% Done\n",
      "ins_type:rare, bin:100, dim:10\n",
      "Processing 25.0% Done\n",
      "Processing 50.0% Done\n",
      "Processing 75.0% Done\n",
      "[['rare', '10_2', 'max', 4639, 0.0], ['rare', '10_2', 'min', 4639, 0.0], ['rare', '10_5', 'max', 16263, 0.0], ['rare', '10_5', 'min', 16263, 0.0], ['rare', '10_10', 'max', 38100, 0.0], ['rare', '10_10', 'min', 38100, 0.0], ['rare', '30_2', 'max', 11314, 1.3900000000000001], ['rare', '30_2', 'min', 11225, 0.0], ['rare', '30_5', 'max', 47861, 0.0], ['rare', '30_5', 'min', 47861, 0.0], ['rare', '30_10', 'max', 111864, 0.0], ['rare', '30_10', 'min', 111864, 0.0], ['rare', '100_2', 'max', 46663, 1.54], ['rare', '100_2', 'min', 46224, 0.2], ['rare', '100_5', 'max', 154430, 0.0], ['rare', '100_5', 'min', 153871, 0.36], ['rare', '100_10', 'max', 393676, 0.79], ['rare', '100_10', 'min', 393659, 0.0]]\n",
      "   instance     B_D value_type  unassigned  alpha\n",
      "0      rare    10_2        max        4639   0.00\n",
      "1      rare    10_2        min        4639   0.00\n",
      "2      rare    10_5        max       16263   0.00\n",
      "3      rare    10_5        min       16263   0.00\n",
      "4      rare   10_10        max       38100   0.00\n",
      "5      rare   10_10        min       38100   0.00\n",
      "6      rare    30_2        max       11314   1.39\n",
      "7      rare    30_2        min       11225   0.00\n",
      "8      rare    30_5        max       47861   0.00\n",
      "9      rare    30_5        min       47861   0.00\n",
      "10     rare   30_10        max      111864   0.00\n",
      "11     rare   30_10        min      111864   0.00\n",
      "12     rare   100_2        max       46663   1.54\n",
      "13     rare   100_2        min       46224   0.20\n",
      "14     rare   100_5        max      154430   0.00\n",
      "15     rare   100_5        min      153871   0.36\n",
      "16     rare  100_10        max      393676   0.79\n",
      "17     rare  100_10        min      393659   0.00\n",
      "ploted graph\n",
      "ins_type:correlatrd1, bin:10, dim:2\n",
      "Processing 25.0% Done\n",
      "Processing 50.0% Done\n",
      "Processing 75.0% Done\n",
      "ins_type:correlatrd1, bin:10, dim:5\n",
      "Processing 25.0% Done\n",
      "Processing 50.0% Done\n",
      "Processing 75.0% Done\n",
      "ins_type:correlatrd1, bin:10, dim:10\n",
      "Processing 25.0% Done\n",
      "Processing 50.0% Done\n",
      "Processing 75.0% Done\n",
      "ins_type:correlatrd1, bin:30, dim:2\n",
      "Processing 25.0% Done\n",
      "Processing 50.0% Done\n",
      "Processing 75.0% Done\n",
      "ins_type:correlatrd1, bin:30, dim:5\n",
      "Processing 25.0% Done\n",
      "Processing 50.0% Done\n",
      "Processing 75.0% Done\n",
      "ins_type:correlatrd1, bin:30, dim:10\n",
      "Processing 25.0% Done\n",
      "Processing 50.0% Done\n",
      "Processing 75.0% Done\n",
      "ins_type:correlatrd1, bin:100, dim:2\n",
      "Processing 25.0% Done\n",
      "Processing 50.0% Done\n",
      "Processing 75.0% Done\n",
      "ins_type:correlatrd1, bin:100, dim:5\n",
      "Processing 25.0% Done\n",
      "Processing 50.0% Done\n",
      "Processing 75.0% Done\n",
      "ins_type:correlatrd1, bin:100, dim:10\n",
      "Processing 25.0% Done\n",
      "Processing 50.0% Done\n",
      "Processing 75.0% Done\n",
      "[['correlatrd1', '10_2', 'max', 6588, 0.0], ['correlatrd1', '10_2', 'min', 6588, 0.0], ['correlatrd1', '10_5', 'max', 11629, 0.0], ['correlatrd1', '10_5', 'min', 11629, 0.0], ['correlatrd1', '10_10', 'max', 39174, 0.0], ['correlatrd1', '10_10', 'min', 39114, 0.34], ['correlatrd1', '30_2', 'max', 25092, 0.0], ['correlatrd1', '30_2', 'min', 24961, 1.1500000000000001], ['correlatrd1', '30_5', 'max', 49155, 0.07], ['correlatrd1', '30_5', 'min', 48886, 1.28], ['correlatrd1', '30_10', 'max', 117538, 1.82], ['correlatrd1', '30_10', 'min', 117319, 0.08], ['correlatrd1', '100_2', 'max', 74690, 0.0], ['correlatrd1', '100_2', 'min', 73882, 1.5], ['correlatrd1', '100_5', 'max', 185078, 1.75], ['correlatrd1', '100_5', 'min', 184805, 0.07], ['correlatrd1', '100_10', 'max', 396329, 0.0], ['correlatrd1', '100_10', 'min', 394683, 1.21]]\n",
      "       instance     B_D value_type  unassigned  alpha\n",
      "0   correlatrd1    10_2        max        6588   0.00\n",
      "1   correlatrd1    10_2        min        6588   0.00\n",
      "2   correlatrd1    10_5        max       11629   0.00\n",
      "3   correlatrd1    10_5        min       11629   0.00\n",
      "4   correlatrd1   10_10        max       39174   0.00\n",
      "5   correlatrd1   10_10        min       39114   0.34\n",
      "6   correlatrd1    30_2        max       25092   0.00\n",
      "7   correlatrd1    30_2        min       24961   1.15\n",
      "8   correlatrd1    30_5        max       49155   0.07\n",
      "9   correlatrd1    30_5        min       48886   1.28\n",
      "10  correlatrd1   30_10        max      117538   1.82\n",
      "11  correlatrd1   30_10        min      117319   0.08\n",
      "12  correlatrd1   100_2        max       74690   0.00\n",
      "13  correlatrd1   100_2        min       73882   1.50\n",
      "14  correlatrd1   100_5        max      185078   1.75\n",
      "15  correlatrd1   100_5        min      184805   0.07\n",
      "16  correlatrd1  100_10        max      396329   0.00\n",
      "17  correlatrd1  100_10        min      394683   1.21\n",
      "ploted graph\n",
      "ins_type:correlatrd2, bin:10, dim:2\n",
      "Processing 25.0% Done\n",
      "Processing 50.0% Done\n",
      "Processing 75.0% Done\n",
      "ins_type:correlatrd2, bin:10, dim:5\n",
      "Processing 25.0% Done\n",
      "Processing 50.0% Done\n",
      "Processing 75.0% Done\n",
      "ins_type:correlatrd2, bin:10, dim:10\n",
      "Processing 25.0% Done\n",
      "Processing 50.0% Done\n",
      "Processing 75.0% Done\n",
      "ins_type:correlatrd2, bin:30, dim:2\n",
      "Processing 25.0% Done\n",
      "Processing 50.0% Done\n",
      "Processing 75.0% Done\n",
      "ins_type:correlatrd2, bin:30, dim:5\n",
      "Processing 25.0% Done\n",
      "Processing 50.0% Done\n",
      "Processing 75.0% Done\n",
      "ins_type:correlatrd2, bin:30, dim:10\n",
      "Processing 25.0% Done\n",
      "Processing 50.0% Done\n",
      "Processing 75.0% Done\n",
      "ins_type:correlatrd2, bin:100, dim:2\n",
      "Processing 25.0% Done\n",
      "Processing 50.0% Done\n",
      "Processing 75.0% Done\n",
      "ins_type:correlatrd2, bin:100, dim:5\n",
      "Processing 25.0% Done\n",
      "Processing 50.0% Done\n",
      "Processing 75.0% Done\n",
      "ins_type:correlatrd2, bin:100, dim:10\n",
      "Processing 25.0% Done\n",
      "Processing 50.0% Done\n",
      "Processing 75.0% Done\n",
      "[['correlatrd2', '10_2', 'max', 6065, 0.0], ['correlatrd2', '10_2', 'min', 6065, 0.0], ['correlatrd2', '10_5', 'max', 15490, 0.0], ['correlatrd2', '10_5', 'min', 15490, 0.0], ['correlatrd2', '10_10', 'max', 34864, 0.0], ['correlatrd2', '10_10', 'min', 34864, 0.0], ['correlatrd2', '30_2', 'max', 20357, 0.0], ['correlatrd2', '30_2', 'min', 20357, 0.0], ['correlatrd2', '30_5', 'max', 62245, 1.72], ['correlatrd2', '30_5', 'min', 62148, 0.0], ['correlatrd2', '30_10', 'max', 109762, 0.0], ['correlatrd2', '30_10', 'min', 109756, 0.27], ['correlatrd2', '100_2', 'max', 77995, 1.71], ['correlatrd2', '100_2', 'min', 77980, 0.0], ['correlatrd2', '100_5', 'max', 195257, 0.8], ['correlatrd2', '100_5', 'min', 195215, 0.55], ['correlatrd2', '100_10', 'max', 407030, 0.0], ['correlatrd2', '100_10', 'min', 407005, 0.66]]\n",
      "       instance     B_D value_type  unassigned  alpha\n",
      "0   correlatrd2    10_2        max        6065   0.00\n",
      "1   correlatrd2    10_2        min        6065   0.00\n",
      "2   correlatrd2    10_5        max       15490   0.00\n",
      "3   correlatrd2    10_5        min       15490   0.00\n",
      "4   correlatrd2   10_10        max       34864   0.00\n",
      "5   correlatrd2   10_10        min       34864   0.00\n",
      "6   correlatrd2    30_2        max       20357   0.00\n",
      "7   correlatrd2    30_2        min       20357   0.00\n",
      "8   correlatrd2    30_5        max       62245   1.72\n",
      "9   correlatrd2    30_5        min       62148   0.00\n",
      "10  correlatrd2   30_10        max      109762   0.00\n",
      "11  correlatrd2   30_10        min      109756   0.27\n",
      "12  correlatrd2   100_2        max       77995   1.71\n",
      "13  correlatrd2   100_2        min       77980   0.00\n",
      "14  correlatrd2   100_5        max      195257   0.80\n",
      "15  correlatrd2   100_5        min      195215   0.55\n",
      "16  correlatrd2  100_10        max      407030   0.00\n",
      "17  correlatrd2  100_10        min      407005   0.66\n",
      "ploted graph\n",
      "ins_type:similar, bin:10, dim:2\n",
      "Processing 25.0% Done\n",
      "Processing 50.0% Done\n",
      "Processing 75.0% Done\n",
      "ins_type:similar, bin:10, dim:5\n",
      "Processing 25.0% Done\n",
      "Processing 50.0% Done\n",
      "Processing 75.0% Done\n",
      "ins_type:similar, bin:10, dim:10\n",
      "Processing 25.0% Done\n",
      "Processing 50.0% Done\n",
      "Processing 75.0% Done\n",
      "ins_type:similar, bin:30, dim:2\n",
      "Processing 25.0% Done\n",
      "Processing 50.0% Done\n",
      "Processing 75.0% Done\n",
      "ins_type:similar, bin:30, dim:5\n",
      "Processing 25.0% Done\n",
      "Processing 50.0% Done\n",
      "Processing 75.0% Done\n",
      "ins_type:similar, bin:30, dim:10\n",
      "Processing 25.0% Done\n",
      "Processing 50.0% Done\n",
      "Processing 75.0% Done\n",
      "ins_type:similar, bin:100, dim:2\n",
      "Processing 25.0% Done\n",
      "Processing 50.0% Done\n",
      "Processing 75.0% Done\n",
      "ins_type:similar, bin:100, dim:5\n",
      "Processing 25.0% Done\n",
      "Processing 50.0% Done\n",
      "Processing 75.0% Done\n",
      "ins_type:similar, bin:100, dim:10\n",
      "Processing 25.0% Done\n",
      "Processing 50.0% Done\n",
      "Processing 75.0% Done\n",
      "[['similar', '10_2', 'max', 5174, 0.0], ['similar', '10_2', 'min', 5172, 0.46], ['similar', '10_5', 'max', 18623, 0.0], ['similar', '10_5', 'min', 18623, 0.0], ['similar', '10_10', 'max', 39683, 0.0], ['similar', '10_10', 'min', 39683, 0.0], ['similar', '30_2', 'max', 16863, 0.0], ['similar', '30_2', 'min', 16586, 0.93], ['similar', '30_5', 'max', 54503, 1.17], ['similar', '30_5', 'min', 54500, 0.0], ['similar', '30_10', 'max', 118303, 0.0], ['similar', '30_10', 'min', 118251, 0.36], ['similar', '100_2', 'max', 62620, 0.0], ['similar', '100_2', 'min', 62080, 1.19], ['similar', '100_5', 'max', 171496, 1.96], ['similar', '100_5', 'min', 171394, 1.4000000000000001], ['similar', '100_10', 'max', 388567, 0.0], ['similar', '100_10', 'min', 388525, 0.1]]\n",
      "   instance     B_D value_type  unassigned  alpha\n",
      "0   similar    10_2        max        5174   0.00\n",
      "1   similar    10_2        min        5172   0.46\n",
      "2   similar    10_5        max       18623   0.00\n",
      "3   similar    10_5        min       18623   0.00\n",
      "4   similar   10_10        max       39683   0.00\n",
      "5   similar   10_10        min       39683   0.00\n",
      "6   similar    30_2        max       16863   0.00\n",
      "7   similar    30_2        min       16586   0.93\n",
      "8   similar    30_5        max       54503   1.17\n",
      "9   similar    30_5        min       54500   0.00\n",
      "10  similar   30_10        max      118303   0.00\n",
      "11  similar   30_10        min      118251   0.36\n",
      "12  similar   100_2        max       62620   0.00\n",
      "13  similar   100_2        min       62080   1.19\n",
      "14  similar   100_5        max      171496   1.96\n",
      "15  similar   100_5        min      171394   1.40\n",
      "16  similar  100_10        max      388567   0.00\n",
      "17  similar  100_10        min      388525   0.10\n",
      "ploted graph\n"
     ]
    }
   ],
   "source": [
    "import os\n",
    "import plotly\n",
    "import plotly.express as px\n",
    "import pandas as pd\n",
    "ins_types = ['unif', 'rare', 'correlatrd1', 'correlatrd2', 'similar']\n",
    "num_bins = [10, 30, 100]\n",
    "num_res = [2, 5, 10]\n",
    "\n",
    "base_dir = 'plot_unassignment'\n",
    "if not os.path.exists(base_dir):\n",
    "    os.mkdir(base_dir)\n",
    "\n",
    "for ins_type in ins_types:\n",
    "    instances = []\n",
    "    for num_bin in num_bins:\n",
    "        for dim in num_res:\n",
    "            # os.makedirs(f'{base_dir}/B_{num_bin}_D_{dim}', exist_ok=True)\n",
    "            # filename = f'{base_dir}/B_{num_bin}_D_{dim}/{ins_type}.html'\n",
    "            filename = f'{base_dir}/{ins_type}.html'\n",
    "            if os.path.exists(filename):\n",
    "                # os.remove(filename)\n",
    "                break\n",
    "            print(f'ins_type:{ins_type}, bin:{num_bin}, dim:{dim}')\n",
    "            alpha_arr, unassigned_rate, unassigned_total= test_bdf(d=dim, U=num_bin, ins_type=ins_type)\n",
    "            \n",
    "            max_unassigned = max(unassigned_total)\n",
    "            max_index = unassigned_total.index(max_unassigned)\n",
    "            max_alpha = alpha_arr[max_index]\n",
    "            \n",
    "            min_unassigned = min(unassigned_total)\n",
    "            min_index = unassigned_total.index(min_unassigned)\n",
    "            min_alpha = alpha_arr[min_index]\n",
    "            \n",
    "            instances.append([ins_type, f'{num_bin}_{dim}', 'max', max_unassigned, max_alpha])\n",
    "            instances.append([ins_type, f'{num_bin}_{dim}', 'min', min_unassigned, min_alpha])\n",
    "            \n",
    "            # df = pd.DataFrame({\n",
    "            #     \"alpha\": alpha_arr, \n",
    "            #     \"積載率\" : unassigned_rate,\n",
    "            #     # \"unassigned_total\": unassigned_total\n",
    "            #     })\n",
    "            # fig = px.line(df, x=\"alpha\", y=\"積載率\")\n",
    "            # plotly.offline.plot(fig, filename=filename)\n",
    "    print(instances)\n",
    "    df = pd.DataFrame(instances, columns = ['instance', 'B_D', 'value_type', 'unassigned', 'alpha'])\n",
    "    print(df)\n",
    "    fig = px.histogram(df, x=\"B_D\", y=\"unassigned\",\n",
    "             color='value_type', barmode='group',\n",
    "             height=400)\n",
    "    plotly.offline.plot(fig, filename=filename)\n",
    "    print('ploted graph')"
   ]
  },
  {
   "cell_type": "markdown",
   "id": "5db6d9c5-98ba-435d-987a-8a1c9b55afd5",
   "metadata": {},
   "source": [
    "# average_alpha"
   ]
  },
  {
   "cell_type": "code",
   "execution_count": 211,
   "id": "283877e1-a38c-4550-a8ce-dc97bae9515c",
   "metadata": {},
   "outputs": [],
   "source": [
    "#実験\n",
    "import numpy as np\n",
    "def average_bdf(d, U, iss):\n",
    "    np.random.seed(123)\n",
    "    # d -> 瓶の次元\n",
    "    # U -> 瓶の本数\n",
    "    \n",
    "    # print('len items', len(iss.items))\n",
    "    w0 = np.array([ item.requirements for item in iss.items ])\n",
    "    item_total = len(iss.items)\n",
    "    b0 = np.array([ bin.remaining for bin in iss.bins])\n",
    "    x, y, z =[],[],[]\n",
    "    c = 0\n",
    "    \n",
    "    check_percents = [0.25, 0.5, 0.75, 1.0]\n",
    "    for k in np.arange(0.0, 2.01, 0.01):\n",
    "        # if k / 2.0 in check_percents:\n",
    "        #     print(f'Processing {(k/2.0)*100}% Done')\n",
    "        w = w0.copy()\n",
    "        B = b0.copy()\n",
    "        # alpha = float(k)/100.\n",
    "        alpha = k\n",
    "        unassigned = []\n",
    "        bins = [[] for j in range(U)]\n",
    "        while len(w)>0:\n",
    "            W = w.sum(axis=0)\n",
    "            R = B.sum(axis=0) #残り容量の和（次元ごと）\n",
    "            #次元の重要度\n",
    "            s = (W**alpha)/(R+0.000001)**(2.-alpha) \n",
    "            BS = B@s #ビンのサイズ（次元統合後）\n",
    "            WS = w@s #アイテムのサイズ（次元統合後）\n",
    "            max_item_idx = np.argmax(WS)\n",
    "            max_item = w[max_item_idx]\n",
    "            for j in np.argsort(BS):\n",
    "                remain = B[j]- max_item\n",
    "                if np.all(remain>=0): #詰め込み可能\n",
    "                    B[j]= remain\n",
    "                    bins[j].append(max_item)\n",
    "                    break\n",
    "            else:\n",
    "                unassigned.append(max_item)\n",
    "            w = np.delete(w, max_item_idx, axis=0)\n",
    "        x.append(alpha)\n",
    "        y.append((item_total-len(unassigned))/item_total)\n",
    "        z.append(np.sum(unassigned))\n",
    "    return x, y, z"
   ]
  },
  {
   "cell_type": "code",
   "execution_count": null,
   "id": "e21e9977-e8cf-4531-af85-9f68c341bd72",
   "metadata": {},
   "outputs": [
    {
     "name": "stdout",
     "output_type": "stream",
     "text": [
      "ins_type:correlatrd1, bin:100, dim:5\n",
      "ins_type:correlatrd1, bin:100, dim:5 is 0% Done\n",
      "ins_type:correlatrd1, bin:100, dim:5 is 25% Done\n",
      "ins_type:correlatrd1, bin:100, dim:5 is 50% Done\n"
     ]
    }
   ],
   "source": [
    "import os\n",
    "import plotly\n",
    "import plotly.express as px\n",
    "import plotly.graph_objects as go\n",
    "import pandas as pd\n",
    "ins_types = ['unif', 'rare', 'correlatrd1', 'correlatrd2', 'similar']\n",
    "num_bins = [10, 30, 100]\n",
    "num_res = [2, 5, 10]\n",
    "\n",
    "base_dir = 'alpha_count'\n",
    "if not os.path.exists(base_dir):\n",
    "    os.mkdir(base_dir)\n",
    "\n",
    "for num_bin in num_bins:\n",
    "    for dim in num_res:\n",
    "        instances = []\n",
    "        for ins_type in ins_types:\n",
    "            os.makedirs(f'{base_dir}/B_{num_bin}_D_{dim}', exist_ok=True)\n",
    "            filename = f'{base_dir}/B_{num_bin}_D_{dim}/{ins_type}.html'\n",
    "            if os.path.exists(filename):\n",
    "                continue\n",
    "            print(f'ins_type:{ins_type}, bin:{num_bin}, dim:{dim}')    \n",
    "            U = num_bin\n",
    "            d = dim\n",
    "            alpha_count = { i:0 for i in np.arange(0.0, 2.01, 0.01)}\n",
    "            for i in range(100):\n",
    "                if i % 25 == 0:\n",
    "                    print(f'ins_type:{ins_type}, bin:{num_bin}, dim:{dim} is {i}% Done')    \n",
    "                \n",
    "                if ins_type == 'unif':\n",
    "                    iss = generator(num_bins=U, num_resources=d, min_fill=.8, bin_generator = unif_bin, seed=i, rem_cons=.8, proc_rate=1)\n",
    "                elif ins_type == 'rare': \n",
    "                    iss = generator(num_bins=U, num_resources=d, min_fill=.8, bin_generator = unif_bin, seed=i, rem_cons=.8, proc_rate=.25)\n",
    "                elif ins_type == 'correlatrd1':\n",
    "                    iss = generator(num_bins = U, num_resources = d, min_fill=.8, bin_generator = correlated_capacities, \n",
    "                                seed=i, rem_cons=.8, dev=.1, correlated_items = False)\n",
    "                elif ins_type == 'correlatrd2':\n",
    "                    iss = generator(U, d, min_fill=.8,\n",
    "                        bin_generator = correlated_capacities, seed=i, rem_cons=.8, dev=.1,\n",
    "                        correlated_items = True)\n",
    "                else:\n",
    "                    iss = generator(U, d, min_fill=.7, bin_generator = similar, seed=i, dev=.2)\n",
    "\n",
    "                alpha_arr, unassigned_rate, unassigned_total= average_bdf(d=dim, U=num_bin, iss=iss)\n",
    "                \n",
    "                # 全ての最小アルファを収集する\n",
    "                min_unassigned = min(unassigned_total)\n",
    "                min_unassigned_index = set([i for i, v in enumerate(unassigned_total) if v == min_unassigned ])\n",
    "        \n",
    "                # if len(min_unassigned_index) != len(unassigned_total):\n",
    "                #     print(unassigned_total)\n",
    "                \n",
    "                for indx in min_unassigned_index:\n",
    "                    min_alpha = alpha_arr[indx]\n",
    "                    alpha_count[min_alpha] += 1\n",
    "        \n",
    "            ins_dict = {\n",
    "                'alpha': [ i for i in np.arange(0.0, 2.01, 0.01)],\n",
    "                'count': [ count for count in alpha_count.values() ]\n",
    "            }\n",
    "            \n",
    "            df = pd.DataFrame(ins_dict, columns=['alpha', 'count'])\n",
    "            fig = go.Figure(px.bar(df, x=\"alpha\", y=\"count\", height=400, template=\"simple_white\"))\n",
    "            fig.update_layout(\n",
    "                xaxis = dict(\n",
    "                    tickmode = 'linear',\n",
    "                    tick0 = 0,\n",
    "                    dtick = 0.1\n",
    "                )\n",
    "            )\n",
    "            plotly.offline.plot(fig, filename=filename)"
   ]
  },
  {
   "cell_type": "code",
   "execution_count": 183,
   "id": "fb1b9516-29a7-47e3-a8ca-5b2cb31dbfa4",
   "metadata": {},
   "outputs": [],
   "source": [
    "alpha_count = { i:0 for i in np.arange(0.0, 2.1, 0.01)}\n",
    "alpha_count[0.0] += 1\n",
    "alpha_count[0.0] += 10\n",
    "alpha_count[1.0] += 29\n"
   ]
  },
  {
   "cell_type": "code",
   "execution_count": 203,
   "id": "512ccd63-3fd1-4fe7-aadf-310e27abed44",
   "metadata": {},
   "outputs": [
    {
     "data": {
      "text/plain": [
       "dict_keys([0.0, 0.01, 0.02, 0.03, 0.04, 0.05, 0.06, 0.07, 0.08, 0.09, 0.1, 0.11, 0.12, 0.13, 0.14, 0.15, 0.16, 0.17, 0.18, 0.19, 0.2, 0.21, 0.22, 0.23, 0.24, 0.25, 0.26, 0.27, 0.28, 0.29, 0.3, 0.31, 0.32, 0.33, 0.34, 0.35000000000000003, 0.36, 0.37, 0.38, 0.39, 0.4, 0.41000000000000003, 0.42, 0.43, 0.44, 0.45, 0.46, 0.47000000000000003, 0.48, 0.49, 0.5, 0.51, 0.52, 0.53, 0.54, 0.55, 0.56, 0.5700000000000001, 0.58, 0.59, 0.6, 0.61, 0.62, 0.63, 0.64, 0.65, 0.66, 0.67, 0.68, 0.6900000000000001, 0.7000000000000001, 0.71, 0.72, 0.73, 0.74, 0.75, 0.76, 0.77, 0.78, 0.79, 0.8, 0.81, 0.8200000000000001, 0.8300000000000001, 0.84, 0.85, 0.86, 0.87, 0.88, 0.89, 0.9, 0.91, 0.92, 0.93, 0.9400000000000001, 0.9500000000000001, 0.96, 0.97, 0.98, 0.99, 1.0, 1.01, 1.02, 1.03, 1.04, 1.05, 1.06, 1.07, 1.08, 1.09, 1.1, 1.11, 1.12, 1.1300000000000001, 1.1400000000000001, 1.1500000000000001, 1.16, 1.17, 1.18, 1.19, 1.2, 1.21, 1.22, 1.23, 1.24, 1.25, 1.26, 1.27, 1.28, 1.29, 1.3, 1.31, 1.32, 1.33, 1.34, 1.35, 1.36, 1.37, 1.3800000000000001, 1.3900000000000001, 1.4000000000000001, 1.41, 1.42, 1.43, 1.44, 1.45, 1.46, 1.47, 1.48, 1.49, 1.5, 1.51, 1.52, 1.53, 1.54, 1.55, 1.56, 1.57, 1.58, 1.59, 1.6, 1.61, 1.62, 1.6300000000000001, 1.6400000000000001, 1.6500000000000001, 1.6600000000000001, 1.67, 1.68, 1.69, 1.7, 1.71, 1.72, 1.73, 1.74, 1.75, 1.76, 1.77, 1.78, 1.79, 1.8, 1.81, 1.82, 1.83, 1.84, 1.85, 1.86, 1.87, 1.8800000000000001, 1.8900000000000001, 1.9000000000000001, 1.9100000000000001, 1.92, 1.93, 1.94, 1.95, 1.96, 1.97, 1.98, 1.99, 2.0])"
      ]
     },
     "execution_count": 203,
     "metadata": {},
     "output_type": "execute_result"
    }
   ],
   "source": [
    "alpha_count = { i:0 for i in np.arange(0.0, 2.01, 0.01)}\n",
    "# alpha_count.keys()\n"
   ]
  },
  {
   "cell_type": "code",
   "execution_count": 195,
   "id": "c0657b0a-3015-4556-bd4e-2e00f41dacda",
   "metadata": {},
   "outputs": [
    {
     "data": {
      "application/vnd.plotly.v1+json": {
       "config": {
        "plotlyServerURL": "https://plot.ly"
       },
       "data": [
        {
         "alignmentgroup": "True",
         "hovertemplate": "alpha=%{x}<br>count=%{y}<extra></extra>",
         "legendgroup": "",
         "marker": {
          "color": "#1F77B4",
          "pattern": {
           "shape": ""
          }
         },
         "name": "",
         "offsetgroup": "",
         "orientation": "v",
         "showlegend": false,
         "textposition": "auto",
         "type": "bar",
         "x": [
          0,
          0.01,
          0.02,
          0.03,
          0.04,
          0.05,
          0.06,
          0.07,
          0.08,
          0.09,
          0.1,
          0.11,
          0.12,
          0.13,
          0.14,
          0.15,
          0.16,
          0.17,
          0.18,
          0.19,
          0.2,
          0.21,
          0.22,
          0.23,
          0.24,
          0.25,
          0.26,
          0.27,
          0.28,
          0.29,
          0.3,
          0.31,
          0.32,
          0.33,
          0.34,
          0.35000000000000003,
          0.36,
          0.37,
          0.38,
          0.39,
          0.4,
          0.41000000000000003,
          0.42,
          0.43,
          0.44,
          0.45,
          0.46,
          0.47000000000000003,
          0.48,
          0.49,
          0.5,
          0.51,
          0.52,
          0.53,
          0.54,
          0.55,
          0.56,
          0.5700000000000001,
          0.58,
          0.59,
          0.6,
          0.61,
          0.62,
          0.63,
          0.64,
          0.65,
          0.66,
          0.67,
          0.68,
          0.6900000000000001,
          0.7000000000000001,
          0.71,
          0.72,
          0.73,
          0.74,
          0.75,
          0.76,
          0.77,
          0.78,
          0.79,
          0.8,
          0.81,
          0.8200000000000001,
          0.8300000000000001,
          0.84,
          0.85,
          0.86,
          0.87,
          0.88,
          0.89,
          0.9,
          0.91,
          0.92,
          0.93,
          0.9400000000000001,
          0.9500000000000001,
          0.96,
          0.97,
          0.98,
          0.99,
          1,
          1.01,
          1.02,
          1.03,
          1.04,
          1.05,
          1.06,
          1.07,
          1.08,
          1.09,
          1.1,
          1.11,
          1.12,
          1.1300000000000001,
          1.1400000000000001,
          1.1500000000000001,
          1.16,
          1.17,
          1.18,
          1.19,
          1.2,
          1.21,
          1.22,
          1.23,
          1.24,
          1.25,
          1.26,
          1.27,
          1.28,
          1.29,
          1.3,
          1.31,
          1.32,
          1.33,
          1.34,
          1.35,
          1.36,
          1.37,
          1.3800000000000001,
          1.3900000000000001,
          1.4000000000000001,
          1.41,
          1.42,
          1.43,
          1.44,
          1.45,
          1.46,
          1.47,
          1.48,
          1.49,
          1.5,
          1.51,
          1.52,
          1.53,
          1.54,
          1.55,
          1.56,
          1.57,
          1.58,
          1.59,
          1.6,
          1.61,
          1.62,
          1.6300000000000001,
          1.6400000000000001,
          1.6500000000000001,
          1.6600000000000001,
          1.67,
          1.68,
          1.69,
          1.7,
          1.71,
          1.72,
          1.73,
          1.74,
          1.75,
          1.76,
          1.77,
          1.78,
          1.79,
          1.8,
          1.81,
          1.82,
          1.83,
          1.84,
          1.85,
          1.86,
          1.87,
          1.8800000000000001,
          1.8900000000000001,
          1.9000000000000001,
          1.9100000000000001,
          1.92,
          1.93,
          1.94,
          1.95,
          1.96,
          1.97,
          1.98,
          1.99
         ],
         "xaxis": "x",
         "y": [
          11,
          0,
          0,
          0,
          0,
          0,
          0,
          0,
          0,
          0,
          0,
          0,
          0,
          0,
          0,
          0,
          0,
          0,
          0,
          0,
          0,
          0,
          0,
          0,
          0,
          0,
          0,
          0,
          0,
          0,
          0,
          0,
          0,
          0,
          0,
          0,
          0,
          0,
          0,
          0,
          0,
          0,
          0,
          0,
          0,
          0,
          0,
          0,
          0,
          0,
          0,
          0,
          0,
          0,
          0,
          0,
          0,
          0,
          0,
          0,
          0,
          0,
          0,
          0,
          0,
          0,
          0,
          0,
          0,
          0,
          0,
          0,
          0,
          0,
          0,
          0,
          0,
          0,
          0,
          0,
          0,
          0,
          0,
          0,
          0,
          0,
          0,
          0,
          0,
          0,
          0,
          0,
          0,
          0,
          0,
          0,
          0,
          0,
          0,
          0,
          29,
          0,
          0,
          0,
          0,
          0,
          0,
          0,
          0,
          0,
          0,
          0,
          0,
          0,
          0,
          0,
          0,
          0,
          0,
          0,
          0,
          0,
          0,
          0,
          0,
          0,
          0,
          0,
          0,
          0,
          0,
          0,
          0,
          0,
          0,
          0,
          0,
          0,
          0,
          0,
          0,
          0,
          0,
          0,
          0,
          0,
          0,
          0,
          0,
          0,
          0,
          0,
          0,
          0,
          0,
          0,
          0,
          0,
          0,
          0,
          0,
          0,
          0,
          0,
          0,
          0,
          0,
          0,
          0,
          0,
          0,
          0,
          0,
          0,
          0,
          0,
          0,
          0,
          0,
          0,
          0,
          0,
          0,
          0,
          0,
          0,
          0,
          0,
          0,
          0,
          0,
          0,
          0,
          0,
          0,
          0,
          0,
          0,
          0,
          0
         ],
         "yaxis": "y"
        }
       ],
       "layout": {
        "autosize": true,
        "barmode": "relative",
        "legend": {
         "tracegroupgap": 0
        },
        "margin": {
         "t": 60
        },
        "template": {
         "data": {
          "bar": [
           {
            "error_x": {
             "color": "rgb(36,36,36)"
            },
            "error_y": {
             "color": "rgb(36,36,36)"
            },
            "marker": {
             "line": {
              "color": "white",
              "width": 0.5
             },
             "pattern": {
              "fillmode": "overlay",
              "size": 10,
              "solidity": 0.2
             }
            },
            "type": "bar"
           }
          ],
          "barpolar": [
           {
            "marker": {
             "line": {
              "color": "white",
              "width": 0.5
             },
             "pattern": {
              "fillmode": "overlay",
              "size": 10,
              "solidity": 0.2
             }
            },
            "type": "barpolar"
           }
          ],
          "carpet": [
           {
            "aaxis": {
             "endlinecolor": "rgb(36,36,36)",
             "gridcolor": "white",
             "linecolor": "white",
             "minorgridcolor": "white",
             "startlinecolor": "rgb(36,36,36)"
            },
            "baxis": {
             "endlinecolor": "rgb(36,36,36)",
             "gridcolor": "white",
             "linecolor": "white",
             "minorgridcolor": "white",
             "startlinecolor": "rgb(36,36,36)"
            },
            "type": "carpet"
           }
          ],
          "choropleth": [
           {
            "colorbar": {
             "outlinewidth": 1,
             "tickcolor": "rgb(36,36,36)",
             "ticks": "outside"
            },
            "type": "choropleth"
           }
          ],
          "contour": [
           {
            "colorbar": {
             "outlinewidth": 1,
             "tickcolor": "rgb(36,36,36)",
             "ticks": "outside"
            },
            "colorscale": [
             [
              0,
              "#440154"
             ],
             [
              0.1111111111111111,
              "#482878"
             ],
             [
              0.2222222222222222,
              "#3e4989"
             ],
             [
              0.3333333333333333,
              "#31688e"
             ],
             [
              0.4444444444444444,
              "#26828e"
             ],
             [
              0.5555555555555556,
              "#1f9e89"
             ],
             [
              0.6666666666666666,
              "#35b779"
             ],
             [
              0.7777777777777778,
              "#6ece58"
             ],
             [
              0.8888888888888888,
              "#b5de2b"
             ],
             [
              1,
              "#fde725"
             ]
            ],
            "type": "contour"
           }
          ],
          "contourcarpet": [
           {
            "colorbar": {
             "outlinewidth": 1,
             "tickcolor": "rgb(36,36,36)",
             "ticks": "outside"
            },
            "type": "contourcarpet"
           }
          ],
          "heatmap": [
           {
            "colorbar": {
             "outlinewidth": 1,
             "tickcolor": "rgb(36,36,36)",
             "ticks": "outside"
            },
            "colorscale": [
             [
              0,
              "#440154"
             ],
             [
              0.1111111111111111,
              "#482878"
             ],
             [
              0.2222222222222222,
              "#3e4989"
             ],
             [
              0.3333333333333333,
              "#31688e"
             ],
             [
              0.4444444444444444,
              "#26828e"
             ],
             [
              0.5555555555555556,
              "#1f9e89"
             ],
             [
              0.6666666666666666,
              "#35b779"
             ],
             [
              0.7777777777777778,
              "#6ece58"
             ],
             [
              0.8888888888888888,
              "#b5de2b"
             ],
             [
              1,
              "#fde725"
             ]
            ],
            "type": "heatmap"
           }
          ],
          "heatmapgl": [
           {
            "colorbar": {
             "outlinewidth": 1,
             "tickcolor": "rgb(36,36,36)",
             "ticks": "outside"
            },
            "colorscale": [
             [
              0,
              "#440154"
             ],
             [
              0.1111111111111111,
              "#482878"
             ],
             [
              0.2222222222222222,
              "#3e4989"
             ],
             [
              0.3333333333333333,
              "#31688e"
             ],
             [
              0.4444444444444444,
              "#26828e"
             ],
             [
              0.5555555555555556,
              "#1f9e89"
             ],
             [
              0.6666666666666666,
              "#35b779"
             ],
             [
              0.7777777777777778,
              "#6ece58"
             ],
             [
              0.8888888888888888,
              "#b5de2b"
             ],
             [
              1,
              "#fde725"
             ]
            ],
            "type": "heatmapgl"
           }
          ],
          "histogram": [
           {
            "marker": {
             "line": {
              "color": "white",
              "width": 0.6
             }
            },
            "type": "histogram"
           }
          ],
          "histogram2d": [
           {
            "colorbar": {
             "outlinewidth": 1,
             "tickcolor": "rgb(36,36,36)",
             "ticks": "outside"
            },
            "colorscale": [
             [
              0,
              "#440154"
             ],
             [
              0.1111111111111111,
              "#482878"
             ],
             [
              0.2222222222222222,
              "#3e4989"
             ],
             [
              0.3333333333333333,
              "#31688e"
             ],
             [
              0.4444444444444444,
              "#26828e"
             ],
             [
              0.5555555555555556,
              "#1f9e89"
             ],
             [
              0.6666666666666666,
              "#35b779"
             ],
             [
              0.7777777777777778,
              "#6ece58"
             ],
             [
              0.8888888888888888,
              "#b5de2b"
             ],
             [
              1,
              "#fde725"
             ]
            ],
            "type": "histogram2d"
           }
          ],
          "histogram2dcontour": [
           {
            "colorbar": {
             "outlinewidth": 1,
             "tickcolor": "rgb(36,36,36)",
             "ticks": "outside"
            },
            "colorscale": [
             [
              0,
              "#440154"
             ],
             [
              0.1111111111111111,
              "#482878"
             ],
             [
              0.2222222222222222,
              "#3e4989"
             ],
             [
              0.3333333333333333,
              "#31688e"
             ],
             [
              0.4444444444444444,
              "#26828e"
             ],
             [
              0.5555555555555556,
              "#1f9e89"
             ],
             [
              0.6666666666666666,
              "#35b779"
             ],
             [
              0.7777777777777778,
              "#6ece58"
             ],
             [
              0.8888888888888888,
              "#b5de2b"
             ],
             [
              1,
              "#fde725"
             ]
            ],
            "type": "histogram2dcontour"
           }
          ],
          "mesh3d": [
           {
            "colorbar": {
             "outlinewidth": 1,
             "tickcolor": "rgb(36,36,36)",
             "ticks": "outside"
            },
            "type": "mesh3d"
           }
          ],
          "parcoords": [
           {
            "line": {
             "colorbar": {
              "outlinewidth": 1,
              "tickcolor": "rgb(36,36,36)",
              "ticks": "outside"
             }
            },
            "type": "parcoords"
           }
          ],
          "pie": [
           {
            "automargin": true,
            "type": "pie"
           }
          ],
          "scatter": [
           {
            "marker": {
             "colorbar": {
              "outlinewidth": 1,
              "tickcolor": "rgb(36,36,36)",
              "ticks": "outside"
             }
            },
            "type": "scatter"
           }
          ],
          "scatter3d": [
           {
            "line": {
             "colorbar": {
              "outlinewidth": 1,
              "tickcolor": "rgb(36,36,36)",
              "ticks": "outside"
             }
            },
            "marker": {
             "colorbar": {
              "outlinewidth": 1,
              "tickcolor": "rgb(36,36,36)",
              "ticks": "outside"
             }
            },
            "type": "scatter3d"
           }
          ],
          "scattercarpet": [
           {
            "marker": {
             "colorbar": {
              "outlinewidth": 1,
              "tickcolor": "rgb(36,36,36)",
              "ticks": "outside"
             }
            },
            "type": "scattercarpet"
           }
          ],
          "scattergeo": [
           {
            "marker": {
             "colorbar": {
              "outlinewidth": 1,
              "tickcolor": "rgb(36,36,36)",
              "ticks": "outside"
             }
            },
            "type": "scattergeo"
           }
          ],
          "scattergl": [
           {
            "marker": {
             "colorbar": {
              "outlinewidth": 1,
              "tickcolor": "rgb(36,36,36)",
              "ticks": "outside"
             }
            },
            "type": "scattergl"
           }
          ],
          "scattermapbox": [
           {
            "marker": {
             "colorbar": {
              "outlinewidth": 1,
              "tickcolor": "rgb(36,36,36)",
              "ticks": "outside"
             }
            },
            "type": "scattermapbox"
           }
          ],
          "scatterpolar": [
           {
            "marker": {
             "colorbar": {
              "outlinewidth": 1,
              "tickcolor": "rgb(36,36,36)",
              "ticks": "outside"
             }
            },
            "type": "scatterpolar"
           }
          ],
          "scatterpolargl": [
           {
            "marker": {
             "colorbar": {
              "outlinewidth": 1,
              "tickcolor": "rgb(36,36,36)",
              "ticks": "outside"
             }
            },
            "type": "scatterpolargl"
           }
          ],
          "scatterternary": [
           {
            "marker": {
             "colorbar": {
              "outlinewidth": 1,
              "tickcolor": "rgb(36,36,36)",
              "ticks": "outside"
             }
            },
            "type": "scatterternary"
           }
          ],
          "surface": [
           {
            "colorbar": {
             "outlinewidth": 1,
             "tickcolor": "rgb(36,36,36)",
             "ticks": "outside"
            },
            "colorscale": [
             [
              0,
              "#440154"
             ],
             [
              0.1111111111111111,
              "#482878"
             ],
             [
              0.2222222222222222,
              "#3e4989"
             ],
             [
              0.3333333333333333,
              "#31688e"
             ],
             [
              0.4444444444444444,
              "#26828e"
             ],
             [
              0.5555555555555556,
              "#1f9e89"
             ],
             [
              0.6666666666666666,
              "#35b779"
             ],
             [
              0.7777777777777778,
              "#6ece58"
             ],
             [
              0.8888888888888888,
              "#b5de2b"
             ],
             [
              1,
              "#fde725"
             ]
            ],
            "type": "surface"
           }
          ],
          "table": [
           {
            "cells": {
             "fill": {
              "color": "rgb(237,237,237)"
             },
             "line": {
              "color": "white"
             }
            },
            "header": {
             "fill": {
              "color": "rgb(217,217,217)"
             },
             "line": {
              "color": "white"
             }
            },
            "type": "table"
           }
          ]
         },
         "layout": {
          "annotationdefaults": {
           "arrowhead": 0,
           "arrowwidth": 1
          },
          "autotypenumbers": "strict",
          "coloraxis": {
           "colorbar": {
            "outlinewidth": 1,
            "tickcolor": "rgb(36,36,36)",
            "ticks": "outside"
           }
          },
          "colorscale": {
           "diverging": [
            [
             0,
             "rgb(103,0,31)"
            ],
            [
             0.1,
             "rgb(178,24,43)"
            ],
            [
             0.2,
             "rgb(214,96,77)"
            ],
            [
             0.3,
             "rgb(244,165,130)"
            ],
            [
             0.4,
             "rgb(253,219,199)"
            ],
            [
             0.5,
             "rgb(247,247,247)"
            ],
            [
             0.6,
             "rgb(209,229,240)"
            ],
            [
             0.7,
             "rgb(146,197,222)"
            ],
            [
             0.8,
             "rgb(67,147,195)"
            ],
            [
             0.9,
             "rgb(33,102,172)"
            ],
            [
             1,
             "rgb(5,48,97)"
            ]
           ],
           "sequential": [
            [
             0,
             "#440154"
            ],
            [
             0.1111111111111111,
             "#482878"
            ],
            [
             0.2222222222222222,
             "#3e4989"
            ],
            [
             0.3333333333333333,
             "#31688e"
            ],
            [
             0.4444444444444444,
             "#26828e"
            ],
            [
             0.5555555555555556,
             "#1f9e89"
            ],
            [
             0.6666666666666666,
             "#35b779"
            ],
            [
             0.7777777777777778,
             "#6ece58"
            ],
            [
             0.8888888888888888,
             "#b5de2b"
            ],
            [
             1,
             "#fde725"
            ]
           ],
           "sequentialminus": [
            [
             0,
             "#440154"
            ],
            [
             0.1111111111111111,
             "#482878"
            ],
            [
             0.2222222222222222,
             "#3e4989"
            ],
            [
             0.3333333333333333,
             "#31688e"
            ],
            [
             0.4444444444444444,
             "#26828e"
            ],
            [
             0.5555555555555556,
             "#1f9e89"
            ],
            [
             0.6666666666666666,
             "#35b779"
            ],
            [
             0.7777777777777778,
             "#6ece58"
            ],
            [
             0.8888888888888888,
             "#b5de2b"
            ],
            [
             1,
             "#fde725"
            ]
           ]
          },
          "colorway": [
           "#1F77B4",
           "#FF7F0E",
           "#2CA02C",
           "#D62728",
           "#9467BD",
           "#8C564B",
           "#E377C2",
           "#7F7F7F",
           "#BCBD22",
           "#17BECF"
          ],
          "font": {
           "color": "rgb(36,36,36)"
          },
          "geo": {
           "bgcolor": "white",
           "lakecolor": "white",
           "landcolor": "white",
           "showlakes": true,
           "showland": true,
           "subunitcolor": "white"
          },
          "hoverlabel": {
           "align": "left"
          },
          "hovermode": "closest",
          "mapbox": {
           "style": "light"
          },
          "paper_bgcolor": "white",
          "plot_bgcolor": "white",
          "polar": {
           "angularaxis": {
            "gridcolor": "rgb(232,232,232)",
            "linecolor": "rgb(36,36,36)",
            "showgrid": false,
            "showline": true,
            "ticks": "outside"
           },
           "bgcolor": "white",
           "radialaxis": {
            "gridcolor": "rgb(232,232,232)",
            "linecolor": "rgb(36,36,36)",
            "showgrid": false,
            "showline": true,
            "ticks": "outside"
           }
          },
          "scene": {
           "xaxis": {
            "backgroundcolor": "white",
            "gridcolor": "rgb(232,232,232)",
            "gridwidth": 2,
            "linecolor": "rgb(36,36,36)",
            "showbackground": true,
            "showgrid": false,
            "showline": true,
            "ticks": "outside",
            "zeroline": false,
            "zerolinecolor": "rgb(36,36,36)"
           },
           "yaxis": {
            "backgroundcolor": "white",
            "gridcolor": "rgb(232,232,232)",
            "gridwidth": 2,
            "linecolor": "rgb(36,36,36)",
            "showbackground": true,
            "showgrid": false,
            "showline": true,
            "ticks": "outside",
            "zeroline": false,
            "zerolinecolor": "rgb(36,36,36)"
           },
           "zaxis": {
            "backgroundcolor": "white",
            "gridcolor": "rgb(232,232,232)",
            "gridwidth": 2,
            "linecolor": "rgb(36,36,36)",
            "showbackground": true,
            "showgrid": false,
            "showline": true,
            "ticks": "outside",
            "zeroline": false,
            "zerolinecolor": "rgb(36,36,36)"
           }
          },
          "shapedefaults": {
           "fillcolor": "black",
           "line": {
            "width": 0
           },
           "opacity": 0.3
          },
          "ternary": {
           "aaxis": {
            "gridcolor": "rgb(232,232,232)",
            "linecolor": "rgb(36,36,36)",
            "showgrid": false,
            "showline": true,
            "ticks": "outside"
           },
           "baxis": {
            "gridcolor": "rgb(232,232,232)",
            "linecolor": "rgb(36,36,36)",
            "showgrid": false,
            "showline": true,
            "ticks": "outside"
           },
           "bgcolor": "white",
           "caxis": {
            "gridcolor": "rgb(232,232,232)",
            "linecolor": "rgb(36,36,36)",
            "showgrid": false,
            "showline": true,
            "ticks": "outside"
           }
          },
          "title": {
           "x": 0.05
          },
          "xaxis": {
           "automargin": true,
           "gridcolor": "rgb(232,232,232)",
           "linecolor": "rgb(36,36,36)",
           "showgrid": false,
           "showline": true,
           "ticks": "outside",
           "title": {
            "standoff": 15
           },
           "zeroline": false,
           "zerolinecolor": "rgb(36,36,36)"
          },
          "yaxis": {
           "automargin": true,
           "gridcolor": "rgb(232,232,232)",
           "linecolor": "rgb(36,36,36)",
           "showgrid": false,
           "showline": true,
           "ticks": "outside",
           "title": {
            "standoff": 15
           },
           "zeroline": false,
           "zerolinecolor": "rgb(36,36,36)"
          }
         }
        },
        "xaxis": {
         "anchor": "y",
         "autorange": true,
         "domain": [
          0,
          1
         ],
         "dtick": 0.1,
         "range": [
          -0.004999999999999893,
          1.9949999999999999
         ],
         "tick0": 0,
         "tickmode": "linear",
         "title": {
          "text": "alpha"
         },
         "type": "linear"
        },
        "yaxis": {
         "anchor": "x",
         "autorange": true,
         "domain": [
          0,
          1
         ],
         "range": [
          0,
          30.526315789473685
         ],
         "title": {
          "text": "count"
         },
         "type": "linear"
        }
       }
      },
      "image/png": "[encoded data removed]",
      "text/html": [
       "<div>                            <div id=\"b7bcae81-40d9-4957-ba3d-18a8430482ae\" class=\"plotly-graph-div\" style=\"height:400px; width:100%;\"></div>            <script type=\"text/javascript\">                require([\"plotly\"], function(Plotly) {                    window.PLOTLYENV=window.PLOTLYENV || {};                                    if (document.getElementById(\"b7bcae81-40d9-4957-ba3d-18a8430482ae\")) {                    Plotly.newPlot(                        \"b7bcae81-40d9-4957-ba3d-18a8430482ae\",                        [{\"alignmentgroup\":\"True\",\"hovertemplate\":\"alpha=%{x}<br>count=%{y}<extra></extra>\",\"legendgroup\":\"\",\"marker\":{\"color\":\"#1F77B4\",\"pattern\":{\"shape\":\"\"}},\"name\":\"\",\"offsetgroup\":\"\",\"orientation\":\"v\",\"showlegend\":false,\"textposition\":\"auto\",\"type\":\"bar\",\"x\":[0.0,0.01,0.02,0.03,0.04,0.05,0.06,0.07,0.08,0.09,0.1,0.11,0.12,0.13,0.14,0.15,0.16,0.17,0.18,0.19,0.2,0.21,0.22,0.23,0.24,0.25,0.26,0.27,0.28,0.29,0.3,0.31,0.32,0.33,0.34,0.35000000000000003,0.36,0.37,0.38,0.39,0.4,0.41000000000000003,0.42,0.43,0.44,0.45,0.46,0.47000000000000003,0.48,0.49,0.5,0.51,0.52,0.53,0.54,0.55,0.56,0.5700000000000001,0.58,0.59,0.6,0.61,0.62,0.63,0.64,0.65,0.66,0.67,0.68,0.6900000000000001,0.7000000000000001,0.71,0.72,0.73,0.74,0.75,0.76,0.77,0.78,0.79,0.8,0.81,0.8200000000000001,0.8300000000000001,0.84,0.85,0.86,0.87,0.88,0.89,0.9,0.91,0.92,0.93,0.9400000000000001,0.9500000000000001,0.96,0.97,0.98,0.99,1.0,1.01,1.02,1.03,1.04,1.05,1.06,1.07,1.08,1.09,1.1,1.11,1.12,1.1300000000000001,1.1400000000000001,1.1500000000000001,1.16,1.17,1.18,1.19,1.2,1.21,1.22,1.23,1.24,1.25,1.26,1.27,1.28,1.29,1.3,1.31,1.32,1.33,1.34,1.35,1.36,1.37,1.3800000000000001,1.3900000000000001,1.4000000000000001,1.41,1.42,1.43,1.44,1.45,1.46,1.47,1.48,1.49,1.5,1.51,1.52,1.53,1.54,1.55,1.56,1.57,1.58,1.59,1.6,1.61,1.62,1.6300000000000001,1.6400000000000001,1.6500000000000001,1.6600000000000001,1.67,1.68,1.69,1.7,1.71,1.72,1.73,1.74,1.75,1.76,1.77,1.78,1.79,1.8,1.81,1.82,1.83,1.84,1.85,1.86,1.87,1.8800000000000001,1.8900000000000001,1.9000000000000001,1.9100000000000001,1.92,1.93,1.94,1.95,1.96,1.97,1.98,1.99],\"xaxis\":\"x\",\"y\":[11,0,0,0,0,0,0,0,0,0,0,0,0,0,0,0,0,0,0,0,0,0,0,0,0,0,0,0,0,0,0,0,0,0,0,0,0,0,0,0,0,0,0,0,0,0,0,0,0,0,0,0,0,0,0,0,0,0,0,0,0,0,0,0,0,0,0,0,0,0,0,0,0,0,0,0,0,0,0,0,0,0,0,0,0,0,0,0,0,0,0,0,0,0,0,0,0,0,0,0,29,0,0,0,0,0,0,0,0,0,0,0,0,0,0,0,0,0,0,0,0,0,0,0,0,0,0,0,0,0,0,0,0,0,0,0,0,0,0,0,0,0,0,0,0,0,0,0,0,0,0,0,0,0,0,0,0,0,0,0,0,0,0,0,0,0,0,0,0,0,0,0,0,0,0,0,0,0,0,0,0,0,0,0,0,0,0,0,0,0,0,0,0,0,0,0,0,0,0,0],\"yaxis\":\"y\"}],                        {\"barmode\":\"relative\",\"height\":400,\"legend\":{\"tracegroupgap\":0},\"margin\":{\"t\":60},\"template\":{\"data\":{\"bar\":[{\"error_x\":{\"color\":\"rgb(36,36,36)\"},\"error_y\":{\"color\":\"rgb(36,36,36)\"},\"marker\":{\"line\":{\"color\":\"white\",\"width\":0.5},\"pattern\":{\"fillmode\":\"overlay\",\"size\":10,\"solidity\":0.2}},\"type\":\"bar\"}],\"barpolar\":[{\"marker\":{\"line\":{\"color\":\"white\",\"width\":0.5},\"pattern\":{\"fillmode\":\"overlay\",\"size\":10,\"solidity\":0.2}},\"type\":\"barpolar\"}],\"carpet\":[{\"aaxis\":{\"endlinecolor\":\"rgb(36,36,36)\",\"gridcolor\":\"white\",\"linecolor\":\"white\",\"minorgridcolor\":\"white\",\"startlinecolor\":\"rgb(36,36,36)\"},\"baxis\":{\"endlinecolor\":\"rgb(36,36,36)\",\"gridcolor\":\"white\",\"linecolor\":\"white\",\"minorgridcolor\":\"white\",\"startlinecolor\":\"rgb(36,36,36)\"},\"type\":\"carpet\"}],\"choropleth\":[{\"colorbar\":{\"outlinewidth\":1,\"tickcolor\":\"rgb(36,36,36)\",\"ticks\":\"outside\"},\"type\":\"choropleth\"}],\"contour\":[{\"colorbar\":{\"outlinewidth\":1,\"tickcolor\":\"rgb(36,36,36)\",\"ticks\":\"outside\"},\"colorscale\":[[0.0,\"#440154\"],[0.1111111111111111,\"#482878\"],[0.2222222222222222,\"#3e4989\"],[0.3333333333333333,\"#31688e\"],[0.4444444444444444,\"#26828e\"],[0.5555555555555556,\"#1f9e89\"],[0.6666666666666666,\"#35b779\"],[0.7777777777777778,\"#6ece58\"],[0.8888888888888888,\"#b5de2b\"],[1.0,\"#fde725\"]],\"type\":\"contour\"}],\"contourcarpet\":[{\"colorbar\":{\"outlinewidth\":1,\"tickcolor\":\"rgb(36,36,36)\",\"ticks\":\"outside\"},\"type\":\"contourcarpet\"}],\"heatmap\":[{\"colorbar\":{\"outlinewidth\":1,\"tickcolor\":\"rgb(36,36,36)\",\"ticks\":\"outside\"},\"colorscale\":[[0.0,\"#440154\"],[0.1111111111111111,\"#482878\"],[0.2222222222222222,\"#3e4989\"],[0.3333333333333333,\"#31688e\"],[0.4444444444444444,\"#26828e\"],[0.5555555555555556,\"#1f9e89\"],[0.6666666666666666,\"#35b779\"],[0.7777777777777778,\"#6ece58\"],[0.8888888888888888,\"#b5de2b\"],[1.0,\"#fde725\"]],\"type\":\"heatmap\"}],\"heatmapgl\":[{\"colorbar\":{\"outlinewidth\":1,\"tickcolor\":\"rgb(36,36,36)\",\"ticks\":\"outside\"},\"colorscale\":[[0.0,\"#440154\"],[0.1111111111111111,\"#482878\"],[0.2222222222222222,\"#3e4989\"],[0.3333333333333333,\"#31688e\"],[0.4444444444444444,\"#26828e\"],[0.5555555555555556,\"#1f9e89\"],[0.6666666666666666,\"#35b779\"],[0.7777777777777778,\"#6ece58\"],[0.8888888888888888,\"#b5de2b\"],[1.0,\"#fde725\"]],\"type\":\"heatmapgl\"}],\"histogram\":[{\"marker\":{\"line\":{\"color\":\"white\",\"width\":0.6}},\"type\":\"histogram\"}],\"histogram2d\":[{\"colorbar\":{\"outlinewidth\":1,\"tickcolor\":\"rgb(36,36,36)\",\"ticks\":\"outside\"},\"colorscale\":[[0.0,\"#440154\"],[0.1111111111111111,\"#482878\"],[0.2222222222222222,\"#3e4989\"],[0.3333333333333333,\"#31688e\"],[0.4444444444444444,\"#26828e\"],[0.5555555555555556,\"#1f9e89\"],[0.6666666666666666,\"#35b779\"],[0.7777777777777778,\"#6ece58\"],[0.8888888888888888,\"#b5de2b\"],[1.0,\"#fde725\"]],\"type\":\"histogram2d\"}],\"histogram2dcontour\":[{\"colorbar\":{\"outlinewidth\":1,\"tickcolor\":\"rgb(36,36,36)\",\"ticks\":\"outside\"},\"colorscale\":[[0.0,\"#440154\"],[0.1111111111111111,\"#482878\"],[0.2222222222222222,\"#3e4989\"],[0.3333333333333333,\"#31688e\"],[0.4444444444444444,\"#26828e\"],[0.5555555555555556,\"#1f9e89\"],[0.6666666666666666,\"#35b779\"],[0.7777777777777778,\"#6ece58\"],[0.8888888888888888,\"#b5de2b\"],[1.0,\"#fde725\"]],\"type\":\"histogram2dcontour\"}],\"mesh3d\":[{\"colorbar\":{\"outlinewidth\":1,\"tickcolor\":\"rgb(36,36,36)\",\"ticks\":\"outside\"},\"type\":\"mesh3d\"}],\"parcoords\":[{\"line\":{\"colorbar\":{\"outlinewidth\":1,\"tickcolor\":\"rgb(36,36,36)\",\"ticks\":\"outside\"}},\"type\":\"parcoords\"}],\"pie\":[{\"automargin\":true,\"type\":\"pie\"}],\"scatter\":[{\"marker\":{\"colorbar\":{\"outlinewidth\":1,\"tickcolor\":\"rgb(36,36,36)\",\"ticks\":\"outside\"}},\"type\":\"scatter\"}],\"scatter3d\":[{\"line\":{\"colorbar\":{\"outlinewidth\":1,\"tickcolor\":\"rgb(36,36,36)\",\"ticks\":\"outside\"}},\"marker\":{\"colorbar\":{\"outlinewidth\":1,\"tickcolor\":\"rgb(36,36,36)\",\"ticks\":\"outside\"}},\"type\":\"scatter3d\"}],\"scattercarpet\":[{\"marker\":{\"colorbar\":{\"outlinewidth\":1,\"tickcolor\":\"rgb(36,36,36)\",\"ticks\":\"outside\"}},\"type\":\"scattercarpet\"}],\"scattergeo\":[{\"marker\":{\"colorbar\":{\"outlinewidth\":1,\"tickcolor\":\"rgb(36,36,36)\",\"ticks\":\"outside\"}},\"type\":\"scattergeo\"}],\"scattergl\":[{\"marker\":{\"colorbar\":{\"outlinewidth\":1,\"tickcolor\":\"rgb(36,36,36)\",\"ticks\":\"outside\"}},\"type\":\"scattergl\"}],\"scattermapbox\":[{\"marker\":{\"colorbar\":{\"outlinewidth\":1,\"tickcolor\":\"rgb(36,36,36)\",\"ticks\":\"outside\"}},\"type\":\"scattermapbox\"}],\"scatterpolar\":[{\"marker\":{\"colorbar\":{\"outlinewidth\":1,\"tickcolor\":\"rgb(36,36,36)\",\"ticks\":\"outside\"}},\"type\":\"scatterpolar\"}],\"scatterpolargl\":[{\"marker\":{\"colorbar\":{\"outlinewidth\":1,\"tickcolor\":\"rgb(36,36,36)\",\"ticks\":\"outside\"}},\"type\":\"scatterpolargl\"}],\"scatterternary\":[{\"marker\":{\"colorbar\":{\"outlinewidth\":1,\"tickcolor\":\"rgb(36,36,36)\",\"ticks\":\"outside\"}},\"type\":\"scatterternary\"}],\"surface\":[{\"colorbar\":{\"outlinewidth\":1,\"tickcolor\":\"rgb(36,36,36)\",\"ticks\":\"outside\"},\"colorscale\":[[0.0,\"#440154\"],[0.1111111111111111,\"#482878\"],[0.2222222222222222,\"#3e4989\"],[0.3333333333333333,\"#31688e\"],[0.4444444444444444,\"#26828e\"],[0.5555555555555556,\"#1f9e89\"],[0.6666666666666666,\"#35b779\"],[0.7777777777777778,\"#6ece58\"],[0.8888888888888888,\"#b5de2b\"],[1.0,\"#fde725\"]],\"type\":\"surface\"}],\"table\":[{\"cells\":{\"fill\":{\"color\":\"rgb(237,237,237)\"},\"line\":{\"color\":\"white\"}},\"header\":{\"fill\":{\"color\":\"rgb(217,217,217)\"},\"line\":{\"color\":\"white\"}},\"type\":\"table\"}]},\"layout\":{\"annotationdefaults\":{\"arrowhead\":0,\"arrowwidth\":1},\"autotypenumbers\":\"strict\",\"coloraxis\":{\"colorbar\":{\"outlinewidth\":1,\"tickcolor\":\"rgb(36,36,36)\",\"ticks\":\"outside\"}},\"colorscale\":{\"diverging\":[[0.0,\"rgb(103,0,31)\"],[0.1,\"rgb(178,24,43)\"],[0.2,\"rgb(214,96,77)\"],[0.3,\"rgb(244,165,130)\"],[0.4,\"rgb(253,219,199)\"],[0.5,\"rgb(247,247,247)\"],[0.6,\"rgb(209,229,240)\"],[0.7,\"rgb(146,197,222)\"],[0.8,\"rgb(67,147,195)\"],[0.9,\"rgb(33,102,172)\"],[1.0,\"rgb(5,48,97)\"]],\"sequential\":[[0.0,\"#440154\"],[0.1111111111111111,\"#482878\"],[0.2222222222222222,\"#3e4989\"],[0.3333333333333333,\"#31688e\"],[0.4444444444444444,\"#26828e\"],[0.5555555555555556,\"#1f9e89\"],[0.6666666666666666,\"#35b779\"],[0.7777777777777778,\"#6ece58\"],[0.8888888888888888,\"#b5de2b\"],[1.0,\"#fde725\"]],\"sequentialminus\":[[0.0,\"#440154\"],[0.1111111111111111,\"#482878\"],[0.2222222222222222,\"#3e4989\"],[0.3333333333333333,\"#31688e\"],[0.4444444444444444,\"#26828e\"],[0.5555555555555556,\"#1f9e89\"],[0.6666666666666666,\"#35b779\"],[0.7777777777777778,\"#6ece58\"],[0.8888888888888888,\"#b5de2b\"],[1.0,\"#fde725\"]]},\"colorway\":[\"#1F77B4\",\"#FF7F0E\",\"#2CA02C\",\"#D62728\",\"#9467BD\",\"#8C564B\",\"#E377C2\",\"#7F7F7F\",\"#BCBD22\",\"#17BECF\"],\"font\":{\"color\":\"rgb(36,36,36)\"},\"geo\":{\"bgcolor\":\"white\",\"lakecolor\":\"white\",\"landcolor\":\"white\",\"showlakes\":true,\"showland\":true,\"subunitcolor\":\"white\"},\"hoverlabel\":{\"align\":\"left\"},\"hovermode\":\"closest\",\"mapbox\":{\"style\":\"light\"},\"paper_bgcolor\":\"white\",\"plot_bgcolor\":\"white\",\"polar\":{\"angularaxis\":{\"gridcolor\":\"rgb(232,232,232)\",\"linecolor\":\"rgb(36,36,36)\",\"showgrid\":false,\"showline\":true,\"ticks\":\"outside\"},\"bgcolor\":\"white\",\"radialaxis\":{\"gridcolor\":\"rgb(232,232,232)\",\"linecolor\":\"rgb(36,36,36)\",\"showgrid\":false,\"showline\":true,\"ticks\":\"outside\"}},\"scene\":{\"xaxis\":{\"backgroundcolor\":\"white\",\"gridcolor\":\"rgb(232,232,232)\",\"gridwidth\":2,\"linecolor\":\"rgb(36,36,36)\",\"showbackground\":true,\"showgrid\":false,\"showline\":true,\"ticks\":\"outside\",\"zeroline\":false,\"zerolinecolor\":\"rgb(36,36,36)\"},\"yaxis\":{\"backgroundcolor\":\"white\",\"gridcolor\":\"rgb(232,232,232)\",\"gridwidth\":2,\"linecolor\":\"rgb(36,36,36)\",\"showbackground\":true,\"showgrid\":false,\"showline\":true,\"ticks\":\"outside\",\"zeroline\":false,\"zerolinecolor\":\"rgb(36,36,36)\"},\"zaxis\":{\"backgroundcolor\":\"white\",\"gridcolor\":\"rgb(232,232,232)\",\"gridwidth\":2,\"linecolor\":\"rgb(36,36,36)\",\"showbackground\":true,\"showgrid\":false,\"showline\":true,\"ticks\":\"outside\",\"zeroline\":false,\"zerolinecolor\":\"rgb(36,36,36)\"}},\"shapedefaults\":{\"fillcolor\":\"black\",\"line\":{\"width\":0},\"opacity\":0.3},\"ternary\":{\"aaxis\":{\"gridcolor\":\"rgb(232,232,232)\",\"linecolor\":\"rgb(36,36,36)\",\"showgrid\":false,\"showline\":true,\"ticks\":\"outside\"},\"baxis\":{\"gridcolor\":\"rgb(232,232,232)\",\"linecolor\":\"rgb(36,36,36)\",\"showgrid\":false,\"showline\":true,\"ticks\":\"outside\"},\"bgcolor\":\"white\",\"caxis\":{\"gridcolor\":\"rgb(232,232,232)\",\"linecolor\":\"rgb(36,36,36)\",\"showgrid\":false,\"showline\":true,\"ticks\":\"outside\"}},\"title\":{\"x\":0.05},\"xaxis\":{\"automargin\":true,\"gridcolor\":\"rgb(232,232,232)\",\"linecolor\":\"rgb(36,36,36)\",\"showgrid\":false,\"showline\":true,\"ticks\":\"outside\",\"title\":{\"standoff\":15},\"zeroline\":false,\"zerolinecolor\":\"rgb(36,36,36)\"},\"yaxis\":{\"automargin\":true,\"gridcolor\":\"rgb(232,232,232)\",\"linecolor\":\"rgb(36,36,36)\",\"showgrid\":false,\"showline\":true,\"ticks\":\"outside\",\"title\":{\"standoff\":15},\"zeroline\":false,\"zerolinecolor\":\"rgb(36,36,36)\"}}},\"xaxis\":{\"anchor\":\"y\",\"domain\":[0.0,1.0],\"dtick\":0.1,\"tick0\":0,\"tickmode\":\"linear\",\"title\":{\"text\":\"alpha\"}},\"yaxis\":{\"anchor\":\"x\",\"domain\":[0.0,1.0],\"title\":{\"text\":\"count\"}}},                        {\"responsive\": true}                    ).then(function(){\n",
       "                            \n",
       "var gd = document.getElementById('b7bcae81-40d9-4957-ba3d-18a8430482ae');\n",
       "var x = new MutationObserver(function (mutations, observer) {{\n",
       "        var display = window.getComputedStyle(gd).display;\n",
       "        if (!display || display === 'none') {{\n",
       "            console.log([gd, 'removed!']);\n",
       "            Plotly.purge(gd);\n",
       "            observer.disconnect();\n",
       "        }}\n",
       "}});\n",
       "\n",
       "// Listen for the removal of the full notebook cells\n",
       "var notebookContainer = gd.closest('#notebook-container');\n",
       "if (notebookContainer) {{\n",
       "    x.observe(notebookContainer, {childList: true});\n",
       "}}\n",
       "\n",
       "// Listen for the clearing of the current output cell\n",
       "var outputEl = gd.closest('.output');\n",
       "if (outputEl) {{\n",
       "    x.observe(outputEl, {childList: true});\n",
       "}}\n",
       "\n",
       "                        })                };                });            </script>        </div>"
      ]
     },
     "metadata": {},
     "output_type": "display_data"
    }
   ],
   "source": [
    "import plotly.graph_objects as go\n",
    "ins_dict = {\n",
    "            'alpha': [ i for i in np.arange(0.0, 2.0, 0.01)],\n",
    "            'count': [ count for count in alpha_count.values() ]\n",
    "        }\n",
    "df = pd.DataFrame(ins_dict, columns=['alpha', 'count'])\n",
    "fig = go.Figure(px.bar(df, x=\"alpha\", y=\"count\",\n",
    "         height=400, template=\"simple_white\"))\n",
    "\n",
    "fig.update_layout(\n",
    "    xaxis = dict(\n",
    "        tickmode = 'linear',\n",
    "        tick0 = 0,\n",
    "        dtick = 0.1\n",
    "    )\n",
    ")\n",
    "\n",
    "fig.show()"
   ]
  },
  {
   "cell_type": "code",
   "execution_count": 158,
   "id": "0e29aee8-8bf7-4892-bfd9-505010c5ff77",
   "metadata": {},
   "outputs": [
    {
     "data": {
      "application/vnd.plotly.v1+json": {
       "config": {
        "plotlyServerURL": "https://plot.ly"
       },
       "data": [
        {
         "alignmentgroup": "True",
         "hovertemplate": "year=%{x}<br>pop=%{y}<extra></extra>",
         "legendgroup": "",
         "marker": {
          "color": "#636efa",
          "pattern": {
           "shape": ""
          }
         },
         "name": "",
         "offsetgroup": "",
         "orientation": "v",
         "showlegend": false,
         "textposition": "auto",
         "type": "bar",
         "x": [
          1952,
          1957,
          1962,
          1967,
          1972,
          1977,
          1982,
          1987,
          1992,
          1997,
          2002,
          2007
         ],
         "xaxis": "x",
         "y": [
          14785584,
          17010154,
          18985849,
          20819767,
          22284500,
          23796400,
          25201900,
          26549700,
          28523502,
          30305843,
          31902268,
          33390141
         ],
         "yaxis": "y"
        }
       ],
       "layout": {
        "autosize": true,
        "barmode": "relative",
        "legend": {
         "tracegroupgap": 0
        },
        "margin": {
         "t": 60
        },
        "template": {
         "data": {
          "bar": [
           {
            "error_x": {
             "color": "#2a3f5f"
            },
            "error_y": {
             "color": "#2a3f5f"
            },
            "marker": {
             "line": {
              "color": "#E5ECF6",
              "width": 0.5
             },
             "pattern": {
              "fillmode": "overlay",
              "size": 10,
              "solidity": 0.2
             }
            },
            "type": "bar"
           }
          ],
          "barpolar": [
           {
            "marker": {
             "line": {
              "color": "#E5ECF6",
              "width": 0.5
             },
             "pattern": {
              "fillmode": "overlay",
              "size": 10,
              "solidity": 0.2
             }
            },
            "type": "barpolar"
           }
          ],
          "carpet": [
           {
            "aaxis": {
             "endlinecolor": "#2a3f5f",
             "gridcolor": "white",
             "linecolor": "white",
             "minorgridcolor": "white",
             "startlinecolor": "#2a3f5f"
            },
            "baxis": {
             "endlinecolor": "#2a3f5f",
             "gridcolor": "white",
             "linecolor": "white",
             "minorgridcolor": "white",
             "startlinecolor": "#2a3f5f"
            },
            "type": "carpet"
           }
          ],
          "choropleth": [
           {
            "colorbar": {
             "outlinewidth": 0,
             "ticks": ""
            },
            "type": "choropleth"
           }
          ],
          "contour": [
           {
            "colorbar": {
             "outlinewidth": 0,
             "ticks": ""
            },
            "colorscale": [
             [
              0,
              "#0d0887"
             ],
             [
              0.1111111111111111,
              "#46039f"
             ],
             [
              0.2222222222222222,
              "#7201a8"
             ],
             [
              0.3333333333333333,
              "#9c179e"
             ],
             [
              0.4444444444444444,
              "#bd3786"
             ],
             [
              0.5555555555555556,
              "#d8576b"
             ],
             [
              0.6666666666666666,
              "#ed7953"
             ],
             [
              0.7777777777777778,
              "#fb9f3a"
             ],
             [
              0.8888888888888888,
              "#fdca26"
             ],
             [
              1,
              "#f0f921"
             ]
            ],
            "type": "contour"
           }
          ],
          "contourcarpet": [
           {
            "colorbar": {
             "outlinewidth": 0,
             "ticks": ""
            },
            "type": "contourcarpet"
           }
          ],
          "heatmap": [
           {
            "colorbar": {
             "outlinewidth": 0,
             "ticks": ""
            },
            "colorscale": [
             [
              0,
              "#0d0887"
             ],
             [
              0.1111111111111111,
              "#46039f"
             ],
             [
              0.2222222222222222,
              "#7201a8"
             ],
             [
              0.3333333333333333,
              "#9c179e"
             ],
             [
              0.4444444444444444,
              "#bd3786"
             ],
             [
              0.5555555555555556,
              "#d8576b"
             ],
             [
              0.6666666666666666,
              "#ed7953"
             ],
             [
              0.7777777777777778,
              "#fb9f3a"
             ],
             [
              0.8888888888888888,
              "#fdca26"
             ],
             [
              1,
              "#f0f921"
             ]
            ],
            "type": "heatmap"
           }
          ],
          "heatmapgl": [
           {
            "colorbar": {
             "outlinewidth": 0,
             "ticks": ""
            },
            "colorscale": [
             [
              0,
              "#0d0887"
             ],
             [
              0.1111111111111111,
              "#46039f"
             ],
             [
              0.2222222222222222,
              "#7201a8"
             ],
             [
              0.3333333333333333,
              "#9c179e"
             ],
             [
              0.4444444444444444,
              "#bd3786"
             ],
             [
              0.5555555555555556,
              "#d8576b"
             ],
             [
              0.6666666666666666,
              "#ed7953"
             ],
             [
              0.7777777777777778,
              "#fb9f3a"
             ],
             [
              0.8888888888888888,
              "#fdca26"
             ],
             [
              1,
              "#f0f921"
             ]
            ],
            "type": "heatmapgl"
           }
          ],
          "histogram": [
           {
            "marker": {
             "pattern": {
              "fillmode": "overlay",
              "size": 10,
              "solidity": 0.2
             }
            },
            "type": "histogram"
           }
          ],
          "histogram2d": [
           {
            "colorbar": {
             "outlinewidth": 0,
             "ticks": ""
            },
            "colorscale": [
             [
              0,
              "#0d0887"
             ],
             [
              0.1111111111111111,
              "#46039f"
             ],
             [
              0.2222222222222222,
              "#7201a8"
             ],
             [
              0.3333333333333333,
              "#9c179e"
             ],
             [
              0.4444444444444444,
              "#bd3786"
             ],
             [
              0.5555555555555556,
              "#d8576b"
             ],
             [
              0.6666666666666666,
              "#ed7953"
             ],
             [
              0.7777777777777778,
              "#fb9f3a"
             ],
             [
              0.8888888888888888,
              "#fdca26"
             ],
             [
              1,
              "#f0f921"
             ]
            ],
            "type": "histogram2d"
           }
          ],
          "histogram2dcontour": [
           {
            "colorbar": {
             "outlinewidth": 0,
             "ticks": ""
            },
            "colorscale": [
             [
              0,
              "#0d0887"
             ],
             [
              0.1111111111111111,
              "#46039f"
             ],
             [
              0.2222222222222222,
              "#7201a8"
             ],
             [
              0.3333333333333333,
              "#9c179e"
             ],
             [
              0.4444444444444444,
              "#bd3786"
             ],
             [
              0.5555555555555556,
              "#d8576b"
             ],
             [
              0.6666666666666666,
              "#ed7953"
             ],
             [
              0.7777777777777778,
              "#fb9f3a"
             ],
             [
              0.8888888888888888,
              "#fdca26"
             ],
             [
              1,
              "#f0f921"
             ]
            ],
            "type": "histogram2dcontour"
           }
          ],
          "mesh3d": [
           {
            "colorbar": {
             "outlinewidth": 0,
             "ticks": ""
            },
            "type": "mesh3d"
           }
          ],
          "parcoords": [
           {
            "line": {
             "colorbar": {
              "outlinewidth": 0,
              "ticks": ""
             }
            },
            "type": "parcoords"
           }
          ],
          "pie": [
           {
            "automargin": true,
            "type": "pie"
           }
          ],
          "scatter": [
           {
            "marker": {
             "colorbar": {
              "outlinewidth": 0,
              "ticks": ""
             }
            },
            "type": "scatter"
           }
          ],
          "scatter3d": [
           {
            "line": {
             "colorbar": {
              "outlinewidth": 0,
              "ticks": ""
             }
            },
            "marker": {
             "colorbar": {
              "outlinewidth": 0,
              "ticks": ""
             }
            },
            "type": "scatter3d"
           }
          ],
          "scattercarpet": [
           {
            "marker": {
             "colorbar": {
              "outlinewidth": 0,
              "ticks": ""
             }
            },
            "type": "scattercarpet"
           }
          ],
          "scattergeo": [
           {
            "marker": {
             "colorbar": {
              "outlinewidth": 0,
              "ticks": ""
             }
            },
            "type": "scattergeo"
           }
          ],
          "scattergl": [
           {
            "marker": {
             "colorbar": {
              "outlinewidth": 0,
              "ticks": ""
             }
            },
            "type": "scattergl"
           }
          ],
          "scattermapbox": [
           {
            "marker": {
             "colorbar": {
              "outlinewidth": 0,
              "ticks": ""
             }
            },
            "type": "scattermapbox"
           }
          ],
          "scatterpolar": [
           {
            "marker": {
             "colorbar": {
              "outlinewidth": 0,
              "ticks": ""
             }
            },
            "type": "scatterpolar"
           }
          ],
          "scatterpolargl": [
           {
            "marker": {
             "colorbar": {
              "outlinewidth": 0,
              "ticks": ""
             }
            },
            "type": "scatterpolargl"
           }
          ],
          "scatterternary": [
           {
            "marker": {
             "colorbar": {
              "outlinewidth": 0,
              "ticks": ""
             }
            },
            "type": "scatterternary"
           }
          ],
          "surface": [
           {
            "colorbar": {
             "outlinewidth": 0,
             "ticks": ""
            },
            "colorscale": [
             [
              0,
              "#0d0887"
             ],
             [
              0.1111111111111111,
              "#46039f"
             ],
             [
              0.2222222222222222,
              "#7201a8"
             ],
             [
              0.3333333333333333,
              "#9c179e"
             ],
             [
              0.4444444444444444,
              "#bd3786"
             ],
             [
              0.5555555555555556,
              "#d8576b"
             ],
             [
              0.6666666666666666,
              "#ed7953"
             ],
             [
              0.7777777777777778,
              "#fb9f3a"
             ],
             [
              0.8888888888888888,
              "#fdca26"
             ],
             [
              1,
              "#f0f921"
             ]
            ],
            "type": "surface"
           }
          ],
          "table": [
           {
            "cells": {
             "fill": {
              "color": "#EBF0F8"
             },
             "line": {
              "color": "white"
             }
            },
            "header": {
             "fill": {
              "color": "#C8D4E3"
             },
             "line": {
              "color": "white"
             }
            },
            "type": "table"
           }
          ]
         },
         "layout": {
          "annotationdefaults": {
           "arrowcolor": "#2a3f5f",
           "arrowhead": 0,
           "arrowwidth": 1
          },
          "autotypenumbers": "strict",
          "coloraxis": {
           "colorbar": {
            "outlinewidth": 0,
            "ticks": ""
           }
          },
          "colorscale": {
           "diverging": [
            [
             0,
             "#8e0152"
            ],
            [
             0.1,
             "#c51b7d"
            ],
            [
             0.2,
             "#de77ae"
            ],
            [
             0.3,
             "#f1b6da"
            ],
            [
             0.4,
             "#fde0ef"
            ],
            [
             0.5,
             "#f7f7f7"
            ],
            [
             0.6,
             "#e6f5d0"
            ],
            [
             0.7,
             "#b8e186"
            ],
            [
             0.8,
             "#7fbc41"
            ],
            [
             0.9,
             "#4d9221"
            ],
            [
             1,
             "#276419"
            ]
           ],
           "sequential": [
            [
             0,
             "#0d0887"
            ],
            [
             0.1111111111111111,
             "#46039f"
            ],
            [
             0.2222222222222222,
             "#7201a8"
            ],
            [
             0.3333333333333333,
             "#9c179e"
            ],
            [
             0.4444444444444444,
             "#bd3786"
            ],
            [
             0.5555555555555556,
             "#d8576b"
            ],
            [
             0.6666666666666666,
             "#ed7953"
            ],
            [
             0.7777777777777778,
             "#fb9f3a"
            ],
            [
             0.8888888888888888,
             "#fdca26"
            ],
            [
             1,
             "#f0f921"
            ]
           ],
           "sequentialminus": [
            [
             0,
             "#0d0887"
            ],
            [
             0.1111111111111111,
             "#46039f"
            ],
            [
             0.2222222222222222,
             "#7201a8"
            ],
            [
             0.3333333333333333,
             "#9c179e"
            ],
            [
             0.4444444444444444,
             "#bd3786"
            ],
            [
             0.5555555555555556,
             "#d8576b"
            ],
            [
             0.6666666666666666,
             "#ed7953"
            ],
            [
             0.7777777777777778,
             "#fb9f3a"
            ],
            [
             0.8888888888888888,
             "#fdca26"
            ],
            [
             1,
             "#f0f921"
            ]
           ]
          },
          "colorway": [
           "#636efa",
           "#EF553B",
           "#00cc96",
           "#ab63fa",
           "#FFA15A",
           "#19d3f3",
           "#FF6692",
           "#B6E880",
           "#FF97FF",
           "#FECB52"
          ],
          "font": {
           "color": "#2a3f5f"
          },
          "geo": {
           "bgcolor": "white",
           "lakecolor": "white",
           "landcolor": "#E5ECF6",
           "showlakes": true,
           "showland": true,
           "subunitcolor": "white"
          },
          "hoverlabel": {
           "align": "left"
          },
          "hovermode": "closest",
          "mapbox": {
           "style": "light"
          },
          "paper_bgcolor": "white",
          "plot_bgcolor": "#E5ECF6",
          "polar": {
           "angularaxis": {
            "gridcolor": "white",
            "linecolor": "white",
            "ticks": ""
           },
           "bgcolor": "#E5ECF6",
           "radialaxis": {
            "gridcolor": "white",
            "linecolor": "white",
            "ticks": ""
           }
          },
          "scene": {
           "xaxis": {
            "backgroundcolor": "#E5ECF6",
            "gridcolor": "white",
            "gridwidth": 2,
            "linecolor": "white",
            "showbackground": true,
            "ticks": "",
            "zerolinecolor": "white"
           },
           "yaxis": {
            "backgroundcolor": "#E5ECF6",
            "gridcolor": "white",
            "gridwidth": 2,
            "linecolor": "white",
            "showbackground": true,
            "ticks": "",
            "zerolinecolor": "white"
           },
           "zaxis": {
            "backgroundcolor": "#E5ECF6",
            "gridcolor": "white",
            "gridwidth": 2,
            "linecolor": "white",
            "showbackground": true,
            "ticks": "",
            "zerolinecolor": "white"
           }
          },
          "shapedefaults": {
           "line": {
            "color": "#2a3f5f"
           }
          },
          "ternary": {
           "aaxis": {
            "gridcolor": "white",
            "linecolor": "white",
            "ticks": ""
           },
           "baxis": {
            "gridcolor": "white",
            "linecolor": "white",
            "ticks": ""
           },
           "bgcolor": "#E5ECF6",
           "caxis": {
            "gridcolor": "white",
            "linecolor": "white",
            "ticks": ""
           }
          },
          "title": {
           "x": 0.05
          },
          "xaxis": {
           "automargin": true,
           "gridcolor": "white",
           "linecolor": "white",
           "ticks": "",
           "title": {
            "standoff": 15
           },
           "zerolinecolor": "white",
           "zerolinewidth": 2
          },
          "yaxis": {
           "automargin": true,
           "gridcolor": "white",
           "linecolor": "white",
           "ticks": "",
           "title": {
            "standoff": 15
           },
           "zerolinecolor": "white",
           "zerolinewidth": 2
          }
         }
        },
        "xaxis": {
         "anchor": "y",
         "autorange": true,
         "domain": [
          0,
          1
         ],
         "range": [
          1949.5,
          2009.5
         ],
         "title": {
          "text": "year"
         },
         "type": "linear"
        },
        "yaxis": {
         "anchor": "x",
         "autorange": true,
         "domain": [
          0,
          1
         ],
         "range": [
          0,
          35147516.84210526
         ],
         "title": {
          "text": "pop"
         },
         "type": "linear"
        }
       }
      },
      "image/png": "[encoded data removed]",
      "text/html": [
       "<div>                            <div id=\"448de6b4-92b9-435f-80b0-65e0720392ae\" class=\"plotly-graph-div\" style=\"height:525px; width:100%;\"></div>            <script type=\"text/javascript\">                require([\"plotly\"], function(Plotly) {                    window.PLOTLYENV=window.PLOTLYENV || {};                                    if (document.getElementById(\"448de6b4-92b9-435f-80b0-65e0720392ae\")) {                    Plotly.newPlot(                        \"448de6b4-92b9-435f-80b0-65e0720392ae\",                        [{\"alignmentgroup\":\"True\",\"hovertemplate\":\"year=%{x}<br>pop=%{y}<extra></extra>\",\"legendgroup\":\"\",\"marker\":{\"color\":\"#636efa\",\"pattern\":{\"shape\":\"\"}},\"name\":\"\",\"offsetgroup\":\"\",\"orientation\":\"v\",\"showlegend\":false,\"textposition\":\"auto\",\"type\":\"bar\",\"x\":[1952,1957,1962,1967,1972,1977,1982,1987,1992,1997,2002,2007],\"xaxis\":\"x\",\"y\":[14785584,17010154,18985849,20819767,22284500,23796400,25201900,26549700,28523502,30305843,31902268,33390141],\"yaxis\":\"y\"}],                        {\"barmode\":\"relative\",\"legend\":{\"tracegroupgap\":0},\"margin\":{\"t\":60},\"template\":{\"data\":{\"bar\":[{\"error_x\":{\"color\":\"#2a3f5f\"},\"error_y\":{\"color\":\"#2a3f5f\"},\"marker\":{\"line\":{\"color\":\"#E5ECF6\",\"width\":0.5},\"pattern\":{\"fillmode\":\"overlay\",\"size\":10,\"solidity\":0.2}},\"type\":\"bar\"}],\"barpolar\":[{\"marker\":{\"line\":{\"color\":\"#E5ECF6\",\"width\":0.5},\"pattern\":{\"fillmode\":\"overlay\",\"size\":10,\"solidity\":0.2}},\"type\":\"barpolar\"}],\"carpet\":[{\"aaxis\":{\"endlinecolor\":\"#2a3f5f\",\"gridcolor\":\"white\",\"linecolor\":\"white\",\"minorgridcolor\":\"white\",\"startlinecolor\":\"#2a3f5f\"},\"baxis\":{\"endlinecolor\":\"#2a3f5f\",\"gridcolor\":\"white\",\"linecolor\":\"white\",\"minorgridcolor\":\"white\",\"startlinecolor\":\"#2a3f5f\"},\"type\":\"carpet\"}],\"choropleth\":[{\"colorbar\":{\"outlinewidth\":0,\"ticks\":\"\"},\"type\":\"choropleth\"}],\"contour\":[{\"colorbar\":{\"outlinewidth\":0,\"ticks\":\"\"},\"colorscale\":[[0.0,\"#0d0887\"],[0.1111111111111111,\"#46039f\"],[0.2222222222222222,\"#7201a8\"],[0.3333333333333333,\"#9c179e\"],[0.4444444444444444,\"#bd3786\"],[0.5555555555555556,\"#d8576b\"],[0.6666666666666666,\"#ed7953\"],[0.7777777777777778,\"#fb9f3a\"],[0.8888888888888888,\"#fdca26\"],[1.0,\"#f0f921\"]],\"type\":\"contour\"}],\"contourcarpet\":[{\"colorbar\":{\"outlinewidth\":0,\"ticks\":\"\"},\"type\":\"contourcarpet\"}],\"heatmap\":[{\"colorbar\":{\"outlinewidth\":0,\"ticks\":\"\"},\"colorscale\":[[0.0,\"#0d0887\"],[0.1111111111111111,\"#46039f\"],[0.2222222222222222,\"#7201a8\"],[0.3333333333333333,\"#9c179e\"],[0.4444444444444444,\"#bd3786\"],[0.5555555555555556,\"#d8576b\"],[0.6666666666666666,\"#ed7953\"],[0.7777777777777778,\"#fb9f3a\"],[0.8888888888888888,\"#fdca26\"],[1.0,\"#f0f921\"]],\"type\":\"heatmap\"}],\"heatmapgl\":[{\"colorbar\":{\"outlinewidth\":0,\"ticks\":\"\"},\"colorscale\":[[0.0,\"#0d0887\"],[0.1111111111111111,\"#46039f\"],[0.2222222222222222,\"#7201a8\"],[0.3333333333333333,\"#9c179e\"],[0.4444444444444444,\"#bd3786\"],[0.5555555555555556,\"#d8576b\"],[0.6666666666666666,\"#ed7953\"],[0.7777777777777778,\"#fb9f3a\"],[0.8888888888888888,\"#fdca26\"],[1.0,\"#f0f921\"]],\"type\":\"heatmapgl\"}],\"histogram\":[{\"marker\":{\"pattern\":{\"fillmode\":\"overlay\",\"size\":10,\"solidity\":0.2}},\"type\":\"histogram\"}],\"histogram2d\":[{\"colorbar\":{\"outlinewidth\":0,\"ticks\":\"\"},\"colorscale\":[[0.0,\"#0d0887\"],[0.1111111111111111,\"#46039f\"],[0.2222222222222222,\"#7201a8\"],[0.3333333333333333,\"#9c179e\"],[0.4444444444444444,\"#bd3786\"],[0.5555555555555556,\"#d8576b\"],[0.6666666666666666,\"#ed7953\"],[0.7777777777777778,\"#fb9f3a\"],[0.8888888888888888,\"#fdca26\"],[1.0,\"#f0f921\"]],\"type\":\"histogram2d\"}],\"histogram2dcontour\":[{\"colorbar\":{\"outlinewidth\":0,\"ticks\":\"\"},\"colorscale\":[[0.0,\"#0d0887\"],[0.1111111111111111,\"#46039f\"],[0.2222222222222222,\"#7201a8\"],[0.3333333333333333,\"#9c179e\"],[0.4444444444444444,\"#bd3786\"],[0.5555555555555556,\"#d8576b\"],[0.6666666666666666,\"#ed7953\"],[0.7777777777777778,\"#fb9f3a\"],[0.8888888888888888,\"#fdca26\"],[1.0,\"#f0f921\"]],\"type\":\"histogram2dcontour\"}],\"mesh3d\":[{\"colorbar\":{\"outlinewidth\":0,\"ticks\":\"\"},\"type\":\"mesh3d\"}],\"parcoords\":[{\"line\":{\"colorbar\":{\"outlinewidth\":0,\"ticks\":\"\"}},\"type\":\"parcoords\"}],\"pie\":[{\"automargin\":true,\"type\":\"pie\"}],\"scatter\":[{\"marker\":{\"colorbar\":{\"outlinewidth\":0,\"ticks\":\"\"}},\"type\":\"scatter\"}],\"scatter3d\":[{\"line\":{\"colorbar\":{\"outlinewidth\":0,\"ticks\":\"\"}},\"marker\":{\"colorbar\":{\"outlinewidth\":0,\"ticks\":\"\"}},\"type\":\"scatter3d\"}],\"scattercarpet\":[{\"marker\":{\"colorbar\":{\"outlinewidth\":0,\"ticks\":\"\"}},\"type\":\"scattercarpet\"}],\"scattergeo\":[{\"marker\":{\"colorbar\":{\"outlinewidth\":0,\"ticks\":\"\"}},\"type\":\"scattergeo\"}],\"scattergl\":[{\"marker\":{\"colorbar\":{\"outlinewidth\":0,\"ticks\":\"\"}},\"type\":\"scattergl\"}],\"scattermapbox\":[{\"marker\":{\"colorbar\":{\"outlinewidth\":0,\"ticks\":\"\"}},\"type\":\"scattermapbox\"}],\"scatterpolar\":[{\"marker\":{\"colorbar\":{\"outlinewidth\":0,\"ticks\":\"\"}},\"type\":\"scatterpolar\"}],\"scatterpolargl\":[{\"marker\":{\"colorbar\":{\"outlinewidth\":0,\"ticks\":\"\"}},\"type\":\"scatterpolargl\"}],\"scatterternary\":[{\"marker\":{\"colorbar\":{\"outlinewidth\":0,\"ticks\":\"\"}},\"type\":\"scatterternary\"}],\"surface\":[{\"colorbar\":{\"outlinewidth\":0,\"ticks\":\"\"},\"colorscale\":[[0.0,\"#0d0887\"],[0.1111111111111111,\"#46039f\"],[0.2222222222222222,\"#7201a8\"],[0.3333333333333333,\"#9c179e\"],[0.4444444444444444,\"#bd3786\"],[0.5555555555555556,\"#d8576b\"],[0.6666666666666666,\"#ed7953\"],[0.7777777777777778,\"#fb9f3a\"],[0.8888888888888888,\"#fdca26\"],[1.0,\"#f0f921\"]],\"type\":\"surface\"}],\"table\":[{\"cells\":{\"fill\":{\"color\":\"#EBF0F8\"},\"line\":{\"color\":\"white\"}},\"header\":{\"fill\":{\"color\":\"#C8D4E3\"},\"line\":{\"color\":\"white\"}},\"type\":\"table\"}]},\"layout\":{\"annotationdefaults\":{\"arrowcolor\":\"#2a3f5f\",\"arrowhead\":0,\"arrowwidth\":1},\"autotypenumbers\":\"strict\",\"coloraxis\":{\"colorbar\":{\"outlinewidth\":0,\"ticks\":\"\"}},\"colorscale\":{\"diverging\":[[0,\"#8e0152\"],[0.1,\"#c51b7d\"],[0.2,\"#de77ae\"],[0.3,\"#f1b6da\"],[0.4,\"#fde0ef\"],[0.5,\"#f7f7f7\"],[0.6,\"#e6f5d0\"],[0.7,\"#b8e186\"],[0.8,\"#7fbc41\"],[0.9,\"#4d9221\"],[1,\"#276419\"]],\"sequential\":[[0.0,\"#0d0887\"],[0.1111111111111111,\"#46039f\"],[0.2222222222222222,\"#7201a8\"],[0.3333333333333333,\"#9c179e\"],[0.4444444444444444,\"#bd3786\"],[0.5555555555555556,\"#d8576b\"],[0.6666666666666666,\"#ed7953\"],[0.7777777777777778,\"#fb9f3a\"],[0.8888888888888888,\"#fdca26\"],[1.0,\"#f0f921\"]],\"sequentialminus\":[[0.0,\"#0d0887\"],[0.1111111111111111,\"#46039f\"],[0.2222222222222222,\"#7201a8\"],[0.3333333333333333,\"#9c179e\"],[0.4444444444444444,\"#bd3786\"],[0.5555555555555556,\"#d8576b\"],[0.6666666666666666,\"#ed7953\"],[0.7777777777777778,\"#fb9f3a\"],[0.8888888888888888,\"#fdca26\"],[1.0,\"#f0f921\"]]},\"colorway\":[\"#636efa\",\"#EF553B\",\"#00cc96\",\"#ab63fa\",\"#FFA15A\",\"#19d3f3\",\"#FF6692\",\"#B6E880\",\"#FF97FF\",\"#FECB52\"],\"font\":{\"color\":\"#2a3f5f\"},\"geo\":{\"bgcolor\":\"white\",\"lakecolor\":\"white\",\"landcolor\":\"#E5ECF6\",\"showlakes\":true,\"showland\":true,\"subunitcolor\":\"white\"},\"hoverlabel\":{\"align\":\"left\"},\"hovermode\":\"closest\",\"mapbox\":{\"style\":\"light\"},\"paper_bgcolor\":\"white\",\"plot_bgcolor\":\"#E5ECF6\",\"polar\":{\"angularaxis\":{\"gridcolor\":\"white\",\"linecolor\":\"white\",\"ticks\":\"\"},\"bgcolor\":\"#E5ECF6\",\"radialaxis\":{\"gridcolor\":\"white\",\"linecolor\":\"white\",\"ticks\":\"\"}},\"scene\":{\"xaxis\":{\"backgroundcolor\":\"#E5ECF6\",\"gridcolor\":\"white\",\"gridwidth\":2,\"linecolor\":\"white\",\"showbackground\":true,\"ticks\":\"\",\"zerolinecolor\":\"white\"},\"yaxis\":{\"backgroundcolor\":\"#E5ECF6\",\"gridcolor\":\"white\",\"gridwidth\":2,\"linecolor\":\"white\",\"showbackground\":true,\"ticks\":\"\",\"zerolinecolor\":\"white\"},\"zaxis\":{\"backgroundcolor\":\"#E5ECF6\",\"gridcolor\":\"white\",\"gridwidth\":2,\"linecolor\":\"white\",\"showbackground\":true,\"ticks\":\"\",\"zerolinecolor\":\"white\"}},\"shapedefaults\":{\"line\":{\"color\":\"#2a3f5f\"}},\"ternary\":{\"aaxis\":{\"gridcolor\":\"white\",\"linecolor\":\"white\",\"ticks\":\"\"},\"baxis\":{\"gridcolor\":\"white\",\"linecolor\":\"white\",\"ticks\":\"\"},\"bgcolor\":\"#E5ECF6\",\"caxis\":{\"gridcolor\":\"white\",\"linecolor\":\"white\",\"ticks\":\"\"}},\"title\":{\"x\":0.05},\"xaxis\":{\"automargin\":true,\"gridcolor\":\"white\",\"linecolor\":\"white\",\"ticks\":\"\",\"title\":{\"standoff\":15},\"zerolinecolor\":\"white\",\"zerolinewidth\":2},\"yaxis\":{\"automargin\":true,\"gridcolor\":\"white\",\"linecolor\":\"white\",\"ticks\":\"\",\"title\":{\"standoff\":15},\"zerolinecolor\":\"white\",\"zerolinewidth\":2}}},\"xaxis\":{\"anchor\":\"y\",\"domain\":[0.0,1.0],\"title\":{\"text\":\"year\"}},\"yaxis\":{\"anchor\":\"x\",\"domain\":[0.0,1.0],\"title\":{\"text\":\"pop\"}}},                        {\"responsive\": true}                    ).then(function(){\n",
       "                            \n",
       "var gd = document.getElementById('448de6b4-92b9-435f-80b0-65e0720392ae');\n",
       "var x = new MutationObserver(function (mutations, observer) {{\n",
       "        var display = window.getComputedStyle(gd).display;\n",
       "        if (!display || display === 'none') {{\n",
       "            console.log([gd, 'removed!']);\n",
       "            Plotly.purge(gd);\n",
       "            observer.disconnect();\n",
       "        }}\n",
       "}});\n",
       "\n",
       "// Listen for the removal of the full notebook cells\n",
       "var notebookContainer = gd.closest('#notebook-container');\n",
       "if (notebookContainer) {{\n",
       "    x.observe(notebookContainer, {childList: true});\n",
       "}}\n",
       "\n",
       "// Listen for the clearing of the current output cell\n",
       "var outputEl = gd.closest('.output');\n",
       "if (outputEl) {{\n",
       "    x.observe(outputEl, {childList: true});\n",
       "}}\n",
       "\n",
       "                        })                };                });            </script>        </div>"
      ]
     },
     "metadata": {},
     "output_type": "display_data"
    }
   ],
   "source": [
    "import plotly.express as px\n",
    "data_canada = px.data.gapminder().query(\"country == 'Canada'\")\n",
    "fig = px.bar(data_canada, x='year', y='pop')\n",
    "fig.show()"
   ]
  },
  {
   "cell_type": "code",
   "execution_count": 161,
   "id": "6945d1b2-0ddc-4196-823b-8c2e05705d53",
   "metadata": {},
   "outputs": [
    {
     "data": {
      "application/vnd.plotly.v1+json": {
       "config": {
        "plotlyServerURL": "https://plot.ly"
       },
       "data": [
        {
         "alignmentgroup": "True",
         "hovertemplate": "country=%{x}<br>pop=%{y}<extra></extra>",
         "legendgroup": "",
         "marker": {
          "color": "#636efa",
          "pattern": {
           "shape": ""
          }
         },
         "name": "",
         "offsetgroup": "",
         "orientation": "v",
         "showlegend": false,
         "textposition": "auto",
         "type": "bar",
         "x": [
          "Albania",
          "Austria",
          "Belgium",
          "Bosnia and Herzegovina",
          "Bulgaria",
          "Croatia",
          "Czech Republic",
          "Denmark",
          "Finland",
          "France",
          "Germany",
          "Greece",
          "Hungary",
          "Ireland",
          "Italy",
          "Netherlands",
          "Norway",
          "Poland",
          "Portugal",
          "Romania",
          "Serbia",
          "Slovak Republic",
          "Slovenia",
          "Spain",
          "Sweden",
          "Switzerland",
          "Turkey",
          "United Kingdom"
         ],
         "xaxis": "x",
         "y": [
          3600523,
          8199783,
          10392226,
          4552198,
          7322858,
          4493312,
          10228744,
          5468120,
          5238460,
          61083916,
          82400996,
          10706290,
          9956108,
          4109086,
          58147733,
          16570613,
          4627926,
          38518241,
          10642836,
          22276056,
          10150265,
          5447502,
          2009245,
          40448191,
          9031088,
          7554661,
          71158647,
          60776238
         ],
         "yaxis": "y"
        }
       ],
       "layout": {
        "autosize": true,
        "barmode": "relative",
        "legend": {
         "tracegroupgap": 0
        },
        "template": {
         "data": {
          "bar": [
           {
            "error_x": {
             "color": "#2a3f5f"
            },
            "error_y": {
             "color": "#2a3f5f"
            },
            "marker": {
             "line": {
              "color": "#E5ECF6",
              "width": 0.5
             },
             "pattern": {
              "fillmode": "overlay",
              "size": 10,
              "solidity": 0.2
             }
            },
            "type": "bar"
           }
          ],
          "barpolar": [
           {
            "marker": {
             "line": {
              "color": "#E5ECF6",
              "width": 0.5
             },
             "pattern": {
              "fillmode": "overlay",
              "size": 10,
              "solidity": 0.2
             }
            },
            "type": "barpolar"
           }
          ],
          "carpet": [
           {
            "aaxis": {
             "endlinecolor": "#2a3f5f",
             "gridcolor": "white",
             "linecolor": "white",
             "minorgridcolor": "white",
             "startlinecolor": "#2a3f5f"
            },
            "baxis": {
             "endlinecolor": "#2a3f5f",
             "gridcolor": "white",
             "linecolor": "white",
             "minorgridcolor": "white",
             "startlinecolor": "#2a3f5f"
            },
            "type": "carpet"
           }
          ],
          "choropleth": [
           {
            "colorbar": {
             "outlinewidth": 0,
             "ticks": ""
            },
            "type": "choropleth"
           }
          ],
          "contour": [
           {
            "colorbar": {
             "outlinewidth": 0,
             "ticks": ""
            },
            "colorscale": [
             [
              0,
              "#0d0887"
             ],
             [
              0.1111111111111111,
              "#46039f"
             ],
             [
              0.2222222222222222,
              "#7201a8"
             ],
             [
              0.3333333333333333,
              "#9c179e"
             ],
             [
              0.4444444444444444,
              "#bd3786"
             ],
             [
              0.5555555555555556,
              "#d8576b"
             ],
             [
              0.6666666666666666,
              "#ed7953"
             ],
             [
              0.7777777777777778,
              "#fb9f3a"
             ],
             [
              0.8888888888888888,
              "#fdca26"
             ],
             [
              1,
              "#f0f921"
             ]
            ],
            "type": "contour"
           }
          ],
          "contourcarpet": [
           {
            "colorbar": {
             "outlinewidth": 0,
             "ticks": ""
            },
            "type": "contourcarpet"
           }
          ],
          "heatmap": [
           {
            "colorbar": {
             "outlinewidth": 0,
             "ticks": ""
            },
            "colorscale": [
             [
              0,
              "#0d0887"
             ],
             [
              0.1111111111111111,
              "#46039f"
             ],
             [
              0.2222222222222222,
              "#7201a8"
             ],
             [
              0.3333333333333333,
              "#9c179e"
             ],
             [
              0.4444444444444444,
              "#bd3786"
             ],
             [
              0.5555555555555556,
              "#d8576b"
             ],
             [
              0.6666666666666666,
              "#ed7953"
             ],
             [
              0.7777777777777778,
              "#fb9f3a"
             ],
             [
              0.8888888888888888,
              "#fdca26"
             ],
             [
              1,
              "#f0f921"
             ]
            ],
            "type": "heatmap"
           }
          ],
          "heatmapgl": [
           {
            "colorbar": {
             "outlinewidth": 0,
             "ticks": ""
            },
            "colorscale": [
             [
              0,
              "#0d0887"
             ],
             [
              0.1111111111111111,
              "#46039f"
             ],
             [
              0.2222222222222222,
              "#7201a8"
             ],
             [
              0.3333333333333333,
              "#9c179e"
             ],
             [
              0.4444444444444444,
              "#bd3786"
             ],
             [
              0.5555555555555556,
              "#d8576b"
             ],
             [
              0.6666666666666666,
              "#ed7953"
             ],
             [
              0.7777777777777778,
              "#fb9f3a"
             ],
             [
              0.8888888888888888,
              "#fdca26"
             ],
             [
              1,
              "#f0f921"
             ]
            ],
            "type": "heatmapgl"
           }
          ],
          "histogram": [
           {
            "marker": {
             "pattern": {
              "fillmode": "overlay",
              "size": 10,
              "solidity": 0.2
             }
            },
            "type": "histogram"
           }
          ],
          "histogram2d": [
           {
            "colorbar": {
             "outlinewidth": 0,
             "ticks": ""
            },
            "colorscale": [
             [
              0,
              "#0d0887"
             ],
             [
              0.1111111111111111,
              "#46039f"
             ],
             [
              0.2222222222222222,
              "#7201a8"
             ],
             [
              0.3333333333333333,
              "#9c179e"
             ],
             [
              0.4444444444444444,
              "#bd3786"
             ],
             [
              0.5555555555555556,
              "#d8576b"
             ],
             [
              0.6666666666666666,
              "#ed7953"
             ],
             [
              0.7777777777777778,
              "#fb9f3a"
             ],
             [
              0.8888888888888888,
              "#fdca26"
             ],
             [
              1,
              "#f0f921"
             ]
            ],
            "type": "histogram2d"
           }
          ],
          "histogram2dcontour": [
           {
            "colorbar": {
             "outlinewidth": 0,
             "ticks": ""
            },
            "colorscale": [
             [
              0,
              "#0d0887"
             ],
             [
              0.1111111111111111,
              "#46039f"
             ],
             [
              0.2222222222222222,
              "#7201a8"
             ],
             [
              0.3333333333333333,
              "#9c179e"
             ],
             [
              0.4444444444444444,
              "#bd3786"
             ],
             [
              0.5555555555555556,
              "#d8576b"
             ],
             [
              0.6666666666666666,
              "#ed7953"
             ],
             [
              0.7777777777777778,
              "#fb9f3a"
             ],
             [
              0.8888888888888888,
              "#fdca26"
             ],
             [
              1,
              "#f0f921"
             ]
            ],
            "type": "histogram2dcontour"
           }
          ],
          "mesh3d": [
           {
            "colorbar": {
             "outlinewidth": 0,
             "ticks": ""
            },
            "type": "mesh3d"
           }
          ],
          "parcoords": [
           {
            "line": {
             "colorbar": {
              "outlinewidth": 0,
              "ticks": ""
             }
            },
            "type": "parcoords"
           }
          ],
          "pie": [
           {
            "automargin": true,
            "type": "pie"
           }
          ],
          "scatter": [
           {
            "marker": {
             "colorbar": {
              "outlinewidth": 0,
              "ticks": ""
             }
            },
            "type": "scatter"
           }
          ],
          "scatter3d": [
           {
            "line": {
             "colorbar": {
              "outlinewidth": 0,
              "ticks": ""
             }
            },
            "marker": {
             "colorbar": {
              "outlinewidth": 0,
              "ticks": ""
             }
            },
            "type": "scatter3d"
           }
          ],
          "scattercarpet": [
           {
            "marker": {
             "colorbar": {
              "outlinewidth": 0,
              "ticks": ""
             }
            },
            "type": "scattercarpet"
           }
          ],
          "scattergeo": [
           {
            "marker": {
             "colorbar": {
              "outlinewidth": 0,
              "ticks": ""
             }
            },
            "type": "scattergeo"
           }
          ],
          "scattergl": [
           {
            "marker": {
             "colorbar": {
              "outlinewidth": 0,
              "ticks": ""
             }
            },
            "type": "scattergl"
           }
          ],
          "scattermapbox": [
           {
            "marker": {
             "colorbar": {
              "outlinewidth": 0,
              "ticks": ""
             }
            },
            "type": "scattermapbox"
           }
          ],
          "scatterpolar": [
           {
            "marker": {
             "colorbar": {
              "outlinewidth": 0,
              "ticks": ""
             }
            },
            "type": "scatterpolar"
           }
          ],
          "scatterpolargl": [
           {
            "marker": {
             "colorbar": {
              "outlinewidth": 0,
              "ticks": ""
             }
            },
            "type": "scatterpolargl"
           }
          ],
          "scatterternary": [
           {
            "marker": {
             "colorbar": {
              "outlinewidth": 0,
              "ticks": ""
             }
            },
            "type": "scatterternary"
           }
          ],
          "surface": [
           {
            "colorbar": {
             "outlinewidth": 0,
             "ticks": ""
            },
            "colorscale": [
             [
              0,
              "#0d0887"
             ],
             [
              0.1111111111111111,
              "#46039f"
             ],
             [
              0.2222222222222222,
              "#7201a8"
             ],
             [
              0.3333333333333333,
              "#9c179e"
             ],
             [
              0.4444444444444444,
              "#bd3786"
             ],
             [
              0.5555555555555556,
              "#d8576b"
             ],
             [
              0.6666666666666666,
              "#ed7953"
             ],
             [
              0.7777777777777778,
              "#fb9f3a"
             ],
             [
              0.8888888888888888,
              "#fdca26"
             ],
             [
              1,
              "#f0f921"
             ]
            ],
            "type": "surface"
           }
          ],
          "table": [
           {
            "cells": {
             "fill": {
              "color": "#EBF0F8"
             },
             "line": {
              "color": "white"
             }
            },
            "header": {
             "fill": {
              "color": "#C8D4E3"
             },
             "line": {
              "color": "white"
             }
            },
            "type": "table"
           }
          ]
         },
         "layout": {
          "annotationdefaults": {
           "arrowcolor": "#2a3f5f",
           "arrowhead": 0,
           "arrowwidth": 1
          },
          "autotypenumbers": "strict",
          "coloraxis": {
           "colorbar": {
            "outlinewidth": 0,
            "ticks": ""
           }
          },
          "colorscale": {
           "diverging": [
            [
             0,
             "#8e0152"
            ],
            [
             0.1,
             "#c51b7d"
            ],
            [
             0.2,
             "#de77ae"
            ],
            [
             0.3,
             "#f1b6da"
            ],
            [
             0.4,
             "#fde0ef"
            ],
            [
             0.5,
             "#f7f7f7"
            ],
            [
             0.6,
             "#e6f5d0"
            ],
            [
             0.7,
             "#b8e186"
            ],
            [
             0.8,
             "#7fbc41"
            ],
            [
             0.9,
             "#4d9221"
            ],
            [
             1,
             "#276419"
            ]
           ],
           "sequential": [
            [
             0,
             "#0d0887"
            ],
            [
             0.1111111111111111,
             "#46039f"
            ],
            [
             0.2222222222222222,
             "#7201a8"
            ],
            [
             0.3333333333333333,
             "#9c179e"
            ],
            [
             0.4444444444444444,
             "#bd3786"
            ],
            [
             0.5555555555555556,
             "#d8576b"
            ],
            [
             0.6666666666666666,
             "#ed7953"
            ],
            [
             0.7777777777777778,
             "#fb9f3a"
            ],
            [
             0.8888888888888888,
             "#fdca26"
            ],
            [
             1,
             "#f0f921"
            ]
           ],
           "sequentialminus": [
            [
             0,
             "#0d0887"
            ],
            [
             0.1111111111111111,
             "#46039f"
            ],
            [
             0.2222222222222222,
             "#7201a8"
            ],
            [
             0.3333333333333333,
             "#9c179e"
            ],
            [
             0.4444444444444444,
             "#bd3786"
            ],
            [
             0.5555555555555556,
             "#d8576b"
            ],
            [
             0.6666666666666666,
             "#ed7953"
            ],
            [
             0.7777777777777778,
             "#fb9f3a"
            ],
            [
             0.8888888888888888,
             "#fdca26"
            ],
            [
             1,
             "#f0f921"
            ]
           ]
          },
          "colorway": [
           "#636efa",
           "#EF553B",
           "#00cc96",
           "#ab63fa",
           "#FFA15A",
           "#19d3f3",
           "#FF6692",
           "#B6E880",
           "#FF97FF",
           "#FECB52"
          ],
          "font": {
           "color": "#2a3f5f"
          },
          "geo": {
           "bgcolor": "white",
           "lakecolor": "white",
           "landcolor": "#E5ECF6",
           "showlakes": true,
           "showland": true,
           "subunitcolor": "white"
          },
          "hoverlabel": {
           "align": "left"
          },
          "hovermode": "closest",
          "mapbox": {
           "style": "light"
          },
          "paper_bgcolor": "white",
          "plot_bgcolor": "#E5ECF6",
          "polar": {
           "angularaxis": {
            "gridcolor": "white",
            "linecolor": "white",
            "ticks": ""
           },
           "bgcolor": "#E5ECF6",
           "radialaxis": {
            "gridcolor": "white",
            "linecolor": "white",
            "ticks": ""
           }
          },
          "scene": {
           "xaxis": {
            "backgroundcolor": "#E5ECF6",
            "gridcolor": "white",
            "gridwidth": 2,
            "linecolor": "white",
            "showbackground": true,
            "ticks": "",
            "zerolinecolor": "white"
           },
           "yaxis": {
            "backgroundcolor": "#E5ECF6",
            "gridcolor": "white",
            "gridwidth": 2,
            "linecolor": "white",
            "showbackground": true,
            "ticks": "",
            "zerolinecolor": "white"
           },
           "zaxis": {
            "backgroundcolor": "#E5ECF6",
            "gridcolor": "white",
            "gridwidth": 2,
            "linecolor": "white",
            "showbackground": true,
            "ticks": "",
            "zerolinecolor": "white"
           }
          },
          "shapedefaults": {
           "line": {
            "color": "#2a3f5f"
           }
          },
          "ternary": {
           "aaxis": {
            "gridcolor": "white",
            "linecolor": "white",
            "ticks": ""
           },
           "baxis": {
            "gridcolor": "white",
            "linecolor": "white",
            "ticks": ""
           },
           "bgcolor": "#E5ECF6",
           "caxis": {
            "gridcolor": "white",
            "linecolor": "white",
            "ticks": ""
           }
          },
          "title": {
           "x": 0.05
          },
          "xaxis": {
           "automargin": true,
           "gridcolor": "white",
           "linecolor": "white",
           "ticks": "",
           "title": {
            "standoff": 15
           },
           "zerolinecolor": "white",
           "zerolinewidth": 2
          },
          "yaxis": {
           "automargin": true,
           "gridcolor": "white",
           "linecolor": "white",
           "ticks": "",
           "title": {
            "standoff": 15
           },
           "zerolinecolor": "white",
           "zerolinewidth": 2
          }
         }
        },
        "title": {
         "text": "Default: various text sizes, positions and angles"
        },
        "xaxis": {
         "anchor": "y",
         "autorange": true,
         "domain": [
          0,
          1
         ],
         "range": [
          -0.5,
          27.5
         ],
         "title": {
          "text": "country"
         },
         "type": "category"
        },
        "yaxis": {
         "anchor": "x",
         "autorange": true,
         "domain": [
          0,
          1
         ],
         "range": [
          0,
          86737890.5263158
         ],
         "title": {
          "text": "pop"
         },
         "type": "linear"
        }
       }
      },
      "image/png": "[encoded data removed]",
      "text/html": [
       "<div>                            <div id=\"cb86d3a8-f953-4536-8869-be866d8522f4\" class=\"plotly-graph-div\" style=\"height:525px; width:100%;\"></div>            <script type=\"text/javascript\">                require([\"plotly\"], function(Plotly) {                    window.PLOTLYENV=window.PLOTLYENV || {};                                    if (document.getElementById(\"cb86d3a8-f953-4536-8869-be866d8522f4\")) {                    Plotly.newPlot(                        \"cb86d3a8-f953-4536-8869-be866d8522f4\",                        [{\"alignmentgroup\":\"True\",\"hovertemplate\":\"country=%{x}<br>pop=%{y}<extra></extra>\",\"legendgroup\":\"\",\"marker\":{\"color\":\"#636efa\",\"pattern\":{\"shape\":\"\"}},\"name\":\"\",\"offsetgroup\":\"\",\"orientation\":\"v\",\"showlegend\":false,\"textposition\":\"auto\",\"type\":\"bar\",\"x\":[\"Albania\",\"Austria\",\"Belgium\",\"Bosnia and Herzegovina\",\"Bulgaria\",\"Croatia\",\"Czech Republic\",\"Denmark\",\"Finland\",\"France\",\"Germany\",\"Greece\",\"Hungary\",\"Ireland\",\"Italy\",\"Netherlands\",\"Norway\",\"Poland\",\"Portugal\",\"Romania\",\"Serbia\",\"Slovak Republic\",\"Slovenia\",\"Spain\",\"Sweden\",\"Switzerland\",\"Turkey\",\"United Kingdom\"],\"xaxis\":\"x\",\"y\":[3600523,8199783,10392226,4552198,7322858,4493312,10228744,5468120,5238460,61083916,82400996,10706290,9956108,4109086,58147733,16570613,4627926,38518241,10642836,22276056,10150265,5447502,2009245,40448191,9031088,7554661,71158647,60776238],\"yaxis\":\"y\"}],                        {\"barmode\":\"relative\",\"legend\":{\"tracegroupgap\":0},\"template\":{\"data\":{\"bar\":[{\"error_x\":{\"color\":\"#2a3f5f\"},\"error_y\":{\"color\":\"#2a3f5f\"},\"marker\":{\"line\":{\"color\":\"#E5ECF6\",\"width\":0.5},\"pattern\":{\"fillmode\":\"overlay\",\"size\":10,\"solidity\":0.2}},\"type\":\"bar\"}],\"barpolar\":[{\"marker\":{\"line\":{\"color\":\"#E5ECF6\",\"width\":0.5},\"pattern\":{\"fillmode\":\"overlay\",\"size\":10,\"solidity\":0.2}},\"type\":\"barpolar\"}],\"carpet\":[{\"aaxis\":{\"endlinecolor\":\"#2a3f5f\",\"gridcolor\":\"white\",\"linecolor\":\"white\",\"minorgridcolor\":\"white\",\"startlinecolor\":\"#2a3f5f\"},\"baxis\":{\"endlinecolor\":\"#2a3f5f\",\"gridcolor\":\"white\",\"linecolor\":\"white\",\"minorgridcolor\":\"white\",\"startlinecolor\":\"#2a3f5f\"},\"type\":\"carpet\"}],\"choropleth\":[{\"colorbar\":{\"outlinewidth\":0,\"ticks\":\"\"},\"type\":\"choropleth\"}],\"contour\":[{\"colorbar\":{\"outlinewidth\":0,\"ticks\":\"\"},\"colorscale\":[[0.0,\"#0d0887\"],[0.1111111111111111,\"#46039f\"],[0.2222222222222222,\"#7201a8\"],[0.3333333333333333,\"#9c179e\"],[0.4444444444444444,\"#bd3786\"],[0.5555555555555556,\"#d8576b\"],[0.6666666666666666,\"#ed7953\"],[0.7777777777777778,\"#fb9f3a\"],[0.8888888888888888,\"#fdca26\"],[1.0,\"#f0f921\"]],\"type\":\"contour\"}],\"contourcarpet\":[{\"colorbar\":{\"outlinewidth\":0,\"ticks\":\"\"},\"type\":\"contourcarpet\"}],\"heatmap\":[{\"colorbar\":{\"outlinewidth\":0,\"ticks\":\"\"},\"colorscale\":[[0.0,\"#0d0887\"],[0.1111111111111111,\"#46039f\"],[0.2222222222222222,\"#7201a8\"],[0.3333333333333333,\"#9c179e\"],[0.4444444444444444,\"#bd3786\"],[0.5555555555555556,\"#d8576b\"],[0.6666666666666666,\"#ed7953\"],[0.7777777777777778,\"#fb9f3a\"],[0.8888888888888888,\"#fdca26\"],[1.0,\"#f0f921\"]],\"type\":\"heatmap\"}],\"heatmapgl\":[{\"colorbar\":{\"outlinewidth\":0,\"ticks\":\"\"},\"colorscale\":[[0.0,\"#0d0887\"],[0.1111111111111111,\"#46039f\"],[0.2222222222222222,\"#7201a8\"],[0.3333333333333333,\"#9c179e\"],[0.4444444444444444,\"#bd3786\"],[0.5555555555555556,\"#d8576b\"],[0.6666666666666666,\"#ed7953\"],[0.7777777777777778,\"#fb9f3a\"],[0.8888888888888888,\"#fdca26\"],[1.0,\"#f0f921\"]],\"type\":\"heatmapgl\"}],\"histogram\":[{\"marker\":{\"pattern\":{\"fillmode\":\"overlay\",\"size\":10,\"solidity\":0.2}},\"type\":\"histogram\"}],\"histogram2d\":[{\"colorbar\":{\"outlinewidth\":0,\"ticks\":\"\"},\"colorscale\":[[0.0,\"#0d0887\"],[0.1111111111111111,\"#46039f\"],[0.2222222222222222,\"#7201a8\"],[0.3333333333333333,\"#9c179e\"],[0.4444444444444444,\"#bd3786\"],[0.5555555555555556,\"#d8576b\"],[0.6666666666666666,\"#ed7953\"],[0.7777777777777778,\"#fb9f3a\"],[0.8888888888888888,\"#fdca26\"],[1.0,\"#f0f921\"]],\"type\":\"histogram2d\"}],\"histogram2dcontour\":[{\"colorbar\":{\"outlinewidth\":0,\"ticks\":\"\"},\"colorscale\":[[0.0,\"#0d0887\"],[0.1111111111111111,\"#46039f\"],[0.2222222222222222,\"#7201a8\"],[0.3333333333333333,\"#9c179e\"],[0.4444444444444444,\"#bd3786\"],[0.5555555555555556,\"#d8576b\"],[0.6666666666666666,\"#ed7953\"],[0.7777777777777778,\"#fb9f3a\"],[0.8888888888888888,\"#fdca26\"],[1.0,\"#f0f921\"]],\"type\":\"histogram2dcontour\"}],\"mesh3d\":[{\"colorbar\":{\"outlinewidth\":0,\"ticks\":\"\"},\"type\":\"mesh3d\"}],\"parcoords\":[{\"line\":{\"colorbar\":{\"outlinewidth\":0,\"ticks\":\"\"}},\"type\":\"parcoords\"}],\"pie\":[{\"automargin\":true,\"type\":\"pie\"}],\"scatter\":[{\"marker\":{\"colorbar\":{\"outlinewidth\":0,\"ticks\":\"\"}},\"type\":\"scatter\"}],\"scatter3d\":[{\"line\":{\"colorbar\":{\"outlinewidth\":0,\"ticks\":\"\"}},\"marker\":{\"colorbar\":{\"outlinewidth\":0,\"ticks\":\"\"}},\"type\":\"scatter3d\"}],\"scattercarpet\":[{\"marker\":{\"colorbar\":{\"outlinewidth\":0,\"ticks\":\"\"}},\"type\":\"scattercarpet\"}],\"scattergeo\":[{\"marker\":{\"colorbar\":{\"outlinewidth\":0,\"ticks\":\"\"}},\"type\":\"scattergeo\"}],\"scattergl\":[{\"marker\":{\"colorbar\":{\"outlinewidth\":0,\"ticks\":\"\"}},\"type\":\"scattergl\"}],\"scattermapbox\":[{\"marker\":{\"colorbar\":{\"outlinewidth\":0,\"ticks\":\"\"}},\"type\":\"scattermapbox\"}],\"scatterpolar\":[{\"marker\":{\"colorbar\":{\"outlinewidth\":0,\"ticks\":\"\"}},\"type\":\"scatterpolar\"}],\"scatterpolargl\":[{\"marker\":{\"colorbar\":{\"outlinewidth\":0,\"ticks\":\"\"}},\"type\":\"scatterpolargl\"}],\"scatterternary\":[{\"marker\":{\"colorbar\":{\"outlinewidth\":0,\"ticks\":\"\"}},\"type\":\"scatterternary\"}],\"surface\":[{\"colorbar\":{\"outlinewidth\":0,\"ticks\":\"\"},\"colorscale\":[[0.0,\"#0d0887\"],[0.1111111111111111,\"#46039f\"],[0.2222222222222222,\"#7201a8\"],[0.3333333333333333,\"#9c179e\"],[0.4444444444444444,\"#bd3786\"],[0.5555555555555556,\"#d8576b\"],[0.6666666666666666,\"#ed7953\"],[0.7777777777777778,\"#fb9f3a\"],[0.8888888888888888,\"#fdca26\"],[1.0,\"#f0f921\"]],\"type\":\"surface\"}],\"table\":[{\"cells\":{\"fill\":{\"color\":\"#EBF0F8\"},\"line\":{\"color\":\"white\"}},\"header\":{\"fill\":{\"color\":\"#C8D4E3\"},\"line\":{\"color\":\"white\"}},\"type\":\"table\"}]},\"layout\":{\"annotationdefaults\":{\"arrowcolor\":\"#2a3f5f\",\"arrowhead\":0,\"arrowwidth\":1},\"autotypenumbers\":\"strict\",\"coloraxis\":{\"colorbar\":{\"outlinewidth\":0,\"ticks\":\"\"}},\"colorscale\":{\"diverging\":[[0,\"#8e0152\"],[0.1,\"#c51b7d\"],[0.2,\"#de77ae\"],[0.3,\"#f1b6da\"],[0.4,\"#fde0ef\"],[0.5,\"#f7f7f7\"],[0.6,\"#e6f5d0\"],[0.7,\"#b8e186\"],[0.8,\"#7fbc41\"],[0.9,\"#4d9221\"],[1,\"#276419\"]],\"sequential\":[[0.0,\"#0d0887\"],[0.1111111111111111,\"#46039f\"],[0.2222222222222222,\"#7201a8\"],[0.3333333333333333,\"#9c179e\"],[0.4444444444444444,\"#bd3786\"],[0.5555555555555556,\"#d8576b\"],[0.6666666666666666,\"#ed7953\"],[0.7777777777777778,\"#fb9f3a\"],[0.8888888888888888,\"#fdca26\"],[1.0,\"#f0f921\"]],\"sequentialminus\":[[0.0,\"#0d0887\"],[0.1111111111111111,\"#46039f\"],[0.2222222222222222,\"#7201a8\"],[0.3333333333333333,\"#9c179e\"],[0.4444444444444444,\"#bd3786\"],[0.5555555555555556,\"#d8576b\"],[0.6666666666666666,\"#ed7953\"],[0.7777777777777778,\"#fb9f3a\"],[0.8888888888888888,\"#fdca26\"],[1.0,\"#f0f921\"]]},\"colorway\":[\"#636efa\",\"#EF553B\",\"#00cc96\",\"#ab63fa\",\"#FFA15A\",\"#19d3f3\",\"#FF6692\",\"#B6E880\",\"#FF97FF\",\"#FECB52\"],\"font\":{\"color\":\"#2a3f5f\"},\"geo\":{\"bgcolor\":\"white\",\"lakecolor\":\"white\",\"landcolor\":\"#E5ECF6\",\"showlakes\":true,\"showland\":true,\"subunitcolor\":\"white\"},\"hoverlabel\":{\"align\":\"left\"},\"hovermode\":\"closest\",\"mapbox\":{\"style\":\"light\"},\"paper_bgcolor\":\"white\",\"plot_bgcolor\":\"#E5ECF6\",\"polar\":{\"angularaxis\":{\"gridcolor\":\"white\",\"linecolor\":\"white\",\"ticks\":\"\"},\"bgcolor\":\"#E5ECF6\",\"radialaxis\":{\"gridcolor\":\"white\",\"linecolor\":\"white\",\"ticks\":\"\"}},\"scene\":{\"xaxis\":{\"backgroundcolor\":\"#E5ECF6\",\"gridcolor\":\"white\",\"gridwidth\":2,\"linecolor\":\"white\",\"showbackground\":true,\"ticks\":\"\",\"zerolinecolor\":\"white\"},\"yaxis\":{\"backgroundcolor\":\"#E5ECF6\",\"gridcolor\":\"white\",\"gridwidth\":2,\"linecolor\":\"white\",\"showbackground\":true,\"ticks\":\"\",\"zerolinecolor\":\"white\"},\"zaxis\":{\"backgroundcolor\":\"#E5ECF6\",\"gridcolor\":\"white\",\"gridwidth\":2,\"linecolor\":\"white\",\"showbackground\":true,\"ticks\":\"\",\"zerolinecolor\":\"white\"}},\"shapedefaults\":{\"line\":{\"color\":\"#2a3f5f\"}},\"ternary\":{\"aaxis\":{\"gridcolor\":\"white\",\"linecolor\":\"white\",\"ticks\":\"\"},\"baxis\":{\"gridcolor\":\"white\",\"linecolor\":\"white\",\"ticks\":\"\"},\"bgcolor\":\"#E5ECF6\",\"caxis\":{\"gridcolor\":\"white\",\"linecolor\":\"white\",\"ticks\":\"\"}},\"title\":{\"x\":0.05},\"xaxis\":{\"automargin\":true,\"gridcolor\":\"white\",\"linecolor\":\"white\",\"ticks\":\"\",\"title\":{\"standoff\":15},\"zerolinecolor\":\"white\",\"zerolinewidth\":2},\"yaxis\":{\"automargin\":true,\"gridcolor\":\"white\",\"linecolor\":\"white\",\"ticks\":\"\",\"title\":{\"standoff\":15},\"zerolinecolor\":\"white\",\"zerolinewidth\":2}}},\"title\":{\"text\":\"Default: various text sizes, positions and angles\"},\"xaxis\":{\"anchor\":\"y\",\"domain\":[0.0,1.0],\"title\":{\"text\":\"country\"}},\"yaxis\":{\"anchor\":\"x\",\"domain\":[0.0,1.0],\"title\":{\"text\":\"pop\"}}},                        {\"responsive\": true}                    ).then(function(){\n",
       "                            \n",
       "var gd = document.getElementById('cb86d3a8-f953-4536-8869-be866d8522f4');\n",
       "var x = new MutationObserver(function (mutations, observer) {{\n",
       "        var display = window.getComputedStyle(gd).display;\n",
       "        if (!display || display === 'none') {{\n",
       "            console.log([gd, 'removed!']);\n",
       "            Plotly.purge(gd);\n",
       "            observer.disconnect();\n",
       "        }}\n",
       "}});\n",
       "\n",
       "// Listen for the removal of the full notebook cells\n",
       "var notebookContainer = gd.closest('#notebook-container');\n",
       "if (notebookContainer) {{\n",
       "    x.observe(notebookContainer, {childList: true});\n",
       "}}\n",
       "\n",
       "// Listen for the clearing of the current output cell\n",
       "var outputEl = gd.closest('.output');\n",
       "if (outputEl) {{\n",
       "    x.observe(outputEl, {childList: true});\n",
       "}}\n",
       "\n",
       "                        })                };                });            </script>        </div>"
      ]
     },
     "metadata": {},
     "output_type": "display_data"
    }
   ],
   "source": [
    "import plotly.express as px\n",
    "\n",
    "df = px.data.gapminder().query(\"continent == 'Europe' and year == 2007 and pop > 2.e6\")\n",
    "fig = px.bar(df, y='pop', x='country', \n",
    "            title=\"Default: various text sizes, positions and angles\")\n",
    "fig.show()"
   ]
  },
  {
   "cell_type": "code",
   "execution_count": null,
   "id": "d8357500-803d-429d-8718-e1b46db9745c",
   "metadata": {},
   "outputs": [],
   "source": []
  },
  {
   "cell_type": "code",
   "execution_count": 159,
   "id": "5c136687-0e10-4c62-a6b7-c0a9e18f49ce",
   "metadata": {},
   "outputs": [
    {
     "data": {
      "text/html": [
       "<div>\n",
       "<style scoped>\n",
       "    .dataframe tbody tr th:only-of-type {\n",
       "        vertical-align: middle;\n",
       "    }\n",
       "\n",
       "    .dataframe tbody tr th {\n",
       "        vertical-align: top;\n",
       "    }\n",
       "\n",
       "    .dataframe thead th {\n",
       "        text-align: right;\n",
       "    }\n",
       "</style>\n",
       "<table border=\"1\" class=\"dataframe\">\n",
       "  <thead>\n",
       "    <tr style=\"text-align: right;\">\n",
       "      <th></th>\n",
       "      <th>country</th>\n",
       "      <th>continent</th>\n",
       "      <th>year</th>\n",
       "      <th>lifeExp</th>\n",
       "      <th>pop</th>\n",
       "      <th>gdpPercap</th>\n",
       "      <th>iso_alpha</th>\n",
       "      <th>iso_num</th>\n",
       "    </tr>\n",
       "  </thead>\n",
       "  <tbody>\n",
       "    <tr>\n",
       "      <th>240</th>\n",
       "      <td>Canada</td>\n",
       "      <td>Americas</td>\n",
       "      <td>1952</td>\n",
       "      <td>68.750</td>\n",
       "      <td>14785584</td>\n",
       "      <td>11367.16112</td>\n",
       "      <td>CAN</td>\n",
       "      <td>124</td>\n",
       "    </tr>\n",
       "    <tr>\n",
       "      <th>241</th>\n",
       "      <td>Canada</td>\n",
       "      <td>Americas</td>\n",
       "      <td>1957</td>\n",
       "      <td>69.960</td>\n",
       "      <td>17010154</td>\n",
       "      <td>12489.95006</td>\n",
       "      <td>CAN</td>\n",
       "      <td>124</td>\n",
       "    </tr>\n",
       "    <tr>\n",
       "      <th>242</th>\n",
       "      <td>Canada</td>\n",
       "      <td>Americas</td>\n",
       "      <td>1962</td>\n",
       "      <td>71.300</td>\n",
       "      <td>18985849</td>\n",
       "      <td>13462.48555</td>\n",
       "      <td>CAN</td>\n",
       "      <td>124</td>\n",
       "    </tr>\n",
       "    <tr>\n",
       "      <th>243</th>\n",
       "      <td>Canada</td>\n",
       "      <td>Americas</td>\n",
       "      <td>1967</td>\n",
       "      <td>72.130</td>\n",
       "      <td>20819767</td>\n",
       "      <td>16076.58803</td>\n",
       "      <td>CAN</td>\n",
       "      <td>124</td>\n",
       "    </tr>\n",
       "    <tr>\n",
       "      <th>244</th>\n",
       "      <td>Canada</td>\n",
       "      <td>Americas</td>\n",
       "      <td>1972</td>\n",
       "      <td>72.880</td>\n",
       "      <td>22284500</td>\n",
       "      <td>18970.57086</td>\n",
       "      <td>CAN</td>\n",
       "      <td>124</td>\n",
       "    </tr>\n",
       "    <tr>\n",
       "      <th>245</th>\n",
       "      <td>Canada</td>\n",
       "      <td>Americas</td>\n",
       "      <td>1977</td>\n",
       "      <td>74.210</td>\n",
       "      <td>23796400</td>\n",
       "      <td>22090.88306</td>\n",
       "      <td>CAN</td>\n",
       "      <td>124</td>\n",
       "    </tr>\n",
       "    <tr>\n",
       "      <th>246</th>\n",
       "      <td>Canada</td>\n",
       "      <td>Americas</td>\n",
       "      <td>1982</td>\n",
       "      <td>75.760</td>\n",
       "      <td>25201900</td>\n",
       "      <td>22898.79214</td>\n",
       "      <td>CAN</td>\n",
       "      <td>124</td>\n",
       "    </tr>\n",
       "    <tr>\n",
       "      <th>247</th>\n",
       "      <td>Canada</td>\n",
       "      <td>Americas</td>\n",
       "      <td>1987</td>\n",
       "      <td>76.860</td>\n",
       "      <td>26549700</td>\n",
       "      <td>26626.51503</td>\n",
       "      <td>CAN</td>\n",
       "      <td>124</td>\n",
       "    </tr>\n",
       "    <tr>\n",
       "      <th>248</th>\n",
       "      <td>Canada</td>\n",
       "      <td>Americas</td>\n",
       "      <td>1992</td>\n",
       "      <td>77.950</td>\n",
       "      <td>28523502</td>\n",
       "      <td>26342.88426</td>\n",
       "      <td>CAN</td>\n",
       "      <td>124</td>\n",
       "    </tr>\n",
       "    <tr>\n",
       "      <th>249</th>\n",
       "      <td>Canada</td>\n",
       "      <td>Americas</td>\n",
       "      <td>1997</td>\n",
       "      <td>78.610</td>\n",
       "      <td>30305843</td>\n",
       "      <td>28954.92589</td>\n",
       "      <td>CAN</td>\n",
       "      <td>124</td>\n",
       "    </tr>\n",
       "    <tr>\n",
       "      <th>250</th>\n",
       "      <td>Canada</td>\n",
       "      <td>Americas</td>\n",
       "      <td>2002</td>\n",
       "      <td>79.770</td>\n",
       "      <td>31902268</td>\n",
       "      <td>33328.96507</td>\n",
       "      <td>CAN</td>\n",
       "      <td>124</td>\n",
       "    </tr>\n",
       "    <tr>\n",
       "      <th>251</th>\n",
       "      <td>Canada</td>\n",
       "      <td>Americas</td>\n",
       "      <td>2007</td>\n",
       "      <td>80.653</td>\n",
       "      <td>33390141</td>\n",
       "      <td>36319.23501</td>\n",
       "      <td>CAN</td>\n",
       "      <td>124</td>\n",
       "    </tr>\n",
       "  </tbody>\n",
       "</table>\n",
       "</div>"
      ],
      "text/plain": [
       "    country continent  year  lifeExp       pop    gdpPercap iso_alpha  iso_num\n",
       "240  Canada  Americas  1952   68.750  14785584  11367.16112       CAN      124\n",
       "241  Canada  Americas  1957   69.960  17010154  12489.95006       CAN      124\n",
       "242  Canada  Americas  1962   71.300  18985849  13462.48555       CAN      124\n",
       "243  Canada  Americas  1967   72.130  20819767  16076.58803       CAN      124\n",
       "244  Canada  Americas  1972   72.880  22284500  18970.57086       CAN      124\n",
       "245  Canada  Americas  1977   74.210  23796400  22090.88306       CAN      124\n",
       "246  Canada  Americas  1982   75.760  25201900  22898.79214       CAN      124\n",
       "247  Canada  Americas  1987   76.860  26549700  26626.51503       CAN      124\n",
       "248  Canada  Americas  1992   77.950  28523502  26342.88426       CAN      124\n",
       "249  Canada  Americas  1997   78.610  30305843  28954.92589       CAN      124\n",
       "250  Canada  Americas  2002   79.770  31902268  33328.96507       CAN      124\n",
       "251  Canada  Americas  2007   80.653  33390141  36319.23501       CAN      124"
      ]
     },
     "execution_count": 159,
     "metadata": {},
     "output_type": "execute_result"
    }
   ],
   "source": [
    "data_canada"
   ]
  },
  {
   "cell_type": "code",
   "execution_count": null,
   "id": "ddadd580-2336-4a55-8983-62f7ab424a33",
   "metadata": {},
   "outputs": [],
   "source": []
  },
  {
   "cell_type": "markdown",
   "id": "71a3b61a-2714-4e1f-b899-9f92a15dbd15",
   "metadata": {},
   "source": [
    "per_bin_dim"
   ]
  },
  {
   "cell_type": "code",
   "execution_count": 138,
   "id": "7e818154-09dc-4647-9707-6edbc75324e8",
   "metadata": {},
   "outputs": [
    {
     "name": "stdout",
     "output_type": "stream",
     "text": [
      "ins_type:unif, bin:10, dim:2\n",
      "Processing 25.0% Done\n",
      "Processing 50.0% Done\n",
      "Processing 75.0% Done\n",
      "ins_type:rare, bin:10, dim:2\n",
      "Processing 25.0% Done\n",
      "Processing 50.0% Done\n",
      "Processing 75.0% Done\n",
      "ins_type:correlatrd1, bin:10, dim:2\n",
      "Processing 25.0% Done\n",
      "Processing 50.0% Done\n",
      "Processing 75.0% Done\n",
      "ins_type:correlatrd2, bin:10, dim:2\n",
      "Processing 25.0% Done\n",
      "Processing 50.0% Done\n",
      "Processing 75.0% Done\n",
      "ins_type:similar, bin:10, dim:2\n",
      "Processing 25.0% Done\n",
      "Processing 50.0% Done\n",
      "Processing 75.0% Done\n",
      "[['unif', '10_2', 'max', 6944, 0.0], ['unif', '10_2', 'min', 6944, 0.0], ['rare', '10_2', 'max', 4639, 0.0], ['rare', '10_2', 'min', 4639, 0.0], ['correlatrd1', '10_2', 'max', 6588, 0.0], ['correlatrd1', '10_2', 'min', 6588, 0.0], ['correlatrd2', '10_2', 'max', 6065, 0.0], ['correlatrd2', '10_2', 'min', 6065, 0.0], ['similar', '10_2', 'max', 5174, 0.0], ['similar', '10_2', 'min', 5172, 0.46]]\n",
      "      instance   B_D value_type  unassigned  alpha\n",
      "0         unif  10_2        max        6944   0.00\n",
      "1         unif  10_2        min        6944   0.00\n",
      "2         rare  10_2        max        4639   0.00\n",
      "3         rare  10_2        min        4639   0.00\n",
      "4  correlatrd1  10_2        max        6588   0.00\n",
      "5  correlatrd1  10_2        min        6588   0.00\n",
      "6  correlatrd2  10_2        max        6065   0.00\n",
      "7  correlatrd2  10_2        min        6065   0.00\n",
      "8      similar  10_2        max        5174   0.00\n",
      "9      similar  10_2        min        5172   0.46\n",
      "ploted graph\n",
      "ins_type:unif, bin:10, dim:5\n",
      "Processing 25.0% Done\n",
      "Processing 50.0% Done\n",
      "Processing 75.0% Done\n",
      "ins_type:rare, bin:10, dim:5\n",
      "Processing 25.0% Done\n",
      "Processing 50.0% Done\n",
      "Processing 75.0% Done\n",
      "ins_type:correlatrd1, bin:10, dim:5\n",
      "Processing 25.0% Done\n",
      "Processing 50.0% Done\n",
      "Processing 75.0% Done\n",
      "ins_type:correlatrd2, bin:10, dim:5\n",
      "Processing 25.0% Done\n",
      "Processing 50.0% Done\n",
      "Processing 75.0% Done\n",
      "ins_type:similar, bin:10, dim:5\n",
      "Processing 25.0% Done\n",
      "Processing 50.0% Done\n",
      "Processing 75.0% Done\n",
      "[['unif', '10_5', 'max', 16588, 0.0], ['unif', '10_5', 'min', 16588, 0.0], ['rare', '10_5', 'max', 16263, 0.0], ['rare', '10_5', 'min', 16263, 0.0], ['correlatrd1', '10_5', 'max', 11629, 0.0], ['correlatrd1', '10_5', 'min', 11629, 0.0], ['correlatrd2', '10_5', 'max', 15490, 0.0], ['correlatrd2', '10_5', 'min', 15490, 0.0], ['similar', '10_5', 'max', 18623, 0.0], ['similar', '10_5', 'min', 18623, 0.0]]\n",
      "      instance   B_D value_type  unassigned  alpha\n",
      "0         unif  10_5        max       16588    0.0\n",
      "1         unif  10_5        min       16588    0.0\n",
      "2         rare  10_5        max       16263    0.0\n",
      "3         rare  10_5        min       16263    0.0\n",
      "4  correlatrd1  10_5        max       11629    0.0\n",
      "5  correlatrd1  10_5        min       11629    0.0\n",
      "6  correlatrd2  10_5        max       15490    0.0\n",
      "7  correlatrd2  10_5        min       15490    0.0\n",
      "8      similar  10_5        max       18623    0.0\n",
      "9      similar  10_5        min       18623    0.0\n",
      "ploted graph\n",
      "ins_type:unif, bin:10, dim:10\n",
      "Processing 25.0% Done\n",
      "Processing 50.0% Done\n",
      "Processing 75.0% Done\n",
      "ins_type:rare, bin:10, dim:10\n",
      "Processing 25.0% Done\n",
      "Processing 50.0% Done\n",
      "Processing 75.0% Done\n",
      "ins_type:correlatrd1, bin:10, dim:10\n",
      "Processing 25.0% Done\n",
      "Processing 50.0% Done\n",
      "Processing 75.0% Done\n",
      "ins_type:correlatrd2, bin:10, dim:10\n",
      "Processing 25.0% Done\n",
      "Processing 50.0% Done\n",
      "Processing 75.0% Done\n",
      "ins_type:similar, bin:10, dim:10\n",
      "Processing 25.0% Done\n",
      "Processing 50.0% Done\n",
      "Processing 75.0% Done\n",
      "[['unif', '10_10', 'max', 44212, 0.0], ['unif', '10_10', 'min', 44212, 0.0], ['rare', '10_10', 'max', 38100, 0.0], ['rare', '10_10', 'min', 38100, 0.0], ['correlatrd1', '10_10', 'max', 39174, 0.0], ['correlatrd1', '10_10', 'min', 39114, 0.34], ['correlatrd2', '10_10', 'max', 34864, 0.0], ['correlatrd2', '10_10', 'min', 34864, 0.0], ['similar', '10_10', 'max', 39683, 0.0], ['similar', '10_10', 'min', 39683, 0.0]]\n",
      "      instance    B_D value_type  unassigned  alpha\n",
      "0         unif  10_10        max       44212   0.00\n",
      "1         unif  10_10        min       44212   0.00\n",
      "2         rare  10_10        max       38100   0.00\n",
      "3         rare  10_10        min       38100   0.00\n",
      "4  correlatrd1  10_10        max       39174   0.00\n",
      "5  correlatrd1  10_10        min       39114   0.34\n",
      "6  correlatrd2  10_10        max       34864   0.00\n",
      "7  correlatrd2  10_10        min       34864   0.00\n",
      "8      similar  10_10        max       39683   0.00\n",
      "9      similar  10_10        min       39683   0.00\n",
      "ploted graph\n",
      "ins_type:unif, bin:30, dim:2\n",
      "Processing 25.0% Done\n",
      "Processing 50.0% Done\n",
      "Processing 75.0% Done\n",
      "ins_type:rare, bin:30, dim:2\n",
      "Processing 25.0% Done\n",
      "Processing 50.0% Done\n",
      "Processing 75.0% Done\n",
      "ins_type:correlatrd1, bin:30, dim:2\n",
      "Processing 25.0% Done\n",
      "Processing 50.0% Done\n",
      "Processing 75.0% Done\n",
      "ins_type:correlatrd2, bin:30, dim:2\n",
      "Processing 25.0% Done\n",
      "Processing 50.0% Done\n",
      "Processing 75.0% Done\n",
      "ins_type:similar, bin:30, dim:2\n",
      "Processing 25.0% Done\n",
      "Processing 50.0% Done\n",
      "Processing 75.0% Done\n",
      "[['unif', '30_2', 'max', 20384, 0.11], ['unif', '30_2', 'min', 20295, 0.3], ['rare', '30_2', 'max', 11314, 1.3900000000000001], ['rare', '30_2', 'min', 11225, 0.0], ['correlatrd1', '30_2', 'max', 25092, 0.0], ['correlatrd1', '30_2', 'min', 24961, 1.1500000000000001], ['correlatrd2', '30_2', 'max', 20357, 0.0], ['correlatrd2', '30_2', 'min', 20357, 0.0], ['similar', '30_2', 'max', 16863, 0.0], ['similar', '30_2', 'min', 16586, 0.93]]\n",
      "      instance   B_D value_type  unassigned  alpha\n",
      "0         unif  30_2        max       20384   0.11\n",
      "1         unif  30_2        min       20295   0.30\n",
      "2         rare  30_2        max       11314   1.39\n",
      "3         rare  30_2        min       11225   0.00\n",
      "4  correlatrd1  30_2        max       25092   0.00\n",
      "5  correlatrd1  30_2        min       24961   1.15\n",
      "6  correlatrd2  30_2        max       20357   0.00\n",
      "7  correlatrd2  30_2        min       20357   0.00\n",
      "8      similar  30_2        max       16863   0.00\n",
      "9      similar  30_2        min       16586   0.93\n",
      "ploted graph\n",
      "ins_type:unif, bin:30, dim:5\n",
      "Processing 25.0% Done\n",
      "Processing 50.0% Done\n",
      "Processing 75.0% Done\n",
      "ins_type:rare, bin:30, dim:5\n",
      "Processing 25.0% Done\n",
      "Processing 50.0% Done\n",
      "Processing 75.0% Done\n",
      "ins_type:correlatrd1, bin:30, dim:5\n",
      "Processing 25.0% Done\n",
      "Processing 50.0% Done\n",
      "Processing 75.0% Done\n",
      "ins_type:correlatrd2, bin:30, dim:5\n",
      "Processing 25.0% Done\n",
      "Processing 50.0% Done\n",
      "Processing 75.0% Done\n",
      "ins_type:similar, bin:30, dim:5\n",
      "Processing 25.0% Done\n",
      "Processing 50.0% Done\n",
      "Processing 75.0% Done\n",
      "[['unif', '30_5', 'max', 55799, 1.74], ['unif', '30_5', 'min', 55764, 0.0], ['rare', '30_5', 'max', 47861, 0.0], ['rare', '30_5', 'min', 47861, 0.0], ['correlatrd1', '30_5', 'max', 49155, 0.07], ['correlatrd1', '30_5', 'min', 48886, 1.28], ['correlatrd2', '30_5', 'max', 62245, 1.72], ['correlatrd2', '30_5', 'min', 62148, 0.0], ['similar', '30_5', 'max', 54503, 1.17], ['similar', '30_5', 'min', 54500, 0.0]]\n",
      "      instance   B_D value_type  unassigned  alpha\n",
      "0         unif  30_5        max       55799   1.74\n",
      "1         unif  30_5        min       55764   0.00\n",
      "2         rare  30_5        max       47861   0.00\n",
      "3         rare  30_5        min       47861   0.00\n",
      "4  correlatrd1  30_5        max       49155   0.07\n",
      "5  correlatrd1  30_5        min       48886   1.28\n",
      "6  correlatrd2  30_5        max       62245   1.72\n",
      "7  correlatrd2  30_5        min       62148   0.00\n",
      "8      similar  30_5        max       54503   1.17\n",
      "9      similar  30_5        min       54500   0.00\n",
      "ploted graph\n",
      "ins_type:unif, bin:30, dim:10\n",
      "Processing 25.0% Done\n",
      "Processing 50.0% Done\n",
      "Processing 75.0% Done\n",
      "ins_type:rare, bin:30, dim:10\n",
      "Processing 25.0% Done\n",
      "Processing 50.0% Done\n",
      "Processing 75.0% Done\n",
      "ins_type:correlatrd1, bin:30, dim:10\n",
      "Processing 25.0% Done\n",
      "Processing 50.0% Done\n",
      "Processing 75.0% Done\n",
      "ins_type:correlatrd2, bin:30, dim:10\n",
      "Processing 25.0% Done\n",
      "Processing 50.0% Done\n",
      "Processing 75.0% Done\n",
      "ins_type:similar, bin:30, dim:10\n",
      "Processing 25.0% Done\n",
      "Processing 50.0% Done\n",
      "Processing 75.0% Done\n",
      "[['unif', '30_10', 'max', 121965, 0.0], ['unif', '30_10', 'min', 121965, 0.0], ['rare', '30_10', 'max', 111864, 0.0], ['rare', '30_10', 'min', 111864, 0.0], ['correlatrd1', '30_10', 'max', 117538, 1.82], ['correlatrd1', '30_10', 'min', 117319, 0.08], ['correlatrd2', '30_10', 'max', 109762, 0.0], ['correlatrd2', '30_10', 'min', 109756, 0.27], ['similar', '30_10', 'max', 118303, 0.0], ['similar', '30_10', 'min', 118251, 0.36]]\n",
      "      instance    B_D value_type  unassigned  alpha\n",
      "0         unif  30_10        max      121965   0.00\n",
      "1         unif  30_10        min      121965   0.00\n",
      "2         rare  30_10        max      111864   0.00\n",
      "3         rare  30_10        min      111864   0.00\n",
      "4  correlatrd1  30_10        max      117538   1.82\n",
      "5  correlatrd1  30_10        min      117319   0.08\n",
      "6  correlatrd2  30_10        max      109762   0.00\n",
      "7  correlatrd2  30_10        min      109756   0.27\n",
      "8      similar  30_10        max      118303   0.00\n",
      "9      similar  30_10        min      118251   0.36\n",
      "ploted graph\n",
      "ins_type:unif, bin:100, dim:2\n",
      "Processing 25.0% Done\n",
      "Processing 50.0% Done\n",
      "Processing 75.0% Done\n",
      "ins_type:rare, bin:100, dim:2\n",
      "Processing 25.0% Done\n",
      "Processing 50.0% Done\n",
      "Processing 75.0% Done\n",
      "ins_type:correlatrd1, bin:100, dim:2\n",
      "Processing 25.0% Done\n",
      "Processing 50.0% Done\n",
      "Processing 75.0% Done\n",
      "ins_type:correlatrd2, bin:100, dim:2\n",
      "Processing 25.0% Done\n",
      "Processing 50.0% Done\n",
      "Processing 75.0% Done\n",
      "ins_type:similar, bin:100, dim:2\n",
      "Processing 25.0% Done\n",
      "Processing 50.0% Done\n",
      "Processing 75.0% Done\n",
      "[['unif', '100_2', 'max', 70235, 0.0], ['unif', '100_2', 'min', 69813, 0.49], ['rare', '100_2', 'max', 46663, 1.54], ['rare', '100_2', 'min', 46224, 0.2], ['correlatrd1', '100_2', 'max', 74690, 0.0], ['correlatrd1', '100_2', 'min', 73882, 1.5], ['correlatrd2', '100_2', 'max', 77995, 1.71], ['correlatrd2', '100_2', 'min', 77980, 0.0], ['similar', '100_2', 'max', 62620, 0.0], ['similar', '100_2', 'min', 62080, 1.19]]\n",
      "      instance    B_D value_type  unassigned  alpha\n",
      "0         unif  100_2        max       70235   0.00\n",
      "1         unif  100_2        min       69813   0.49\n",
      "2         rare  100_2        max       46663   1.54\n",
      "3         rare  100_2        min       46224   0.20\n",
      "4  correlatrd1  100_2        max       74690   0.00\n",
      "5  correlatrd1  100_2        min       73882   1.50\n",
      "6  correlatrd2  100_2        max       77995   1.71\n",
      "7  correlatrd2  100_2        min       77980   0.00\n",
      "8      similar  100_2        max       62620   0.00\n",
      "9      similar  100_2        min       62080   1.19\n",
      "ploted graph\n",
      "ins_type:unif, bin:100, dim:5\n",
      "Processing 25.0% Done\n",
      "Processing 50.0% Done\n",
      "Processing 75.0% Done\n",
      "ins_type:rare, bin:100, dim:5\n",
      "Processing 25.0% Done\n",
      "Processing 50.0% Done\n",
      "Processing 75.0% Done\n",
      "ins_type:correlatrd1, bin:100, dim:5\n",
      "Processing 25.0% Done\n",
      "Processing 50.0% Done\n",
      "Processing 75.0% Done\n",
      "ins_type:correlatrd2, bin:100, dim:5\n",
      "Processing 25.0% Done\n",
      "Processing 50.0% Done\n",
      "Processing 75.0% Done\n",
      "ins_type:similar, bin:100, dim:5\n",
      "Processing 25.0% Done\n",
      "Processing 50.0% Done\n",
      "Processing 75.0% Done\n",
      "[['unif', '100_5', 'max', 195944, 0.0], ['unif', '100_5', 'min', 195860, 0.18], ['rare', '100_5', 'max', 154430, 0.0], ['rare', '100_5', 'min', 153871, 0.36], ['correlatrd1', '100_5', 'max', 185078, 1.75], ['correlatrd1', '100_5', 'min', 184805, 0.07], ['correlatrd2', '100_5', 'max', 195257, 0.8], ['correlatrd2', '100_5', 'min', 195215, 0.55], ['similar', '100_5', 'max', 171496, 1.96], ['similar', '100_5', 'min', 171394, 1.4000000000000001]]\n",
      "      instance    B_D value_type  unassigned  alpha\n",
      "0         unif  100_5        max      195944   0.00\n",
      "1         unif  100_5        min      195860   0.18\n",
      "2         rare  100_5        max      154430   0.00\n",
      "3         rare  100_5        min      153871   0.36\n",
      "4  correlatrd1  100_5        max      185078   1.75\n",
      "5  correlatrd1  100_5        min      184805   0.07\n",
      "6  correlatrd2  100_5        max      195257   0.80\n",
      "7  correlatrd2  100_5        min      195215   0.55\n",
      "8      similar  100_5        max      171496   1.96\n",
      "9      similar  100_5        min      171394   1.40\n",
      "ploted graph\n",
      "ins_type:unif, bin:100, dim:10\n",
      "Processing 25.0% Done\n",
      "Processing 50.0% Done\n",
      "Processing 75.0% Done\n",
      "ins_type:rare, bin:100, dim:10\n",
      "Processing 25.0% Done\n",
      "Processing 50.0% Done\n",
      "Processing 75.0% Done\n",
      "ins_type:correlatrd1, bin:100, dim:10\n",
      "Processing 25.0% Done\n",
      "Processing 50.0% Done\n",
      "Processing 75.0% Done\n",
      "ins_type:correlatrd2, bin:100, dim:10\n",
      "Processing 25.0% Done\n",
      "Processing 50.0% Done\n",
      "Processing 75.0% Done\n",
      "ins_type:similar, bin:100, dim:10\n",
      "Processing 25.0% Done\n",
      "Processing 50.0% Done\n",
      "Processing 75.0% Done\n",
      "[['unif', '100_10', 'max', 422506, 0.0], ['unif', '100_10', 'min', 422196, 0.41000000000000003], ['rare', '100_10', 'max', 393676, 0.79], ['rare', '100_10', 'min', 393659, 0.0], ['correlatrd1', '100_10', 'max', 396329, 0.0], ['correlatrd1', '100_10', 'min', 394683, 1.21], ['correlatrd2', '100_10', 'max', 407030, 0.0], ['correlatrd2', '100_10', 'min', 407005, 0.66], ['similar', '100_10', 'max', 388567, 0.0], ['similar', '100_10', 'min', 388525, 0.1]]\n",
      "      instance     B_D value_type  unassigned  alpha\n",
      "0         unif  100_10        max      422506   0.00\n",
      "1         unif  100_10        min      422196   0.41\n",
      "2         rare  100_10        max      393676   0.79\n",
      "3         rare  100_10        min      393659   0.00\n",
      "4  correlatrd1  100_10        max      396329   0.00\n",
      "5  correlatrd1  100_10        min      394683   1.21\n",
      "6  correlatrd2  100_10        max      407030   0.00\n",
      "7  correlatrd2  100_10        min      407005   0.66\n",
      "8      similar  100_10        max      388567   0.00\n",
      "9      similar  100_10        min      388525   0.10\n",
      "ploted graph\n"
     ]
    }
   ],
   "source": [
    "import os\n",
    "import plotly\n",
    "import plotly.express as px\n",
    "import pandas as pd\n",
    "ins_types = ['unif', 'rare', 'correlatrd1', 'correlatrd2', 'similar']\n",
    "num_bins = [10, 30, 100]\n",
    "num_res = [2, 5, 10]\n",
    "\n",
    "base_dir = 'per_bin_dim'\n",
    "if not os.path.exists(base_dir):\n",
    "    os.mkdir(base_dir)\n",
    "\n",
    "for num_bin in num_bins:\n",
    "    for dim in num_res:\n",
    "        instances = []\n",
    "        for ins_type in ins_types:\n",
    "            # os.makedirs(f'{base_dir}/B_{num_bin}_D_{dim}', exist_ok=True)\n",
    "            filename = f'{base_dir}/B_{num_bin}_D_{dim}'\n",
    "            # filename = f'{base_dir}/{ins_type}.html'\n",
    "            \n",
    "            if os.path.exists(filename):\n",
    "                # os.remove(filename)\n",
    "                break\n",
    "            print(f'ins_type:{ins_type}, bin:{num_bin}, dim:{dim}')\n",
    "            alpha_arr, unassigned_rate, unassigned_total= test_bdf(d=dim, U=num_bin, ins_type=ins_type)\n",
    "            \n",
    "            max_unassigned = max(unassigned_total)\n",
    "            max_index = unassigned_total.index(max_unassigned)\n",
    "            max_alpha = alpha_arr[max_index]\n",
    "            \n",
    "            min_unassigned = min(unassigned_total)\n",
    "            min_index = unassigned_total.index(min_unassigned)\n",
    "            min_alpha = alpha_arr[min_index]\n",
    "            \n",
    "            instances.append([ins_type, f'{num_bin}_{dim}', 'max', max_unassigned, max_alpha])\n",
    "            instances.append([ins_type, f'{num_bin}_{dim}', 'min', min_unassigned, min_alpha])\n",
    "            \n",
    "            # df = pd.DataFrame({\n",
    "            #     \"alpha\": alpha_arr, \n",
    "            #     \"積載率\" : unassigned_rate,\n",
    "            #     # \"unassigned_total\": unassigned_total\n",
    "            #     })\n",
    "            # fig = px.line(df, x=\"alpha\", y=\"積載率\")\n",
    "            # plotly.offline.plot(fig, filename=filename)\n",
    "        print(instances)\n",
    "        df = pd.DataFrame(instances, columns = ['instance', 'B_D', 'value_type', 'unassigned', 'alpha'])\n",
    "        print(df)\n",
    "        fig = px.histogram(df, x=\"instance\", y=\"unassigned\",\n",
    "             color='value_type', barmode='group',\n",
    "             height=400)\n",
    "        plotly.offline.plot(fig, filename=filename)\n",
    "        print('ploted graph')"
   ]
  },
  {
   "cell_type": "markdown",
   "id": "recorded-liverpool",
   "metadata": {},
   "source": [
    "## ２次元パッキング問題\n",
    "\n",
    "\n",
    "**2次元（長方形；矩形）パッキング問題** (2-dimensioanl rectangular packing problem) は, 与えられた長方形を平面上に互いに重ならないように配置する問題である．\n",
    "\n",
    "長方形集合 $I=\\{1,2,\\ldots,n\\}$ の各要素 $i$ は $m_i$ 種類のモードが与えられ, 各モード  $k(=1,2,\\ldots,m_i)$ に対して， 幅 $w_i^k$ と高さ $h_i^k$ がが与えられる. \n",
    "配置は, 各長方形について 1つのモードを選択し, さらに左下の位置の座標値  $(x,y)$ を与えることで定まる. \n",
    "配置はなるべくコンパクトなことが望ましく， $x,y$ 軸に対して区分的線形な費用関数を定義することによって，目的関数を定める．\n",
    "\n",
    "以下，パラメータである．\n",
    "\n",
    "- size 長方形数\n",
    "- pft_x x 軸コストがあるかどうか (0: あり, 1: なし (w,xgr を利用))\n",
    "- pft_y y 軸コストがあるかどうか (0: あり, 1: なし (h,ygr を利用))\n",
    "- w 入れ物の幅 (x 軸コストが無い場合のみ意味あり) -xgr x方向, 入れ物からの超過に対するペナルティの傾き -h 入れ物の高さ (y 軸コストが無い場合のみ意味あり) -ygr y方向, 入れ物からの超過に対するペナルティの傾き\n",
    "time=2.77\n",
    "- time 最大計算時間 (終了条件)\n",
    "- move 最大移動回数 (終了条件)\n",
    "- lopt 最大局所最適解数 (終了条件, MLS, ILSのみ意味あり) -h_type メタ戦略の種類 (1: 局所探索, 2: MLS, 3: ILS)\n"
   ]
  },
  {
   "cell_type": "code",
   "execution_count": 35,
   "id": "frank-expert",
   "metadata": {},
   "outputs": [],
   "source": [
    "#export\n",
    "def packingmeta(fn, timelimit):\n",
    "    f = open(fn)\n",
    "    data = f.readlines()\n",
    "    f.close()\n",
    "    n = len(data)\n",
    "    cmd = f'./2pp {fn} -time {timelimit} -size {n}  >packing.out'\n",
    "    try:\n",
    "        o = subprocess.run(cmd, shell=True, check=True)\n",
    "    except subprocess.CalledProcessError as e:\n",
    "        print('ERROR:',e.stderr)\n",
    "    f = open(\"packing.out\")\n",
    "    data = f.readlines()\n",
    "    f.close()\n",
    "    start = data.index(\" ID: (x, y)\t\t [w, h] \\n\")\n",
    "    opt_val = float(data[start-3].split()[3][:-1])\n",
    "    xy, wh ={}, {}\n",
    "    for i, row in enumerate(data[start+1:]):\n",
    "        r = row.split()\n",
    "        xy[i] = float(r[1][1:-1]), float(r[2][:-1])\n",
    "        wh[i] = float(r[3][1:-1]),float(r[4][:-1])\n",
    "    x, y = [],[]\n",
    "    for i in xy:\n",
    "        xx,yy = xy[i]\n",
    "        w, h  = wh[i]\n",
    "        x.extend([xx, xx+w,xx+w,xx,None])\n",
    "        y.extend([yy,yy,yy+h,yy+h,None])\n",
    "    fig = go.Figure(go.Scatter(x=x, y=y, fill=\"toself\"))\n",
    "    return opt_val, xy, wh, fig"
   ]
  },
  {
   "cell_type": "code",
   "execution_count": 36,
   "id": "legal-indie",
   "metadata": {},
   "outputs": [
    {
     "name": "stdout",
     "output_type": "stream",
     "text": [
      "obj 1313.0\n"
     ]
    }
   ],
   "source": [
    "fn = folder + \"ami33\"\n",
    "fn = folder + \"rp200\"\n",
    "timelimit = 1\n",
    "opt_val, xy, wh, fig  = packingmeta(fn, timelimit)\n",
    "print(\"obj\",opt_val)\n",
    "plotly.offline.plot(fig);"
   ]
  },
  {
   "cell_type": "code",
   "execution_count": 6,
   "id": "hollywood-agent",
   "metadata": {},
   "outputs": [
    {
     "data": {
      "image/png": "[encoded data removed]",
      "text/plain": [
       "<IPython.core.display.Image object>"
      ]
     },
     "execution_count": 6,
     "metadata": {},
     "output_type": "execute_result"
    }
   ],
   "source": [
    "#hide_input\n",
    "Image(\"../figure/2dbpp.png\")"
   ]
  },
  {
   "cell_type": "markdown",
   "id": "spectacular-princeton",
   "metadata": {},
   "source": [
    "## 確率的ビンパッキング問題\n",
    "\n",
    "幾つかのビンパッキング問題の応用では，アイテムに関する情報が事前に与えられておらず，\n",
    "時間の経過とともにアイテムが到着し，そのサイズが判明するケースがある．\n",
    "このような仮定を課した問題を**オンラインビンパッキング問題**（online bin packing problem）とよぶ．\n",
    "より正確に言うと，先に到着するアイテムについての情報をもたずに入れるビンを決め，さらに1度入れたら，それを移動することができないという制限を課した問題である．\n",
    "\n",
    "この条件を少し緩和した問題として，到着するアイテムのサイズの確率分布が既知であると仮定した問題が考えられる．\n",
    "このような問題を**確率的ビンパッキング問題**(stochastic bin packing problem)とよぶ．\n",
    "\n",
    "実務における問題は，オンラインと確率的の両者の性質をもつ．　以下の分類にしたがって，解法を選ぶことが望ましい．\n",
    "\n",
    "- 分布が未知で未来の情報がまったくない： オンラインビンパッキングのヒューリスティクスを用いる．\n",
    "- 分布が定常：確率分布を推定し，確率的ビンパッキング問題として解く．\n",
    "- 分布が非定常：オンラインで到着するアイテムのサイズから適応的に分布を推定し，ヒューリスティクスを適用する．\n",
    "- 近い未来の情報は既知で，ある時点以降の情報がまったくない： 既知の部分までを確定的な問題として求解して，ローリングホライズン方式を適用する． \n",
    "- 近い未来の情報は既知で，先に行くに従って情報が不確実になる： 既知の部分までを確定的な問題として求解して，ローリングホライズン方式を適用するが，確率的な情報を利用して，最終状態を適正なものに近づける．\n",
    "\n",
    "\n",
    "アイテムのサイズを離散値とした確率的ビンパッキング問題を考える．\n",
    "\n",
    "ビンの容量を正の整数 $B$ とする．\n",
    "アイテムのサイズの種類は $J$ 種類であり，小さい方から順に $s_1 <s_2 <\\cdots <s_J$ とする．\n",
    "ここで $s_j (j=1,\\cdots,J)$ は $[1,b]$ の整数とする．サイズが $s_j$ のアイテムが発生する確率を $p_j$ とする．\n",
    "ここでは，$p_j$ は非負の有理数であり，その和は $1$ であるとする．\n",
    "$i$番目のアイテムは，独立に確率 $p_j$ でサイズ $s_j$ になるように決められる．\n",
    "\n",
    "\n",
    "サイズ $s_j$ のアイテムを高さ $h$ のビンに割り当てる確率を表す実数変数 $x_{jh}$ を用いた以下の線形最適化問題を導入する．\n",
    "\n",
    "$$\n",
    "\\begin{array}{l l l }\n",
    "minimize &  \\sum_{h=1}^{B-1} (B-h) \\cdot \\left(\\sum_{j=1}^J x_{j,h-s_j}-\\sum_{j=1}^J x_{jh} \\right)  &      \\\\\n",
    "s.t.  & \\sum_{h=0}^{B-1} x_{jh} =p_j                      & j=1,\\cdots,J \\\\\n",
    "                  & \\sum_{j=1}^J x_{jh} \\leq \\sum_{j=1}^J x_{j,h-s_j} & h=1,\\cdots,B-1 \\\\\n",
    "                  & x_{jh} \\geq 0 & j=1,\\cdots,J,h=0,\\cdots,B-1 \\\\\n",
    "                  & x_{jh} =0     & j=1,\\cdots,J,h=B-s_j+1,\\cdots,B-1\n",
    "\\end{array}\n",
    "$$\n",
    "\n",
    "目的関数は，ビンの余り $(B-h)$ が超過して生成される率に，余り $(B-h)$ を乗じたものを最小化することを表す．\n",
    "最初の制約は，サイズ $s_j$ のアイテムがいずれかのビンに割り当てられる率が，発生する確率に等しいことを表す．\n",
    "2番目の制約は，高さ $h$ が生成される確率（式の右辺）が，消滅する確率（式の左辺）以上であることを表す．\n",
    "3番目の制約は，変数の非負条件であり，最後の制約はビンのサイズの上限を超えてしまう割り当て確率が $0$ であることを表す．"
   ]
  },
  {
   "cell_type": "code",
   "execution_count": 24,
   "id": "comfortable-demand",
   "metadata": {},
   "outputs": [],
   "source": [
    "from scipy.stats import rv_discrete \n",
    "B= 10\n",
    "s = [1,2,5,6]\n",
    "p = [0.3,0.3,0.3,0.1]\n",
    "J = len(s)\n",
    "size = rv_discrete(values=(s,p))"
   ]
  },
  {
   "cell_type": "code",
   "execution_count": 27,
   "id": "flush-scenario",
   "metadata": {},
   "outputs": [],
   "source": [
    "model = Model(\"discrete bpp\")\n",
    "x, slack = {}, {}\n",
    "for j in range(J):\n",
    "    for h in range(B):\n",
    "        if s[j]+h<=B-1:\n",
    "            x[j,h] = model.addVar(vtype = \"C\", name=f\"x[{j},{h}]\")\n",
    "for h in range(1,B):\n",
    "    slack[h] = model.addVar(vtype=\"C\", name=f\"slack[{h}]\")\n",
    "model.update()\n",
    "for j in range(J):\n",
    "    model.addConstr( quicksum(x[j,h] for h in range(B) if (j,h) in x )==p[j] )\n",
    "for h in range(1,B):\n",
    "    model.addConstr( quicksum(x[j,h] for j in range(J) if (j,h) in x) + slack[h] == quicksum(x[j,h-s[j]] for j in range(J) if h>=s[j]) )\n",
    "model.setObjective(  quicksum( (B-h)*slack[h] for h in range(1,B) ), GRB.MINIMIZE)"
   ]
  },
  {
   "cell_type": "code",
   "execution_count": 28,
   "id": "attended-semester",
   "metadata": {},
   "outputs": [
    {
     "name": "stdout",
     "output_type": "stream",
     "text": [
      "Gurobi Optimizer version 9.1.1 build v9.1.1rc0 (mac64)\n",
      "Thread count: 8 physical cores, 16 logical processors, using up to 16 threads\n",
      "Optimize a model with 13 rows, 35 columns and 83 nonzeros\n",
      "Model fingerprint: 0x935e3513\n",
      "Coefficient statistics:\n",
      "  Matrix range     [1e+00, 1e+00]\n",
      "  Objective range  [1e+00, 9e+00]\n",
      "  Bounds range     [0e+00, 0e+00]\n",
      "  RHS range        [1e-01, 3e-01]\n",
      "Presolve removed 2 rows and 3 columns\n",
      "Presolve time: 0.00s\n",
      "Presolved: 11 rows, 32 columns, 74 nonzeros\n",
      "\n",
      "Iteration    Objective       Primal Inf.    Dual Inf.      Time\n",
      "       0    0.0000000e+00   8.500000e-01   0.000000e+00      0s\n",
      "       9    1.0000000e+00   0.000000e+00   0.000000e+00      0s\n",
      "\n",
      "Solved in 9 iterations and 0.01 seconds\n",
      "Optimal objective  1.000000000e+00\n"
     ]
    }
   ],
   "source": [
    "model.optimize()"
   ]
  },
  {
   "cell_type": "code",
   "execution_count": 29,
   "id": "british-medicaid",
   "metadata": {},
   "outputs": [
    {
     "name": "stdout",
     "output_type": "stream",
     "text": [
      "0 0 0.1\n",
      "0 5 0.09999999999999999\n",
      "0 6 0.09999999999999999\n",
      "1 0 0.049999999999999996\n",
      "1 2 0.049999999999999996\n",
      "1 7 0.2\n",
      "2 0 0.25\n",
      "2 4 0.049999999999999996\n",
      "3 1 0.1\n"
     ]
    }
   ],
   "source": [
    "for (j,h) in x:\n",
    "    if x[j,h].X > 0.001:\n",
    "        print(j,h,x[j,h].X)"
   ]
  },
  {
   "cell_type": "code",
   "execution_count": 30,
   "id": "postal-mention",
   "metadata": {},
   "outputs": [
    {
     "name": "stdout",
     "output_type": "stream",
     "text": [
      "1 0.0\n",
      "2 0.0\n",
      "3 0.0\n",
      "4 0.0\n",
      "5 0.15000000000000002\n",
      "6 0.0\n",
      "7 0.0\n",
      "8 0.0\n",
      "9 0.25\n"
     ]
    }
   ],
   "source": [
    "for h in range(1,B):\n",
    "    print(h, slack[h].X )"
   ]
  },
  {
   "cell_type": "markdown",
   "id": "proof-georgia",
   "metadata": {},
   "source": [
    "## オンラインビンパッキング問題\n",
    "\n",
    "上で示したfirst fit decreasingはオフラインでしか使えず， first fitはオンラインで使えるが性能が悪い．\n",
    "改良版としてbest fitヒューリスティクスがある．\n",
    "\n",
    "#### best fit (BF) ヒューリスティクス\n",
    "\n",
    "アイテムを $1,2,\\cdots,n$ の順にビンに詰めていく．\n",
    "このとき，アイテムは詰め込み可能な最大の高さをもつビン（同点の場合には最小添字のビン）に詰めるものとする．\n",
    "どのビンに入れてもサイズの上限 $1$ を超えてしまうなら，新たなビンを用意し，そこに詰める．\n",
    "\n",
    "以下では， オンラインの環境下で離散分布の場合に良い性能を示す**2乗和法**（sum-of-square algorithm）を紹介する．\n",
    "\n",
    "途中までアイテムを詰めた状態を考える．\n",
    "このとき，アイテムのサイズは整数であるので，空でなくかつ一杯になっていないビンの高さ $h$ は $[1,B-1]$ の整数である．\n",
    "高さが $h$ のビンの数を $M(h)$ と書く．\n",
    "オンラインの環境下においては，将来どのようなサイズが到着するか分からないと仮定するが，\n",
    "このような状態における策として，$M(h)$ がなるべく均等になるように準備しておく方法が考えられる．\n",
    "もし，すべての高さのビンがあれば，どのようなアイテムが到着しても，ビンの高さがちょうど $B$ になるように詰めることができるからである．\n",
    "\n",
    "均等にするための常套手段として，2乗和を最小化する方法がある．\n",
    "和が一定の数の分割において，2乗和が最小になるのは，すべての数が同じ場合である．\n",
    "（たとえば，$9$ の3分割では，$3^2+3^2+3^2=27$ が最小で，$9^2+0^2+0^2=81$ が最大になる．）\n",
    "2乗和法では，このアイディアに基づいて，以下の指標を最小にするビンにアイテムを入れる．\n",
    "$$\n",
    " SS= \\sum_{h=1}^{B-1} M(h)^2\n",
    "$$\n",
    "\n",
    "サイズ $w$ のアイテムを，高さ $h$ のビンに入れたときの上の指標の増加量 $\\Delta$ は，\n",
    "$$\n",
    "\\Delta=\n",
    "\\left\\{ \n",
    "\\begin{array}{l l }\n",
    "  2M(w)+1   &  新しいビンを生成するとき  （h=0） \\\\\n",
    "  -M(B-w)+1 &  ビンが一杯になったとき  （h=B-w） \\\\\n",
    "  2(M(h+w)-M(h))+2 & その他  \n",
    "\\end{array}\n",
    "\\right.\n",
    "$$\n",
    "と計算できる．したがって，指標 $SS$ を最小にする高さを求めるには，2乗和を再計算する\n",
    "必要はなく，$\\Delta$ を最小にする $h$ を求めれば良い．これは $O(B)$ 時間でできる．\n"
   ]
  },
  {
   "cell_type": "code",
   "execution_count": 37,
   "id": "cloudy-warning",
   "metadata": {},
   "outputs": [],
   "source": [
    "B= 10\n",
    "s = [1,2,5,6]\n",
    "p = [0.3,0.3,0.3,0.1]\n",
    "J = len(s)\n",
    "size = rv_discrete(values=(s,p))\n",
    "n = 10000"
   ]
  },
  {
   "cell_type": "code",
   "execution_count": 41,
   "id": "nervous-pitch",
   "metadata": {},
   "outputs": [
    {
     "name": "stdout",
     "output_type": "stream",
     "text": [
      "[   0    0    0    0    0    0    1    1    0    2 3018]\n"
     ]
    }
   ],
   "source": [
    "import numpy as np\n",
    "M = np.zeros(B+1,dtype=int)\n",
    "w = size.rvs(size=n)\n",
    "for i in range(n):\n",
    "    min_delta = 2*w[i] + 1 \n",
    "    best_h = 0\n",
    "    for h in range(1,B+1-w[i]):\n",
    "        if M[h]==0:\n",
    "            continue\n",
    "        if h+w[i] == B:\n",
    "            delta = -M[h]+1\n",
    "        else:\n",
    "            delta =2*(M[h+w[i]]-M[h]) + 2\n",
    "        if delta < min_delta:\n",
    "            min_delta = delta \n",
    "            best_h = h\n",
    "    #print(M, \"item\",w[i],\"is add to bin with height\",best_h)\n",
    "    if best_h > 0:\n",
    "        M[best_h] -=1\n",
    "    M[best_h+w[i]] += 1\n",
    "print(M)"
   ]
  },
  {
   "cell_type": "code",
   "execution_count": 42,
   "id": "critical-charity",
   "metadata": {},
   "outputs": [],
   "source": [
    "def BF(s,B):\n",
    "    \"\"\"Best Fit heuristics for the bin Packing Problem.\n",
    "    Parameters:\n",
    "        - s: list with item widths\n",
    "        - b: bin capacity\n",
    "    Returns a list of lists with bin compositions.\n",
    "    \"\"\"    \n",
    "    remain = [B]        # keep list of empty space per bin\n",
    "    sol = [[]]          # a list ot items (i.e., sizes) on each used bin\n",
    "    \n",
    "    for item in s:\n",
    "        best_remain = np.inf\n",
    "        best_j = -1\n",
    "        for (j,free) in enumerate(remain):\n",
    "            rem = free - item\n",
    "            if rem ==0:\n",
    "                best_remain = rem\n",
    "                best_j = j \n",
    "                break\n",
    "            elif rem >0 and rem < best_remain:\n",
    "                best_remain = rem\n",
    "                best_j = j \n",
    "        if best_j >=0:\n",
    "            remain[best_j] -= item\n",
    "            sol[best_j].append(item)\n",
    "        else: #does not fit in any bin\n",
    "            sol.append([item])\n",
    "            remain.append(B-item)\n",
    "    return sol    "
   ]
  },
  {
   "cell_type": "code",
   "execution_count": 43,
   "id": "absolute-replication",
   "metadata": {},
   "outputs": [
    {
     "name": "stdout",
     "output_type": "stream",
     "text": [
      "3022\n"
     ]
    }
   ],
   "source": [
    "sol = BF(w,B)\n",
    "print(len(sol))"
   ]
  },
  {
   "cell_type": "code",
   "execution_count": null,
   "id": "cordless-reception",
   "metadata": {},
   "outputs": [],
   "source": []
  }
 ],
 "metadata": {
  "kernelspec": {
   "display_name": "Python 3 (ipykernel)",
   "language": "python",
   "name": "python3"
  },
  "language_info": {
   "codemirror_mode": {
    "name": "ipython",
    "version": 3
   },
   "file_extension": ".py",
   "mimetype": "text/x-python",
   "name": "python",
   "nbconvert_exporter": "python",
   "pygments_lexer": "ipython3",
   "version": "3.9.7"
  }
 },
 "nbformat": 4,
 "nbformat_minor": 5
}
